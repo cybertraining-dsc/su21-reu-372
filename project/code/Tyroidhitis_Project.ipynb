{
  "nbformat": 4,
  "nbformat_minor": 0,
  "metadata": {
    "colab": {
      "name": "Tyroidhitis_Project.ipynb",
      "provenance": [],
      "include_colab_link": true
    },
    "kernelspec": {
      "name": "python3",
      "display_name": "Python 3"
    },
    "language_info": {
      "name": "python"
    },
    "accelerator": "TPU",
    "widgets": {
      "application/vnd.jupyter.widget-state+json": {
        "45dc0341ca804172a54feb591895bfdc": {
          "model_module": "@jupyter-widgets/controls",
          "model_name": "HBoxModel",
          "state": {
            "_view_name": "HBoxView",
            "_dom_classes": [],
            "_model_name": "HBoxModel",
            "_view_module": "@jupyter-widgets/controls",
            "_model_module_version": "1.5.0",
            "_view_count": null,
            "_view_module_version": "1.5.0",
            "box_style": "",
            "layout": "IPY_MODEL_d1021af3c8de4a74a9354ea453b91476",
            "_model_module": "@jupyter-widgets/controls",
            "children": [
              "IPY_MODEL_7d429a332be64530b23cdd7e7466af12",
              "IPY_MODEL_8288d49e87414e4d9219407c6ae29126"
            ]
          }
        },
        "d1021af3c8de4a74a9354ea453b91476": {
          "model_module": "@jupyter-widgets/base",
          "model_name": "LayoutModel",
          "state": {
            "_view_name": "LayoutView",
            "grid_template_rows": null,
            "right": null,
            "justify_content": null,
            "_view_module": "@jupyter-widgets/base",
            "overflow": null,
            "_model_module_version": "1.2.0",
            "_view_count": null,
            "flex_flow": null,
            "width": null,
            "min_width": null,
            "border": null,
            "align_items": null,
            "bottom": null,
            "_model_module": "@jupyter-widgets/base",
            "top": null,
            "grid_column": null,
            "overflow_y": null,
            "overflow_x": null,
            "grid_auto_flow": null,
            "grid_area": null,
            "grid_template_columns": null,
            "flex": null,
            "_model_name": "LayoutModel",
            "justify_items": null,
            "grid_row": null,
            "max_height": null,
            "align_content": null,
            "visibility": null,
            "align_self": null,
            "height": null,
            "min_height": null,
            "padding": null,
            "grid_auto_rows": null,
            "grid_gap": null,
            "max_width": null,
            "order": null,
            "_view_module_version": "1.2.0",
            "grid_template_areas": null,
            "object_position": null,
            "object_fit": null,
            "grid_auto_columns": null,
            "margin": null,
            "display": null,
            "left": null
          }
        },
        "7d429a332be64530b23cdd7e7466af12": {
          "model_module": "@jupyter-widgets/controls",
          "model_name": "FloatProgressModel",
          "state": {
            "_view_name": "ProgressView",
            "style": "IPY_MODEL_7df8a2d685a64b77981977bdf11b8a73",
            "_dom_classes": [],
            "description": "Downloading: 100%",
            "_model_name": "FloatProgressModel",
            "bar_style": "success",
            "max": 690,
            "_view_module": "@jupyter-widgets/controls",
            "_model_module_version": "1.5.0",
            "value": 690,
            "_view_count": null,
            "_view_module_version": "1.5.0",
            "orientation": "horizontal",
            "min": 0,
            "description_tooltip": null,
            "_model_module": "@jupyter-widgets/controls",
            "layout": "IPY_MODEL_a10988d0ac644f70983569dacac1751f"
          }
        },
        "8288d49e87414e4d9219407c6ae29126": {
          "model_module": "@jupyter-widgets/controls",
          "model_name": "HTMLModel",
          "state": {
            "_view_name": "HTMLView",
            "style": "IPY_MODEL_00ee77ff40e24e72a8a43f9b0d118862",
            "_dom_classes": [],
            "description": "",
            "_model_name": "HTMLModel",
            "placeholder": "​",
            "_view_module": "@jupyter-widgets/controls",
            "_model_module_version": "1.5.0",
            "value": " 690/690 [00:00&lt;00:00, 2.04kB/s]",
            "_view_count": null,
            "_view_module_version": "1.5.0",
            "description_tooltip": null,
            "_model_module": "@jupyter-widgets/controls",
            "layout": "IPY_MODEL_435e654da37543459f67530679dd58fa"
          }
        },
        "7df8a2d685a64b77981977bdf11b8a73": {
          "model_module": "@jupyter-widgets/controls",
          "model_name": "ProgressStyleModel",
          "state": {
            "_view_name": "StyleView",
            "_model_name": "ProgressStyleModel",
            "description_width": "initial",
            "_view_module": "@jupyter-widgets/base",
            "_model_module_version": "1.5.0",
            "_view_count": null,
            "_view_module_version": "1.2.0",
            "bar_color": null,
            "_model_module": "@jupyter-widgets/controls"
          }
        },
        "a10988d0ac644f70983569dacac1751f": {
          "model_module": "@jupyter-widgets/base",
          "model_name": "LayoutModel",
          "state": {
            "_view_name": "LayoutView",
            "grid_template_rows": null,
            "right": null,
            "justify_content": null,
            "_view_module": "@jupyter-widgets/base",
            "overflow": null,
            "_model_module_version": "1.2.0",
            "_view_count": null,
            "flex_flow": null,
            "width": null,
            "min_width": null,
            "border": null,
            "align_items": null,
            "bottom": null,
            "_model_module": "@jupyter-widgets/base",
            "top": null,
            "grid_column": null,
            "overflow_y": null,
            "overflow_x": null,
            "grid_auto_flow": null,
            "grid_area": null,
            "grid_template_columns": null,
            "flex": null,
            "_model_name": "LayoutModel",
            "justify_items": null,
            "grid_row": null,
            "max_height": null,
            "align_content": null,
            "visibility": null,
            "align_self": null,
            "height": null,
            "min_height": null,
            "padding": null,
            "grid_auto_rows": null,
            "grid_gap": null,
            "max_width": null,
            "order": null,
            "_view_module_version": "1.2.0",
            "grid_template_areas": null,
            "object_position": null,
            "object_fit": null,
            "grid_auto_columns": null,
            "margin": null,
            "display": null,
            "left": null
          }
        },
        "00ee77ff40e24e72a8a43f9b0d118862": {
          "model_module": "@jupyter-widgets/controls",
          "model_name": "DescriptionStyleModel",
          "state": {
            "_view_name": "StyleView",
            "_model_name": "DescriptionStyleModel",
            "description_width": "",
            "_view_module": "@jupyter-widgets/base",
            "_model_module_version": "1.5.0",
            "_view_count": null,
            "_view_module_version": "1.2.0",
            "_model_module": "@jupyter-widgets/controls"
          }
        },
        "435e654da37543459f67530679dd58fa": {
          "model_module": "@jupyter-widgets/base",
          "model_name": "LayoutModel",
          "state": {
            "_view_name": "LayoutView",
            "grid_template_rows": null,
            "right": null,
            "justify_content": null,
            "_view_module": "@jupyter-widgets/base",
            "overflow": null,
            "_model_module_version": "1.2.0",
            "_view_count": null,
            "flex_flow": null,
            "width": null,
            "min_width": null,
            "border": null,
            "align_items": null,
            "bottom": null,
            "_model_module": "@jupyter-widgets/base",
            "top": null,
            "grid_column": null,
            "overflow_y": null,
            "overflow_x": null,
            "grid_auto_flow": null,
            "grid_area": null,
            "grid_template_columns": null,
            "flex": null,
            "_model_name": "LayoutModel",
            "justify_items": null,
            "grid_row": null,
            "max_height": null,
            "align_content": null,
            "visibility": null,
            "align_self": null,
            "height": null,
            "min_height": null,
            "padding": null,
            "grid_auto_rows": null,
            "grid_gap": null,
            "max_width": null,
            "order": null,
            "_view_module_version": "1.2.0",
            "grid_template_areas": null,
            "object_position": null,
            "object_fit": null,
            "grid_auto_columns": null,
            "margin": null,
            "display": null,
            "left": null
          }
        },
        "bb69110b1b0144509cb3aed7d6eebc81": {
          "model_module": "@jupyter-widgets/controls",
          "model_name": "HBoxModel",
          "state": {
            "_view_name": "HBoxView",
            "_dom_classes": [],
            "_model_name": "HBoxModel",
            "_view_module": "@jupyter-widgets/controls",
            "_model_module_version": "1.5.0",
            "_view_count": null,
            "_view_module_version": "1.5.0",
            "box_style": "",
            "layout": "IPY_MODEL_ac6c9f64c37d490fb12f59bdf54584e2",
            "_model_module": "@jupyter-widgets/controls",
            "children": [
              "IPY_MODEL_30ae1abab1e842939518f0374409b381",
              "IPY_MODEL_4a890d373eb149f6b403aff16bb853fe"
            ]
          }
        },
        "ac6c9f64c37d490fb12f59bdf54584e2": {
          "model_module": "@jupyter-widgets/base",
          "model_name": "LayoutModel",
          "state": {
            "_view_name": "LayoutView",
            "grid_template_rows": null,
            "right": null,
            "justify_content": null,
            "_view_module": "@jupyter-widgets/base",
            "overflow": null,
            "_model_module_version": "1.2.0",
            "_view_count": null,
            "flex_flow": null,
            "width": null,
            "min_width": null,
            "border": null,
            "align_items": null,
            "bottom": null,
            "_model_module": "@jupyter-widgets/base",
            "top": null,
            "grid_column": null,
            "overflow_y": null,
            "overflow_x": null,
            "grid_auto_flow": null,
            "grid_area": null,
            "grid_template_columns": null,
            "flex": null,
            "_model_name": "LayoutModel",
            "justify_items": null,
            "grid_row": null,
            "max_height": null,
            "align_content": null,
            "visibility": null,
            "align_self": null,
            "height": null,
            "min_height": null,
            "padding": null,
            "grid_auto_rows": null,
            "grid_gap": null,
            "max_width": null,
            "order": null,
            "_view_module_version": "1.2.0",
            "grid_template_areas": null,
            "object_position": null,
            "object_fit": null,
            "grid_auto_columns": null,
            "margin": null,
            "display": null,
            "left": null
          }
        },
        "30ae1abab1e842939518f0374409b381": {
          "model_module": "@jupyter-widgets/controls",
          "model_name": "FloatProgressModel",
          "state": {
            "_view_name": "ProgressView",
            "style": "IPY_MODEL_8bd264b8c31a4deab95ca8b1823321b6",
            "_dom_classes": [],
            "description": "Downloading: 100%",
            "_model_name": "FloatProgressModel",
            "bar_style": "success",
            "max": 3673,
            "_view_module": "@jupyter-widgets/controls",
            "_model_module_version": "1.5.0",
            "value": 3673,
            "_view_count": null,
            "_view_module_version": "1.5.0",
            "orientation": "horizontal",
            "min": 0,
            "description_tooltip": null,
            "_model_module": "@jupyter-widgets/controls",
            "layout": "IPY_MODEL_3be66e3d622740bbbf1a49867046e6ad"
          }
        },
        "4a890d373eb149f6b403aff16bb853fe": {
          "model_module": "@jupyter-widgets/controls",
          "model_name": "HTMLModel",
          "state": {
            "_view_name": "HTMLView",
            "style": "IPY_MODEL_93312e471abd40c8845bbdba41e0b4b3",
            "_dom_classes": [],
            "description": "",
            "_model_name": "HTMLModel",
            "placeholder": "​",
            "_view_module": "@jupyter-widgets/controls",
            "_model_module_version": "1.5.0",
            "value": " 3.67k/3.67k [00:15&lt;00:00, 237B/s]",
            "_view_count": null,
            "_view_module_version": "1.5.0",
            "description_tooltip": null,
            "_model_module": "@jupyter-widgets/controls",
            "layout": "IPY_MODEL_6db544bfc0a74b91bda69862ed6415dd"
          }
        },
        "8bd264b8c31a4deab95ca8b1823321b6": {
          "model_module": "@jupyter-widgets/controls",
          "model_name": "ProgressStyleModel",
          "state": {
            "_view_name": "StyleView",
            "_model_name": "ProgressStyleModel",
            "description_width": "initial",
            "_view_module": "@jupyter-widgets/base",
            "_model_module_version": "1.5.0",
            "_view_count": null,
            "_view_module_version": "1.2.0",
            "bar_color": null,
            "_model_module": "@jupyter-widgets/controls"
          }
        },
        "3be66e3d622740bbbf1a49867046e6ad": {
          "model_module": "@jupyter-widgets/base",
          "model_name": "LayoutModel",
          "state": {
            "_view_name": "LayoutView",
            "grid_template_rows": null,
            "right": null,
            "justify_content": null,
            "_view_module": "@jupyter-widgets/base",
            "overflow": null,
            "_model_module_version": "1.2.0",
            "_view_count": null,
            "flex_flow": null,
            "width": null,
            "min_width": null,
            "border": null,
            "align_items": null,
            "bottom": null,
            "_model_module": "@jupyter-widgets/base",
            "top": null,
            "grid_column": null,
            "overflow_y": null,
            "overflow_x": null,
            "grid_auto_flow": null,
            "grid_area": null,
            "grid_template_columns": null,
            "flex": null,
            "_model_name": "LayoutModel",
            "justify_items": null,
            "grid_row": null,
            "max_height": null,
            "align_content": null,
            "visibility": null,
            "align_self": null,
            "height": null,
            "min_height": null,
            "padding": null,
            "grid_auto_rows": null,
            "grid_gap": null,
            "max_width": null,
            "order": null,
            "_view_module_version": "1.2.0",
            "grid_template_areas": null,
            "object_position": null,
            "object_fit": null,
            "grid_auto_columns": null,
            "margin": null,
            "display": null,
            "left": null
          }
        },
        "93312e471abd40c8845bbdba41e0b4b3": {
          "model_module": "@jupyter-widgets/controls",
          "model_name": "DescriptionStyleModel",
          "state": {
            "_view_name": "StyleView",
            "_model_name": "DescriptionStyleModel",
            "description_width": "",
            "_view_module": "@jupyter-widgets/base",
            "_model_module_version": "1.5.0",
            "_view_count": null,
            "_view_module_version": "1.2.0",
            "_model_module": "@jupyter-widgets/controls"
          }
        },
        "6db544bfc0a74b91bda69862ed6415dd": {
          "model_module": "@jupyter-widgets/base",
          "model_name": "LayoutModel",
          "state": {
            "_view_name": "LayoutView",
            "grid_template_rows": null,
            "right": null,
            "justify_content": null,
            "_view_module": "@jupyter-widgets/base",
            "overflow": null,
            "_model_module_version": "1.2.0",
            "_view_count": null,
            "flex_flow": null,
            "width": null,
            "min_width": null,
            "border": null,
            "align_items": null,
            "bottom": null,
            "_model_module": "@jupyter-widgets/base",
            "top": null,
            "grid_column": null,
            "overflow_y": null,
            "overflow_x": null,
            "grid_auto_flow": null,
            "grid_area": null,
            "grid_template_columns": null,
            "flex": null,
            "_model_name": "LayoutModel",
            "justify_items": null,
            "grid_row": null,
            "max_height": null,
            "align_content": null,
            "visibility": null,
            "align_self": null,
            "height": null,
            "min_height": null,
            "padding": null,
            "grid_auto_rows": null,
            "grid_gap": null,
            "max_width": null,
            "order": null,
            "_view_module_version": "1.2.0",
            "grid_template_areas": null,
            "object_position": null,
            "object_fit": null,
            "grid_auto_columns": null,
            "margin": null,
            "display": null,
            "left": null
          }
        },
        "7288c0d729dc4633bdfb3275153ecc50": {
          "model_module": "@jupyter-widgets/controls",
          "model_name": "HBoxModel",
          "state": {
            "_view_name": "HBoxView",
            "_dom_classes": [],
            "_model_name": "HBoxModel",
            "_view_module": "@jupyter-widgets/controls",
            "_model_module_version": "1.5.0",
            "_view_count": null,
            "_view_module_version": "1.5.0",
            "box_style": "",
            "layout": "IPY_MODEL_4a44250a41494cde99a1588d201160b7",
            "_model_module": "@jupyter-widgets/controls",
            "children": [
              "IPY_MODEL_1469d721088b4628a49533650c95f8e4",
              "IPY_MODEL_679a2cc0144b4b249d4ed5f909d9f142"
            ]
          }
        },
        "4a44250a41494cde99a1588d201160b7": {
          "model_module": "@jupyter-widgets/base",
          "model_name": "LayoutModel",
          "state": {
            "_view_name": "LayoutView",
            "grid_template_rows": null,
            "right": null,
            "justify_content": null,
            "_view_module": "@jupyter-widgets/base",
            "overflow": null,
            "_model_module_version": "1.2.0",
            "_view_count": null,
            "flex_flow": null,
            "width": null,
            "min_width": null,
            "border": null,
            "align_items": null,
            "bottom": null,
            "_model_module": "@jupyter-widgets/base",
            "top": null,
            "grid_column": null,
            "overflow_y": null,
            "overflow_x": null,
            "grid_auto_flow": null,
            "grid_area": null,
            "grid_template_columns": null,
            "flex": null,
            "_model_name": "LayoutModel",
            "justify_items": null,
            "grid_row": null,
            "max_height": null,
            "align_content": null,
            "visibility": null,
            "align_self": null,
            "height": null,
            "min_height": null,
            "padding": null,
            "grid_auto_rows": null,
            "grid_gap": null,
            "max_width": null,
            "order": null,
            "_view_module_version": "1.2.0",
            "grid_template_areas": null,
            "object_position": null,
            "object_fit": null,
            "grid_auto_columns": null,
            "margin": null,
            "display": null,
            "left": null
          }
        },
        "1469d721088b4628a49533650c95f8e4": {
          "model_module": "@jupyter-widgets/controls",
          "model_name": "FloatProgressModel",
          "state": {
            "_view_name": "ProgressView",
            "style": "IPY_MODEL_f15bb5a872fb4321a3948700a3ce7a76",
            "_dom_classes": [],
            "description": "Downloading: 100%",
            "_model_name": "FloatProgressModel",
            "bar_style": "success",
            "max": 629,
            "_view_module": "@jupyter-widgets/controls",
            "_model_module_version": "1.5.0",
            "value": 629,
            "_view_count": null,
            "_view_module_version": "1.5.0",
            "orientation": "horizontal",
            "min": 0,
            "description_tooltip": null,
            "_model_module": "@jupyter-widgets/controls",
            "layout": "IPY_MODEL_4378834f18fd46578aab0d2b067b41f0"
          }
        },
        "679a2cc0144b4b249d4ed5f909d9f142": {
          "model_module": "@jupyter-widgets/controls",
          "model_name": "HTMLModel",
          "state": {
            "_view_name": "HTMLView",
            "style": "IPY_MODEL_4b90c3c8b7104a80a2b769c744581c8f",
            "_dom_classes": [],
            "description": "",
            "_model_name": "HTMLModel",
            "placeholder": "​",
            "_view_module": "@jupyter-widgets/controls",
            "_model_module_version": "1.5.0",
            "value": " 629/629 [00:00&lt;00:00, 901B/s]",
            "_view_count": null,
            "_view_module_version": "1.5.0",
            "description_tooltip": null,
            "_model_module": "@jupyter-widgets/controls",
            "layout": "IPY_MODEL_4dfaa8037d0440e880b1f6168c71f150"
          }
        },
        "f15bb5a872fb4321a3948700a3ce7a76": {
          "model_module": "@jupyter-widgets/controls",
          "model_name": "ProgressStyleModel",
          "state": {
            "_view_name": "StyleView",
            "_model_name": "ProgressStyleModel",
            "description_width": "initial",
            "_view_module": "@jupyter-widgets/base",
            "_model_module_version": "1.5.0",
            "_view_count": null,
            "_view_module_version": "1.2.0",
            "bar_color": null,
            "_model_module": "@jupyter-widgets/controls"
          }
        },
        "4378834f18fd46578aab0d2b067b41f0": {
          "model_module": "@jupyter-widgets/base",
          "model_name": "LayoutModel",
          "state": {
            "_view_name": "LayoutView",
            "grid_template_rows": null,
            "right": null,
            "justify_content": null,
            "_view_module": "@jupyter-widgets/base",
            "overflow": null,
            "_model_module_version": "1.2.0",
            "_view_count": null,
            "flex_flow": null,
            "width": null,
            "min_width": null,
            "border": null,
            "align_items": null,
            "bottom": null,
            "_model_module": "@jupyter-widgets/base",
            "top": null,
            "grid_column": null,
            "overflow_y": null,
            "overflow_x": null,
            "grid_auto_flow": null,
            "grid_area": null,
            "grid_template_columns": null,
            "flex": null,
            "_model_name": "LayoutModel",
            "justify_items": null,
            "grid_row": null,
            "max_height": null,
            "align_content": null,
            "visibility": null,
            "align_self": null,
            "height": null,
            "min_height": null,
            "padding": null,
            "grid_auto_rows": null,
            "grid_gap": null,
            "max_width": null,
            "order": null,
            "_view_module_version": "1.2.0",
            "grid_template_areas": null,
            "object_position": null,
            "object_fit": null,
            "grid_auto_columns": null,
            "margin": null,
            "display": null,
            "left": null
          }
        },
        "4b90c3c8b7104a80a2b769c744581c8f": {
          "model_module": "@jupyter-widgets/controls",
          "model_name": "DescriptionStyleModel",
          "state": {
            "_view_name": "StyleView",
            "_model_name": "DescriptionStyleModel",
            "description_width": "",
            "_view_module": "@jupyter-widgets/base",
            "_model_module_version": "1.5.0",
            "_view_count": null,
            "_view_module_version": "1.2.0",
            "_model_module": "@jupyter-widgets/controls"
          }
        },
        "4dfaa8037d0440e880b1f6168c71f150": {
          "model_module": "@jupyter-widgets/base",
          "model_name": "LayoutModel",
          "state": {
            "_view_name": "LayoutView",
            "grid_template_rows": null,
            "right": null,
            "justify_content": null,
            "_view_module": "@jupyter-widgets/base",
            "overflow": null,
            "_model_module_version": "1.2.0",
            "_view_count": null,
            "flex_flow": null,
            "width": null,
            "min_width": null,
            "border": null,
            "align_items": null,
            "bottom": null,
            "_model_module": "@jupyter-widgets/base",
            "top": null,
            "grid_column": null,
            "overflow_y": null,
            "overflow_x": null,
            "grid_auto_flow": null,
            "grid_area": null,
            "grid_template_columns": null,
            "flex": null,
            "_model_name": "LayoutModel",
            "justify_items": null,
            "grid_row": null,
            "max_height": null,
            "align_content": null,
            "visibility": null,
            "align_self": null,
            "height": null,
            "min_height": null,
            "padding": null,
            "grid_auto_rows": null,
            "grid_gap": null,
            "max_width": null,
            "order": null,
            "_view_module_version": "1.2.0",
            "grid_template_areas": null,
            "object_position": null,
            "object_fit": null,
            "grid_auto_columns": null,
            "margin": null,
            "display": null,
            "left": null
          }
        },
        "f5f65e107de443729f8a10e8206c347b": {
          "model_module": "@jupyter-widgets/controls",
          "model_name": "HBoxModel",
          "state": {
            "_view_name": "HBoxView",
            "_dom_classes": [],
            "_model_name": "HBoxModel",
            "_view_module": "@jupyter-widgets/controls",
            "_model_module_version": "1.5.0",
            "_view_count": null,
            "_view_module_version": "1.5.0",
            "box_style": "",
            "layout": "IPY_MODEL_7fc2a9c9d88a4768ab836f7308464ca1",
            "_model_module": "@jupyter-widgets/controls",
            "children": [
              "IPY_MODEL_3d3418e67eb445f7bfb042e0b4b18359",
              "IPY_MODEL_e86efaf698024c88bfaffea56ca5a656"
            ]
          }
        },
        "7fc2a9c9d88a4768ab836f7308464ca1": {
          "model_module": "@jupyter-widgets/base",
          "model_name": "LayoutModel",
          "state": {
            "_view_name": "LayoutView",
            "grid_template_rows": null,
            "right": null,
            "justify_content": null,
            "_view_module": "@jupyter-widgets/base",
            "overflow": null,
            "_model_module_version": "1.2.0",
            "_view_count": null,
            "flex_flow": null,
            "width": null,
            "min_width": null,
            "border": null,
            "align_items": null,
            "bottom": null,
            "_model_module": "@jupyter-widgets/base",
            "top": null,
            "grid_column": null,
            "overflow_y": null,
            "overflow_x": null,
            "grid_auto_flow": null,
            "grid_area": null,
            "grid_template_columns": null,
            "flex": null,
            "_model_name": "LayoutModel",
            "justify_items": null,
            "grid_row": null,
            "max_height": null,
            "align_content": null,
            "visibility": null,
            "align_self": null,
            "height": null,
            "min_height": null,
            "padding": null,
            "grid_auto_rows": null,
            "grid_gap": null,
            "max_width": null,
            "order": null,
            "_view_module_version": "1.2.0",
            "grid_template_areas": null,
            "object_position": null,
            "object_fit": null,
            "grid_auto_columns": null,
            "margin": null,
            "display": null,
            "left": null
          }
        },
        "3d3418e67eb445f7bfb042e0b4b18359": {
          "model_module": "@jupyter-widgets/controls",
          "model_name": "FloatProgressModel",
          "state": {
            "_view_name": "ProgressView",
            "style": "IPY_MODEL_59f76b78eb734224a7113a2c41954c78",
            "_dom_classes": [],
            "description": "Downloading: 100%",
            "_model_name": "FloatProgressModel",
            "bar_style": "success",
            "max": 122,
            "_view_module": "@jupyter-widgets/controls",
            "_model_module_version": "1.5.0",
            "value": 122,
            "_view_count": null,
            "_view_module_version": "1.5.0",
            "orientation": "horizontal",
            "min": 0,
            "description_tooltip": null,
            "_model_module": "@jupyter-widgets/controls",
            "layout": "IPY_MODEL_338abb3c7b8748e6a145531b7e89ded9"
          }
        },
        "e86efaf698024c88bfaffea56ca5a656": {
          "model_module": "@jupyter-widgets/controls",
          "model_name": "HTMLModel",
          "state": {
            "_view_name": "HTMLView",
            "style": "IPY_MODEL_d69b2791f06047138f375790fee8df70",
            "_dom_classes": [],
            "description": "",
            "_model_name": "HTMLModel",
            "placeholder": "​",
            "_view_module": "@jupyter-widgets/controls",
            "_model_module_version": "1.5.0",
            "value": " 122/122 [00:00&lt;00:00, 345B/s]",
            "_view_count": null,
            "_view_module_version": "1.5.0",
            "description_tooltip": null,
            "_model_module": "@jupyter-widgets/controls",
            "layout": "IPY_MODEL_f7e8f1d449e54f05acb3f534ebc81108"
          }
        },
        "59f76b78eb734224a7113a2c41954c78": {
          "model_module": "@jupyter-widgets/controls",
          "model_name": "ProgressStyleModel",
          "state": {
            "_view_name": "StyleView",
            "_model_name": "ProgressStyleModel",
            "description_width": "initial",
            "_view_module": "@jupyter-widgets/base",
            "_model_module_version": "1.5.0",
            "_view_count": null,
            "_view_module_version": "1.2.0",
            "bar_color": null,
            "_model_module": "@jupyter-widgets/controls"
          }
        },
        "338abb3c7b8748e6a145531b7e89ded9": {
          "model_module": "@jupyter-widgets/base",
          "model_name": "LayoutModel",
          "state": {
            "_view_name": "LayoutView",
            "grid_template_rows": null,
            "right": null,
            "justify_content": null,
            "_view_module": "@jupyter-widgets/base",
            "overflow": null,
            "_model_module_version": "1.2.0",
            "_view_count": null,
            "flex_flow": null,
            "width": null,
            "min_width": null,
            "border": null,
            "align_items": null,
            "bottom": null,
            "_model_module": "@jupyter-widgets/base",
            "top": null,
            "grid_column": null,
            "overflow_y": null,
            "overflow_x": null,
            "grid_auto_flow": null,
            "grid_area": null,
            "grid_template_columns": null,
            "flex": null,
            "_model_name": "LayoutModel",
            "justify_items": null,
            "grid_row": null,
            "max_height": null,
            "align_content": null,
            "visibility": null,
            "align_self": null,
            "height": null,
            "min_height": null,
            "padding": null,
            "grid_auto_rows": null,
            "grid_gap": null,
            "max_width": null,
            "order": null,
            "_view_module_version": "1.2.0",
            "grid_template_areas": null,
            "object_position": null,
            "object_fit": null,
            "grid_auto_columns": null,
            "margin": null,
            "display": null,
            "left": null
          }
        },
        "d69b2791f06047138f375790fee8df70": {
          "model_module": "@jupyter-widgets/controls",
          "model_name": "DescriptionStyleModel",
          "state": {
            "_view_name": "StyleView",
            "_model_name": "DescriptionStyleModel",
            "description_width": "",
            "_view_module": "@jupyter-widgets/base",
            "_model_module_version": "1.5.0",
            "_view_count": null,
            "_view_module_version": "1.2.0",
            "_model_module": "@jupyter-widgets/controls"
          }
        },
        "f7e8f1d449e54f05acb3f534ebc81108": {
          "model_module": "@jupyter-widgets/base",
          "model_name": "LayoutModel",
          "state": {
            "_view_name": "LayoutView",
            "grid_template_rows": null,
            "right": null,
            "justify_content": null,
            "_view_module": "@jupyter-widgets/base",
            "overflow": null,
            "_model_module_version": "1.2.0",
            "_view_count": null,
            "flex_flow": null,
            "width": null,
            "min_width": null,
            "border": null,
            "align_items": null,
            "bottom": null,
            "_model_module": "@jupyter-widgets/base",
            "top": null,
            "grid_column": null,
            "overflow_y": null,
            "overflow_x": null,
            "grid_auto_flow": null,
            "grid_area": null,
            "grid_template_columns": null,
            "flex": null,
            "_model_name": "LayoutModel",
            "justify_items": null,
            "grid_row": null,
            "max_height": null,
            "align_content": null,
            "visibility": null,
            "align_self": null,
            "height": null,
            "min_height": null,
            "padding": null,
            "grid_auto_rows": null,
            "grid_gap": null,
            "max_width": null,
            "order": null,
            "_view_module_version": "1.2.0",
            "grid_template_areas": null,
            "object_position": null,
            "object_fit": null,
            "grid_auto_columns": null,
            "margin": null,
            "display": null,
            "left": null
          }
        },
        "b66f3d75ac704201b066cb13a90d9810": {
          "model_module": "@jupyter-widgets/controls",
          "model_name": "HBoxModel",
          "state": {
            "_view_name": "HBoxView",
            "_dom_classes": [],
            "_model_name": "HBoxModel",
            "_view_module": "@jupyter-widgets/controls",
            "_model_module_version": "1.5.0",
            "_view_count": null,
            "_view_module_version": "1.5.0",
            "box_style": "",
            "layout": "IPY_MODEL_c73fa2ed5e974b65999c1413d3d3c992",
            "_model_module": "@jupyter-widgets/controls",
            "children": [
              "IPY_MODEL_496b443a25a44c5f86e36f041c4f1a7b",
              "IPY_MODEL_41512a60d3e14aecacda95426ceacb53"
            ]
          }
        },
        "c73fa2ed5e974b65999c1413d3d3c992": {
          "model_module": "@jupyter-widgets/base",
          "model_name": "LayoutModel",
          "state": {
            "_view_name": "LayoutView",
            "grid_template_rows": null,
            "right": null,
            "justify_content": null,
            "_view_module": "@jupyter-widgets/base",
            "overflow": null,
            "_model_module_version": "1.2.0",
            "_view_count": null,
            "flex_flow": null,
            "width": null,
            "min_width": null,
            "border": null,
            "align_items": null,
            "bottom": null,
            "_model_module": "@jupyter-widgets/base",
            "top": null,
            "grid_column": null,
            "overflow_y": null,
            "overflow_x": null,
            "grid_auto_flow": null,
            "grid_area": null,
            "grid_template_columns": null,
            "flex": null,
            "_model_name": "LayoutModel",
            "justify_items": null,
            "grid_row": null,
            "max_height": null,
            "align_content": null,
            "visibility": null,
            "align_self": null,
            "height": null,
            "min_height": null,
            "padding": null,
            "grid_auto_rows": null,
            "grid_gap": null,
            "max_width": null,
            "order": null,
            "_view_module_version": "1.2.0",
            "grid_template_areas": null,
            "object_position": null,
            "object_fit": null,
            "grid_auto_columns": null,
            "margin": null,
            "display": null,
            "left": null
          }
        },
        "496b443a25a44c5f86e36f041c4f1a7b": {
          "model_module": "@jupyter-widgets/controls",
          "model_name": "FloatProgressModel",
          "state": {
            "_view_name": "ProgressView",
            "style": "IPY_MODEL_920165af5c2f42e7a67484f230e30cd4",
            "_dom_classes": [],
            "description": "Downloading: 100%",
            "_model_name": "FloatProgressModel",
            "bar_style": "success",
            "max": 229,
            "_view_module": "@jupyter-widgets/controls",
            "_model_module_version": "1.5.0",
            "value": 229,
            "_view_count": null,
            "_view_module_version": "1.5.0",
            "orientation": "horizontal",
            "min": 0,
            "description_tooltip": null,
            "_model_module": "@jupyter-widgets/controls",
            "layout": "IPY_MODEL_c1149c03ce6841b2b4ece05b284e40fc"
          }
        },
        "41512a60d3e14aecacda95426ceacb53": {
          "model_module": "@jupyter-widgets/controls",
          "model_name": "HTMLModel",
          "state": {
            "_view_name": "HTMLView",
            "style": "IPY_MODEL_923f030fbd14450c8e1e4dd942cf5b49",
            "_dom_classes": [],
            "description": "",
            "_model_name": "HTMLModel",
            "placeholder": "​",
            "_view_module": "@jupyter-widgets/controls",
            "_model_module_version": "1.5.0",
            "value": " 229/229 [00:14&lt;00:00, 15.8B/s]",
            "_view_count": null,
            "_view_module_version": "1.5.0",
            "description_tooltip": null,
            "_model_module": "@jupyter-widgets/controls",
            "layout": "IPY_MODEL_3ae2e34cd9764c3eaad5a784548afe17"
          }
        },
        "920165af5c2f42e7a67484f230e30cd4": {
          "model_module": "@jupyter-widgets/controls",
          "model_name": "ProgressStyleModel",
          "state": {
            "_view_name": "StyleView",
            "_model_name": "ProgressStyleModel",
            "description_width": "initial",
            "_view_module": "@jupyter-widgets/base",
            "_model_module_version": "1.5.0",
            "_view_count": null,
            "_view_module_version": "1.2.0",
            "bar_color": null,
            "_model_module": "@jupyter-widgets/controls"
          }
        },
        "c1149c03ce6841b2b4ece05b284e40fc": {
          "model_module": "@jupyter-widgets/base",
          "model_name": "LayoutModel",
          "state": {
            "_view_name": "LayoutView",
            "grid_template_rows": null,
            "right": null,
            "justify_content": null,
            "_view_module": "@jupyter-widgets/base",
            "overflow": null,
            "_model_module_version": "1.2.0",
            "_view_count": null,
            "flex_flow": null,
            "width": null,
            "min_width": null,
            "border": null,
            "align_items": null,
            "bottom": null,
            "_model_module": "@jupyter-widgets/base",
            "top": null,
            "grid_column": null,
            "overflow_y": null,
            "overflow_x": null,
            "grid_auto_flow": null,
            "grid_area": null,
            "grid_template_columns": null,
            "flex": null,
            "_model_name": "LayoutModel",
            "justify_items": null,
            "grid_row": null,
            "max_height": null,
            "align_content": null,
            "visibility": null,
            "align_self": null,
            "height": null,
            "min_height": null,
            "padding": null,
            "grid_auto_rows": null,
            "grid_gap": null,
            "max_width": null,
            "order": null,
            "_view_module_version": "1.2.0",
            "grid_template_areas": null,
            "object_position": null,
            "object_fit": null,
            "grid_auto_columns": null,
            "margin": null,
            "display": null,
            "left": null
          }
        },
        "923f030fbd14450c8e1e4dd942cf5b49": {
          "model_module": "@jupyter-widgets/controls",
          "model_name": "DescriptionStyleModel",
          "state": {
            "_view_name": "StyleView",
            "_model_name": "DescriptionStyleModel",
            "description_width": "",
            "_view_module": "@jupyter-widgets/base",
            "_model_module_version": "1.5.0",
            "_view_count": null,
            "_view_module_version": "1.2.0",
            "_model_module": "@jupyter-widgets/controls"
          }
        },
        "3ae2e34cd9764c3eaad5a784548afe17": {
          "model_module": "@jupyter-widgets/base",
          "model_name": "LayoutModel",
          "state": {
            "_view_name": "LayoutView",
            "grid_template_rows": null,
            "right": null,
            "justify_content": null,
            "_view_module": "@jupyter-widgets/base",
            "overflow": null,
            "_model_module_version": "1.2.0",
            "_view_count": null,
            "flex_flow": null,
            "width": null,
            "min_width": null,
            "border": null,
            "align_items": null,
            "bottom": null,
            "_model_module": "@jupyter-widgets/base",
            "top": null,
            "grid_column": null,
            "overflow_y": null,
            "overflow_x": null,
            "grid_auto_flow": null,
            "grid_area": null,
            "grid_template_columns": null,
            "flex": null,
            "_model_name": "LayoutModel",
            "justify_items": null,
            "grid_row": null,
            "max_height": null,
            "align_content": null,
            "visibility": null,
            "align_self": null,
            "height": null,
            "min_height": null,
            "padding": null,
            "grid_auto_rows": null,
            "grid_gap": null,
            "max_width": null,
            "order": null,
            "_view_module_version": "1.2.0",
            "grid_template_areas": null,
            "object_position": null,
            "object_fit": null,
            "grid_auto_columns": null,
            "margin": null,
            "display": null,
            "left": null
          }
        },
        "a937549c82b84258be7f6a284eb4bc3a": {
          "model_module": "@jupyter-widgets/controls",
          "model_name": "HBoxModel",
          "state": {
            "_view_name": "HBoxView",
            "_dom_classes": [],
            "_model_name": "HBoxModel",
            "_view_module": "@jupyter-widgets/controls",
            "_model_module_version": "1.5.0",
            "_view_count": null,
            "_view_module_version": "1.5.0",
            "box_style": "",
            "layout": "IPY_MODEL_4207fcf2e23b4c77bcf7c5bf641658d0",
            "_model_module": "@jupyter-widgets/controls",
            "children": [
              "IPY_MODEL_e8aaa1e42ac145b08605b45742fe7918",
              "IPY_MODEL_6dfe1b812757459493fef97c042cad28"
            ]
          }
        },
        "4207fcf2e23b4c77bcf7c5bf641658d0": {
          "model_module": "@jupyter-widgets/base",
          "model_name": "LayoutModel",
          "state": {
            "_view_name": "LayoutView",
            "grid_template_rows": null,
            "right": null,
            "justify_content": null,
            "_view_module": "@jupyter-widgets/base",
            "overflow": null,
            "_model_module_version": "1.2.0",
            "_view_count": null,
            "flex_flow": null,
            "width": null,
            "min_width": null,
            "border": null,
            "align_items": null,
            "bottom": null,
            "_model_module": "@jupyter-widgets/base",
            "top": null,
            "grid_column": null,
            "overflow_y": null,
            "overflow_x": null,
            "grid_auto_flow": null,
            "grid_area": null,
            "grid_template_columns": null,
            "flex": null,
            "_model_name": "LayoutModel",
            "justify_items": null,
            "grid_row": null,
            "max_height": null,
            "align_content": null,
            "visibility": null,
            "align_self": null,
            "height": null,
            "min_height": null,
            "padding": null,
            "grid_auto_rows": null,
            "grid_gap": null,
            "max_width": null,
            "order": null,
            "_view_module_version": "1.2.0",
            "grid_template_areas": null,
            "object_position": null,
            "object_fit": null,
            "grid_auto_columns": null,
            "margin": null,
            "display": null,
            "left": null
          }
        },
        "e8aaa1e42ac145b08605b45742fe7918": {
          "model_module": "@jupyter-widgets/controls",
          "model_name": "FloatProgressModel",
          "state": {
            "_view_name": "ProgressView",
            "style": "IPY_MODEL_83609f82ec1d434ca07d35882371417b",
            "_dom_classes": [],
            "description": "Downloading: 100%",
            "_model_name": "FloatProgressModel",
            "bar_style": "success",
            "max": 90895153,
            "_view_module": "@jupyter-widgets/controls",
            "_model_module_version": "1.5.0",
            "value": 90895153,
            "_view_count": null,
            "_view_module_version": "1.5.0",
            "orientation": "horizontal",
            "min": 0,
            "description_tooltip": null,
            "_model_module": "@jupyter-widgets/controls",
            "layout": "IPY_MODEL_31065533cbef49cbba13b1603275217a"
          }
        },
        "6dfe1b812757459493fef97c042cad28": {
          "model_module": "@jupyter-widgets/controls",
          "model_name": "HTMLModel",
          "state": {
            "_view_name": "HTMLView",
            "style": "IPY_MODEL_a2615f5d69804a4a8f8b9fe193880e83",
            "_dom_classes": [],
            "description": "",
            "_model_name": "HTMLModel",
            "placeholder": "​",
            "_view_module": "@jupyter-widgets/controls",
            "_model_module_version": "1.5.0",
            "value": " 90.9M/90.9M [00:14&lt;00:00, 6.45MB/s]",
            "_view_count": null,
            "_view_module_version": "1.5.0",
            "description_tooltip": null,
            "_model_module": "@jupyter-widgets/controls",
            "layout": "IPY_MODEL_c20c322360784e0aa52dd41ed6896c9d"
          }
        },
        "83609f82ec1d434ca07d35882371417b": {
          "model_module": "@jupyter-widgets/controls",
          "model_name": "ProgressStyleModel",
          "state": {
            "_view_name": "StyleView",
            "_model_name": "ProgressStyleModel",
            "description_width": "initial",
            "_view_module": "@jupyter-widgets/base",
            "_model_module_version": "1.5.0",
            "_view_count": null,
            "_view_module_version": "1.2.0",
            "bar_color": null,
            "_model_module": "@jupyter-widgets/controls"
          }
        },
        "31065533cbef49cbba13b1603275217a": {
          "model_module": "@jupyter-widgets/base",
          "model_name": "LayoutModel",
          "state": {
            "_view_name": "LayoutView",
            "grid_template_rows": null,
            "right": null,
            "justify_content": null,
            "_view_module": "@jupyter-widgets/base",
            "overflow": null,
            "_model_module_version": "1.2.0",
            "_view_count": null,
            "flex_flow": null,
            "width": null,
            "min_width": null,
            "border": null,
            "align_items": null,
            "bottom": null,
            "_model_module": "@jupyter-widgets/base",
            "top": null,
            "grid_column": null,
            "overflow_y": null,
            "overflow_x": null,
            "grid_auto_flow": null,
            "grid_area": null,
            "grid_template_columns": null,
            "flex": null,
            "_model_name": "LayoutModel",
            "justify_items": null,
            "grid_row": null,
            "max_height": null,
            "align_content": null,
            "visibility": null,
            "align_self": null,
            "height": null,
            "min_height": null,
            "padding": null,
            "grid_auto_rows": null,
            "grid_gap": null,
            "max_width": null,
            "order": null,
            "_view_module_version": "1.2.0",
            "grid_template_areas": null,
            "object_position": null,
            "object_fit": null,
            "grid_auto_columns": null,
            "margin": null,
            "display": null,
            "left": null
          }
        },
        "a2615f5d69804a4a8f8b9fe193880e83": {
          "model_module": "@jupyter-widgets/controls",
          "model_name": "DescriptionStyleModel",
          "state": {
            "_view_name": "StyleView",
            "_model_name": "DescriptionStyleModel",
            "description_width": "",
            "_view_module": "@jupyter-widgets/base",
            "_model_module_version": "1.5.0",
            "_view_count": null,
            "_view_module_version": "1.2.0",
            "_model_module": "@jupyter-widgets/controls"
          }
        },
        "c20c322360784e0aa52dd41ed6896c9d": {
          "model_module": "@jupyter-widgets/base",
          "model_name": "LayoutModel",
          "state": {
            "_view_name": "LayoutView",
            "grid_template_rows": null,
            "right": null,
            "justify_content": null,
            "_view_module": "@jupyter-widgets/base",
            "overflow": null,
            "_model_module_version": "1.2.0",
            "_view_count": null,
            "flex_flow": null,
            "width": null,
            "min_width": null,
            "border": null,
            "align_items": null,
            "bottom": null,
            "_model_module": "@jupyter-widgets/base",
            "top": null,
            "grid_column": null,
            "overflow_y": null,
            "overflow_x": null,
            "grid_auto_flow": null,
            "grid_area": null,
            "grid_template_columns": null,
            "flex": null,
            "_model_name": "LayoutModel",
            "justify_items": null,
            "grid_row": null,
            "max_height": null,
            "align_content": null,
            "visibility": null,
            "align_self": null,
            "height": null,
            "min_height": null,
            "padding": null,
            "grid_auto_rows": null,
            "grid_gap": null,
            "max_width": null,
            "order": null,
            "_view_module_version": "1.2.0",
            "grid_template_areas": null,
            "object_position": null,
            "object_fit": null,
            "grid_auto_columns": null,
            "margin": null,
            "display": null,
            "left": null
          }
        },
        "602e030904064654bf83b9ce49286081": {
          "model_module": "@jupyter-widgets/controls",
          "model_name": "HBoxModel",
          "state": {
            "_view_name": "HBoxView",
            "_dom_classes": [],
            "_model_name": "HBoxModel",
            "_view_module": "@jupyter-widgets/controls",
            "_model_module_version": "1.5.0",
            "_view_count": null,
            "_view_module_version": "1.5.0",
            "box_style": "",
            "layout": "IPY_MODEL_08732fcdab3841c79e68eb45b0037a90",
            "_model_module": "@jupyter-widgets/controls",
            "children": [
              "IPY_MODEL_8ef36afbd8d14583bc95f3768bba38b6",
              "IPY_MODEL_fdd82791f71b4e0493521eac452ff36d"
            ]
          }
        },
        "08732fcdab3841c79e68eb45b0037a90": {
          "model_module": "@jupyter-widgets/base",
          "model_name": "LayoutModel",
          "state": {
            "_view_name": "LayoutView",
            "grid_template_rows": null,
            "right": null,
            "justify_content": null,
            "_view_module": "@jupyter-widgets/base",
            "overflow": null,
            "_model_module_version": "1.2.0",
            "_view_count": null,
            "flex_flow": null,
            "width": null,
            "min_width": null,
            "border": null,
            "align_items": null,
            "bottom": null,
            "_model_module": "@jupyter-widgets/base",
            "top": null,
            "grid_column": null,
            "overflow_y": null,
            "overflow_x": null,
            "grid_auto_flow": null,
            "grid_area": null,
            "grid_template_columns": null,
            "flex": null,
            "_model_name": "LayoutModel",
            "justify_items": null,
            "grid_row": null,
            "max_height": null,
            "align_content": null,
            "visibility": null,
            "align_self": null,
            "height": null,
            "min_height": null,
            "padding": null,
            "grid_auto_rows": null,
            "grid_gap": null,
            "max_width": null,
            "order": null,
            "_view_module_version": "1.2.0",
            "grid_template_areas": null,
            "object_position": null,
            "object_fit": null,
            "grid_auto_columns": null,
            "margin": null,
            "display": null,
            "left": null
          }
        },
        "8ef36afbd8d14583bc95f3768bba38b6": {
          "model_module": "@jupyter-widgets/controls",
          "model_name": "FloatProgressModel",
          "state": {
            "_view_name": "ProgressView",
            "style": "IPY_MODEL_536f077ec97d45f695b81d46b8fd0921",
            "_dom_classes": [],
            "description": "Downloading: 100%",
            "_model_name": "FloatProgressModel",
            "bar_style": "success",
            "max": 53,
            "_view_module": "@jupyter-widgets/controls",
            "_model_module_version": "1.5.0",
            "value": 53,
            "_view_count": null,
            "_view_module_version": "1.5.0",
            "orientation": "horizontal",
            "min": 0,
            "description_tooltip": null,
            "_model_module": "@jupyter-widgets/controls",
            "layout": "IPY_MODEL_8a189796a5974303a912e62c2be8467a"
          }
        },
        "fdd82791f71b4e0493521eac452ff36d": {
          "model_module": "@jupyter-widgets/controls",
          "model_name": "HTMLModel",
          "state": {
            "_view_name": "HTMLView",
            "style": "IPY_MODEL_9b7b958b0b7441c4830ac29560cd9d55",
            "_dom_classes": [],
            "description": "",
            "_model_name": "HTMLModel",
            "placeholder": "​",
            "_view_module": "@jupyter-widgets/controls",
            "_model_module_version": "1.5.0",
            "value": " 53.0/53.0 [00:00&lt;00:00, 76.0B/s]",
            "_view_count": null,
            "_view_module_version": "1.5.0",
            "description_tooltip": null,
            "_model_module": "@jupyter-widgets/controls",
            "layout": "IPY_MODEL_e52d4d5e6eaf4404981977aa72fb6ddd"
          }
        },
        "536f077ec97d45f695b81d46b8fd0921": {
          "model_module": "@jupyter-widgets/controls",
          "model_name": "ProgressStyleModel",
          "state": {
            "_view_name": "StyleView",
            "_model_name": "ProgressStyleModel",
            "description_width": "initial",
            "_view_module": "@jupyter-widgets/base",
            "_model_module_version": "1.5.0",
            "_view_count": null,
            "_view_module_version": "1.2.0",
            "bar_color": null,
            "_model_module": "@jupyter-widgets/controls"
          }
        },
        "8a189796a5974303a912e62c2be8467a": {
          "model_module": "@jupyter-widgets/base",
          "model_name": "LayoutModel",
          "state": {
            "_view_name": "LayoutView",
            "grid_template_rows": null,
            "right": null,
            "justify_content": null,
            "_view_module": "@jupyter-widgets/base",
            "overflow": null,
            "_model_module_version": "1.2.0",
            "_view_count": null,
            "flex_flow": null,
            "width": null,
            "min_width": null,
            "border": null,
            "align_items": null,
            "bottom": null,
            "_model_module": "@jupyter-widgets/base",
            "top": null,
            "grid_column": null,
            "overflow_y": null,
            "overflow_x": null,
            "grid_auto_flow": null,
            "grid_area": null,
            "grid_template_columns": null,
            "flex": null,
            "_model_name": "LayoutModel",
            "justify_items": null,
            "grid_row": null,
            "max_height": null,
            "align_content": null,
            "visibility": null,
            "align_self": null,
            "height": null,
            "min_height": null,
            "padding": null,
            "grid_auto_rows": null,
            "grid_gap": null,
            "max_width": null,
            "order": null,
            "_view_module_version": "1.2.0",
            "grid_template_areas": null,
            "object_position": null,
            "object_fit": null,
            "grid_auto_columns": null,
            "margin": null,
            "display": null,
            "left": null
          }
        },
        "9b7b958b0b7441c4830ac29560cd9d55": {
          "model_module": "@jupyter-widgets/controls",
          "model_name": "DescriptionStyleModel",
          "state": {
            "_view_name": "StyleView",
            "_model_name": "DescriptionStyleModel",
            "description_width": "",
            "_view_module": "@jupyter-widgets/base",
            "_model_module_version": "1.5.0",
            "_view_count": null,
            "_view_module_version": "1.2.0",
            "_model_module": "@jupyter-widgets/controls"
          }
        },
        "e52d4d5e6eaf4404981977aa72fb6ddd": {
          "model_module": "@jupyter-widgets/base",
          "model_name": "LayoutModel",
          "state": {
            "_view_name": "LayoutView",
            "grid_template_rows": null,
            "right": null,
            "justify_content": null,
            "_view_module": "@jupyter-widgets/base",
            "overflow": null,
            "_model_module_version": "1.2.0",
            "_view_count": null,
            "flex_flow": null,
            "width": null,
            "min_width": null,
            "border": null,
            "align_items": null,
            "bottom": null,
            "_model_module": "@jupyter-widgets/base",
            "top": null,
            "grid_column": null,
            "overflow_y": null,
            "overflow_x": null,
            "grid_auto_flow": null,
            "grid_area": null,
            "grid_template_columns": null,
            "flex": null,
            "_model_name": "LayoutModel",
            "justify_items": null,
            "grid_row": null,
            "max_height": null,
            "align_content": null,
            "visibility": null,
            "align_self": null,
            "height": null,
            "min_height": null,
            "padding": null,
            "grid_auto_rows": null,
            "grid_gap": null,
            "max_width": null,
            "order": null,
            "_view_module_version": "1.2.0",
            "grid_template_areas": null,
            "object_position": null,
            "object_fit": null,
            "grid_auto_columns": null,
            "margin": null,
            "display": null,
            "left": null
          }
        },
        "c69110777f7e4bc5ba5afefa04c52b06": {
          "model_module": "@jupyter-widgets/controls",
          "model_name": "HBoxModel",
          "state": {
            "_view_name": "HBoxView",
            "_dom_classes": [],
            "_model_name": "HBoxModel",
            "_view_module": "@jupyter-widgets/controls",
            "_model_module_version": "1.5.0",
            "_view_count": null,
            "_view_module_version": "1.5.0",
            "box_style": "",
            "layout": "IPY_MODEL_89c7e8ebfaf846ada99fdbd5c0081c85",
            "_model_module": "@jupyter-widgets/controls",
            "children": [
              "IPY_MODEL_b8af5dd136cb46e0b25457af3ecf3fda",
              "IPY_MODEL_f08e60996c604c559de9a7dfa64cf2db"
            ]
          }
        },
        "89c7e8ebfaf846ada99fdbd5c0081c85": {
          "model_module": "@jupyter-widgets/base",
          "model_name": "LayoutModel",
          "state": {
            "_view_name": "LayoutView",
            "grid_template_rows": null,
            "right": null,
            "justify_content": null,
            "_view_module": "@jupyter-widgets/base",
            "overflow": null,
            "_model_module_version": "1.2.0",
            "_view_count": null,
            "flex_flow": null,
            "width": null,
            "min_width": null,
            "border": null,
            "align_items": null,
            "bottom": null,
            "_model_module": "@jupyter-widgets/base",
            "top": null,
            "grid_column": null,
            "overflow_y": null,
            "overflow_x": null,
            "grid_auto_flow": null,
            "grid_area": null,
            "grid_template_columns": null,
            "flex": null,
            "_model_name": "LayoutModel",
            "justify_items": null,
            "grid_row": null,
            "max_height": null,
            "align_content": null,
            "visibility": null,
            "align_self": null,
            "height": null,
            "min_height": null,
            "padding": null,
            "grid_auto_rows": null,
            "grid_gap": null,
            "max_width": null,
            "order": null,
            "_view_module_version": "1.2.0",
            "grid_template_areas": null,
            "object_position": null,
            "object_fit": null,
            "grid_auto_columns": null,
            "margin": null,
            "display": null,
            "left": null
          }
        },
        "b8af5dd136cb46e0b25457af3ecf3fda": {
          "model_module": "@jupyter-widgets/controls",
          "model_name": "FloatProgressModel",
          "state": {
            "_view_name": "ProgressView",
            "style": "IPY_MODEL_2a3d74e315ca43a7b3c9454de58d4af0",
            "_dom_classes": [],
            "description": "Downloading: 100%",
            "_model_name": "FloatProgressModel",
            "bar_style": "success",
            "max": 112,
            "_view_module": "@jupyter-widgets/controls",
            "_model_module_version": "1.5.0",
            "value": 112,
            "_view_count": null,
            "_view_module_version": "1.5.0",
            "orientation": "horizontal",
            "min": 0,
            "description_tooltip": null,
            "_model_module": "@jupyter-widgets/controls",
            "layout": "IPY_MODEL_b70d97397b35404487662cdfb016f793"
          }
        },
        "f08e60996c604c559de9a7dfa64cf2db": {
          "model_module": "@jupyter-widgets/controls",
          "model_name": "HTMLModel",
          "state": {
            "_view_name": "HTMLView",
            "style": "IPY_MODEL_08088b2857ed49908567841a3d8117e1",
            "_dom_classes": [],
            "description": "",
            "_model_name": "HTMLModel",
            "placeholder": "​",
            "_view_module": "@jupyter-widgets/controls",
            "_model_module_version": "1.5.0",
            "value": " 112/112 [00:00&lt;00:00, 319B/s]",
            "_view_count": null,
            "_view_module_version": "1.5.0",
            "description_tooltip": null,
            "_model_module": "@jupyter-widgets/controls",
            "layout": "IPY_MODEL_75c3520ec34c4955958d12899f4907c1"
          }
        },
        "2a3d74e315ca43a7b3c9454de58d4af0": {
          "model_module": "@jupyter-widgets/controls",
          "model_name": "ProgressStyleModel",
          "state": {
            "_view_name": "StyleView",
            "_model_name": "ProgressStyleModel",
            "description_width": "initial",
            "_view_module": "@jupyter-widgets/base",
            "_model_module_version": "1.5.0",
            "_view_count": null,
            "_view_module_version": "1.2.0",
            "bar_color": null,
            "_model_module": "@jupyter-widgets/controls"
          }
        },
        "b70d97397b35404487662cdfb016f793": {
          "model_module": "@jupyter-widgets/base",
          "model_name": "LayoutModel",
          "state": {
            "_view_name": "LayoutView",
            "grid_template_rows": null,
            "right": null,
            "justify_content": null,
            "_view_module": "@jupyter-widgets/base",
            "overflow": null,
            "_model_module_version": "1.2.0",
            "_view_count": null,
            "flex_flow": null,
            "width": null,
            "min_width": null,
            "border": null,
            "align_items": null,
            "bottom": null,
            "_model_module": "@jupyter-widgets/base",
            "top": null,
            "grid_column": null,
            "overflow_y": null,
            "overflow_x": null,
            "grid_auto_flow": null,
            "grid_area": null,
            "grid_template_columns": null,
            "flex": null,
            "_model_name": "LayoutModel",
            "justify_items": null,
            "grid_row": null,
            "max_height": null,
            "align_content": null,
            "visibility": null,
            "align_self": null,
            "height": null,
            "min_height": null,
            "padding": null,
            "grid_auto_rows": null,
            "grid_gap": null,
            "max_width": null,
            "order": null,
            "_view_module_version": "1.2.0",
            "grid_template_areas": null,
            "object_position": null,
            "object_fit": null,
            "grid_auto_columns": null,
            "margin": null,
            "display": null,
            "left": null
          }
        },
        "08088b2857ed49908567841a3d8117e1": {
          "model_module": "@jupyter-widgets/controls",
          "model_name": "DescriptionStyleModel",
          "state": {
            "_view_name": "StyleView",
            "_model_name": "DescriptionStyleModel",
            "description_width": "",
            "_view_module": "@jupyter-widgets/base",
            "_model_module_version": "1.5.0",
            "_view_count": null,
            "_view_module_version": "1.2.0",
            "_model_module": "@jupyter-widgets/controls"
          }
        },
        "75c3520ec34c4955958d12899f4907c1": {
          "model_module": "@jupyter-widgets/base",
          "model_name": "LayoutModel",
          "state": {
            "_view_name": "LayoutView",
            "grid_template_rows": null,
            "right": null,
            "justify_content": null,
            "_view_module": "@jupyter-widgets/base",
            "overflow": null,
            "_model_module_version": "1.2.0",
            "_view_count": null,
            "flex_flow": null,
            "width": null,
            "min_width": null,
            "border": null,
            "align_items": null,
            "bottom": null,
            "_model_module": "@jupyter-widgets/base",
            "top": null,
            "grid_column": null,
            "overflow_y": null,
            "overflow_x": null,
            "grid_auto_flow": null,
            "grid_area": null,
            "grid_template_columns": null,
            "flex": null,
            "_model_name": "LayoutModel",
            "justify_items": null,
            "grid_row": null,
            "max_height": null,
            "align_content": null,
            "visibility": null,
            "align_self": null,
            "height": null,
            "min_height": null,
            "padding": null,
            "grid_auto_rows": null,
            "grid_gap": null,
            "max_width": null,
            "order": null,
            "_view_module_version": "1.2.0",
            "grid_template_areas": null,
            "object_position": null,
            "object_fit": null,
            "grid_auto_columns": null,
            "margin": null,
            "display": null,
            "left": null
          }
        },
        "82cf92dbc22240ca91b2e9b37ae9522d": {
          "model_module": "@jupyter-widgets/controls",
          "model_name": "HBoxModel",
          "state": {
            "_view_name": "HBoxView",
            "_dom_classes": [],
            "_model_name": "HBoxModel",
            "_view_module": "@jupyter-widgets/controls",
            "_model_module_version": "1.5.0",
            "_view_count": null,
            "_view_module_version": "1.5.0",
            "box_style": "",
            "layout": "IPY_MODEL_9783c84f20c34d1e9d583f45bc13c6e4",
            "_model_module": "@jupyter-widgets/controls",
            "children": [
              "IPY_MODEL_348f8b4663e849f89d651ce34f5b2e39",
              "IPY_MODEL_6e8257be199445059a6aec5b82c2db0b"
            ]
          }
        },
        "9783c84f20c34d1e9d583f45bc13c6e4": {
          "model_module": "@jupyter-widgets/base",
          "model_name": "LayoutModel",
          "state": {
            "_view_name": "LayoutView",
            "grid_template_rows": null,
            "right": null,
            "justify_content": null,
            "_view_module": "@jupyter-widgets/base",
            "overflow": null,
            "_model_module_version": "1.2.0",
            "_view_count": null,
            "flex_flow": null,
            "width": null,
            "min_width": null,
            "border": null,
            "align_items": null,
            "bottom": null,
            "_model_module": "@jupyter-widgets/base",
            "top": null,
            "grid_column": null,
            "overflow_y": null,
            "overflow_x": null,
            "grid_auto_flow": null,
            "grid_area": null,
            "grid_template_columns": null,
            "flex": null,
            "_model_name": "LayoutModel",
            "justify_items": null,
            "grid_row": null,
            "max_height": null,
            "align_content": null,
            "visibility": null,
            "align_self": null,
            "height": null,
            "min_height": null,
            "padding": null,
            "grid_auto_rows": null,
            "grid_gap": null,
            "max_width": null,
            "order": null,
            "_view_module_version": "1.2.0",
            "grid_template_areas": null,
            "object_position": null,
            "object_fit": null,
            "grid_auto_columns": null,
            "margin": null,
            "display": null,
            "left": null
          }
        },
        "348f8b4663e849f89d651ce34f5b2e39": {
          "model_module": "@jupyter-widgets/controls",
          "model_name": "FloatProgressModel",
          "state": {
            "_view_name": "ProgressView",
            "style": "IPY_MODEL_236f3ca86f7e454eaad89d7d80eae9d8",
            "_dom_classes": [],
            "description": "Downloading: 100%",
            "_model_name": "FloatProgressModel",
            "bar_style": "success",
            "max": 466081,
            "_view_module": "@jupyter-widgets/controls",
            "_model_module_version": "1.5.0",
            "value": 466081,
            "_view_count": null,
            "_view_module_version": "1.5.0",
            "orientation": "horizontal",
            "min": 0,
            "description_tooltip": null,
            "_model_module": "@jupyter-widgets/controls",
            "layout": "IPY_MODEL_5d1d5218794d414492fa37f751c1572c"
          }
        },
        "6e8257be199445059a6aec5b82c2db0b": {
          "model_module": "@jupyter-widgets/controls",
          "model_name": "HTMLModel",
          "state": {
            "_view_name": "HTMLView",
            "style": "IPY_MODEL_0fec0d0ff4d645ca9df564c89f909b0d",
            "_dom_classes": [],
            "description": "",
            "_model_name": "HTMLModel",
            "placeholder": "​",
            "_view_module": "@jupyter-widgets/controls",
            "_model_module_version": "1.5.0",
            "value": " 466k/466k [00:10&lt;00:00, 44.0kB/s]",
            "_view_count": null,
            "_view_module_version": "1.5.0",
            "description_tooltip": null,
            "_model_module": "@jupyter-widgets/controls",
            "layout": "IPY_MODEL_9a36a70245e9479290bf5feb6e84a077"
          }
        },
        "236f3ca86f7e454eaad89d7d80eae9d8": {
          "model_module": "@jupyter-widgets/controls",
          "model_name": "ProgressStyleModel",
          "state": {
            "_view_name": "StyleView",
            "_model_name": "ProgressStyleModel",
            "description_width": "initial",
            "_view_module": "@jupyter-widgets/base",
            "_model_module_version": "1.5.0",
            "_view_count": null,
            "_view_module_version": "1.2.0",
            "bar_color": null,
            "_model_module": "@jupyter-widgets/controls"
          }
        },
        "5d1d5218794d414492fa37f751c1572c": {
          "model_module": "@jupyter-widgets/base",
          "model_name": "LayoutModel",
          "state": {
            "_view_name": "LayoutView",
            "grid_template_rows": null,
            "right": null,
            "justify_content": null,
            "_view_module": "@jupyter-widgets/base",
            "overflow": null,
            "_model_module_version": "1.2.0",
            "_view_count": null,
            "flex_flow": null,
            "width": null,
            "min_width": null,
            "border": null,
            "align_items": null,
            "bottom": null,
            "_model_module": "@jupyter-widgets/base",
            "top": null,
            "grid_column": null,
            "overflow_y": null,
            "overflow_x": null,
            "grid_auto_flow": null,
            "grid_area": null,
            "grid_template_columns": null,
            "flex": null,
            "_model_name": "LayoutModel",
            "justify_items": null,
            "grid_row": null,
            "max_height": null,
            "align_content": null,
            "visibility": null,
            "align_self": null,
            "height": null,
            "min_height": null,
            "padding": null,
            "grid_auto_rows": null,
            "grid_gap": null,
            "max_width": null,
            "order": null,
            "_view_module_version": "1.2.0",
            "grid_template_areas": null,
            "object_position": null,
            "object_fit": null,
            "grid_auto_columns": null,
            "margin": null,
            "display": null,
            "left": null
          }
        },
        "0fec0d0ff4d645ca9df564c89f909b0d": {
          "model_module": "@jupyter-widgets/controls",
          "model_name": "DescriptionStyleModel",
          "state": {
            "_view_name": "StyleView",
            "_model_name": "DescriptionStyleModel",
            "description_width": "",
            "_view_module": "@jupyter-widgets/base",
            "_model_module_version": "1.5.0",
            "_view_count": null,
            "_view_module_version": "1.2.0",
            "_model_module": "@jupyter-widgets/controls"
          }
        },
        "9a36a70245e9479290bf5feb6e84a077": {
          "model_module": "@jupyter-widgets/base",
          "model_name": "LayoutModel",
          "state": {
            "_view_name": "LayoutView",
            "grid_template_rows": null,
            "right": null,
            "justify_content": null,
            "_view_module": "@jupyter-widgets/base",
            "overflow": null,
            "_model_module_version": "1.2.0",
            "_view_count": null,
            "flex_flow": null,
            "width": null,
            "min_width": null,
            "border": null,
            "align_items": null,
            "bottom": null,
            "_model_module": "@jupyter-widgets/base",
            "top": null,
            "grid_column": null,
            "overflow_y": null,
            "overflow_x": null,
            "grid_auto_flow": null,
            "grid_area": null,
            "grid_template_columns": null,
            "flex": null,
            "_model_name": "LayoutModel",
            "justify_items": null,
            "grid_row": null,
            "max_height": null,
            "align_content": null,
            "visibility": null,
            "align_self": null,
            "height": null,
            "min_height": null,
            "padding": null,
            "grid_auto_rows": null,
            "grid_gap": null,
            "max_width": null,
            "order": null,
            "_view_module_version": "1.2.0",
            "grid_template_areas": null,
            "object_position": null,
            "object_fit": null,
            "grid_auto_columns": null,
            "margin": null,
            "display": null,
            "left": null
          }
        },
        "340bcc1273224d73805bbb1fb90e0ac6": {
          "model_module": "@jupyter-widgets/controls",
          "model_name": "HBoxModel",
          "state": {
            "_view_name": "HBoxView",
            "_dom_classes": [],
            "_model_name": "HBoxModel",
            "_view_module": "@jupyter-widgets/controls",
            "_model_module_version": "1.5.0",
            "_view_count": null,
            "_view_module_version": "1.5.0",
            "box_style": "",
            "layout": "IPY_MODEL_b3a2f3f5781f41f4ac6f1010a4ce1820",
            "_model_module": "@jupyter-widgets/controls",
            "children": [
              "IPY_MODEL_0b368eca9683448ba27d337b3aba7674",
              "IPY_MODEL_521ea60dfe59499895d68cfbb3057c59"
            ]
          }
        },
        "b3a2f3f5781f41f4ac6f1010a4ce1820": {
          "model_module": "@jupyter-widgets/base",
          "model_name": "LayoutModel",
          "state": {
            "_view_name": "LayoutView",
            "grid_template_rows": null,
            "right": null,
            "justify_content": null,
            "_view_module": "@jupyter-widgets/base",
            "overflow": null,
            "_model_module_version": "1.2.0",
            "_view_count": null,
            "flex_flow": null,
            "width": null,
            "min_width": null,
            "border": null,
            "align_items": null,
            "bottom": null,
            "_model_module": "@jupyter-widgets/base",
            "top": null,
            "grid_column": null,
            "overflow_y": null,
            "overflow_x": null,
            "grid_auto_flow": null,
            "grid_area": null,
            "grid_template_columns": null,
            "flex": null,
            "_model_name": "LayoutModel",
            "justify_items": null,
            "grid_row": null,
            "max_height": null,
            "align_content": null,
            "visibility": null,
            "align_self": null,
            "height": null,
            "min_height": null,
            "padding": null,
            "grid_auto_rows": null,
            "grid_gap": null,
            "max_width": null,
            "order": null,
            "_view_module_version": "1.2.0",
            "grid_template_areas": null,
            "object_position": null,
            "object_fit": null,
            "grid_auto_columns": null,
            "margin": null,
            "display": null,
            "left": null
          }
        },
        "0b368eca9683448ba27d337b3aba7674": {
          "model_module": "@jupyter-widgets/controls",
          "model_name": "FloatProgressModel",
          "state": {
            "_view_name": "ProgressView",
            "style": "IPY_MODEL_4b3dc08917ee460d95baccd39f087ca3",
            "_dom_classes": [],
            "description": "Downloading: 100%",
            "_model_name": "FloatProgressModel",
            "bar_style": "success",
            "max": 516,
            "_view_module": "@jupyter-widgets/controls",
            "_model_module_version": "1.5.0",
            "value": 516,
            "_view_count": null,
            "_view_module_version": "1.5.0",
            "orientation": "horizontal",
            "min": 0,
            "description_tooltip": null,
            "_model_module": "@jupyter-widgets/controls",
            "layout": "IPY_MODEL_8d1b117eb23e48a59490ff2b68e4d509"
          }
        },
        "521ea60dfe59499895d68cfbb3057c59": {
          "model_module": "@jupyter-widgets/controls",
          "model_name": "HTMLModel",
          "state": {
            "_view_name": "HTMLView",
            "style": "IPY_MODEL_3a615b559d7a4f548339af872daad373",
            "_dom_classes": [],
            "description": "",
            "_model_name": "HTMLModel",
            "placeholder": "​",
            "_view_module": "@jupyter-widgets/controls",
            "_model_module_version": "1.5.0",
            "value": " 516/516 [00:00&lt;00:00, 706B/s]",
            "_view_count": null,
            "_view_module_version": "1.5.0",
            "description_tooltip": null,
            "_model_module": "@jupyter-widgets/controls",
            "layout": "IPY_MODEL_60a84584a538432da1d34e6fe483c8e1"
          }
        },
        "4b3dc08917ee460d95baccd39f087ca3": {
          "model_module": "@jupyter-widgets/controls",
          "model_name": "ProgressStyleModel",
          "state": {
            "_view_name": "StyleView",
            "_model_name": "ProgressStyleModel",
            "description_width": "initial",
            "_view_module": "@jupyter-widgets/base",
            "_model_module_version": "1.5.0",
            "_view_count": null,
            "_view_module_version": "1.2.0",
            "bar_color": null,
            "_model_module": "@jupyter-widgets/controls"
          }
        },
        "8d1b117eb23e48a59490ff2b68e4d509": {
          "model_module": "@jupyter-widgets/base",
          "model_name": "LayoutModel",
          "state": {
            "_view_name": "LayoutView",
            "grid_template_rows": null,
            "right": null,
            "justify_content": null,
            "_view_module": "@jupyter-widgets/base",
            "overflow": null,
            "_model_module_version": "1.2.0",
            "_view_count": null,
            "flex_flow": null,
            "width": null,
            "min_width": null,
            "border": null,
            "align_items": null,
            "bottom": null,
            "_model_module": "@jupyter-widgets/base",
            "top": null,
            "grid_column": null,
            "overflow_y": null,
            "overflow_x": null,
            "grid_auto_flow": null,
            "grid_area": null,
            "grid_template_columns": null,
            "flex": null,
            "_model_name": "LayoutModel",
            "justify_items": null,
            "grid_row": null,
            "max_height": null,
            "align_content": null,
            "visibility": null,
            "align_self": null,
            "height": null,
            "min_height": null,
            "padding": null,
            "grid_auto_rows": null,
            "grid_gap": null,
            "max_width": null,
            "order": null,
            "_view_module_version": "1.2.0",
            "grid_template_areas": null,
            "object_position": null,
            "object_fit": null,
            "grid_auto_columns": null,
            "margin": null,
            "display": null,
            "left": null
          }
        },
        "3a615b559d7a4f548339af872daad373": {
          "model_module": "@jupyter-widgets/controls",
          "model_name": "DescriptionStyleModel",
          "state": {
            "_view_name": "StyleView",
            "_model_name": "DescriptionStyleModel",
            "description_width": "",
            "_view_module": "@jupyter-widgets/base",
            "_model_module_version": "1.5.0",
            "_view_count": null,
            "_view_module_version": "1.2.0",
            "_model_module": "@jupyter-widgets/controls"
          }
        },
        "60a84584a538432da1d34e6fe483c8e1": {
          "model_module": "@jupyter-widgets/base",
          "model_name": "LayoutModel",
          "state": {
            "_view_name": "LayoutView",
            "grid_template_rows": null,
            "right": null,
            "justify_content": null,
            "_view_module": "@jupyter-widgets/base",
            "overflow": null,
            "_model_module_version": "1.2.0",
            "_view_count": null,
            "flex_flow": null,
            "width": null,
            "min_width": null,
            "border": null,
            "align_items": null,
            "bottom": null,
            "_model_module": "@jupyter-widgets/base",
            "top": null,
            "grid_column": null,
            "overflow_y": null,
            "overflow_x": null,
            "grid_auto_flow": null,
            "grid_area": null,
            "grid_template_columns": null,
            "flex": null,
            "_model_name": "LayoutModel",
            "justify_items": null,
            "grid_row": null,
            "max_height": null,
            "align_content": null,
            "visibility": null,
            "align_self": null,
            "height": null,
            "min_height": null,
            "padding": null,
            "grid_auto_rows": null,
            "grid_gap": null,
            "max_width": null,
            "order": null,
            "_view_module_version": "1.2.0",
            "grid_template_areas": null,
            "object_position": null,
            "object_fit": null,
            "grid_auto_columns": null,
            "margin": null,
            "display": null,
            "left": null
          }
        },
        "22e3a138aafb42fb956e3fa5e33d4c18": {
          "model_module": "@jupyter-widgets/controls",
          "model_name": "HBoxModel",
          "state": {
            "_view_name": "HBoxView",
            "_dom_classes": [],
            "_model_name": "HBoxModel",
            "_view_module": "@jupyter-widgets/controls",
            "_model_module_version": "1.5.0",
            "_view_count": null,
            "_view_module_version": "1.5.0",
            "box_style": "",
            "layout": "IPY_MODEL_fc1a28facd734137b0996d9895722297",
            "_model_module": "@jupyter-widgets/controls",
            "children": [
              "IPY_MODEL_d82ebf110d624a8fb0149467cff4d29b",
              "IPY_MODEL_1bdef7bbfdf54c6da8a85391fc733ad2"
            ]
          }
        },
        "fc1a28facd734137b0996d9895722297": {
          "model_module": "@jupyter-widgets/base",
          "model_name": "LayoutModel",
          "state": {
            "_view_name": "LayoutView",
            "grid_template_rows": null,
            "right": null,
            "justify_content": null,
            "_view_module": "@jupyter-widgets/base",
            "overflow": null,
            "_model_module_version": "1.2.0",
            "_view_count": null,
            "flex_flow": null,
            "width": null,
            "min_width": null,
            "border": null,
            "align_items": null,
            "bottom": null,
            "_model_module": "@jupyter-widgets/base",
            "top": null,
            "grid_column": null,
            "overflow_y": null,
            "overflow_x": null,
            "grid_auto_flow": null,
            "grid_area": null,
            "grid_template_columns": null,
            "flex": null,
            "_model_name": "LayoutModel",
            "justify_items": null,
            "grid_row": null,
            "max_height": null,
            "align_content": null,
            "visibility": null,
            "align_self": null,
            "height": null,
            "min_height": null,
            "padding": null,
            "grid_auto_rows": null,
            "grid_gap": null,
            "max_width": null,
            "order": null,
            "_view_module_version": "1.2.0",
            "grid_template_areas": null,
            "object_position": null,
            "object_fit": null,
            "grid_auto_columns": null,
            "margin": null,
            "display": null,
            "left": null
          }
        },
        "d82ebf110d624a8fb0149467cff4d29b": {
          "model_module": "@jupyter-widgets/controls",
          "model_name": "FloatProgressModel",
          "state": {
            "_view_name": "ProgressView",
            "style": "IPY_MODEL_93270530837b4673b1579e330f5fb179",
            "_dom_classes": [],
            "description": "Downloading: 100%",
            "_model_name": "FloatProgressModel",
            "bar_style": "success",
            "max": 231508,
            "_view_module": "@jupyter-widgets/controls",
            "_model_module_version": "1.5.0",
            "value": 231508,
            "_view_count": null,
            "_view_module_version": "1.5.0",
            "orientation": "horizontal",
            "min": 0,
            "description_tooltip": null,
            "_model_module": "@jupyter-widgets/controls",
            "layout": "IPY_MODEL_dea757e930564f86a12ca3335c1e2666"
          }
        },
        "1bdef7bbfdf54c6da8a85391fc733ad2": {
          "model_module": "@jupyter-widgets/controls",
          "model_name": "HTMLModel",
          "state": {
            "_view_name": "HTMLView",
            "style": "IPY_MODEL_f167caed527c43bd8cce0a7a3a699da7",
            "_dom_classes": [],
            "description": "",
            "_model_name": "HTMLModel",
            "placeholder": "​",
            "_view_module": "@jupyter-widgets/controls",
            "_model_module_version": "1.5.0",
            "value": " 232k/232k [00:00&lt;00:00, 575kB/s]",
            "_view_count": null,
            "_view_module_version": "1.5.0",
            "description_tooltip": null,
            "_model_module": "@jupyter-widgets/controls",
            "layout": "IPY_MODEL_bc7af643cbc843318fcfc74076fbd1a6"
          }
        },
        "93270530837b4673b1579e330f5fb179": {
          "model_module": "@jupyter-widgets/controls",
          "model_name": "ProgressStyleModel",
          "state": {
            "_view_name": "StyleView",
            "_model_name": "ProgressStyleModel",
            "description_width": "initial",
            "_view_module": "@jupyter-widgets/base",
            "_model_module_version": "1.5.0",
            "_view_count": null,
            "_view_module_version": "1.2.0",
            "bar_color": null,
            "_model_module": "@jupyter-widgets/controls"
          }
        },
        "dea757e930564f86a12ca3335c1e2666": {
          "model_module": "@jupyter-widgets/base",
          "model_name": "LayoutModel",
          "state": {
            "_view_name": "LayoutView",
            "grid_template_rows": null,
            "right": null,
            "justify_content": null,
            "_view_module": "@jupyter-widgets/base",
            "overflow": null,
            "_model_module_version": "1.2.0",
            "_view_count": null,
            "flex_flow": null,
            "width": null,
            "min_width": null,
            "border": null,
            "align_items": null,
            "bottom": null,
            "_model_module": "@jupyter-widgets/base",
            "top": null,
            "grid_column": null,
            "overflow_y": null,
            "overflow_x": null,
            "grid_auto_flow": null,
            "grid_area": null,
            "grid_template_columns": null,
            "flex": null,
            "_model_name": "LayoutModel",
            "justify_items": null,
            "grid_row": null,
            "max_height": null,
            "align_content": null,
            "visibility": null,
            "align_self": null,
            "height": null,
            "min_height": null,
            "padding": null,
            "grid_auto_rows": null,
            "grid_gap": null,
            "max_width": null,
            "order": null,
            "_view_module_version": "1.2.0",
            "grid_template_areas": null,
            "object_position": null,
            "object_fit": null,
            "grid_auto_columns": null,
            "margin": null,
            "display": null,
            "left": null
          }
        },
        "f167caed527c43bd8cce0a7a3a699da7": {
          "model_module": "@jupyter-widgets/controls",
          "model_name": "DescriptionStyleModel",
          "state": {
            "_view_name": "StyleView",
            "_model_name": "DescriptionStyleModel",
            "description_width": "",
            "_view_module": "@jupyter-widgets/base",
            "_model_module_version": "1.5.0",
            "_view_count": null,
            "_view_module_version": "1.2.0",
            "_model_module": "@jupyter-widgets/controls"
          }
        },
        "bc7af643cbc843318fcfc74076fbd1a6": {
          "model_module": "@jupyter-widgets/base",
          "model_name": "LayoutModel",
          "state": {
            "_view_name": "LayoutView",
            "grid_template_rows": null,
            "right": null,
            "justify_content": null,
            "_view_module": "@jupyter-widgets/base",
            "overflow": null,
            "_model_module_version": "1.2.0",
            "_view_count": null,
            "flex_flow": null,
            "width": null,
            "min_width": null,
            "border": null,
            "align_items": null,
            "bottom": null,
            "_model_module": "@jupyter-widgets/base",
            "top": null,
            "grid_column": null,
            "overflow_y": null,
            "overflow_x": null,
            "grid_auto_flow": null,
            "grid_area": null,
            "grid_template_columns": null,
            "flex": null,
            "_model_name": "LayoutModel",
            "justify_items": null,
            "grid_row": null,
            "max_height": null,
            "align_content": null,
            "visibility": null,
            "align_self": null,
            "height": null,
            "min_height": null,
            "padding": null,
            "grid_auto_rows": null,
            "grid_gap": null,
            "max_width": null,
            "order": null,
            "_view_module_version": "1.2.0",
            "grid_template_areas": null,
            "object_position": null,
            "object_fit": null,
            "grid_auto_columns": null,
            "margin": null,
            "display": null,
            "left": null
          }
        },
        "6f74419589804d7f9ba4c3e6b1f17c49": {
          "model_module": "@jupyter-widgets/controls",
          "model_name": "HBoxModel",
          "state": {
            "_view_name": "HBoxView",
            "_dom_classes": [],
            "_model_name": "HBoxModel",
            "_view_module": "@jupyter-widgets/controls",
            "_model_module_version": "1.5.0",
            "_view_count": null,
            "_view_module_version": "1.5.0",
            "box_style": "",
            "layout": "IPY_MODEL_6715b1d4524b4fc98803d19f3e429ec3",
            "_model_module": "@jupyter-widgets/controls",
            "children": [
              "IPY_MODEL_9910515232a4413abfdaf17366f9b7ff",
              "IPY_MODEL_24e2b657d058431aac346b994eecf9ee"
            ]
          }
        },
        "6715b1d4524b4fc98803d19f3e429ec3": {
          "model_module": "@jupyter-widgets/base",
          "model_name": "LayoutModel",
          "state": {
            "_view_name": "LayoutView",
            "grid_template_rows": null,
            "right": null,
            "justify_content": null,
            "_view_module": "@jupyter-widgets/base",
            "overflow": null,
            "_model_module_version": "1.2.0",
            "_view_count": null,
            "flex_flow": null,
            "width": null,
            "min_width": null,
            "border": null,
            "align_items": null,
            "bottom": null,
            "_model_module": "@jupyter-widgets/base",
            "top": null,
            "grid_column": null,
            "overflow_y": null,
            "overflow_x": null,
            "grid_auto_flow": null,
            "grid_area": null,
            "grid_template_columns": null,
            "flex": null,
            "_model_name": "LayoutModel",
            "justify_items": null,
            "grid_row": null,
            "max_height": null,
            "align_content": null,
            "visibility": null,
            "align_self": null,
            "height": null,
            "min_height": null,
            "padding": null,
            "grid_auto_rows": null,
            "grid_gap": null,
            "max_width": null,
            "order": null,
            "_view_module_version": "1.2.0",
            "grid_template_areas": null,
            "object_position": null,
            "object_fit": null,
            "grid_auto_columns": null,
            "margin": null,
            "display": null,
            "left": null
          }
        },
        "9910515232a4413abfdaf17366f9b7ff": {
          "model_module": "@jupyter-widgets/controls",
          "model_name": "FloatProgressModel",
          "state": {
            "_view_name": "ProgressView",
            "style": "IPY_MODEL_7afea35d66c54e71a72f743f2ab39aac",
            "_dom_classes": [],
            "description": "Downloading: 100%",
            "_model_name": "FloatProgressModel",
            "bar_style": "success",
            "max": 190,
            "_view_module": "@jupyter-widgets/controls",
            "_model_module_version": "1.5.0",
            "value": 190,
            "_view_count": null,
            "_view_module_version": "1.5.0",
            "orientation": "horizontal",
            "min": 0,
            "description_tooltip": null,
            "_model_module": "@jupyter-widgets/controls",
            "layout": "IPY_MODEL_c9c18af959754ea9b7424b682c54a24e"
          }
        },
        "24e2b657d058431aac346b994eecf9ee": {
          "model_module": "@jupyter-widgets/controls",
          "model_name": "HTMLModel",
          "state": {
            "_view_name": "HTMLView",
            "style": "IPY_MODEL_43d63dbee07644bead589e3a4a08859f",
            "_dom_classes": [],
            "description": "",
            "_model_name": "HTMLModel",
            "placeholder": "​",
            "_view_module": "@jupyter-widgets/controls",
            "_model_module_version": "1.5.0",
            "value": " 190/190 [00:09&lt;00:00, 20.0B/s]",
            "_view_count": null,
            "_view_module_version": "1.5.0",
            "description_tooltip": null,
            "_model_module": "@jupyter-widgets/controls",
            "layout": "IPY_MODEL_ad7bc29679de4e7e9169f78169b3e2ef"
          }
        },
        "7afea35d66c54e71a72f743f2ab39aac": {
          "model_module": "@jupyter-widgets/controls",
          "model_name": "ProgressStyleModel",
          "state": {
            "_view_name": "StyleView",
            "_model_name": "ProgressStyleModel",
            "description_width": "initial",
            "_view_module": "@jupyter-widgets/base",
            "_model_module_version": "1.5.0",
            "_view_count": null,
            "_view_module_version": "1.2.0",
            "bar_color": null,
            "_model_module": "@jupyter-widgets/controls"
          }
        },
        "c9c18af959754ea9b7424b682c54a24e": {
          "model_module": "@jupyter-widgets/base",
          "model_name": "LayoutModel",
          "state": {
            "_view_name": "LayoutView",
            "grid_template_rows": null,
            "right": null,
            "justify_content": null,
            "_view_module": "@jupyter-widgets/base",
            "overflow": null,
            "_model_module_version": "1.2.0",
            "_view_count": null,
            "flex_flow": null,
            "width": null,
            "min_width": null,
            "border": null,
            "align_items": null,
            "bottom": null,
            "_model_module": "@jupyter-widgets/base",
            "top": null,
            "grid_column": null,
            "overflow_y": null,
            "overflow_x": null,
            "grid_auto_flow": null,
            "grid_area": null,
            "grid_template_columns": null,
            "flex": null,
            "_model_name": "LayoutModel",
            "justify_items": null,
            "grid_row": null,
            "max_height": null,
            "align_content": null,
            "visibility": null,
            "align_self": null,
            "height": null,
            "min_height": null,
            "padding": null,
            "grid_auto_rows": null,
            "grid_gap": null,
            "max_width": null,
            "order": null,
            "_view_module_version": "1.2.0",
            "grid_template_areas": null,
            "object_position": null,
            "object_fit": null,
            "grid_auto_columns": null,
            "margin": null,
            "display": null,
            "left": null
          }
        },
        "43d63dbee07644bead589e3a4a08859f": {
          "model_module": "@jupyter-widgets/controls",
          "model_name": "DescriptionStyleModel",
          "state": {
            "_view_name": "StyleView",
            "_model_name": "DescriptionStyleModel",
            "description_width": "",
            "_view_module": "@jupyter-widgets/base",
            "_model_module_version": "1.5.0",
            "_view_count": null,
            "_view_module_version": "1.2.0",
            "_model_module": "@jupyter-widgets/controls"
          }
        },
        "ad7bc29679de4e7e9169f78169b3e2ef": {
          "model_module": "@jupyter-widgets/base",
          "model_name": "LayoutModel",
          "state": {
            "_view_name": "LayoutView",
            "grid_template_rows": null,
            "right": null,
            "justify_content": null,
            "_view_module": "@jupyter-widgets/base",
            "overflow": null,
            "_model_module_version": "1.2.0",
            "_view_count": null,
            "flex_flow": null,
            "width": null,
            "min_width": null,
            "border": null,
            "align_items": null,
            "bottom": null,
            "_model_module": "@jupyter-widgets/base",
            "top": null,
            "grid_column": null,
            "overflow_y": null,
            "overflow_x": null,
            "grid_auto_flow": null,
            "grid_area": null,
            "grid_template_columns": null,
            "flex": null,
            "_model_name": "LayoutModel",
            "justify_items": null,
            "grid_row": null,
            "max_height": null,
            "align_content": null,
            "visibility": null,
            "align_self": null,
            "height": null,
            "min_height": null,
            "padding": null,
            "grid_auto_rows": null,
            "grid_gap": null,
            "max_width": null,
            "order": null,
            "_view_module_version": "1.2.0",
            "grid_template_areas": null,
            "object_position": null,
            "object_fit": null,
            "grid_auto_columns": null,
            "margin": null,
            "display": null,
            "left": null
          }
        },
        "149e0574bcbc4705b4e92c8932d9afd9": {
          "model_module": "@jupyter-widgets/controls",
          "model_name": "HBoxModel",
          "state": {
            "_view_name": "HBoxView",
            "_dom_classes": [],
            "_model_name": "HBoxModel",
            "_view_module": "@jupyter-widgets/controls",
            "_model_module_version": "1.5.0",
            "_view_count": null,
            "_view_module_version": "1.5.0",
            "box_style": "",
            "layout": "IPY_MODEL_7c53926cbafc4736a5418bac5f9f329e",
            "_model_module": "@jupyter-widgets/controls",
            "children": [
              "IPY_MODEL_c3a000f5c6504a88bfdcedcf6ad312f9",
              "IPY_MODEL_fe4272eeef0a4b00bd35c2f5ee435023"
            ]
          }
        },
        "7c53926cbafc4736a5418bac5f9f329e": {
          "model_module": "@jupyter-widgets/base",
          "model_name": "LayoutModel",
          "state": {
            "_view_name": "LayoutView",
            "grid_template_rows": null,
            "right": null,
            "justify_content": null,
            "_view_module": "@jupyter-widgets/base",
            "overflow": null,
            "_model_module_version": "1.2.0",
            "_view_count": null,
            "flex_flow": null,
            "width": null,
            "min_width": null,
            "border": null,
            "align_items": null,
            "bottom": null,
            "_model_module": "@jupyter-widgets/base",
            "top": null,
            "grid_column": null,
            "overflow_y": null,
            "overflow_x": null,
            "grid_auto_flow": null,
            "grid_area": null,
            "grid_template_columns": null,
            "flex": null,
            "_model_name": "LayoutModel",
            "justify_items": null,
            "grid_row": null,
            "max_height": null,
            "align_content": null,
            "visibility": null,
            "align_self": null,
            "height": null,
            "min_height": null,
            "padding": null,
            "grid_auto_rows": null,
            "grid_gap": null,
            "max_width": null,
            "order": null,
            "_view_module_version": "1.2.0",
            "grid_template_areas": null,
            "object_position": null,
            "object_fit": null,
            "grid_auto_columns": null,
            "margin": null,
            "display": null,
            "left": null
          }
        },
        "c3a000f5c6504a88bfdcedcf6ad312f9": {
          "model_module": "@jupyter-widgets/controls",
          "model_name": "FloatProgressModel",
          "state": {
            "_view_name": "ProgressView",
            "style": "IPY_MODEL_6b739cac25fb408696479f5eb7f33863",
            "_dom_classes": [],
            "description": "Batches: 100%",
            "_model_name": "FloatProgressModel",
            "bar_style": "success",
            "max": 19,
            "_view_module": "@jupyter-widgets/controls",
            "_model_module_version": "1.5.0",
            "value": 19,
            "_view_count": null,
            "_view_module_version": "1.5.0",
            "orientation": "horizontal",
            "min": 0,
            "description_tooltip": null,
            "_model_module": "@jupyter-widgets/controls",
            "layout": "IPY_MODEL_be267c3bf1114e2eb8e854d3f7fb2f3a"
          }
        },
        "fe4272eeef0a4b00bd35c2f5ee435023": {
          "model_module": "@jupyter-widgets/controls",
          "model_name": "HTMLModel",
          "state": {
            "_view_name": "HTMLView",
            "style": "IPY_MODEL_b15f280e49d940bcac61dfdb128c1a43",
            "_dom_classes": [],
            "description": "",
            "_model_name": "HTMLModel",
            "placeholder": "​",
            "_view_module": "@jupyter-widgets/controls",
            "_model_module_version": "1.5.0",
            "value": " 19/19 [00:13&lt;00:00,  1.45it/s]",
            "_view_count": null,
            "_view_module_version": "1.5.0",
            "description_tooltip": null,
            "_model_module": "@jupyter-widgets/controls",
            "layout": "IPY_MODEL_09600fa9b453412591c0eddbb0c72ee5"
          }
        },
        "6b739cac25fb408696479f5eb7f33863": {
          "model_module": "@jupyter-widgets/controls",
          "model_name": "ProgressStyleModel",
          "state": {
            "_view_name": "StyleView",
            "_model_name": "ProgressStyleModel",
            "description_width": "initial",
            "_view_module": "@jupyter-widgets/base",
            "_model_module_version": "1.5.0",
            "_view_count": null,
            "_view_module_version": "1.2.0",
            "bar_color": null,
            "_model_module": "@jupyter-widgets/controls"
          }
        },
        "be267c3bf1114e2eb8e854d3f7fb2f3a": {
          "model_module": "@jupyter-widgets/base",
          "model_name": "LayoutModel",
          "state": {
            "_view_name": "LayoutView",
            "grid_template_rows": null,
            "right": null,
            "justify_content": null,
            "_view_module": "@jupyter-widgets/base",
            "overflow": null,
            "_model_module_version": "1.2.0",
            "_view_count": null,
            "flex_flow": null,
            "width": null,
            "min_width": null,
            "border": null,
            "align_items": null,
            "bottom": null,
            "_model_module": "@jupyter-widgets/base",
            "top": null,
            "grid_column": null,
            "overflow_y": null,
            "overflow_x": null,
            "grid_auto_flow": null,
            "grid_area": null,
            "grid_template_columns": null,
            "flex": null,
            "_model_name": "LayoutModel",
            "justify_items": null,
            "grid_row": null,
            "max_height": null,
            "align_content": null,
            "visibility": null,
            "align_self": null,
            "height": null,
            "min_height": null,
            "padding": null,
            "grid_auto_rows": null,
            "grid_gap": null,
            "max_width": null,
            "order": null,
            "_view_module_version": "1.2.0",
            "grid_template_areas": null,
            "object_position": null,
            "object_fit": null,
            "grid_auto_columns": null,
            "margin": null,
            "display": null,
            "left": null
          }
        },
        "b15f280e49d940bcac61dfdb128c1a43": {
          "model_module": "@jupyter-widgets/controls",
          "model_name": "DescriptionStyleModel",
          "state": {
            "_view_name": "StyleView",
            "_model_name": "DescriptionStyleModel",
            "description_width": "",
            "_view_module": "@jupyter-widgets/base",
            "_model_module_version": "1.5.0",
            "_view_count": null,
            "_view_module_version": "1.2.0",
            "_model_module": "@jupyter-widgets/controls"
          }
        },
        "09600fa9b453412591c0eddbb0c72ee5": {
          "model_module": "@jupyter-widgets/base",
          "model_name": "LayoutModel",
          "state": {
            "_view_name": "LayoutView",
            "grid_template_rows": null,
            "right": null,
            "justify_content": null,
            "_view_module": "@jupyter-widgets/base",
            "overflow": null,
            "_model_module_version": "1.2.0",
            "_view_count": null,
            "flex_flow": null,
            "width": null,
            "min_width": null,
            "border": null,
            "align_items": null,
            "bottom": null,
            "_model_module": "@jupyter-widgets/base",
            "top": null,
            "grid_column": null,
            "overflow_y": null,
            "overflow_x": null,
            "grid_auto_flow": null,
            "grid_area": null,
            "grid_template_columns": null,
            "flex": null,
            "_model_name": "LayoutModel",
            "justify_items": null,
            "grid_row": null,
            "max_height": null,
            "align_content": null,
            "visibility": null,
            "align_self": null,
            "height": null,
            "min_height": null,
            "padding": null,
            "grid_auto_rows": null,
            "grid_gap": null,
            "max_width": null,
            "order": null,
            "_view_module_version": "1.2.0",
            "grid_template_areas": null,
            "object_position": null,
            "object_fit": null,
            "grid_auto_columns": null,
            "margin": null,
            "display": null,
            "left": null
          }
        }
      }
    }
  },
  "cells": [
    {
      "cell_type": "markdown",
      "metadata": {
        "id": "view-in-github",
        "colab_type": "text"
      },
      "source": [
        "<a href=\"https://colab.research.google.com/github/cybertraining-dsc/su21-reu-372/blob/main/Tyroidhitis_Project.ipynb\" target=\"_parent\"><img src=\"https://colab.research.google.com/assets/colab-badge.svg\" alt=\"Open In Colab\"/></a>"
      ]
    },
    {
      "cell_type": "code",
      "metadata": {
        "id": "9dUltrVe_liC"
      },
      "source": [
        "%%capture\n",
        "!pip install bertopic"
      ],
      "execution_count": null,
      "outputs": []
    },
    {
      "cell_type": "code",
      "metadata": {
        "colab": {
          "base_uri": "https://localhost:8080/"
        },
        "id": "bKUAjyTRULwc",
        "outputId": "dfb62c30-f5db-4507-cec8-0ca04971fa0b"
      },
      "source": [
        "!pip install numpy\n",
        "!pip install cloudmesh-installer\n",
        "!pip install cloudmesh-common"
      ],
      "execution_count": null,
      "outputs": [
        {
          "output_type": "stream",
          "text": [
            "Requirement already satisfied: numpy in /usr/local/lib/python3.7/dist-packages (1.21.1)\n",
            "Collecting cloudmesh-installer\n",
            "  Downloading cloudmesh_installer-4.4.28-py2.py3-none-any.whl (11 kB)\n",
            "Requirement already satisfied: coverage in /usr/local/lib/python3.7/dist-packages (from cloudmesh-installer) (3.7.1)\n",
            "Collecting ordered-set\n",
            "  Downloading ordered-set-4.0.2.tar.gz (10 kB)\n",
            "Requirement already satisfied: requests in /usr/local/lib/python3.7/dist-packages (from cloudmesh-installer) (2.23.0)\n",
            "Requirement already satisfied: wheel in /usr/local/lib/python3.7/dist-packages (from cloudmesh-installer) (0.36.2)\n",
            "Requirement already satisfied: psutil in /usr/local/lib/python3.7/dist-packages (from cloudmesh-installer) (5.4.8)\n",
            "Collecting colorama\n",
            "  Downloading colorama-0.4.4-py2.py3-none-any.whl (16 kB)\n",
            "Collecting pytest-cov\n",
            "  Downloading pytest_cov-2.12.1-py2.py3-none-any.whl (20 kB)\n",
            "Requirement already satisfied: humanize in /usr/local/lib/python3.7/dist-packages (from cloudmesh-installer) (0.5.1)\n",
            "Collecting bump2version==1.0.0\n",
            "  Downloading bump2version-1.0.0-py2.py3-none-any.whl (20 kB)\n",
            "Collecting oyaml\n",
            "  Downloading oyaml-1.0-py2.py3-none-any.whl (3.0 kB)\n",
            "Collecting python-hostlist\n",
            "  Downloading python-hostlist-1.21.tar.gz (35 kB)\n",
            "Collecting flake8\n",
            "  Downloading flake8-3.9.2-py2.py3-none-any.whl (73 kB)\n",
            "\u001b[K     |████████████████████████████████| 73 kB 702 kB/s \n",
            "\u001b[?25hRequirement already satisfied: docopt in /usr/local/lib/python3.7/dist-packages (from cloudmesh-installer) (0.6.2)\n",
            "Collecting cloudmesh-common\n",
            "  Downloading cloudmesh_common-4.3.76-py2.py3-none-any.whl (81 kB)\n",
            "\u001b[K     |████████████████████████████████| 81 kB 5.5 MB/s \n",
            "\u001b[?25hCollecting pipdeptree\n",
            "  Downloading pipdeptree-2.0.0-py3-none-any.whl (21 kB)\n",
            "Requirement already satisfied: tabulate in /usr/local/lib/python3.7/dist-packages (from cloudmesh-installer) (0.8.9)\n",
            "Requirement already satisfied: pytest in /usr/local/lib/python3.7/dist-packages (from cloudmesh-installer) (3.6.4)\n",
            "Requirement already satisfied: pip-tools in /usr/local/lib/python3.7/dist-packages (from cloudmesh-installer) (4.5.1)\n",
            "Requirement already satisfied: tqdm in /usr/local/lib/python3.7/dist-packages (from cloudmesh-common->cloudmesh-installer) (4.41.1)\n",
            "Requirement already satisfied: pathlib in /usr/local/lib/python3.7/dist-packages (from cloudmesh-common->cloudmesh-installer) (1.0.1)\n",
            "Requirement already satisfied: pytz in /usr/local/lib/python3.7/dist-packages (from cloudmesh-common->cloudmesh-installer) (2018.9)\n",
            "Collecting pyfiglet\n",
            "  Downloading pyfiglet-0.8.post1-py2.py3-none-any.whl (865 kB)\n",
            "\u001b[K     |████████████████████████████████| 865 kB 34.7 MB/s \n",
            "\u001b[?25hRequirement already satisfied: python-dateutil in /usr/local/lib/python3.7/dist-packages (from cloudmesh-common->cloudmesh-installer) (2.8.1)\n",
            "Collecting simplejson\n",
            "  Downloading simplejson-3.17.3-cp37-cp37m-manylinux_2_5_x86_64.manylinux1_x86_64.manylinux_2_12_x86_64.manylinux2010_x86_64.whl (129 kB)\n",
            "\u001b[K     |████████████████████████████████| 129 kB 44.9 MB/s \n",
            "\u001b[?25hRequirement already satisfied: importlib-metadata in /usr/local/lib/python3.7/dist-packages (from flake8->cloudmesh-installer) (4.6.1)\n",
            "Collecting pycodestyle<2.8.0,>=2.7.0\n",
            "  Downloading pycodestyle-2.7.0-py2.py3-none-any.whl (41 kB)\n",
            "\u001b[K     |████████████████████████████████| 41 kB 367 kB/s \n",
            "\u001b[?25hCollecting pyflakes<2.4.0,>=2.3.0\n",
            "  Downloading pyflakes-2.3.1-py2.py3-none-any.whl (68 kB)\n",
            "\u001b[K     |████████████████████████████████| 68 kB 3.8 MB/s \n",
            "\u001b[?25hCollecting mccabe<0.7.0,>=0.6.0\n",
            "  Downloading mccabe-0.6.1-py2.py3-none-any.whl (8.6 kB)\n",
            "Requirement already satisfied: zipp>=0.5 in /usr/local/lib/python3.7/dist-packages (from importlib-metadata->flake8->cloudmesh-installer) (3.5.0)\n",
            "Requirement already satisfied: typing-extensions>=3.6.4 in /usr/local/lib/python3.7/dist-packages (from importlib-metadata->flake8->cloudmesh-installer) (3.7.4.3)\n",
            "Requirement already satisfied: pyyaml in /usr/local/lib/python3.7/dist-packages (from oyaml->cloudmesh-installer) (5.4.1)\n",
            "Requirement already satisfied: six in /usr/local/lib/python3.7/dist-packages (from pip-tools->cloudmesh-installer) (1.15.0)\n",
            "Requirement already satisfied: click>=7 in /usr/local/lib/python3.7/dist-packages (from pip-tools->cloudmesh-installer) (7.1.2)\n",
            "Requirement already satisfied: pip>=6.0.0 in /usr/local/lib/python3.7/dist-packages (from pipdeptree->cloudmesh-installer) (21.1.3)\n",
            "Requirement already satisfied: atomicwrites>=1.0 in /usr/local/lib/python3.7/dist-packages (from pytest->cloudmesh-installer) (1.4.0)\n",
            "Requirement already satisfied: attrs>=17.4.0 in /usr/local/lib/python3.7/dist-packages (from pytest->cloudmesh-installer) (21.2.0)\n",
            "Requirement already satisfied: setuptools in /usr/local/lib/python3.7/dist-packages (from pytest->cloudmesh-installer) (57.2.0)\n",
            "Requirement already satisfied: py>=1.5.0 in /usr/local/lib/python3.7/dist-packages (from pytest->cloudmesh-installer) (1.10.0)\n",
            "Requirement already satisfied: pluggy<0.8,>=0.5 in /usr/local/lib/python3.7/dist-packages (from pytest->cloudmesh-installer) (0.7.1)\n",
            "Requirement already satisfied: more-itertools>=4.0.0 in /usr/local/lib/python3.7/dist-packages (from pytest->cloudmesh-installer) (8.8.0)\n",
            "Requirement already satisfied: toml in /usr/local/lib/python3.7/dist-packages (from pytest-cov->cloudmesh-installer) (0.10.2)\n",
            "Collecting pytest\n",
            "  Downloading pytest-6.2.4-py3-none-any.whl (280 kB)\n",
            "\u001b[K     |████████████████████████████████| 280 kB 47.4 MB/s \n",
            "\u001b[?25hCollecting coverage\n",
            "  Downloading coverage-5.5-cp37-cp37m-manylinux2010_x86_64.whl (242 kB)\n",
            "\u001b[K     |████████████████████████████████| 242 kB 40.8 MB/s \n",
            "\u001b[?25hCollecting pytest\n",
            "  Downloading pytest-6.2.3-py3-none-any.whl (280 kB)\n",
            "\u001b[K     |████████████████████████████████| 280 kB 32.2 MB/s \n",
            "\u001b[?25h  Downloading pytest-6.2.2-py3-none-any.whl (280 kB)\n",
            "\u001b[K     |████████████████████████████████| 280 kB 38.3 MB/s \n",
            "\u001b[?25h  Downloading pytest-6.2.1-py3-none-any.whl (279 kB)\n",
            "\u001b[K     |████████████████████████████████| 279 kB 29.7 MB/s \n",
            "\u001b[?25h  Downloading pytest-6.2.0-py3-none-any.whl (279 kB)\n",
            "\u001b[K     |████████████████████████████████| 279 kB 21.6 MB/s \n",
            "\u001b[?25h  Downloading pytest-6.1.2-py3-none-any.whl (272 kB)\n",
            "\u001b[K     |████████████████████████████████| 272 kB 46.8 MB/s \n",
            "\u001b[?25hRequirement already satisfied: packaging in /usr/local/lib/python3.7/dist-packages (from pytest->cloudmesh-installer) (21.0)\n",
            "  Downloading pytest-6.1.1-py3-none-any.whl (272 kB)\n",
            "\u001b[K     |████████████████████████████████| 272 kB 47.3 MB/s \n",
            "\u001b[?25h  Downloading pytest-6.1.0-py3-none-any.whl (272 kB)\n",
            "\u001b[K     |████████████████████████████████| 272 kB 48.4 MB/s \n",
            "\u001b[?25h  Downloading pytest-6.0.2-py3-none-any.whl (270 kB)\n",
            "\u001b[K     |████████████████████████████████| 270 kB 41.9 MB/s \n",
            "\u001b[?25h  Downloading pytest-6.0.1-py3-none-any.whl (270 kB)\n",
            "\u001b[K     |████████████████████████████████| 270 kB 33.4 MB/s \n",
            "\u001b[?25h  Downloading pytest-6.0.0-py3-none-any.whl (270 kB)\n",
            "\u001b[K     |████████████████████████████████| 270 kB 55.6 MB/s \n",
            "\u001b[?25h  Downloading pytest-5.4.3-py3-none-any.whl (248 kB)\n",
            "\u001b[K     |████████████████████████████████| 248 kB 50.7 MB/s \n",
            "\u001b[?25hRequirement already satisfied: wcwidth in /usr/local/lib/python3.7/dist-packages (from pytest->cloudmesh-installer) (0.2.5)\n",
            "  Downloading pytest-5.4.2-py3-none-any.whl (247 kB)\n",
            "\u001b[K     |████████████████████████████████| 247 kB 43.4 MB/s \n",
            "\u001b[?25h  Downloading pytest-5.4.1-py3-none-any.whl (246 kB)\n",
            "\u001b[K     |████████████████████████████████| 246 kB 38.1 MB/s \n",
            "\u001b[?25h  Downloading pytest-5.4.0-py3-none-any.whl (247 kB)\n",
            "\u001b[K     |████████████████████████████████| 247 kB 43.4 MB/s \n",
            "\u001b[?25h  Downloading pytest-5.3.5-py3-none-any.whl (235 kB)\n",
            "\u001b[K     |████████████████████████████████| 235 kB 45.7 MB/s \n",
            "\u001b[?25h  Downloading pytest-5.3.4-py3-none-any.whl (235 kB)\n",
            "\u001b[K     |████████████████████████████████| 235 kB 43.6 MB/s \n",
            "\u001b[?25h  Downloading pytest-5.3.3-py3-none-any.whl (235 kB)\n",
            "\u001b[K     |████████████████████████████████| 235 kB 44.3 MB/s \n",
            "\u001b[?25h  Downloading pytest-5.3.2-py3-none-any.whl (234 kB)\n",
            "\u001b[K     |████████████████████████████████| 234 kB 27.8 MB/s \n",
            "\u001b[?25h  Downloading pytest-5.3.1-py3-none-any.whl (233 kB)\n",
            "\u001b[K     |████████████████████████████████| 233 kB 51.4 MB/s \n",
            "\u001b[?25h  Downloading pytest-5.3.0-py3-none-any.whl (233 kB)\n",
            "\u001b[K     |████████████████████████████████| 233 kB 45.6 MB/s \n",
            "\u001b[?25h  Downloading pytest-5.2.4-py3-none-any.whl (227 kB)\n",
            "\u001b[K     |████████████████████████████████| 227 kB 48.3 MB/s \n",
            "\u001b[?25h  Downloading pytest-5.2.3-py3-none-any.whl (227 kB)\n",
            "\u001b[K     |████████████████████████████████| 227 kB 44.8 MB/s \n",
            "\u001b[?25h  Downloading pytest-5.2.2-py3-none-any.whl (227 kB)\n",
            "\u001b[K     |████████████████████████████████| 227 kB 14.7 MB/s \n",
            "\u001b[?25h  Downloading pytest-5.2.1-py3-none-any.whl (226 kB)\n",
            "\u001b[K     |████████████████████████████████| 226 kB 46.5 MB/s \n",
            "\u001b[?25h  Downloading pytest-5.2.0-py3-none-any.whl (226 kB)\n",
            "\u001b[K     |████████████████████████████████| 226 kB 42.4 MB/s \n",
            "\u001b[?25h  Downloading pytest-5.1.3-py3-none-any.whl (224 kB)\n",
            "\u001b[K     |████████████████████████████████| 224 kB 45.9 MB/s \n",
            "\u001b[?25h  Downloading pytest-5.1.2-py3-none-any.whl (224 kB)\n",
            "\u001b[K     |████████████████████████████████| 224 kB 39.3 MB/s \n",
            "\u001b[?25h  Downloading pytest-5.1.1-py3-none-any.whl (223 kB)\n",
            "\u001b[K     |████████████████████████████████| 223 kB 41.6 MB/s \n",
            "\u001b[?25h  Downloading pytest-5.1.0-py3-none-any.whl (223 kB)\n",
            "\u001b[K     |████████████████████████████████| 223 kB 55.2 MB/s \n",
            "\u001b[?25h  Downloading pytest-5.0.1-py3-none-any.whl (221 kB)\n",
            "\u001b[K     |████████████████████████████████| 221 kB 52.9 MB/s \n",
            "\u001b[?25h  Downloading pytest-5.0.0-py3-none-any.whl (221 kB)\n",
            "\u001b[K     |████████████████████████████████| 221 kB 48.8 MB/s \n",
            "\u001b[?25h  Downloading pytest-4.6.11-py2.py3-none-any.whl (231 kB)\n",
            "\u001b[K     |████████████████████████████████| 231 kB 50.3 MB/s \n",
            "\u001b[?25h  Downloading pytest-4.6.10-py2.py3-none-any.whl (231 kB)\n",
            "\u001b[K     |████████████████████████████████| 231 kB 45.1 MB/s \n",
            "\u001b[?25h  Downloading pytest-4.6.9-py2.py3-none-any.whl (231 kB)\n",
            "\u001b[K     |████████████████████████████████| 231 kB 40.2 MB/s \n",
            "\u001b[?25h  Downloading pytest-4.6.8-py2.py3-none-any.whl (230 kB)\n",
            "\u001b[K     |████████████████████████████████| 230 kB 63.5 MB/s \n",
            "\u001b[?25h  Downloading pytest-4.6.7-py2.py3-none-any.whl (230 kB)\n",
            "\u001b[K     |████████████████████████████████| 230 kB 55.0 MB/s \n",
            "\u001b[?25h  Downloading pytest-4.6.6-py2.py3-none-any.whl (230 kB)\n",
            "\u001b[K     |████████████████████████████████| 230 kB 62.3 MB/s \n",
            "\u001b[?25h  Downloading pytest-4.6.5-py2.py3-none-any.whl (230 kB)\n",
            "\u001b[K     |████████████████████████████████| 230 kB 52.3 MB/s \n",
            "\u001b[?25h  Downloading pytest-4.6.4-py2.py3-none-any.whl (229 kB)\n",
            "\u001b[K     |████████████████████████████████| 229 kB 54.7 MB/s \n",
            "\u001b[?25h  Downloading pytest-4.6.3-py2.py3-none-any.whl (229 kB)\n",
            "\u001b[K     |████████████████████████████████| 229 kB 50.6 MB/s \n",
            "\u001b[?25h  Downloading pytest-4.6.2-py2.py3-none-any.whl (229 kB)\n",
            "\u001b[K     |████████████████████████████████| 229 kB 29.9 MB/s \n",
            "\u001b[?25h  Downloading pytest-4.6.1-py2.py3-none-any.whl (229 kB)\n",
            "\u001b[K     |████████████████████████████████| 229 kB 47.0 MB/s \n",
            "\u001b[?25h  Downloading pytest-4.6.0-py2.py3-none-any.whl (229 kB)\n",
            "\u001b[K     |████████████████████████████████| 229 kB 46.3 MB/s \n",
            "\u001b[?25hINFO: pip is looking at multiple versions of coverage to determine which version is compatible with other requirements. This could take a while.\n",
            "Collecting coverage\n",
            "  Downloading coverage-5.4-cp37-cp37m-manylinux2010_x86_64.whl (242 kB)\n",
            "\u001b[K     |████████████████████████████████| 242 kB 45.5 MB/s \n",
            "\u001b[?25h  Downloading coverage-5.3.1-cp37-cp37m-manylinux2010_x86_64.whl (242 kB)\n",
            "\u001b[K     |████████████████████████████████| 242 kB 42.8 MB/s \n",
            "\u001b[?25h  Downloading coverage-5.3-cp37-cp37m-manylinux1_x86_64.whl (229 kB)\n",
            "\u001b[K     |████████████████████████████████| 229 kB 47.1 MB/s \n",
            "\u001b[?25h  Downloading coverage-5.2.1-cp37-cp37m-manylinux1_x86_64.whl (229 kB)\n",
            "\u001b[K     |████████████████████████████████| 229 kB 45.8 MB/s \n",
            "\u001b[?25hINFO: pip is looking at multiple versions of pytest-cov to determine which version is compatible with other requirements. This could take a while.\n",
            "Collecting pytest-cov\n",
            "  Downloading pytest_cov-2.12.0-py2.py3-none-any.whl (20 kB)\n",
            "INFO: pip is looking at multiple versions of coverage[toml] to determine which version is compatible with other requirements. This could take a while.\n",
            "INFO: pip is looking at multiple versions of coverage to determine which version is compatible with other requirements. This could take a while.\n",
            "  Downloading pytest_cov-2.11.1-py2.py3-none-any.whl (20 kB)\n",
            "INFO: This is taking longer than usual. You might need to provide the dependency resolver with stricter constraints to reduce runtime. If you want to abort this run, you can press Ctrl + C to do so. To improve how pip performs, tell us what happened here: https://pip.pypa.io/surveys/backtracking\n",
            "  Downloading pytest_cov-2.11.0-py2.py3-none-any.whl (20 kB)\n",
            "  Downloading pytest_cov-2.10.1-py2.py3-none-any.whl (19 kB)\n",
            "Collecting coverage\n",
            "  Downloading coverage-5.2-cp37-cp37m-manylinux1_x86_64.whl (229 kB)\n",
            "\u001b[K     |████████████████████████████████| 229 kB 54.9 MB/s \n",
            "\u001b[?25h  Downloading coverage-5.1-cp37-cp37m-manylinux1_x86_64.whl (227 kB)\n",
            "\u001b[K     |████████████████████████████████| 227 kB 54.5 MB/s \n",
            "\u001b[?25h  Downloading coverage-5.0.4-cp37-cp37m-manylinux1_x86_64.whl (227 kB)\n",
            "\u001b[K     |████████████████████████████████| 227 kB 53.7 MB/s \n",
            "\u001b[?25h  Downloading coverage-5.0.3-cp37-cp37m-manylinux1_x86_64.whl (227 kB)\n",
            "\u001b[K     |████████████████████████████████| 227 kB 51.9 MB/s \n",
            "\u001b[?25h  Downloading coverage-5.0.2-cp37-cp37m-manylinux1_x86_64.whl (226 kB)\n",
            "\u001b[K     |████████████████████████████████| 226 kB 53.5 MB/s \n",
            "\u001b[?25h  Downloading coverage-5.0.1-cp37-cp37m-manylinux1_x86_64.whl (226 kB)\n",
            "\u001b[K     |████████████████████████████████| 226 kB 52.7 MB/s \n",
            "\u001b[?25h  Downloading coverage-5.0-cp37-cp37m-manylinux1_x86_64.whl (226 kB)\n",
            "\u001b[K     |████████████████████████████████| 226 kB 43.4 MB/s \n",
            "\u001b[?25h  Downloading coverage-4.5.4-cp37-cp37m-manylinux1_x86_64.whl (205 kB)\n",
            "\u001b[K     |████████████████████████████████| 205 kB 42.0 MB/s \n",
            "\u001b[?25h  Downloading coverage-4.5.3-cp37-cp37m-manylinux1_x86_64.whl (204 kB)\n",
            "\u001b[K     |████████████████████████████████| 204 kB 46.5 MB/s \n",
            "\u001b[?25h  Downloading coverage-4.5.2-cp37-cp37m-manylinux1_x86_64.whl (205 kB)\n",
            "\u001b[K     |████████████████████████████████| 205 kB 53.6 MB/s \n",
            "\u001b[?25h  Downloading coverage-4.5.1-cp37-cp37m-manylinux1_x86_64.whl (202 kB)\n",
            "\u001b[K     |████████████████████████████████| 202 kB 59.7 MB/s \n",
            "\u001b[?25h  Downloading coverage-4.5.tar.gz (378 kB)\n",
            "\u001b[K     |████████████████████████████████| 378 kB 48.6 MB/s \n",
            "\u001b[?25h  Downloading coverage-4.4.2.tar.gz (374 kB)\n",
            "\u001b[K     |████████████████████████████████| 374 kB 51.6 MB/s \n",
            "\u001b[?25h  Downloading coverage-4.4.1.tar.gz (369 kB)\n",
            "\u001b[K     |████████████████████████████████| 369 kB 31.4 MB/s \n",
            "\u001b[?25h  Downloading coverage-4.4.tar.gz (369 kB)\n",
            "\u001b[K     |████████████████████████████████| 369 kB 44.8 MB/s \n",
            "\u001b[?25hCollecting pytest-cov\n",
            "  Downloading pytest_cov-2.10.0-py2.py3-none-any.whl (19 kB)\n",
            "  Downloading pytest_cov-2.9.0-py2.py3-none-any.whl (19 kB)\n",
            "Requirement already satisfied: urllib3!=1.25.0,!=1.25.1,<1.26,>=1.21.1 in /usr/local/lib/python3.7/dist-packages (from requests->cloudmesh-installer) (1.24.3)\n",
            "Requirement already satisfied: certifi>=2017.4.17 in /usr/local/lib/python3.7/dist-packages (from requests->cloudmesh-installer) (2021.5.30)\n",
            "Requirement already satisfied: chardet<4,>=3.0.2 in /usr/local/lib/python3.7/dist-packages (from requests->cloudmesh-installer) (3.0.4)\n",
            "Requirement already satisfied: idna<3,>=2.5 in /usr/local/lib/python3.7/dist-packages (from requests->cloudmesh-installer) (2.10)\n",
            "Building wheels for collected packages: ordered-set, python-hostlist\n",
            "  Building wheel for ordered-set (setup.py) ... \u001b[?25l\u001b[?25hdone\n",
            "  Created wheel for ordered-set: filename=ordered_set-4.0.2-py2.py3-none-any.whl size=8218 sha256=ba5fef120561946a924605bb167e7f328bafd717f17ddd805cf9f66ed5a8c347\n",
            "  Stored in directory: /root/.cache/pip/wheels/73/2b/f6/26e9f84153c25050fe7c09e88f8e32a6be3c7034a38c418319\n",
            "  Building wheel for python-hostlist (setup.py) ... \u001b[?25l\u001b[?25hdone\n",
            "  Created wheel for python-hostlist: filename=python_hostlist-1.21-py3-none-any.whl size=38943 sha256=1bccc97ceac3d597909b0e295bf6f95422d07063f080b3d5ef7659c7c3d77648\n",
            "  Stored in directory: /root/.cache/pip/wheels/e8/31/d6/c2ea1dd468ff9d67b94bf63a4fb4590337ac6af531b1d04aae\n",
            "Successfully built ordered-set python-hostlist\n",
            "Installing collected packages: simplejson, python-hostlist, pyflakes, pyfiglet, pycodestyle, oyaml, mccabe, coverage, colorama, pytest-cov, pipdeptree, ordered-set, flake8, cloudmesh-common, bump2version, cloudmesh-installer\n",
            "  Attempting uninstall: coverage\n",
            "    Found existing installation: coverage 3.7.1\n",
            "    Uninstalling coverage-3.7.1:\n",
            "      Successfully uninstalled coverage-3.7.1\n",
            "\u001b[31mERROR: pip's dependency resolver does not currently take into account all the packages that are installed. This behaviour is the source of the following dependency conflicts.\n",
            "datascience 0.10.6 requires coverage==3.7.1, but you have coverage 5.5 which is incompatible.\n",
            "datascience 0.10.6 requires folium==0.2.1, but you have folium 0.8.3 which is incompatible.\n",
            "coveralls 0.5 requires coverage<3.999,>=3.6, but you have coverage 5.5 which is incompatible.\u001b[0m\n",
            "Successfully installed bump2version-1.0.0 cloudmesh-common-4.3.76 cloudmesh-installer-4.4.28 colorama-0.4.4 coverage-5.5 flake8-3.9.2 mccabe-0.6.1 ordered-set-4.0.2 oyaml-1.0 pipdeptree-2.0.0 pycodestyle-2.7.0 pyfiglet-0.8.post1 pyflakes-2.3.1 pytest-cov-2.9.0 python-hostlist-1.21 simplejson-3.17.3\n",
            "Requirement already satisfied: cloudmesh-common in /usr/local/lib/python3.7/dist-packages (4.3.76)\n",
            "Requirement already satisfied: pathlib in /usr/local/lib/python3.7/dist-packages (from cloudmesh-common) (1.0.1)\n",
            "Requirement already satisfied: tabulate in /usr/local/lib/python3.7/dist-packages (from cloudmesh-common) (0.8.9)\n",
            "Requirement already satisfied: psutil in /usr/local/lib/python3.7/dist-packages (from cloudmesh-common) (5.4.8)\n",
            "Requirement already satisfied: python-hostlist in /usr/local/lib/python3.7/dist-packages (from cloudmesh-common) (1.21)\n",
            "Requirement already satisfied: pytz in /usr/local/lib/python3.7/dist-packages (from cloudmesh-common) (2018.9)\n",
            "Requirement already satisfied: humanize in /usr/local/lib/python3.7/dist-packages (from cloudmesh-common) (0.5.1)\n",
            "Requirement already satisfied: python-dateutil in /usr/local/lib/python3.7/dist-packages (from cloudmesh-common) (2.8.1)\n",
            "Requirement already satisfied: requests in /usr/local/lib/python3.7/dist-packages (from cloudmesh-common) (2.23.0)\n",
            "Requirement already satisfied: simplejson in /usr/local/lib/python3.7/dist-packages (from cloudmesh-common) (3.17.3)\n",
            "Requirement already satisfied: tqdm in /usr/local/lib/python3.7/dist-packages (from cloudmesh-common) (4.41.1)\n",
            "Requirement already satisfied: oyaml in /usr/local/lib/python3.7/dist-packages (from cloudmesh-common) (1.0)\n",
            "Requirement already satisfied: colorama in /usr/local/lib/python3.7/dist-packages (from cloudmesh-common) (0.4.4)\n",
            "Requirement already satisfied: pyfiglet in /usr/local/lib/python3.7/dist-packages (from cloudmesh-common) (0.8.post1)\n",
            "Requirement already satisfied: pyyaml in /usr/local/lib/python3.7/dist-packages (from oyaml->cloudmesh-common) (5.4.1)\n",
            "Requirement already satisfied: six>=1.5 in /usr/local/lib/python3.7/dist-packages (from python-dateutil->cloudmesh-common) (1.15.0)\n",
            "Requirement already satisfied: urllib3!=1.25.0,!=1.25.1,<1.26,>=1.21.1 in /usr/local/lib/python3.7/dist-packages (from requests->cloudmesh-common) (1.24.3)\n",
            "Requirement already satisfied: chardet<4,>=3.0.2 in /usr/local/lib/python3.7/dist-packages (from requests->cloudmesh-common) (3.0.4)\n",
            "Requirement already satisfied: idna<3,>=2.5 in /usr/local/lib/python3.7/dist-packages (from requests->cloudmesh-common) (2.10)\n",
            "Requirement already satisfied: certifi>=2017.4.17 in /usr/local/lib/python3.7/dist-packages (from requests->cloudmesh-common) (2021.5.30)\n"
          ],
          "name": "stdout"
        }
      ]
    },
    {
      "cell_type": "code",
      "metadata": {
        "id": "JwByTl2_WDlH"
      },
      "source": [
        "from cloudmesh.common.StopWatch import StopWatch"
      ],
      "execution_count": null,
      "outputs": []
    },
    {
      "cell_type": "code",
      "metadata": {
        "colab": {
          "resources": {
            "http://localhost:8080/nbextensions/google.colab/files.js": {
              "data": "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",
              "ok": true,
              "headers": [
                [
                  "content-type",
                  "application/javascript"
                ]
              ],
              "status": 200,
              "status_text": ""
            }
          },
          "base_uri": "https://localhost:8080/",
          "height": 73
        },
        "id": "SeElK2NuAoCj",
        "outputId": "d658b8e3-2015-422b-b5ff-3ad815bdd1b9"
      },
      "source": [
        "# Another method: upload your own file\n",
        "from google.colab import files\n",
        "uploaded = files.upload()\n"
      ],
      "execution_count": null,
      "outputs": [
        {
          "output_type": "display_data",
          "data": {
            "text/html": [
              "\n",
              "     <input type=\"file\" id=\"files-8d0ff6d8-7e96-4151-9fe9-20d977ce851c\" name=\"files[]\" multiple disabled\n",
              "        style=\"border:none\" />\n",
              "     <output id=\"result-8d0ff6d8-7e96-4151-9fe9-20d977ce851c\">\n",
              "      Upload widget is only available when the cell has been executed in the\n",
              "      current browser session. Please rerun this cell to enable.\n",
              "      </output>\n",
              "      <script src=\"/nbextensions/google.colab/files.js\"></script> "
            ],
            "text/plain": [
              "<IPython.core.display.HTML object>"
            ]
          },
          "metadata": {
            "tags": []
          }
        },
        {
          "output_type": "stream",
          "text": [
            "Saving Tyroiditis data.csv to Tyroiditis data.csv\n"
          ],
          "name": "stdout"
        }
      ]
    },
    {
      "cell_type": "code",
      "metadata": {
        "colab": {
          "base_uri": "https://localhost:8080/"
        },
        "id": "Yjm8AZdEBMLW",
        "outputId": "c459f6d0-a8b7-450d-98ed-5122c7fd75c5"
      },
      "source": [
        "uploaded"
      ],
      "execution_count": null,
      "outputs": [
        {
          "output_type": "execute_result",
          "data": {
            "text/plain": [
              "{'Tyroiditis data.csv': b'Id,ClusterId,Description,Type,Language,LastUpdated,PublicationDate,CreatedDate,FirstReported,Publisher,NoDocuments,SourceUrl,SilobreakerUrl\\r\\n5_2275949487077728952,16_2275949487077725312,Long-term efficacy of weekly paclitaxel therapy in unresectable primary squamous cell carcinoma of the thyroid,News,en,2021-07-06T00:00:00Z,2021-07-06T00:00:00Z,2021-07-06T12:56:06Z,2021-07-06T00:00:00Z,NCBI,1,https://pubmed.ncbi.nlm.nih.gov/34226099/,https://my.silobreaker.com/5_2275949487077728952\\r\\n5_2275949487077726305,16_2275949487077723884,Epidemiological overview of multidimensional chromosomal and genome toxicity of cannabis exposure in congenital anomalies and cancer development,News,en,2021-07-06T00:00:00Z,2021-07-06T00:00:00Z,2021-07-06T09:37:59Z,2021-07-06T00:00:00Z,Pharmacogenomics Journal,1,https://www.nature.com/articles/s41598-021-93411-5,https://my.silobreaker.com/5_2275949487077726305\\r\\n5_2275949487077726302,16_2275947644536750097,Association between thyroid cysts and hypertension by atherosclerosis status: a cross-sectional study,News,en,2021-07-06T00:00:00Z,2021-07-06T00:00:00Z,2021-07-06T09:37:59Z,2021-07-06T00:00:00Z,Pharmacogenomics Journal,1,https://www.nature.com/articles/s41598-021-92970-x,https://my.silobreaker.com/5_2275949487077726302\\r\\n5_2275948906183393350,16_2275948906183393318,Modulation of ACE-2 mRNA by inflammatory cytokines in human thyroid cells: a pilot study.,News,en,2021-07-05T23:35:00Z,2021-07-05T23:35:00Z,2021-07-05T23:36:10Z,2021-07-05T23:35:00Z,NCBI,1,https://pubmed.ncbi.nlm.nih.gov/34224085/,https://my.silobreaker.com/5_2275948906183393350\\r\\n5_2275948582987104386,16_2275948582987104324,Quantitative Analysis of Galectin-3 Expression in Benign and Malignant Thyroid Nodules.,News,en,2021-07-05T18:54:00Z,2021-07-05T18:54:00Z,2021-07-05T19:10:03Z,2021-07-05T18:54:00Z,NCBI,1,https://pubmed.ncbi.nlm.nih.gov/34219881/,https://my.silobreaker.com/5_2275948582987104386\\r\\n5_2275948582987104375,16_2275948582987104317,Effect of Methimazole Therapy on Thyroid Pathohistology That May Mimic Thyroid Malignancy.,News,en,2021-07-05T18:54:00Z,2021-07-05T18:54:00Z,2021-07-05T19:10:03Z,2021-07-05T18:54:00Z,NCBI,1,https://pubmed.ncbi.nlm.nih.gov/34219897/,https://my.silobreaker.com/5_2275948582987104375\\r\\n5_2275948533594980434,16_2275948533594980411,Risk Factors of Central Lymph Node Metastasis in Papillary Thyroid Microcarcinoma and the Value of Sentinel Lymph Node Biopsy.,News,en,2021-07-05T18:08:00Z,2021-07-05T18:08:00Z,2021-07-05T18:33:38Z,2021-07-05T18:08:00Z,NCBI,1,https://pubmed.ncbi.nlm.nih.gov/34222321/,https://my.silobreaker.com/5_2275948533594980434\\r\\n5_2275948508898918598,16_2275948508898918492,Acute appendicitis complicated by concomitant thyroid storm.,News,en,2021-07-05T17:49:00Z,2021-07-05T17:49:00Z,2021-07-05T18:19:48Z,2021-07-05T17:49:00Z,NCBI,1,https://pubmed.ncbi.nlm.nih.gov/34219931/,https://my.silobreaker.com/5_2275948508898918598\\r\\n5_2275948504603951248,16_2275948504603951160,Thyroid-Associated Ophthalmopathy after Radioactive Iodine Therapy for Metastatic Follicular Thyroid Carcinoma.,News,en,2021-07-05T17:45:00Z,2021-07-05T17:45:00Z,2021-07-05T18:15:43Z,2021-07-05T17:45:00Z,NCBI,1,https://pubmed.ncbi.nlm.nih.gov/34221517/,https://my.silobreaker.com/5_2275948504603951248\\r\\n5_2275947784123187279,16_2275947784123187244,\"Effect of Postoperative High-Concentration Oxygen on Recovery After Thyroid Surgery: A Prospective, Open, Randomized, Controlled Study\",News,en,2021-07-05T07:14:00Z,2021-07-05T07:14:00Z,2021-07-05T07:16:29Z,2021-07-05T07:14:00Z,Frontiers in Endocrinology,1,https://www.frontiersin.org/articles/10.3389/fendo.2021.595571,https://my.silobreaker.com/5_2275947784123187279\\r\\n5_2275947288054476818,16_2275947288054471991,Pembrolizumab-Induced Thyroiditis Shows PD-L1Expressing Histiocytes and Infiltrating T Cells in Thyroid Tissue - A Case Report,News,en,2021-07-05T00:00:00Z,2021-07-05T00:00:00Z,2021-07-05T18:16:30Z,2021-07-05T00:00:00Z,NCBI,1,https://pubmed.ncbi.nlm.nih.gov/34220792/,https://my.silobreaker.com/5_2275947288054476818\\r\\n5_2275947288054474633,16_2275947288054470814,\"GRIP1, a transcriptional coactivator for the AF-2 transactivation domain of steroid, thyroid, retinoid, and vitamin D receptors.\",Blog,en,2021-07-05T00:00:00Z,2021-07-05T00:00:00Z,2021-07-05T14:31:23Z,2021-07-05T00:00:00Z,escholarship - RSS,1,https://escholarship.org/uc/item/7qt560b9,https://my.silobreaker.com/5_2275947288054474633\\r\\n5_2275947288054474457,16_2275947288054470667,\"Cancers, Vol. 13, Pages 3374: Major Oncogenic Drivers and Their Clinicopathological Correlations in Sporadic Childhood Papillary Thyroid Carcinoma in Belarus\",Report,en,2021-07-05T00:00:00Z,2021-07-05T00:00:00Z,2021-07-05T14:19:10Z,2021-07-05T00:00:00Z,MDPI Publishing,2,https://www.mdpi.com/2072-6694/13/13/3374,https://my.silobreaker.com/5_2275947288054474457\\r\\n5_2275945829527191554,16_2275945829527191552,Global Medicine for the Treatment of Advanced Thyroid CancerMarket Report: Revenue Estimates and Forecasts (2016-2027),News,en,2021-07-04T10:49:41Z,2021-07-04T10:49:41Z,2021-07-04T16:21:39Z,2021-07-04T10:49:41Z,Editorials 360,1,https://www.editorials360.com/2021/07/04/global-medicine-for-the-treatment-of-advanced-thyroid-cancermarket-report-revenue-estimates-and-forecasts-2016-2027/,https://my.silobreaker.com/5_2275945829527191554\\r\\n5_2275945450882203666,16_2275945450882203664,Carbonic-anhydrase IX expression is increased in thyroid cancer tissue and represents a potential therapeutic target to eradicate thyroid tumor-initiating cells.,News,en,2021-07-04T05:17:00Z,2021-07-04T05:17:00Z,2021-07-04T05:17:39Z,2021-07-04T05:17:00Z,NCBI,1,https://pubmed.ncbi.nlm.nih.gov/34216643/,https://my.silobreaker.com/5_2275945450882203666\\r\\n5_2275943461775474688,,EurekaMag - RT @EurekaMag: Intraoperative electrophysiological monitoring of the recurrent laryngeal nerve in thyroid gland surgery--a prospective stud\\xe2\\x80\\xa6,Tweet,en,2021-07-03T08:20:32Z,2021-07-03T08:20:32Z,2021-07-03T08:21:07Z,2021-07-03T08:20:32Z,EurekaMag - Twitter,1,https://twitter.com/EurekaMag/status/1411238415929020426,https://my.silobreaker.com/5_2275943461775474688\\r\\n5_2275941910755409947,16_2275941910755409931,Derangements of Biochemical Markers and Thyroid Function Analysis Among COVID\\xe2\\x80\\x9019 Positive Patients: A Developing Country Single\\xe2\\x80\\x90Center Experience,News,en,2021-07-02T17:48:00Z,2021-07-02T17:48:00Z,2021-07-02T18:28:28Z,2021-07-02T17:48:00Z,Journal of Medical Virology,1,https://onlinelibrary.wiley.com/doi/full/10.1002/jmv.27174,https://my.silobreaker.com/5_2275941910755409947\\r\\n5_2275941890354315632,16_2275941890354315469,Surgical Extent of Central Lymph Node Dissection for Papillary Thyroid Carcinoma Located in the Isthmus: A Propensity Scoring Matched Study.,News,en,2021-07-02T17:29:00Z,2021-07-02T17:29:00Z,2021-07-02T18:17:38Z,2021-07-02T17:29:00Z,NCBI,1,https://pubmed.ncbi.nlm.nih.gov/34211434/,https://my.silobreaker.com/5_2275941890354315632\\r\\n5_2275941890354315581,16_2275941515618418904,\"Interference with KCNJ2 inhibits proliferation, migration and EMT progression of apillary thyroid carcinoma cells by upregulating GNG2 expression.\",News,en,2021-07-02T17:29:00Z,2021-07-02T17:29:00Z,2021-07-02T18:16:12Z,2021-07-02T17:29:00Z,NCBI,1,https://pubmed.ncbi.nlm.nih.gov/34212982/,https://my.silobreaker.com/5_2275941890354315581\\r\\n5_2275941711593078789,16_2275941711593078784,Can\\xe2\\x80\\x99t Lose Weight? Could It Be Your Thyroid?,News,en,2021-07-02T14:54:33Z,2021-07-02T14:54:33Z,2021-07-03T11:36:36Z,2021-07-02T14:54:33Z,Rye Record,1,https://ryerecord.com/cant-lose-weight-could-it-be-your-thyroid/,https://my.silobreaker.com/5_2275941711593078789\\r\\n5_2275941530650804296,16_2275941530650804285,Selective Antitumor Activity of Datelliptium toward Medullary Thyroid Carcinoma by Downregulating RET Transcriptional Activity.,News,en,2021-07-02T12:14:00Z,2021-07-02T12:14:00Z,2021-07-02T12:35:04Z,2021-07-02T12:14:00Z,NCBI,1,https://pubmed.ncbi.nlm.nih.gov/34209165/,https://my.silobreaker.com/5_2275941530650804296\\r\\n5_2275941487701131695,16_2275941487701131500,Current Status and Challenges of US-Guided Radiofrequency Ablation of Thyroid Nodules in the Long Term: A Systematic Review.,News,en,2021-07-02T11:38:00Z,2021-07-02T11:38:00Z,2021-07-02T11:57:21Z,2021-07-02T11:38:00Z,NCBI,1,https://pubmed.ncbi.nlm.nih.gov/34205994/,https://my.silobreaker.com/5_2275941487701131695\\r\\n5_2275941487701131602,16_2275941487701131321,\"Effects of thyroid function on hemostasis, coagulation, and fibrinolysis: a Mendelian Randomization study.\",News,en,2021-07-02T11:38:00Z,2021-07-02T11:38:00Z,2021-07-02T11:56:49Z,2021-07-02T11:38:00Z,NCBI,1,https://pubmed.ncbi.nlm.nih.gov/34210154/,https://my.silobreaker.com/5_2275941487701131602\\r\\n5_2275941210675740759,16_2275941210675740713,\"Hyperthyroidism in cats: causes, symptoms and treatment\",News,en,2021-07-02T07:36:00Z,2021-07-02T07:36:00Z,2021-07-02T07:38:38Z,2021-07-02T07:36:00Z,Archyde,1,https://www.archyde.com/hyperthyroidism-in-cats-causes-symptoms-and-treatment/,https://my.silobreaker.com/5_2275941210675740759\\r\\n5_2275941181684711663,16_2275941181684711564,Long Term Rescue of the TSH Receptor Knock-Out Mouse \\xe2\\x80\\x93 Thyroid Stem Cell Transplantation Restores Thyroid Function,News,en,2021-07-02T07:09:00Z,2021-07-02T07:09:00Z,2021-07-02T07:10:40Z,2021-07-02T07:09:00Z,Frontiers in Endocrinology,1,https://www.frontiersin.org/articles/10.3389/fendo.2021.706101,https://my.silobreaker.com/5_2275941181684711663\\r\\n5_2275940690984708820,16_2275940690984704381,Alterations of sleep quality and circadian rhythm genes expression in elderly thyroid nodule patients and risks associated with thyroid malignancy,News,en,2021-07-02T00:00:00Z,2021-07-02T00:00:00Z,2021-07-02T18:15:35Z,2021-07-02T00:00:00Z,NCBI,1,https://pubmed.ncbi.nlm.nih.gov/34211057/,https://my.silobreaker.com/5_2275940690984708820\\r\\n5_2275940096131727555,16_2275939842728656940,Why you should test for gluten intolerance if you have Hashimoto\\xe2\\x80\\x99s low thyroid,News,en,2021-07-01T23:22:00Z,2021-07-01T23:22:00Z,2021-07-01T23:23:57Z,2021-07-01T23:22:00Z,St George News,1,https://www.stgeorgeutah.com/news/archive/2021/07/01/spc-redriver-21-avm-why-you-should-test-for-gluten-intolerance-if-you-have-hashimotos-low-thyroid/,https://my.silobreaker.com/5_2275940096131727555\\r\\n5_2275940085394309238,,Thyroid Function Test Market worth $1.68 Billion  Increasing Prevalence of Lifestyle Diseases,Press Release,en,2021-07-01T23:12:00Z,2021-07-01T23:12:00Z,2021-07-01T23:13:33Z,2021-07-01T23:12:00Z,EMAILWIRE.com,1,https://www.emailwire.com/release/1127866-Thyroid-Function-Test-Market-worth-168-Billion-Increasing-Prevalence-of-Lifestyle-Diseases.html,https://my.silobreaker.com/5_2275940085394309238\\r\\n5_2275939779377889375,16_2275939779377889331,Upregulation of GBP1 in thyroid primordium is required for developmental thyroid morphogenesis.,News,en,2021-07-01T18:47:00Z,2021-07-01T18:47:00Z,2021-07-01T19:20:36Z,2021-07-01T18:47:00Z,NCBI,1,https://pubmed.ncbi.nlm.nih.gov/34194003/,https://my.silobreaker.com/5_2275939779377889375\\r\\n5_2275939403685691406,16_2275939403685691393,\"For thyroid, blood and energy! \"\"Magic\"\" cure with 40 unripe green nuts\",News,en,2021-07-01T13:17:07Z,2021-07-01T13:17:07Z,2021-07-03T07:33:49Z,2021-07-01T13:17:07Z,Sot.com.al,1,https://sot.com.al/english/shendeti/per-tiroidet-gjakun-dhe-energjine-kura-magjike-me-40-arra-te-gjelbra-te-i450478,https://my.silobreaker.com/5_2275939403685691406\\r\\n5_2275939273645490261,16_2275939273645490230,[Posterior sternocleidomastoid border approach of gasless transaxillary endoscopic thyroidectomy in patients with papillary thyroid carcinoma: comparison with sternocleidomastoid fascia approach].,News,en,2021-07-01T11:24:00Z,2021-07-01T11:24:00Z,2021-07-01T12:02:00Z,2021-07-01T11:24:00Z,NCBI,1,https://pubmed.ncbi.nlm.nih.gov/34192862/,https://my.silobreaker.com/5_2275939273645490261\\r\\n5_2275938997693841604,16_2275938997693841504,Unnecessity of Routine Dissection of Right Central Lymph Nodes in cN0 Papillary Thyroid Carcinoma Located at the Left Thyroid Lobe,News,en,2021-07-01T07:23:00Z,2021-07-01T07:23:00Z,2021-07-01T07:32:10Z,2021-07-01T07:23:00Z,Frontiers in Oncology,1,https://www.frontiersin.org/articles/10.3389/fonc.2021.685708,https://my.silobreaker.com/5_2275938997693841604\\r\\n5_2275938993398874125,16_2275938993398874117,Thyroid Cancers Can Be Detected Early,News,en,2021-07-01T07:19:00Z,2021-07-01T07:19:00Z,2021-07-01T07:26:17Z,2021-07-01T07:19:00Z,Hans India,1,https://www.thehansindia.com/life-style/health/thyroid-cancers-can-be-detected-early-693553,https://my.silobreaker.com/5_2275938993398874125\\r\\n5_2275938759323156503,16_2275938759323156490,\"China to lead Asia-Pacific thyroid function tests market through 2025, forecasts GlobalData\",News,en,2021-07-01T03:57:00Z,2021-07-01T03:57:00Z,2021-07-01T03:58:17Z,2021-07-01T03:57:00Z,GlobalData.com,1,https://www.globaldata.com/china-lead-asia-pacific-thyroid-function-tests-market-2025-forecasts-globaldata/,https://my.silobreaker.com/5_2275938759323156503\\r\\n5_2275938723889676566,16_2275938723889676419,Stan: \\xe2\\x80\\x98I discovered a thyroid abnormality through my smartwatch\\xe2\\x80\\x99,News,en,2021-07-01T03:24:00Z,2021-07-01T03:24:00Z,2021-07-01T03:25:33Z,2021-07-01T03:24:00Z,Tek Deeps,1,https://tekdeeps.com/stan-i-discovered-a-thyroid-abnormality-through-my-smartwatch/,https://my.silobreaker.com/5_2275938723889676566\\r\\n5_2275938517731246112,16_2275938517731246103,Prevalence of incidental thyroid malignancy on routine 18F-fluorodeoxyglucose PET-CT in a large teaching hospital.,News,en,2021-07-01T00:24:00Z,2021-07-01T00:24:00Z,2021-07-01T00:25:15Z,2021-07-01T00:24:00Z,NCBI,1,https://pubmed.ncbi.nlm.nih.gov/34191154/,https://my.silobreaker.com/5_2275938517731246112\\r\\n5_2275938491961453355,16_2275938491961448587,Lateral neck multilevel fine-needle aspiration cytology and thyroglobulin estimation in papillary thyroid carcinoma,News,en,2021-07-01T00:00:00Z,2021-07-01T00:00:00Z,2021-07-01T18:24:31Z,2021-07-01T00:00:00Z,NCBI,1,https://pubmed.ncbi.nlm.nih.gov/34195379/,https://my.silobreaker.com/5_2275938491961453355\\r\\n5_2275938491961453337,16_2275938491961448570,Long non-coding RNA HOTAIR/microRNA-761 sponge regulates PPME1 and further influences cell biological functions in thyroid carcinoma,News,en,2021-07-01T00:00:00Z,2021-07-01T00:00:00Z,2021-07-01T18:24:31Z,2021-07-01T00:00:00Z,NCBI,1,https://pubmed.ncbi.nlm.nih.gov/34195365/,https://my.silobreaker.com/5_2275938491961453337\\r\\n5_2275938491961453221,16_2275938491961448504,Chronic thyroiditis in lateral ectopic thyroid mimicking cervical metastasis of thyroid cancer,News,en,2021-07-01T00:00:00Z,2021-07-01T00:00:00Z,2021-07-01T18:12:14Z,2021-07-01T00:00:00Z,NCBI,1,https://pubmed.ncbi.nlm.nih.gov/34196277/,https://my.silobreaker.com/5_2275938491961453221\\r\\n5_2275938491961442989,16_2275938491961442643,\"Endocrines, Vol. 2, Pages 171-184: Endocrine Disorders in Autoimmune Rheumatological Diseases: A Focus on Thyroid Autoimmune Diseases and on the Effects of Chronic Glucocorticoid Treatment\",Report,en,2021-07-01T00:00:00Z,2021-07-01T00:00:00Z,2021-07-01T02:20:47Z,2021-07-01T00:00:00Z,MDPI Publishing,1,https://www.mdpi.com/2673-396X/2/3/18,https://my.silobreaker.com/5_2275938491961442989\\r\\n5_2275933516241829918,16_2275933516241829913,HbA1c is inversely associated with thyroid cysts in a euthyroid population: A cross-sectional study.,News,en,2021-06-30T23:38:00Z,2021-06-30T23:38:00Z,2021-06-30T23:40:20Z,2021-06-30T23:38:00Z,NCBI,1,https://pubmed.ncbi.nlm.nih.gov/34191857/,https://my.silobreaker.com/5_2275933516241829918\\r\\n5_2275933460407255048,16_2275932282512474253,Avoid These 4 Foods If You Are A Thyroid Patient,News,en,2021-06-30T22:50:00Z,2021-06-30T22:50:00Z,2021-06-30T22:51:00Z,2021-06-30T22:50:00Z,MyTimesNow,1,https://www.mytimesnow.com/news/lifestyle/2268453/avoid-these-4-foods-if-you-are-a-thyroid-patient,https://my.silobreaker.com/5_2275933460407255048\\r\\n5_2275933182308122814,16_2275933182308122708,Impact of Diabetic Ketoacidosis on Thyroid Function in Patients with Diabetes Mellitus.,News,en,2021-06-30T18:47:00Z,2021-06-30T18:47:00Z,2021-06-30T19:21:04Z,2021-06-30T18:47:00Z,NCBI,1,https://pubmed.ncbi.nlm.nih.gov/34188679/,https://my.silobreaker.com/5_2275933182308122814\\r\\n5_2275933077081423884,16_2275933077081423878,COVID-19 and Thyroid Diseases: A Bidirectional Impact.,News,en,2021-06-30T17:13:00Z,2021-06-30T17:13:00Z,2021-06-30T17:50:57Z,2021-06-30T17:13:00Z,NCBI,1,https://pubmed.ncbi.nlm.nih.gov/34189381/,https://my.silobreaker.com/5_2275933077081423884\\r\\n5_2275932796650258437,16_2275932321167179828,Avoid These 4 Foods If You Are A Thyroid Patient,News,en,2021-06-30T13:07:53Z,2021-06-30T13:07:53Z,2021-07-03T02:57:12Z,2021-06-30T13:07:53Z,News18.com,2,http://www.news18.com/news/lifestyle-2/avoid-these-4-foods-if-you-are-a-thyroid-patient-3910430.html,https://my.silobreaker.com/5_2275932796650258437\\r\\n5_2275932759740383236,16_2275932759740383236,Advanced thyroid carcinomas: neural network analysis of ultrasonographic characteristics.,News,en,2021-06-30T12:37:29Z,2021-06-30T12:37:29Z,2021-07-03T02:30:00Z,2021-06-30T12:37:29Z,NCBI,1,https://pubmed.ncbi.nlm.nih.gov/34187534/,https://my.silobreaker.com/5_2275932759740383236\\r\\n5_2275932757106360574,16_2275930557009363036,What to know about common thyroid disorders,News,en,2021-06-30T12:35:00Z,2021-06-30T12:35:00Z,2021-06-30T13:15:53Z,2021-06-30T12:35:00Z,Medical News Today,3,https://www.medicalnewstoday.com/articles/323196,https://my.silobreaker.com/5_2275932757106360574\\r\\n5_2275932463974842399,16_2275932463974842377,Association Between Aggressive Clinicopathologic Features of Papillary Thyroid Carcinoma and Body Mass Index: A Systematic Review and Meta-Analysis,News,en,2021-06-30T08:18:00Z,2021-06-30T08:18:00Z,2021-06-30T08:25:00Z,2021-06-30T08:18:00Z,Frontiers in Endocrinology,1,https://www.frontiersin.org/articles/10.3389/fendo.2021.692879,https://my.silobreaker.com/5_2275932463974842399\\r\\n5_2275932307208536770,16_2275932307208536411,Ocular Changes Trigger DED in Thyroid Eye Disease,News,en,2021-06-30T06:00:00Z,2021-06-30T06:00:00Z,2021-06-30T11:04:40Z,2021-06-30T06:00:00Z,Review of Optometry,1,https://www.reviewofoptometry.com/article/ocular-changes-trigger-ded-in-thyroid-eye-disease,https://my.silobreaker.com/5_2275932307208536770\\r\\n5_2275931996897149103,16_2275931996897149017,The impact of metformin on hypothalamic\\xe2\\x80\\x93pituitary\\xe2\\x80\\x93thyroid axis activity in postmenopausal women with untreated non\\xe2\\x80\\x90autoimmune subclinical hypothyroidism,News,en,2021-06-30T01:31:00Z,2021-06-30T01:31:00Z,2021-06-30T01:32:26Z,2021-06-30T01:31:00Z,Clinical and Experimental Pharmacology and Physiology,1,https://onlinelibrary.wiley.com/doi/full/10.1111/1440-1681.13542,https://my.silobreaker.com/5_2275931996897149103\\r\\n5_2275931894891684009,16_2275931894891680725,\"Cancers, Vol. 13, Pages 3288: Selective Antitumor Activity of Datelliptium toward Medullary Thyroid Carcinoma by Downregulating RET Transcriptional Activity\",Report,en,2021-06-30T00:00:00Z,2021-06-30T00:00:00Z,2021-06-30T11:38:37Z,2021-06-30T00:00:00Z,MDPI Publishing,2,https://www.mdpi.com/2072-6694/13/13/3288,https://my.silobreaker.com/5_2275931894891684009\\r\\n5_2275931894891680662,16_2275931894891678764,\"IJMS, Vol. 22, Pages 7044: Characterization of Glycosphingolipids in the Human Parathyroid and Thyroid Glands\",Report,en,2021-06-30T00:00:00Z,2021-06-30T00:00:00Z,2021-06-30T08:15:54Z,2021-06-30T00:00:00Z,MDPI Publishing,2,https://www.mdpi.com/1422-0067/22/13/7044,https://my.silobreaker.com/5_2275931894891680662\\r\\n5_2275930969326223523,16_2275930969326223423,Benign Intratracheal Thyroid: A Systematic Review of 43 Cases With Five New Case Reports.,News,en,2021-06-29T18:34:00Z,2021-06-29T18:34:00Z,2021-06-29T19:07:02Z,2021-06-29T18:34:00Z,NCBI,1,https://pubmed.ncbi.nlm.nih.gov/34184770/,https://my.silobreaker.com/5_2275930969326223523\\r\\n5_2275930969326223512,16_2275930969326223413,\"\"\"Thyroid nodular disease and PTEN mutation in a multicentre series of children with PTEN hamartoma tumor syndrome (PHTS)\"\".\",News,en,2021-06-29T18:34:00Z,2021-06-29T18:34:00Z,2021-06-29T19:07:02Z,2021-06-29T18:34:00Z,NCBI,1,https://pubmed.ncbi.nlm.nih.gov/34184188/,https://my.silobreaker.com/5_2275930969326223512\\r\\n5_2275930502969950217,16_2275930502969950214,Predictive Value of Gross Extranodal Extension for Differentiated Thyroid Carcinoma Persistence/Recurrence.,News,en,2021-06-29T11:47:43Z,2021-06-29T11:47:43Z,2021-07-02T20:04:08Z,2021-06-29T11:47:43Z,NCBI,1,https://pubmed.ncbi.nlm.nih.gov/34182831/,https://my.silobreaker.com/5_2275930502969950217\\r\\n5_2275930225541906433,16_2275928836304535554,Establishment of an Ultrasound Malignancy Risk Stratification Model for Thyroid Nodules Larger Than 4 cm,News,en,2021-06-29T07:45:19Z,2021-06-29T07:45:19Z,2021-07-02T02:52:42Z,2021-06-29T07:45:19Z,Frontiers in Oncology,2,https://www.frontiersin.org/articles/10.3389/fonc.2021.592927,https://my.silobreaker.com/5_2275930225541906433\\r\\n5_2275929695868431996,16_2275929695868426771,Multiparametric Photoacoustic Analysis of Human Thyroid Cancers In Vivo,News,en,2021-06-29T00:00:00Z,2021-06-29T00:00:00Z,2021-06-29T23:30:20Z,2021-06-29T00:00:00Z,NCBI,1,https://pubmed.ncbi.nlm.nih.gov/34185675/,https://my.silobreaker.com/5_2275929695868431996\\r\\n5_2275929695868428707,16_2275929695868425302,\"Sensors, Vol. 21, Pages 4459: A Computational Study on the Role of Parameters for Identification of Thyroid Nodules by Infrared Images (and Comparison with Real Data)\",Report,en,2021-06-29T00:00:00Z,2021-06-29T00:00:00Z,2021-06-29T14:53:02Z,2021-06-29T00:00:00Z,MDPI Publishing,1,https://www.mdpi.com/1424-8220/21/13/4459,https://my.silobreaker.com/5_2275929695868428707\\r\\n5_2275929695868426856,16_2275929695868424259,Expansion of inflammatory monocytes in periphery and infiltrated into thyroid tissue in Graves\\xe2\\x80\\x99 disease,News,en,2021-06-29T00:00:00Z,2021-06-29T00:00:00Z,2021-06-29T11:56:13Z,2021-06-29T00:00:00Z,Immunology and Cell Biology,1,https://www.nature.com/articles/s41598-021-92737-4,https://my.silobreaker.com/5_2275929695868426856\\r\\n5_2275928927874580481,16_2275928302151532626,Why a Second Opinion Is Encouraged After a Thyroid...,News,en,2021-06-28T20:52:48Z,2021-06-28T20:52:48Z,2021-06-29T03:20:41Z,2021-06-28T20:52:48Z,Fox Chase Cancer Center,1,https://www.foxchase.org/blog/why-a-second-opinion-is-encouraged-after-a-thyroid-cancer-diagnosis,https://my.silobreaker.com/5_2275928927874580481\\r\\n5_2275928793707184132,16_2275928793707184129,First case report of papillary thyroid carcinoma arising within a functional teratoma in Graves\\' disease patient.,News,en,2021-06-28T18:55:51Z,2021-06-28T18:55:51Z,2021-07-01T04:37:37Z,2021-06-28T18:55:51Z,NCBI,1,https://pubmed.ncbi.nlm.nih.gov/34180765/,https://my.silobreaker.com/5_2275928793707184132\\r\\n5_2275928397714555054,16_2275928390198362268,\"Gail Devers, Three-Time Olympic Gold Medalist, Partners with the Graves\\xe2\\x80\\x99 Community to FOCUS on Thyroid Eye Disease\",News,en,2021-06-28T13:07:00Z,2021-06-28T13:07:00Z,2021-06-28T14:06:41Z,2021-06-28T13:07:00Z,Wallstreet Online,5,https://www.wallstreet-online.de/nachricht/14090548-gail-devers-three-time-olympic-gold-medalist-partners-with-the-graves-community-to-focus-on-thyroid-eye-disease,https://my.silobreaker.com/5_2275928397714555054\\r\\n5_2275928391272104025,,\"Gail Devers, Three-Time Olympic Gold Medalist, Partners with the Graves\\xe2\\x80\\x99 Community to FOCUS on Thyroid Eye Disease\",Press Release,en,2021-06-28T13:01:00Z,2021-06-28T13:01:00Z,2021-06-28T13:57:42Z,2021-06-28T13:01:00Z,Business Wire,1,https://www.businesswire.com/news/home/20210628005062/en,https://my.silobreaker.com/5_2275928391272104025\\r\\n5_2275928316110176407,16_2275928316110176354,Genome-Wide Histone H3K27 Acetylation Profiling Identified Genes Correlated With Prognosis in Papillary Thyroid Carcinoma.,News,en,2021-06-28T11:59:00Z,2021-06-28T11:59:00Z,2021-06-28T12:45:36Z,2021-06-28T11:59:00Z,NCBI,1,https://pubmed.ncbi.nlm.nih.gov/34179011/,https://my.silobreaker.com/5_2275928316110176407\\r\\n5_2275928297856565637,16_2275928297856565303,\"Genetics, Diagnosis, and Management of Hurthle Cell Thyroid Neoplasms.\",News,en,2021-06-28T11:42:00Z,2021-06-28T11:42:00Z,2021-06-28T12:17:37Z,2021-06-28T11:42:00Z,NCBI,1,https://pubmed.ncbi.nlm.nih.gov/34177816/,https://my.silobreaker.com/5_2275928297856565637\\r\\n5_2275928297856565631,16_2275928297856565297,Intrathyroidal Thymus (Incidentaloma) Mimicking Thyroid Neoplasia in DICER1 Syndrome.,News,en,2021-06-28T11:42:00Z,2021-06-28T11:42:00Z,2021-06-28T12:17:37Z,2021-06-28T11:42:00Z,NCBI,1,https://pubmed.ncbi.nlm.nih.gov/34178712/,https://my.silobreaker.com/5_2275928297856565631\\r\\n5_2275928297856565541,16_2275927802861584388,Impact of Thyroid Autoimmunity in euthyroid women on the outcomes of In Vitro Fertilization.,News,en,2021-06-28T11:42:00Z,2021-06-28T11:42:00Z,2021-06-28T12:17:37Z,2021-06-28T11:42:00Z,NCBI,1,https://pubmed.ncbi.nlm.nih.gov/34178319/,https://my.silobreaker.com/5_2275928297856565541\\r\\n5_2275928297856565353,16_2275928297856565332,Hyperfunctioning Papillary Thyroid Carcinoma with a BRAF Mutation: The First Case Report and a Literature Review.,News,en,2021-06-28T11:42:00Z,2021-06-28T11:42:00Z,2021-06-28T12:17:37Z,2021-06-28T11:42:00Z,NCBI,1,https://pubmed.ncbi.nlm.nih.gov/34178713/,https://my.silobreaker.com/5_2275928297856565353\\r\\n5_2275928108878004430,16_2275928108878004329,Endocrine system 3: thyroid and parathyroid glands,News,en,2021-06-28T08:58:00Z,2021-06-28T08:58:00Z,2021-06-28T09:00:44Z,2021-06-28T08:58:00Z,Nursing Times,1,https://www.nursingtimes.net/clinical-archive/long-term-conditions/endocrine-system-3-thyroid-and-parathyroid-glands-28-06-2021/,https://my.silobreaker.com/5_2275928108878004430\\r\\n5_2275927496845172978,16_2275927496845169800,\"Immune Checkpoint Inhibitors-Related Thyroid Dysfunction: Epidemiology, Clinical Presentation, Possible Pathogenesis, and Management\",News,en,2021-06-28T00:00:00Z,2021-06-28T00:00:00Z,2021-06-28T12:14:23Z,2021-06-28T00:00:00Z,NCBI,1,https://pubmed.ncbi.nlm.nih.gov/34177799/,https://my.silobreaker.com/5_2275927496845172978\\r\\n5_2275927496845170157,16_2275927496845168137,Teprotumumab for thyroid eye disease: early response is not required for benefit,News,en,2021-06-28T00:00:00Z,2021-06-28T00:00:00Z,2021-06-28T08:55:58Z,2021-06-28T00:00:00Z,Pharmacogenomics Journal,1,https://www.nature.com/articles/s41433-021-01539-5,https://my.silobreaker.com/5_2275927496845170157\\r\\n5_2275925297821916846,16_2275925297821913525,The impact of TI-RADS in detecting thyroid malignancies: a prospective study,News,en,2021-06-27T00:00:00Z,2021-06-27T00:00:00Z,2021-06-28T05:55:23Z,2021-06-27T00:00:00Z,NCBI,1,https://pubmed.ncbi.nlm.nih.gov/34176050/,https://my.silobreaker.com/5_2275925297821916846\\r\\n5_2275924306758205551,16_2275924276693434403,Demi Jones discusses her energy levels after thyroid operation,News,en,2021-06-26T17:37:00Z,2021-06-26T17:37:00Z,2021-06-26T17:39:04Z,2021-06-26T17:37:00Z,MSN UK,1,https://www.msn.com/en-gb/video/other/demi-jones-discusses-her-energy-levels-after-thyroid-operation/vi-AALtEPb,https://my.silobreaker.com/5_2275924306758205551\\r\\n5_2275924076977455235,16_2275924076977455203,Large contribution of copy number alterations in early stage of Papillary Thyroid Carcinoma.,News,en,2021-06-26T14:15:00Z,2021-06-26T14:15:00Z,2021-06-26T14:16:09Z,2021-06-26T14:15:00Z,NCBI,1,https://pubmed.ncbi.nlm.nih.gov/34171638/,https://my.silobreaker.com/5_2275924076977455235\\r\\n5_2275923658218143885,16_2275923658218143812,The influence of thyroid state on hypothalamic AMP-activated protein kinase pathways in broilers,News,en,2021-06-26T08:09:00Z,2021-06-26T08:09:00Z,2021-06-26T08:10:17Z,2021-06-26T08:09:00Z,General and comparative endocrinology,1,https://www.sciencedirect.com/science/article/pii/S0016648021001313,https://my.silobreaker.com/5_2275923658218143885\\r\\n5_2275923377333993472,,aloria - I\\xe2\\x80\\x99ve Bipolar 2 and have been on Lithium. It is not a drug to be taken lightly. It requires constant blood level mon\\xe2\\x80\\xa6 https://t.co/RCertKR4W4,Tweet,en,2021-06-26T04:03:26Z,2021-06-26T04:03:26Z,2021-06-26T04:04:25Z,2021-06-26T04:03:26Z,aloria - Twitter,1,https://twitter.com/aloria/status/1408636999288905729,https://my.silobreaker.com/5_2275923377333993472\\r\\n5_2275922524346777720,16_2275922524346777658,Risk stratification of papillary thyroid microcarcinomas via an easy-to-use system based on tumor size and location: clinical and pathological correlations.,News,en,2021-06-25T23:41:00Z,2021-06-25T23:41:00Z,2021-06-25T23:42:53Z,2021-06-25T23:41:00Z,NCBI,1,https://pubmed.ncbi.nlm.nih.gov/34171064/,https://my.silobreaker.com/5_2275922524346777720\\r\\n5_2275922516830585044,16_2275922516830584940,Whole-genome sequencing of follicular thyroid carcinomas reveal recurrent mutations in microRNA processing subunit DGCR8.,News,en,2021-06-25T23:34:00Z,2021-06-25T23:34:00Z,2021-06-25T23:36:31Z,2021-06-25T23:34:00Z,NCBI,1,https://pubmed.ncbi.nlm.nih.gov/34171097/,https://my.silobreaker.com/5_2275922516830585044\\r\\n5_2275922318188347469,16_2275921852184395777,The role of ultrasound measurements and cosmetic scoring in evaluating the effectiveness of ethanol ablation in cystic thyroid nodules,News,en,2021-06-25T20:41:00Z,2021-06-25T20:41:00Z,2021-06-25T21:03:54Z,2021-06-25T20:41:00Z,International Journal of Clinical Practice,2,https://onlinelibrary.wiley.com/doi/full/10.1111/ijcp.14573,https://my.silobreaker.com/5_2275922318188347469\\r\\n5_2275921976788779069,16_2275921855405621304,Association between thyroid function and Alzheimer\\'s disease: A systematic review.,News,en,2021-06-25T15:43:03Z,2021-06-25T15:43:03Z,2021-06-26T04:36:34Z,2021-06-25T15:43:03Z,Alzheimer Research Forum,1,https://www.alzforum.org/papers/association-between-thyroid-function-and-alzheimers-disease-systematic-review,https://my.silobreaker.com/5_2275921976788779069\\r\\n5_2275921761990082784,16_2275921761990082695,Colon Cancer With Metastatic Involvement of the Thyroid Incidentally Found at Excision of Parathyroid Adenoma.,News,en,2021-06-25T12:35:00Z,2021-06-25T12:35:00Z,2021-06-25T13:11:26Z,2021-06-25T12:35:00Z,NCBI,1,https://pubmed.ncbi.nlm.nih.gov/34167381/,https://my.silobreaker.com/5_2275921761990082784\\r\\n5_2275921761990082780,16_2275921761990082692,Identification of hub genes in thyroid carcinoma to predict prognosis by integrated bioinformatics analysis.,News,en,2021-06-25T12:35:00Z,2021-06-25T12:35:00Z,2021-06-25T13:11:26Z,2021-06-25T12:35:00Z,NCBI,1,https://pubmed.ncbi.nlm.nih.gov/34167437/,https://my.silobreaker.com/5_2275921761990082780\\r\\n5_2275920906217849072,16_2275919259097890846,Retrospective analysis of cancer-specific gene expression panel for thyroid fine needle aspiration specimens.,News,en,2021-06-25T00:06:00Z,2021-06-25T00:06:00Z,2021-06-25T00:08:23Z,2021-06-25T00:06:00Z,NCBI,2,https://pubmed.ncbi.nlm.nih.gov/34165589/,https://my.silobreaker.com/5_2275920906217849072\\r\\n5_2275920899775406791,16_2275920899775403171,\"IJMS, Vol. 22, Pages 6849: Quercetin Protects Human Thyroid Cells against Cadmium Toxicity\",Report,en,2021-06-25T00:00:00Z,2021-06-25T00:00:00Z,2021-06-25T12:38:14Z,2021-06-25T00:00:00Z,MDPI Publishing,2,https://www.mdpi.com/1422-0067/22/13/6849,https://my.silobreaker.com/5_2275920899775406791\\r\\n5_2275919996842409994,16_2275919996842409986,Improving the Management of Post-Operative Hypocalcaemia in Thyroid Surgery.,News,en,2021-06-24T18:55:05Z,2021-06-24T18:55:05Z,2021-06-26T02:45:11Z,2021-06-24T18:55:05Z,NCBI,1,https://pubmed.ncbi.nlm.nih.gov/34164240/,https://my.silobreaker.com/5_2275919996842409994\\r\\n5_2275919987346505732,16_2275919987346505729,Thyroid dysfunction related to vascular endothelial growth factor receptor tyrosine kinase inhibitors: A real\\xe2\\x80\\x90world study based on FAERS,News,en,2021-06-24T18:46:15Z,2021-06-24T18:46:15Z,2021-06-25T08:11:53Z,2021-06-24T18:46:15Z,Journal of Clinical Pharmacy and Therapeutics,1,https://onlinelibrary.wiley.com/doi/10.1111/jcpt.13472?af=R,https://my.silobreaker.com/5_2275919987346505732\\r\\n5_2275919978874011675,16_2275919978874011672,Downregulation of hsa_circ_0001681 suppresses epithelial-mesenchymal transition in thyroid carcinoma via targeting to miR-942-5p/TWIST1 signaling pathway.,News,en,2021-06-24T18:38:22Z,2021-06-24T18:38:22Z,2021-06-24T20:48:41Z,2021-06-24T18:38:22Z,NCBI,1,https://pubmed.ncbi.nlm.nih.gov/34164767/,https://my.silobreaker.com/5_2275919978874011675\\r\\n5_2275919929968427014,16_2275917815988879527,Circular RNA profiling reveals a potential role of hsa_circ_IPCEF1 in papillary thyroid carcinoma.,News,en,2021-06-24T17:56:51Z,2021-06-24T17:56:51Z,2021-06-26T02:29:07Z,2021-06-24T17:56:51Z,NCBI,1,https://pubmed.ncbi.nlm.nih.gov/34165176/,https://my.silobreaker.com/5_2275919929968427014\\r\\n5_2275919553303150807,16_2275917401524535373,4 Best workout styles suggested by expert to improve your thyroid condition,News,en,2021-06-24T12:26:00Z,2021-06-24T12:26:00Z,2021-06-24T13:02:59Z,2021-06-24T12:26:00Z,Pink Villa,1,http://www.pinkvilla.com/lifestyle/health-fitness/4-best-workout-styles-suggested-expert-improve-your-thyroid-condition-787519,https://my.silobreaker.com/5_2275919553303150807\\r\\n5_2275919393315618916,,Johnson City TN Chronic Thyroid Treatment Hypothyroidism Services Announced,Press Release,en,2021-06-24T10:05:00Z,2021-06-24T10:05:00Z,2021-06-24T10:25:05Z,2021-06-24T10:05:00Z,Marketers Media,1,https://marketersmedia.com/johnson-city-tn-chronic-thyroid-treatment-hypothyroidism-services-announced/89023157,https://my.silobreaker.com/5_2275919393315618916\\r\\n5_2275919259097890888,16_2275919259097890867,Coronavirus Disease 2019 and the Thyroid - Progress and Perspectives,News,en,2021-06-24T08:08:00Z,2021-06-24T08:08:00Z,2021-06-24T08:15:48Z,2021-06-24T08:08:00Z,Frontiers in Endocrinology,1,https://www.frontiersin.org/articles/10.3389/fendo.2021.708333,https://my.silobreaker.com/5_2275919259097890888\\r\\n5_2275918910131798161,16_2275917494940074063,Let\\xe2\\x80\\x99s understand thyroid problems,News,en,2021-06-24T03:03:00Z,2021-06-24T03:03:00Z,2021-06-24T03:06:02Z,2021-06-24T03:03:00Z,Archynewsy,2,https://www.archynewsy.com/lets-understand-thyroid-problems/,https://my.silobreaker.com/5_2275918910131798161\\r\\n5_2275918124152782921,16_2275918124152782908,Inoperable CASTLE of the thyroid gland treated with radical radiotherapy with complete remission.,News,en,2021-06-23T23:39:00Z,2021-06-23T23:39:00Z,2021-06-23T23:40:30Z,2021-06-23T23:39:00Z,NCBI,1,https://pubmed.ncbi.nlm.nih.gov/34160632/,https://my.silobreaker.com/5_2275918124152782921\\r\\n5_2275918124152782910,16_2275918124152782899,Clinical implications of age and excellent response to therapy in patients with high-risk differentiated thyroid carcinoma.,News,en,2021-06-23T23:39:00Z,2021-06-23T23:39:00Z,2021-06-23T23:40:30Z,2021-06-23T23:39:00Z,NCBI,1,https://pubmed.ncbi.nlm.nih.gov/34160840/,https://my.silobreaker.com/5_2275918124152782910\\r\\n5_2275918124152782896,16_2275918124152782886,Next-generation sequencing in thyroid cancers: do targetable alterations lead to a therapeutic advantage?: A multicenter experience.,News,en,2021-06-23T23:39:00Z,2021-06-23T23:39:00Z,2021-06-23T23:40:30Z,2021-06-23T23:39:00Z,NCBI,1,https://pubmed.ncbi.nlm.nih.gov/34160418/,https://my.silobreaker.com/5_2275918124152782896\\r\\n5_2275917807398945116,16_2275917028936122451,Test for Gluten Intolerance if You Have Hashimoto\\xe2\\x80\\x99s Low Thyroid,News,en,2021-06-23T19:00:00Z,2021-06-23T19:00:00Z,2021-06-23T19:21:19Z,2021-06-23T19:00:00Z,Cache Valley Daily,1,https://www.cachevalleydaily.com/news/archive/2021/06/23/test-for-gluten-intolerance-if-you-have-hashimotos-low-thyroid/,https://my.silobreaker.com/5_2275917807398945116\\r\\n5_2275917683918635165,16_2275917683918635141,miR-196a-2 Promotes Malignant Progression of Thyroid Carcinoma by Targeting NRXN1.,News,en,2021-06-23T17:13:00Z,2021-06-23T17:13:00Z,2021-06-23T17:50:37Z,2021-06-23T17:13:00Z,NCBI,1,https://pubmed.ncbi.nlm.nih.gov/34158819/,https://my.silobreaker.com/5_2275917683918635165\\r\\n5_2275917683918635059,16_2275917683918635054,Nomograms for Differentiated Thyroid Carcinoma Patients Based on the Eighth AJCC Staging and Competing Risks Model.,News,en,2021-06-23T17:13:00Z,2021-06-23T17:13:00Z,2021-06-23T17:50:37Z,2021-06-23T17:13:00Z,NCBI,1,https://pubmed.ncbi.nlm.nih.gov/34159295/,https://my.silobreaker.com/5_2275917683918635059\\r\\n5_2275917643787534341,16_2275917643787534338,Targeted therapy pralsetinib safely and effectively treats lung and thyroid cancers with\\xc2\\xa0RET\\xc2\\xa0alterations,News,en,2021-06-23T16:39:40Z,2021-06-23T16:39:40Z,2021-06-23T20:52:04Z,2021-06-23T16:39:40Z,Houston Medical Journal,1,https://mjhnews.com/targeted-therapy-pralsetinib-safely-and-effectively-treats-lung-and-thyroid-cancers-with-ret-alterations/,https://my.silobreaker.com/5_2275917643787534341\\r\\n5_2275917445464064002,16_2275917590503096332,Love Island\\xe2\\x80\\x99s Demi Jones doesn\\xe2\\x80\\x99t know yet if she is cancer-free after thyroid removal,News,en,2021-06-23T13:46:59Z,2021-06-23T13:46:59Z,2021-06-23T23:41:45Z,2021-06-23T13:46:59Z,Metro.co.uk,1,https://metro.co.uk/2021/06/23/love-islands-demi-jones-doesnt-know-if-she-is-cancer-free-14817605/,https://my.silobreaker.com/5_2275917445464064002\\r\\n5_2275917403672019110,16_2275915830640246867,4 Cost-Effective Ways to Treat Thyroid Issues,News,en,2021-06-23T13:08:00Z,2021-06-23T13:08:00Z,2021-06-23T13:51:40Z,2021-06-23T13:08:00Z,ABCMoney.co.uk,1,https://www.abcmoney.co.uk/2021/06/23/4-cost-effective-ways-to-treat-thyroid-issues/,https://my.silobreaker.com/5_2275917403672019110\\r\\n5_2275916973101547531,16_2275916973101547525,Tumor Mutation Burden Predicts Relapse in Papillary Thyroid Carcinoma With Changes in Genes and Immune Microenvironment,News,en,2021-06-23T06:55:00Z,2021-06-23T06:55:00Z,2021-06-23T06:56:28Z,2021-06-23T06:55:00Z,Frontiers in Endocrinology,1,https://www.frontiersin.org/articles/10.3389/fendo.2021.674616,https://my.silobreaker.com/5_2275916973101547531\\r\\n5_2275916917266972785,16_2275916917266972744,Systematic Analysis of Survival-Associated Alternative Splicing Signatures in Thyroid Carcinoma,News,en,2021-06-23T06:03:00Z,2021-06-23T06:03:00Z,2021-06-23T06:05:42Z,2021-06-23T06:03:00Z,Frontiers in Oncology,1,https://www.frontiersin.org/articles/10.3389/fonc.2021.561457,https://my.silobreaker.com/5_2275916917266972785\\r\\n5_2275916565079654544,16_2275916565079654479,Analysis of the involvement of the thyroid gland using computed tomography in patients with suspected SARS-CoV-2 infection: a retrospective study.,News,en,2021-06-23T00:59:00Z,2021-06-23T00:59:00Z,2021-06-23T01:00:39Z,2021-06-23T00:59:00Z,NCBI,1,https://pubmed.ncbi.nlm.nih.gov/34156696/,https://my.silobreaker.com/5_2275916565079654544\\r\\n5_2275916501728898031,16_2275915091905871906,\"Cancers, Vol. 13, Pages 3133: Overview of the Ultrasound Classification Systems in the Field of Thyroid Cytology\",Report,en,2021-06-23T00:00:00Z,2021-06-23T00:00:00Z,2021-06-23T15:49:57Z,2021-06-23T00:00:00Z,MDPI Publishing,2,https://www.mdpi.com/2072-6694/13/13/3133,https://my.silobreaker.com/5_2275916501728898031\\r\\n5_2275916501728894762,16_2275916501728891433,\"IJMS, Vol. 22, Pages 6726: Analysis of the Role of FRMD5 in the Biology of Papillary Thyroid Carcinoma\",Report,en,2021-06-23T00:00:00Z,2021-06-23T00:00:00Z,2021-06-23T10:59:58Z,2021-06-23T00:00:00Z,MDPI Publishing,2,https://www.mdpi.com/1422-0067/22/13/6726,https://my.silobreaker.com/5_2275916501728894762\\r\\n5_2275915884075679744,16_2275915884075679744,Dubai: Doctor introduces thyroid surgery that leaves no scars,News,en,2021-06-22T23:00:49Z,2021-06-22T23:00:49Z,2021-06-23T04:19:25Z,2021-06-22T23:00:49Z,MENAFN.com  - Top News - RSS,1,https://menafn.com/1102329404/Dubai-Doctor-introduces-thyroid-surgery-that-leaves-no-scars?source=317,https://my.silobreaker.com/5_2275915884075679744\\r\\n5_2275915659361648640,16_2275915659361648640,\"India Thyroid Function Test Market 2020 Size, Share, Trends, Growth, Regional Outlook And Forecast to 2026\",News,en,2021-06-22T19:47:31Z,2021-06-22T19:47:31Z,2021-06-22T20:14:23Z,2021-06-22T19:47:31Z,Nyse News Times - RSS,1,https://nysenewstimes.com/india-thyroid-function-test-market-2020-size-share-trends-growth-regional-outlook-and-forecast-to-2026/,https://my.silobreaker.com/5_2275915659361648640\\r\\n5_2275915567573500009,16_2275913561320456192,Dubai: Doctor introduces thyroid surgery that leaves no scars,News,en,2021-06-22T18:26:00Z,2021-06-22T18:26:00Z,2021-06-22T19:02:25Z,2021-06-22T18:26:00Z,Khaleej Times,1,https://www.khaleejtimes.com/news/dubai-doctor-introduces-thyroid-surgery-that-leaves-no-scars,https://my.silobreaker.com/5_2275915567573500009\\r\\n5_2275915135929286711,16_2275915135929286689,Current Guidelines for Management of Medullary Thyroid Carcinoma.,News,en,2021-06-22T12:08:00Z,2021-06-22T12:08:00Z,2021-06-22T12:44:19Z,2021-06-22T12:08:00Z,NCBI,1,https://pubmed.ncbi.nlm.nih.gov/34154310/,https://my.silobreaker.com/5_2275915135929286711\\r\\n5_2275914811424374785,16_2275913210710196296,\"Oh, my thyroid!\",Blog,en,2021-06-22T07:25:50Z,2021-06-22T07:25:50Z,2021-06-22T07:41:34Z,2021-06-22T07:25:50Z,Multiple Sclerosis Research,2,https://multiple-sclerosis-research.org/2021/06/oh-my-thyroid/?utm_source=rss&utm_medium=rss&utm_campaign=oh-my-thyroid,https://my.silobreaker.com/5_2275914811424374785\\r\\n5_2275914302705645727,16_2275914302705639343,Complications after medullary thyroid carcinoma surgery: multicentre study of the SQRTPA and EUROCRINE\\xc2\\xae databases,News,en,2021-06-22T00:00:00Z,2021-06-22T00:00:00Z,2021-06-22T23:24:08Z,2021-06-22T00:00:00Z,NCBI,1,https://pubmed.ncbi.nlm.nih.gov/34157081/,https://my.silobreaker.com/5_2275914302705645727\\r\\n5_2275914302705641915,16_2275914302705637484,\"Cancers, Vol. 13, Pages 3123: Molecular Alterations in Relation to Histopathological Characteristics in a Large Series of Pediatric Papillary Thyroid Carcinoma from a Single Institution\",Report,en,2021-06-22T00:00:00Z,2021-06-22T00:00:00Z,2021-06-22T14:47:44Z,2021-06-22T00:00:00Z,MDPI Publishing,2,https://www.mdpi.com/2072-6694/13/13/3123,https://my.silobreaker.com/5_2275914302705641915\\r\\n5_2275913330969280632,16_2275913330969280577,One photon at a time,News,en,2021-06-21T17:55:00Z,2021-06-21T17:55:00Z,2021-06-21T18:26:46Z,2021-06-21T17:55:00Z,Electro Optics,1,https://www.electrooptics.com/product/focus/one-photon-time,https://my.silobreaker.com/5_2275913330969280632\\r\\n5_2275913121623179270,16_2275913121623179267,Conditions that you can get if you do not treat your thyroid,News,en,2021-06-21T14:52:02Z,2021-06-21T14:52:02Z,2021-06-21T23:34:59Z,2021-06-21T14:52:02Z,Archynewsy,1,https://www.archynewsy.com/conditions-that-you-can-get-if-you-do-not-treat-your-thyroid/,https://my.silobreaker.com/5_2275913121623179270\\r\\n5_2275913096893562922,16_2275912889661390895,Meet The Thyroid Experts webinar - managing thyroid disorders in children and young people Q&As,News,en,2021-06-21T14:29:00Z,2021-06-21T14:29:00Z,2021-06-21T15:08:25Z,2021-06-21T14:29:00Z,BTF-Thyroid,2,https://www.btf-thyroid.org/meet-the-thyroid-experts-webinar-managing-thyroid-disorders-in-children-and-young-people-qas,https://my.silobreaker.com/5_2275913096893562922\\r\\n5_2275912976634478715,16_2275912976634478662,From Endoderm to Progenitors: An Update on the Early Steps of Thyroid Morphogenesis in the Zebrafish.,News,en,2021-06-21T12:45:00Z,2021-06-21T12:45:00Z,2021-06-21T13:04:48Z,2021-06-21T12:45:00Z,NCBI,1,https://pubmed.ncbi.nlm.nih.gov/34149617/,https://my.silobreaker.com/5_2275912976634478715\\r\\n5_2275912959454609858,16_2275912959454609628,Circ_0137287 suppresses cell tumroigenesis and aerobic glycolysis in papillary thyroid carcinoma through miR-183-5p/PPP2R2A axis.,News,en,2021-06-21T12:29:00Z,2021-06-21T12:29:00Z,2021-06-21T12:48:48Z,2021-06-21T12:29:00Z,NCBI,1,https://pubmed.ncbi.nlm.nih.gov/34149180/,https://my.silobreaker.com/5_2275912959454609858\\r\\n5_2275912884292681751,16_2275912884292681747,Sonographic risk factors of aggressive behaviors in medullary thyroid carcinomas.,News,en,2021-06-21T11:23:00Z,2021-06-21T11:23:00Z,2021-06-21T11:38:55Z,2021-06-21T11:23:00Z,NCBI,1,https://pubmed.ncbi.nlm.nih.gov/34148749/,https://my.silobreaker.com/5_2275912884292681751\\r\\n5_2275912879997714580,16_2275912879997714532,Insulin-Like Growth Factor Pathway and the Thyroid.,News,en,2021-06-21T11:19:00Z,2021-06-21T11:19:00Z,2021-06-21T11:34:32Z,2021-06-21T11:19:00Z,NCBI,1,https://pubmed.ncbi.nlm.nih.gov/34149612/,https://my.silobreaker.com/5_2275912879997714580\\r\\n5_2275912656659415086,16_2275912656659415070,The Accuracy of Near Infrared Autofluorescence in Identifying Parathyroid Gland During Thyroid and Parathyroid Surgery: A Meta-Analysis,News,en,2021-06-21T08:03:00Z,2021-06-21T08:03:00Z,2021-06-21T08:04:35Z,2021-06-21T08:03:00Z,Frontiers in Endocrinology,1,https://www.frontiersin.org/articles/10.3389/fendo.2021.701253,https://my.silobreaker.com/5_2275912656659415086\\r\\n5_2275912656659415083,16_2275912656659415068,Actions of Thyroid Hormones on Thyroid Cancers,News,en,2021-06-21T08:03:00Z,2021-06-21T08:03:00Z,2021-06-21T08:04:35Z,2021-06-21T08:03:00Z,Frontiers in Endocrinology,1,https://www.frontiersin.org/articles/10.3389/fendo.2021.691736,https://my.silobreaker.com/5_2275912656659415083\\r\\n5_2275912551432716560,16_2275912551432716433,Plasma Lipidomics Profiling Reveals Biomarkers for Papillary Thyroid Cancer Diagnosis,News,en,2021-06-21T06:33:00Z,2021-06-21T06:33:00Z,2021-06-21T06:34:42Z,2021-06-21T06:33:00Z,Frontiers in Cell and Developmental Biology,1,https://www.frontiersin.org/articles/10.3389/fcell.2021.682269,https://my.silobreaker.com/5_2275912551432716560\\r\\n5_2275912461238403284,16_2275912461238403214,Diagnostic and prognostic value of tumor-infiltrating B cells in lymph node metastases of papillary thyroid carcinoma.,News,en,2021-06-21T05:13:00Z,2021-06-21T05:13:00Z,2021-06-21T05:15:16Z,2021-06-21T05:13:00Z,NCBI,1,https://pubmed.ncbi.nlm.nih.gov/34148127/,https://my.silobreaker.com/5_2275912461238403284\\r\\n5_2275912417214988466,16_2275912417214988386,Yanghe Decoction Suppresses the Experimental Autoimmune Thyroiditis in Rats by Improving NLRP3 Inflammasome and Immune Dysregulation,News,en,2021-06-21T04:36:00Z,2021-06-21T04:36:00Z,2021-06-21T04:37:24Z,2021-06-21T04:36:00Z,Frontiers in Pharmacology,1,https://www.frontiersin.org/articles/10.3389/fphar.2021.645354,https://my.silobreaker.com/5_2275912417214988466\\r\\n5_2275912103682386877,16_2275912103682382364,\"Life, Vol. 11, Pages 592: Pro-Oxidative Effect of KIO3 and Protective Effect of Melatonin in the Thyroid\\xe2\\x80\\x94Comparison to Other Tissues\",Report,en,2021-06-21T00:00:00Z,2021-06-21T00:00:00Z,2021-06-21T14:47:39Z,2021-06-21T00:00:00Z,MDPI Publishing,2,https://www.mdpi.com/2075-1729/11/6/592,https://my.silobreaker.com/5_2275912103682386877\\r\\n5_2275912103682384745,16_2275912103682381302,Ultrasonography-guided radiofrequency ablation combined with lauromacrogol sclerotherapy for mixed thyroid nodules,News,en,2021-06-21T00:00:00Z,2021-06-21T00:00:00Z,2021-06-21T12:15:13Z,2021-06-21T00:00:00Z,NCBI,1,https://pubmed.ncbi.nlm.nih.gov/34150089/,https://my.silobreaker.com/5_2275912103682384745\\r\\n5_2275908476582494339,16_2275908476582494278,Foods recommended for thyroid patients.. that contain an alternative treatment,News,en,2021-06-19T11:14:00Z,2021-06-19T11:14:00Z,2021-06-19T11:15:33Z,2021-06-19T11:14:00Z,Archyde,1,https://www.archyde.com/foods-recommended-for-thyroid-patients-that-contain-an-alternative-treatment/,https://my.silobreaker.com/5_2275908476582494339\\r\\n5_2275908111510274122,16_2275908111510274087,This Man Left His Secured Job at BARC in 1995. Now He Owns World\\xe2\\x80\\x99s Largest Thyroid Testing Company,News,en,2021-06-19T05:58:00Z,2021-06-19T05:58:00Z,2021-06-19T05:59:07Z,2021-06-19T05:58:00Z,News18.com,1,https://www.news18.com/news/opinion/this-man-left-his-secured-job-at-barc-in-1995-now-he-owns-worlds-largest-thyroid-testing-company-3865961.html,https://my.silobreaker.com/5_2275908111510274122\\r\\n5_2275907705635872806,16_2275907705635869441,Association between thyroid function and Alzheimer\\'s disease: A systematic review,News,en,2021-06-19T00:00:00Z,2021-06-19T00:00:00Z,2021-06-19T23:28:41Z,2021-06-19T00:00:00Z,NCBI,1,https://pubmed.ncbi.nlm.nih.gov/34146214/,https://my.silobreaker.com/5_2275907705635872806\\r\\n5_2275906882075885586,16_2275906128309125147,Novartis Unit Sandoz to Face Lannett\\xe2\\x80\\x99s Claims Over Thyroid Drug,News,en,2021-06-18T20:01:00Z,2021-06-18T20:01:00Z,2021-06-18T20:08:29Z,2021-06-18T20:01:00Z,Bloomberg Law,1,https://news.bloomberglaw.com/health-law-and-business/novartis-unit-sandoz-to-face-lannetts-claims-over-thyroid-drug,https://my.silobreaker.com/5_2275906882075885586\\r\\n5_2275906794029056019,16_2275906794029056015,Training Courses in Laryngeal Nerve Monitoring in Thyroid and Parathyroid Surgery- The INMSG Consensus Statement,News,en,2021-06-18T18:47:00Z,2021-06-18T18:47:00Z,2021-06-18T19:09:00Z,2021-06-18T18:47:00Z,Frontiers in Endocrinology,1,https://www.frontiersin.org/articles/10.3389/fendo.2021.705346,https://my.silobreaker.com/5_2275906794029056019\\r\\n5_2275906700126978050,16_2275906700126978048,The impact of metformin on hypothalamic\\xe2\\x80\\x90pituitary\\xe2\\x80\\x90thyroid axis activity in postmenopausal women with untreated non\\xe2\\x80\\x90autoimmune subclinical hypothyroidism,News,en,2021-06-18T17:23:35Z,2021-06-18T17:23:35Z,2021-06-19T08:42:37Z,2021-06-18T17:23:35Z,Clinical and Experimental Pharmacology and Physiology,1,https://onlinelibrary.wiley.com/doi/10.1111/1440-1681.13542?af=R,https://my.silobreaker.com/5_2275906700126978050\\r\\n5_2275906692543676446,16_2275906692543676443,Using Tumor-Infiltrating Immune Cells and a ceRNA Network Model to Construct a Prognostic Analysis Model of Thyroid Carcinoma.,News,en,2021-06-18T17:16:31Z,2021-06-18T17:16:31Z,2021-06-18T22:13:58Z,2021-06-18T17:16:31Z,NCBI,1,https://pubmed.ncbi.nlm.nih.gov/34141614/,https://my.silobreaker.com/5_2275906692543676446\\r\\n5_2275906621156622408,16_2275906621156622375,Cytokines: Application in recurrence appraisal for differentiated thyroid carcinoma and their relation with radioiodine ablation,News,en,2021-06-18T16:14:00Z,2021-06-18T16:14:00Z,2021-06-18T16:53:40Z,2021-06-18T16:14:00Z,Journal of Cellular Biochemistry,1,https://onlinelibrary.wiley.com/doi/full/10.1002/jcb.30016,https://my.silobreaker.com/5_2275906621156622408\\r\\n5_2275906447210446876,16_2275906447210446859,Thyroid autoimmunity linked to persistent symptoms for adults with Hashimoto\\xe2\\x80\\x99s disease,News,en,2021-06-18T13:44:00Z,2021-06-18T13:44:00Z,2021-06-18T14:34:01Z,2021-06-18T13:44:00Z,Healio,1,https://www.healio.com/news/endocrinology/20210618/thyroid-autoimmunity-linked-to-persistent-symptoms-for-adults-with-hashimotos-disease,https://my.silobreaker.com/5_2275906447210446876\\r\\n5_2275906365606068407,16_2275905668747624525,\"Thyroid Functioning Tests Market Trends 2021, Share Analysis, Growth Factors, Industry Consumption and Global Forecast 2026\",News,en,2021-06-18T12:32:00Z,2021-06-18T12:32:00Z,2021-06-18T12:45:13Z,2021-06-18T12:32:00Z,AlgosOnline,1,https://www.algosonline.com/technology/thyroid-functioning-tests-market-trends-2021-share-analysis-growth-factors-industry-consumption-and-global-forecast-2026,https://my.silobreaker.com/5_2275906365606068407\\r\\n5_2275906166393405441,,Global Thyroid Eye Disease (TED) Market Report 2021: Horizon Therapeutics has the Highest Amount of Ongoing Clinical Trials and Highest Overall Number of Clinical Trials,Press Release,en,2021-06-18T09:38:30Z,2021-06-18T09:38:30Z,2021-06-18T09:50:24Z,2021-06-18T09:38:30Z,Benzinga - Press Releases - RSS,1,https://www.benzinga.com/pressreleases/21/06/g21621959/global-thyroid-eye-disease-ted-market-report-2021-horizon-therapeutics-has-the-highest-amount-of-o,https://my.silobreaker.com/5_2275906166393405441\\r\\n5_2275906166393405440,16_2275906166393405440,Global Thyroid Eye Disease (TED) Market Report 2021: Horizon Therapeutics has the Highest Amount of Ongoing Clinical Trials and Highest Overall Number of Clinical Trials,News,en,2021-06-18T09:38:30Z,2021-06-18T09:38:30Z,2021-06-18T09:50:24Z,2021-06-18T09:38:30Z,Benzinga - Analyst Ratings - RSS,1,https://www.benzinga.com/pressreleases/21/06/g21621959/global-thyroid-eye-disease-ted-market-report-2021-horizon-therapeutics-has-the-highest-amount-of-o,https://my.silobreaker.com/5_2275906166393405440\\r\\n5_2275905943289987074,16_2275904068872306917,Viking Therapeutics Announces Results from Phase 1 Clinical Trial of Novel Oral Thyroid Receptor Beta Agonist VK0214,Blog,en,2021-06-18T06:22:44Z,2021-06-18T06:22:44Z,2021-06-18T06:38:24Z,2021-06-18T06:22:44Z,Lifeboat News The Blog,15,https://lifeboat.com/blog/2021/06/viking-therapeutics-announces-results-from-phase-1-clinical-trial-of-novel-oral-thyroid-receptor-beta-agonist-vk0214,https://my.silobreaker.com/5_2275905943289987074\\r\\n5_2275905551709765670,16_2275905551709765659,A Rare Case of Lingual Thyroid in a Man,News,en,2021-06-18T00:42:00Z,2021-06-18T00:42:00Z,2021-06-18T00:43:22Z,2021-06-18T00:42:00Z,Applied Radiology Online,1,https://www.appliedradiology.com/articles/a-rare-case-of-lingual-thyroid-in-a-man,https://my.silobreaker.com/5_2275905551709765670\\r\\n5_2275905506612623587,16_2275905506612617191,microRNA-181a promotes the oncogene S100A2 and enhances papillary thyroid carcinoma growth by mediating the expression of histone demethylase KDM5C,News,en,2021-06-18T00:00:00Z,2021-06-18T00:00:00Z,2021-06-19T00:00:46Z,2021-06-18T00:00:00Z,NCBI,1,https://pubmed.ncbi.nlm.nih.gov/34143366/,https://my.silobreaker.com/5_2275905506612623587\\r\\n5_2275905506612619813,16_2275905506612615518,\"JPM, Vol. 11, Pages 574: A Personalized 3D-Printed Model for Obtaining Informed Consent Process for Thyroid Surgery: A Randomized Clinical Study Using a Deep Learning Approach with Mesh-Type 3D Modeling\",Report,en,2021-06-18T00:00:00Z,2021-06-18T00:00:00Z,2021-06-18T15:12:23Z,2021-06-18T00:00:00Z,MDPI Publishing,1,https://www.mdpi.com/2075-4426/11/6/574,https://my.silobreaker.com/5_2275905506612619813\\r\\n5_2275905506612618802,16_2275905506612614954,Common drugs that cause abnormalities in the thyroid gland functions and their impact on levels of serum biomarkers,News,en,2021-06-18T00:00:00Z,2021-06-18T00:00:00Z,2021-06-18T13:33:58Z,2021-06-18T00:00:00Z,NCBI,1,https://pubmed.ncbi.nlm.nih.gov/34139823/,https://my.silobreaker.com/5_2275905506612618802\\r\\n5_2275904569235996828,16_2275904569235996748,Single-Cell Trajectory Inference Guided Enhancement of Thyroid Maturation In Vitro Using TGF-Beta Inhibition.,News,en,2021-06-17T18:23:00Z,2021-06-17T18:23:00Z,2021-06-17T19:00:37Z,2021-06-17T18:23:00Z,NCBI,1,https://pubmed.ncbi.nlm.nih.gov/34135860/,https://my.silobreaker.com/5_2275904569235996828\\r\\n5_2275904517696389191,16_2275904517696389182,Value of Pyruvate Carboxylase in Thyroid Fine-Needle Aspiration Wash-Out Fluid for Predicting Papillary Thyroid Cancer Lymph Node Metastasis.,News,en,2021-06-17T17:39:00Z,2021-06-17T17:39:00Z,2021-06-17T18:21:41Z,2021-06-17T17:39:00Z,NCBI,1,https://pubmed.ncbi.nlm.nih.gov/34136384/,https://my.silobreaker.com/5_2275904517696389191\\r\\n5_2275904467230523481,16_2275904467230523443,Malignant thyroid teratoma: an integrated analysis of case series/case reports,News,en,2021-06-17T16:56:00Z,2021-06-17T16:56:00Z,2021-06-17T17:34:07Z,2021-06-17T16:56:00Z,Endocrine-Related Cancer,1,https://erc.bioscientifica.com/view/journals/erc/28/7/ERC-21-0142.xml,https://my.silobreaker.com/5_2275904467230523481\\r\\n5_2275904272883253322,16_2275903427848437882,\"Anna M. Sawka, MD, Ph.D. appointed incoming Editor-in-Chief of Thyroid\\xc2\\xae\",News,en,2021-06-17T14:03:00Z,2021-06-17T14:03:00Z,2021-06-17T14:49:34Z,2021-06-17T14:03:00Z,Bioengineer.org,2,https://bioengineer.org/anna-m-sawka-md-ph-d-appointed-incoming-editor-in-chief-of-thyroid/,https://my.silobreaker.com/5_2275904272883253322\\r\\n5_2275904058134888868,16_2275904052766179561,\"Global Thyroid Eye Disease (TED) Clinical Landscape Market Report 2021: Marketed and Pipeline Drugs, Trials, Key Events, Probability Of Success, 10-Year Disease Prevalence Forecast, Deals, Revenue - ResearchAndMarkets.com\",Blog,en,2021-06-17T10:59:00Z,2021-06-17T10:59:00Z,2021-06-17T11:40:20Z,2021-06-17T10:59:00Z,Business Wire Health News,1,http://www.businesswire.com/news/home/20210617005449/en/Global-Thyroid-Eye-Disease-TED-Clinical-Landscape-Market-Report-2021-Marketed-and-Pipeline-Drugs-Trials-Key-Events-Probability-Of-Success-10-Year-Disease-Prevalence-Forecast-Deals-Revenue---ResearchAndMarkets.com/?feedref=JjAwJuNHiystnCoBq_hl-RLXHJgazfQJNuOVHefdHP-D8R-QU5o2AvY8bhI9uvWSD8DYIYv4TIC1g1u0AKcacnnViVjtb72bOP4-4nHK5ieT3WxPE8m_kWI77F87CseT,https://my.silobreaker.com/5_2275904058134888868\\r\\n5_2275903774667046956,16_2275903774667046946,Changes in Thyroid fine needle aspiration practice during the Covid\\xe2\\x80\\x9019 pandemic,News,en,2021-06-17T06:51:00Z,2021-06-17T06:51:00Z,2021-06-17T07:04:14Z,2021-06-17T06:51:00Z,Journal of Cytopathology,1,https://onlinelibrary.wiley.com/doi/full/10.1111/cyt.13020,https://my.silobreaker.com/5_2275903774667046956\\r\\n5_2275903760708403261,16_2275902714883866713,International Yoga Day 2021: 4 Yoga Poses That Can Help Improve Thyroid Function,News,en,2021-06-17T06:38:00Z,2021-06-17T06:38:00Z,2021-06-17T06:48:23Z,2021-06-17T06:38:00Z,NDTV,1,https://doctor.ndtv.com/living-healthy/international-yoga-day-2021-4-yoga-poses-that-can-help-improve-thyroid-function-2465871,https://my.silobreaker.com/5_2275903760708403261\\r\\n5_2275902448679780352,16_2275902448679780352,\"Michelle Visage released a film of her breast implant removal surgery, after saying they caused her thyroid condition and hair loss\",News,en,2021-06-16T19:32:05Z,2021-06-16T19:32:05Z,2021-06-16T20:10:33Z,2021-06-16T19:32:05Z,Insider US,1,https://www.insider.com/michelle-visage-films-breast-implant-removal-thyroid-illness-hair-loss-2021-6,https://my.silobreaker.com/5_2275902448679780352\\r\\n5_2275902290755846242,16_2275902290755846189,\"AI makes thyroid ultrasounds faster, easier\",News,en,2021-06-16T17:13:00Z,2021-06-16T17:13:00Z,2021-06-16T17:50:29Z,2021-06-16T17:13:00Z,Canadian Healthcare Technology,1,https://www.canhealth.com/2021/06/16/ai-makes-thyroid-ultrasounds-faster-easier/,https://my.silobreaker.com/5_2275902290755846242\\r\\n5_2275902181234180453,16_2275902181234180274,Long Noncoding RNA GAS5 Targeting miR-221-3p/Cyclin-Dependent Kinase Inhibitor 2B Axis Regulates Follicular Thyroid Carcinoma Cell Cycle and Proliferation.,News,en,2021-06-16T15:39:00Z,2021-06-16T15:39:00Z,2021-06-16T16:17:48Z,2021-06-16T15:39:00Z,NCBI,1,https://pubmed.ncbi.nlm.nih.gov/34130294/,https://my.silobreaker.com/5_2275902181234180453\\r\\n5_2275902168349278538,16_2275902168349278386,Co-occurrence of thyroid and breast cancer is associated with an increased oncogenic SNP burden.,News,en,2021-06-16T15:27:00Z,2021-06-16T15:27:00Z,2021-06-16T16:07:31Z,2021-06-16T15:27:00Z,NCBI,1,https://pubmed.ncbi.nlm.nih.gov/34130653/,https://my.silobreaker.com/5_2275902168349278538\\r\\n5_2275902168349278458,16_2275902168349278326,\"Korean Thyroid Imaging Reporting and Data System: Current Status, Challenges, and Future Perspectives.\",News,en,2021-06-16T15:27:00Z,2021-06-16T15:27:00Z,2021-06-16T16:07:31Z,2021-06-16T15:27:00Z,NCBI,1,https://pubmed.ncbi.nlm.nih.gov/34132081/,https://my.silobreaker.com/5_2275902168349278458\\r\\n5_2275901943987568641,,EurekaMag - Incidence and Predictive Factors for Bilaterality in Patients with Papillary Thyroid Carcinoma https://t.co/f5UEpjYWMp,Tweet,en,2021-06-16T12:10:03Z,2021-06-16T12:10:03Z,2021-06-16T12:26:31Z,2021-06-16T12:10:03Z,EurekaMag - Twitter,1,https://twitter.com/EurekaMag/status/1405135582028656650,https://my.silobreaker.com/5_2275901943987568641\\r\\n5_2275901856997703680,,EurekaMag - Factors Affecting Long-Term Cosmetic Results after Minimally Invasive Video-Assisted Thyroidectomy and Conventional\\xe2\\x80\\xa6 https://t.co/MztE1PPkvZ,Tweet,en,2021-06-16T10:57:02Z,2021-06-16T10:57:02Z,2021-06-16T11:08:01Z,2021-06-16T10:57:02Z,EurekaMag - Twitter,1,https://twitter.com/EurekaMag/status/1405117207177170949,https://my.silobreaker.com/5_2275901856997703680\\r\\n5_2275901734557581347,16_2275901734557581334,Extent of Surgery and the Prognosis of Unilateral Papillary Thyroid Microcarcinoma,News,en,2021-06-16T09:07:00Z,2021-06-16T09:07:00Z,2021-06-16T09:09:34Z,2021-06-16T09:07:00Z,Frontiers in Endocrinology,1,https://www.frontiersin.org/articles/10.3389/fendo.2021.655608,https://my.silobreaker.com/5_2275901734557581347\\r\\n5_2275901547726504240,16_2275901547726504086,The ETS Inhibitor YK-4-279 Suppresses Thyroid Cancer Progression Independent of TERT Promoter Mutations,News,en,2021-06-16T06:25:00Z,2021-06-16T06:25:00Z,2021-06-16T06:27:36Z,2021-06-16T06:25:00Z,Frontiers in Oncology,1,https://www.frontiersin.org/articles/10.3389/fonc.2021.649323,https://my.silobreaker.com/5_2275901547726504240\\r\\n5_2275901484375736422,16_2275899945703702568,Risk Factors of Central Lymph Node Metastasis in Papillary Thyroid Microcarcinoma and the Value of Sentinel Lymph Node Biopsy,News,en,2021-06-16T05:30:00Z,2021-06-16T05:30:00Z,2021-06-16T05:31:09Z,2021-06-16T05:30:00Z,Frontiers In Surgery,2,https://www.frontiersin.org/articles/10.3389/fsurg.2021.680493,https://my.silobreaker.com/5_2275901484375736422\\r\\n5_2275901108566106643,16_2275901108566103011,\"Cells, Vol. 10, Pages 1518: Trace Amine-Associated Receptor 1 Trafficking to Cilia of Thyroid Epithelial Cells\",Report,en,2021-06-16T00:00:00Z,2021-06-16T00:00:00Z,2021-06-16T11:52:38Z,2021-06-16T00:00:00Z,MDPI Publishing,2,https://www.mdpi.com/2073-4409/10/6/1518,https://my.silobreaker.com/5_2275901108566106643\\r\\n5_2275900301112246411,16_2275900301112246344,20 Foods High in Selenium for Thyroid Health,News,en,2021-06-15T20:16:00Z,2021-06-15T20:16:00Z,2021-06-15T20:36:47Z,2021-06-15T20:16:00Z,Live Strong,1,https://www.livestrong.com/article/13764515-foods-high-in-selenium/,https://my.silobreaker.com/5_2275900301112246411\\r\\n5_2275900246871506948,16_2275900246871506946,Evaluation of grade in a genotyped cohort of sporadic medullary thyroid carcinomas,News,en,2021-06-15T19:29:31Z,2021-06-15T19:29:31Z,2021-06-16T10:23:47Z,2021-06-15T19:29:31Z,Histopathology,1,https://onlinelibrary.wiley.com/doi/10.1111/his.14370?af=R,https://my.silobreaker.com/5_2275900246871506948\\r\\n5_2275899805194518534,16_2275899805194518529,Hashimoto\\xe2\\x80\\x99s thyroiditis observed in 36% of adults with papillary thyroid carcinoma,News,en,2021-06-15T13:02:09Z,2021-06-15T13:02:09Z,2021-06-15T23:35:26Z,2021-06-15T13:02:09Z,Healio,1,https://www.healio.com/news/endocrinology/20210615/hashimotos-thyroiditis-observed-in-36-of-adults-with-papillary-thyroid-carcinoma,https://my.silobreaker.com/5_2275899805194518534\\r\\n5_2275899447487496292,16_2275899447487496256,Thyroid Function in Preterm/Low Birth Weight Infants: Impact on Diagnosis and Management of Thyroid Dysfunction,News,en,2021-06-15T07:53:00Z,2021-06-15T07:53:00Z,2021-06-15T07:57:27Z,2021-06-15T07:53:00Z,Frontiers in Endocrinology,1,https://www.frontiersin.org/articles/10.3389/fendo.2021.666207,https://my.silobreaker.com/5_2275899447487496292\\r\\n5_2275899260656418988,16_2275898026927063189,Shear-wave elastography as a tool in the assessment of thyroid nodules.,News,en,2021-06-15T05:07:00Z,2021-06-15T05:07:00Z,2021-06-15T05:08:18Z,2021-06-15T05:07:00Z,NCBI,2,https://pubmed.ncbi.nlm.nih.gov/34125808/,https://my.silobreaker.com/5_2275899260656418988\\r\\n5_2275898970075037696,,EurekaMag - Papillary and follicular thyroid carcinomas with bone metastases: a series of 39 cases during a period of 18 years https://t.co/jrb9ZFadkS,Tweet,en,2021-06-15T00:56:24Z,2021-06-15T00:56:24Z,2021-06-15T00:56:50Z,2021-06-15T00:56:24Z,EurekaMag - Twitter,1,https://twitter.com/EurekaMag/status/1404603663927087112,https://my.silobreaker.com/5_2275898970075037696\\r\\n5_2275898909542849121,16_2275898909542846150,\"Cancers, Vol. 13, Pages 2988: Diagnostic Value of Galectin-3 in Distinguishing Invasive Encapsulated Carcinoma from Noninvasive Follicular Thyroid Neoplasms with Papillary-Like Nuclear Features (NIFTP)\",Report,en,2021-06-15T00:00:00Z,2021-06-15T00:00:00Z,2021-06-15T09:54:29Z,2021-06-15T00:00:00Z,MDPI Publishing,2,https://www.mdpi.com/2072-6694/13/12/2988,https://my.silobreaker.com/5_2275898909542849121\\r\\n5_2275898909542844751,16_2275898198725754963,\"Thyroid storm, clouds and silver linings\",News,en,2021-06-15T00:00:00Z,2021-06-15T00:00:00Z,2021-06-15T04:29:21Z,2021-06-15T00:00:00Z,Journal of Oral Medicine and Oral Surgery,1,https://www.jomos.org/10.1051/mbcb/2021009,https://my.silobreaker.com/5_2275898909542844751\\r\\n5_2275898245886509056,,HackingDave - Going on Levothyroxine to bump up my levels and give my thyroid a break to normalize. Having good T hormone levels\\xe2\\x80\\xa6 https://t.co/JLaEM7V1yt,Tweet,en,2021-06-14T22:21:59Z,2021-06-14T22:21:59Z,2021-06-14T22:25:28Z,2021-06-14T22:21:59Z,HackingDave - Twitter,1,https://twitter.com/HackingDave/status/1404564805772513286,https://my.silobreaker.com/5_2275898245886509056\\r\\n5_2275898243739025408,,HackingDave - It\\'s been a good run on half of my thyroid. Had a partial thyroidectomy done a few years ago for an out-of-control\\xe2\\x80\\xa6 https://t.co/uk5QzcgYQC,Tweet,en,2021-06-14T22:19:59Z,2021-06-14T22:19:59Z,2021-06-14T22:23:10Z,2021-06-14T22:19:59Z,HackingDave - Twitter,1,https://twitter.com/HackingDave/status/1404564299612360704,https://my.silobreaker.com/5_2275898243739025408\\r\\n5_2275898032329326594,,EurekaMag - Thyroid surgery: generalist or specialist? https://t.co/S1OFtyiKIg,Tweet,en,2021-06-14T19:15:02Z,2021-06-14T19:15:02Z,2021-06-14T19:41:48Z,2021-06-14T19:15:02Z,EurekaMag - Twitter,1,https://twitter.com/EurekaMag/status/1404517757320712195,https://my.silobreaker.com/5_2275898032329326594\\r\\n5_2275898026927063269,16_2275898026927063155,Primary Squamous Cell Carcinoma of the Thyroid: A Case Report and Literature Review About a Rare Entity.,News,en,2021-06-14T19:10:00Z,2021-06-14T19:10:00Z,2021-06-14T19:38:58Z,2021-06-14T19:10:00Z,NCBI,1,https://pubmed.ncbi.nlm.nih.gov/34123660/,https://my.silobreaker.com/5_2275898026927063269\\r\\n5_2275897971092488352,16_2275897971092488294,\"Corrigendum to \"\"Impact of Diabetic Ketoacidosis on Thyroid Function in Patients with Diabetes Mellitus\"\".\",News,en,2021-06-14T18:22:00Z,2021-06-14T18:22:00Z,2021-06-14T18:53:37Z,2021-06-14T18:22:00Z,NCBI,1,https://pubmed.ncbi.nlm.nih.gov/34125115/,https://my.silobreaker.com/5_2275897971092488352\\r\\n5_2275897523879018496,,EurekaMag - Continuous intraoperative neuromonitoring of the recurrent laryngeal nerve during thyroid surgery https://t.co/RoPYMrBMjG,Tweet,en,2021-06-14T11:53:32Z,2021-06-14T11:53:32Z,2021-06-14T12:11:03Z,2021-06-14T11:53:32Z,EurekaMag - Twitter,1,https://twitter.com/EurekaMag/status/1404406649297637376,https://my.silobreaker.com/5_2275897523879018496\\r\\n5_2275897476147838977,,EurekaMag - Intraoperative Indocyanine Green Fluorescence to Assure Vital Parathyroids in Thyroid Resections https://t.co/PXszLfWa5t,Tweet,en,2021-06-14T11:09:03Z,2021-06-14T11:09:03Z,2021-06-14T11:20:44Z,2021-06-14T11:09:03Z,EurekaMag - Twitter,1,https://twitter.com/EurekaMag/status/1404395455073583106,https://my.silobreaker.com/5_2275897476147838977\\r\\n5_2275897360166944768,,EurekaMag - A Critical Estimation of Intraoperative Neuromonitoring (IONM) in Thyroid Surgery https://t.co/n5RtBDDGCB,Tweet,en,2021-06-14T09:29:02Z,2021-06-14T09:29:02Z,2021-06-14T09:32:15Z,2021-06-14T09:29:02Z,EurekaMag - Twitter,1,https://twitter.com/EurekaMag/status/1404370284585512961,https://my.silobreaker.com/5_2275897360166944768\\r\\n5_2275896710519594424,16_2275896710519591236,\"Medicina, Vol. 57, Pages 621: TGF-\\xce\\xb2 Physiology as a Novel Therapeutic Target Regarding Autoimmune Thyroid Diseases: Where Do We Stand and What to Expect\",Report,en,2021-06-14T00:00:00Z,2021-06-14T00:00:00Z,2021-06-14T14:21:57Z,2021-06-14T00:00:00Z,MDPI Publishing,2,https://www.mdpi.com/1648-9144/57/6/621,https://my.silobreaker.com/5_2275896710519594424\\r\\n5_2275896056661147648,,EurekaMag - Solitary hyperfunctioning thyroid gland carcinomas https://t.co/yY0lOsxvsu,Tweet,en,2021-06-13T22:31:03Z,2021-06-13T22:31:03Z,2021-06-13T22:32:29Z,2021-06-13T22:31:03Z,EurekaMag - Twitter,1,https://twitter.com/EurekaMag/status/1404204698085728268,https://my.silobreaker.com/5_2275896056661147648\\r\\n5_2275895749520654450,16_2275895749520654381,Dr. Anna M. Sawka named new Editor-in-Chief of Thyroid,News,en,2021-06-13T18:01:00Z,2021-06-13T18:01:00Z,2021-06-13T18:02:32Z,2021-06-13T18:01:00Z,Knowledgespeak,1,https://www.knowledgespeak.com/news/dr-anna-m-sawka-named-new-editor-in-chief-of-thyroid/,https://my.silobreaker.com/5_2275895749520654450\\r\\n5_2275895587419193344,,EurekaMag - Thyroid function as indication of the effects of estrogens in various administration https://t.co/uHrSJXWAqB,Tweet,en,2021-06-13T15:42:02Z,2021-06-13T15:42:02Z,2021-06-13T15:42:22Z,2021-06-13T15:42:02Z,EurekaMag - Twitter,1,https://twitter.com/EurekaMag/status/1404101763406319624,https://my.silobreaker.com/5_2275895587419193344\\r\\n5_2275895341498761358,16_2275895341498761266,Selenium: the trace mineral that\\xe2\\x80\\x99s the thyroid\\xe2\\x80\\x99s friend,News,en,2021-06-13T12:05:00Z,2021-06-13T12:05:00Z,2021-06-13T12:06:17Z,2021-06-13T12:05:00Z,NewsInCyprus.com,1,http://www.newsincyprus.com/news/322432/selenium-the-trace-mineral-that-s-the-thyroid-s-friend,https://my.silobreaker.com/5_2275895341498761358\\r\\n5_2275895004343828572,16_2275895004343828532,Here\\xe2\\x80\\x99s how you can make naan with your favourite millets,News,en,2021-06-13T07:11:00Z,2021-06-13T07:11:00Z,2021-06-13T07:12:07Z,2021-06-13T07:11:00Z,Indian Express,1,https://indianexpress.com/article/lifestyle/food-wine/heres-how-you-can-make-naan-with-your-favourite-millets-7356615/,https://my.silobreaker.com/5_2275895004343828572\\r\\n5_2275893277766975654,16_2275893277766975574,Papillary thyroid microcarcinoma with lung metastases: a case report and review of the literature.,News,en,2021-06-12T14:03:00Z,2021-06-12T14:03:00Z,2021-06-12T14:05:42Z,2021-06-12T14:03:00Z,NCBI,1,https://pubmed.ncbi.nlm.nih.gov/34116701/,https://my.silobreaker.com/5_2275893277766975654\\r\\n5_2275893245554720937,16_2275893245554720864,The effects of amiodarone on thyroid function in pediatric and adolescent patients.,News,en,2021-06-12T13:37:00Z,2021-06-12T13:37:00Z,2021-06-12T13:38:32Z,2021-06-12T13:37:00Z,NCBI,1,https://pubmed.ncbi.nlm.nih.gov/34117173/,https://my.silobreaker.com/5_2275893245554720937\\r\\n5_2275892832734543872,,EurekaMag - Thyroid neoplasms https://t.co/138gjBkKkW,Tweet,en,2021-06-12T07:36:34Z,2021-06-12T07:36:34Z,2021-06-12T07:37:21Z,2021-06-12T07:36:34Z,EurekaMag - Twitter,1,https://twitter.com/EurekaMag/status/1403617203866390533,https://my.silobreaker.com/5_2275892832734543872\\r\\n5_2275892526181253120,,\"EurekaMag - Current study on the Pathophysiology and clinical aspects of endocrine diseases of the thyroid gland, pancreas and\\xe2\\x80\\xa6 https://t.co/oE6PeGiv7h\",Tweet,en,2021-06-12T03:07:02Z,2021-06-12T03:07:02Z,2021-06-12T03:07:12Z,2021-06-12T03:07:02Z,EurekaMag - Twitter,1,https://twitter.com/EurekaMag/status/1403549375528280067,https://my.silobreaker.com/5_2275892526181253120\\r\\n5_2275892321063010436,16_2275891657524117511,[Comment] Targeting RET-mutated thyroid and lung cancer in the personalised medicine era,News,en,2021-06-12T00:08:00Z,2021-06-12T00:08:00Z,2021-06-12T00:09:56Z,2021-06-12T00:08:00Z,Lancet Diabetes & Endocrinology,2,https://www.thelancet.com/journals/landia/article/PIIS2213-8587(21)00152-2/fulltext?rss=yes,https://my.silobreaker.com/5_2275892321063010436\\r\\n5_2275892312473084971,16_2275892312473080485,A High-Throughput Approach to Identify Effective Systemic Agents for the Treatment of Anaplastic Thyroid Carcinoma,News,en,2021-06-12T00:00:00Z,2021-06-12T00:00:00Z,2021-06-13T22:05:30Z,2021-06-12T00:00:00Z,The Journal of Clinical Endocrinology & Metabolism,1,https://academic.oup.com/jcem/advance-article/doi/10.1210/clinem/dgab424/6297567,https://my.silobreaker.com/5_2275892312473084971\\r\\n5_2275892312473083459,16_2275890113449828008,Clinical implication of xenotropic and polytropic retrovirus receptor 1 in papillary thyroid carcinoma,News,en,2021-06-12T00:00:00Z,2021-06-12T00:00:00Z,2021-06-12T21:25:05Z,2021-06-12T00:00:00Z,NCBI,2,https://pubmed.ncbi.nlm.nih.gov/34117845/,https://my.silobreaker.com/5_2275892312473083459\\r\\n5_2275892312473082133,16_2275892312473079578,Mechanistic Computational Model for Extrapolating In vitro Thyroid Peroxidase (TPO) Inhibition Data to Predict Serum Thyroid Hormone Levels in Rats,News,en,2021-06-12T00:00:00Z,2021-06-12T00:00:00Z,2021-06-12T14:56:04Z,2021-06-12T00:00:00Z,Toxicological Sciences,1,https://academic.oup.com/toxsci/advance-article/doi/10.1093/toxsci/kfab074/6297233?rss=1,https://my.silobreaker.com/5_2275892312473082133\\r\\n5_2275891478175678568,16_2275891478175678550,miR-622 Suppresses Tumor Formation by Directly Targeting VEGFA in Papillary Thyroid Carcinoma [Retraction].,News,en,2021-06-11T19:55:00Z,2021-06-11T19:55:00Z,2021-06-11T20:20:15Z,2021-06-11T19:55:00Z,NCBI,1,https://pubmed.ncbi.nlm.nih.gov/34113125/,https://my.silobreaker.com/5_2275891478175678568\\r\\n5_2275891334847922179,16_2275891334847922176,\"Thyroid nodules in childhood\\xe2\\x80\\x90onset Hashimoto\\'s thyroiditis: Frequency, risk factors, follow\\xe2\\x80\\x90up course and genetic alterations of thyroid cancer\",News,en,2021-06-11T17:49:33Z,2021-06-11T17:49:33Z,2021-06-12T08:12:21Z,2021-06-11T17:49:33Z,Journal of Clinical Endocrinology,1,https://onlinelibrary.wiley.com/doi/10.1111/cen.14490?af=R,https://my.silobreaker.com/5_2275891334847922179\\r\\n5_2275891207626293252,16_2275891207626293248,A TV host thought her exhaustion and numbness happened because she\\'s a new mom. It turned out she had a thyroid condition.,News,en,2021-06-11T15:59:02Z,2021-06-11T15:59:02Z,2021-06-11T16:57:15Z,2021-06-11T15:59:02Z,Insider US,1,https://www.insider.com/morgan-stewart-exhaustion-numbness-related-to-undiagnosed-thyroid-condition-2021-6,https://my.silobreaker.com/5_2275891207626293252\\r\\n5_2275890811382005848,16_2275890811382005810,The Efficacy and Safety of Radiofrequency Ablation for Bilateral Papillary Thyroid Microcarcinoma,News,en,2021-06-11T10:10:00Z,2021-06-11T10:10:00Z,2021-06-11T10:27:37Z,2021-06-11T10:10:00Z,Frontiers in Endocrinology,1,https://www.frontiersin.org/articles/10.3389/fendo.2021.663636,https://my.silobreaker.com/5_2275890811382005848\\r\\n5_2275890673943052593,16_2275890673943052413,Genome-Wide Histone H3K27 Acetylation Profiling Identified Genes Correlated With Prognosis in Papillary Thyroid Carcinoma,News,en,2021-06-11T08:10:00Z,2021-06-11T08:10:00Z,2021-06-11T08:15:05Z,2021-06-11T08:10:00Z,Frontiers in Cell and Developmental Biology,1,https://www.frontiersin.org/articles/10.3389/fcell.2021.682561,https://my.silobreaker.com/5_2275890673943052593\\r\\n5_2275890673943052378,16_2275890673943052331,Transcriptomic Signature of Human Embryonic Thyroid Reveals Transition From Differentiation to Functional Maturation,News,en,2021-06-11T08:10:00Z,2021-06-11T08:10:00Z,2021-06-11T08:14:23Z,2021-06-11T08:10:00Z,Frontiers in Cell and Developmental Biology,1,https://www.frontiersin.org/articles/10.3389/fcell.2021.669354,https://my.silobreaker.com/5_2275890673943052378\\r\\n5_2275890417318756476,16_2275890417318756425,Some Dietary Phenolic Compounds Can Activate Thyroid Peroxidase and Inhibit Lipoxygenase-Preliminary Study in the Model Systems.,News,en,2021-06-11T04:27:00Z,2021-06-11T04:27:00Z,2021-06-11T04:28:53Z,2021-06-11T04:27:00Z,NCBI,1,https://pubmed.ncbi.nlm.nih.gov/34065957/,https://my.silobreaker.com/5_2275890417318756476\\r\\n5_2275890244446322738,16_2275890244446322726,Morgan Stewart\\'s warning to other new mums following shock thyroid diagnosis: \\'I had no idea\\',News,en,2021-06-11T01:58:00Z,2021-06-11T01:58:00Z,2021-06-11T02:01:47Z,2021-06-11T01:58:00Z,Essential Baby,1,http://www.essentialbaby.com.au/news/celebrity-parents/morgan-stewarts-warning-to-other-new-mums-following-shock-thyroid-diagnosis-i-had-no-idea-20210610-h1wfmz,https://my.silobreaker.com/5_2275890244446322738\\r\\n5_2275890158546976825,16_2275890158546976799,Comparison of thyroid doses to the public from radioiodine following the Chernobyl and Fukushima accidents.,News,en,2021-06-11T00:42:00Z,2021-06-11T00:42:00Z,2021-06-11T00:42:55Z,2021-06-11T00:42:00Z,NCBI,1,https://pubmed.ncbi.nlm.nih.gov/34109835/,https://my.silobreaker.com/5_2275890158546976825\\r\\n5_2275890113449829641,16_2275890113449825651,\"Medicina, Vol. 57, Pages 609: A Review of the Significance in Measuring Preoperative and Postoperative Carcinoembryonic Antigen (CEA) Values in Patients with Medullary Thyroid Carcinoma (MTC)\",Report,en,2021-06-11T00:00:00Z,2021-06-11T00:00:00Z,2021-06-11T14:20:09Z,2021-06-11T00:00:00Z,MDPI Publishing,1,https://www.mdpi.com/1648-9144/57/6/609,https://my.silobreaker.com/5_2275890113449829641\\r\\n5_2275889338208223376,16_2275888225811693626,Morgan Stewart urges new moms to listen to their bodies following thyroid disorder diagnosis,News,en,2021-06-10T20:46:00Z,2021-06-10T20:46:00Z,2021-06-10T21:14:27Z,2021-06-10T20:46:00Z,Today.com,2,https://www.today.com/health/morgan-stewart-details-scary-thyroid-signs-urges-awareness-t221660,https://my.silobreaker.com/5_2275889338208223376\\r\\n5_2275889231907782736,16_2275889195400560738,Morgan Stewart Describes \\xe2\\x80\\x98Weird\\xe2\\x80\\x99 Symptoms Amid Thyroid Issue,News,en,2021-06-10T19:11:00Z,2021-06-10T19:11:00Z,2021-06-10T19:45:15Z,2021-06-10T19:11:00Z,MSN Canada,2,https://www.msn.com/en-ca/money/news/morgan-stewart-describes-weird-symptoms-amid-thyroid-issue/vi-AAKUXE6?srcref=rss,https://my.silobreaker.com/5_2275889231907782736\\r\\n5_2275889140639727662,16_2275889140639727642,\"Anna M. Sawka, MD, PhD Appointed Incoming Editor-in-Chief of Thyroid\\xc2\\xae\",News,en,2021-06-10T17:54:00Z,2021-06-10T17:54:00Z,2021-06-10T18:34:01Z,2021-06-10T17:54:00Z,Mary Ann Liebert Inc Publishers,1,https://home.liebertpub.com/news/anna-m-sawka-md-phd-appointed-incoming-editor-in-chief-of-thyroid/3842,https://my.silobreaker.com/5_2275889140639727662\\r\\n5_2275889030044319922,16_2275889030044319821,Sneaky Symptoms Could Signal a Thyroid Disorder,News,en,2021-06-10T16:15:00Z,2021-06-10T16:15:00Z,2021-06-10T16:55:59Z,2021-06-10T16:15:00Z,Yahoo! News,1,https://www.yahoo.com/now/sneaky-symptoms-could-signal-thyroid-161119599.html,https://my.silobreaker.com/5_2275889030044319922\\r\\n5_2275889025749352483,16_2275889025749352463,\"Immune Checkpoint Inhibitors-Related Thyroid Dysfunction: Epidemiology, Clinical Presentation, Possible Pathogenesis, and Management\",News,en,2021-06-10T16:11:00Z,2021-06-10T16:11:00Z,2021-06-10T16:48:47Z,2021-06-10T16:11:00Z,Frontiers in Endocrinology,1,https://www.frontiersin.org/articles/10.3389/fendo.2021.649863,https://my.silobreaker.com/5_2275889025749352483\\r\\n5_2275889025749352481,16_2275889025749352461,\"Genetics, Diagnosis, and Management of H\\xc3\\xbcrthle Cell Thyroid Neoplasms\",News,en,2021-06-10T16:11:00Z,2021-06-10T16:11:00Z,2021-06-10T16:48:47Z,2021-06-10T16:11:00Z,Frontiers in Endocrinology,1,https://www.frontiersin.org/articles/10.3389/fendo.2021.696386,https://my.silobreaker.com/5_2275889025749352481\\r\\n5_2275888990315872317,16_2275888990315872283,E! News\\' Morgan Stewart Diagnosed with Thyroid Condition After Scary Symptoms: \\'I Was Terrified\\',News,en,2021-06-10T15:42:00Z,2021-06-10T15:42:00Z,2021-06-10T16:19:59Z,2021-06-10T15:42:00Z,People,1,https://people.com/health/e-news-morgan-stewart-diagnosed-with-thyroid-condition-after-scary-symptoms/,https://my.silobreaker.com/5_2275888990315872317\\r\\n5_2275888947366199432,16_2275888947366199371,Demi Jones provides fans update following thyroid operation,News,en,2021-06-10T15:02:00Z,2021-06-10T15:02:00Z,2021-06-10T15:44:16Z,2021-06-10T15:02:00Z,MSN UK,1,https://www.msn.com/en-gb/foodanddrink/other/demi-jones-provides-fans-update-following-thyroid-operation/vi-AAKUvSv,https://my.silobreaker.com/5_2275888947366199432\\r\\n5_2275888945923358721,,shanghaidaily - Other leading hospitals had failed to find the source of a woman\\'s thyroid problems but Dr Zhang Jianquan used a sp\\xe2\\x80\\xa6 https://t.co/zjtmTzEz2E,Tweet,en,2021-06-10T15:00:42Z,2021-06-10T15:00:42Z,2021-06-10T15:40:07Z,2021-06-10T15:00:42Z,shanghaidaily - Twitter,1,https://twitter.com/shanghaidaily/status/1403004201794293772,https://my.silobreaker.com/5_2275888945923358721\\r\\n5_2275888861601071105,,MissAnonFatale - RT @Gothedistxnce: (2/3)...w/o them. He also didn\\'t let me go to school for 3 years when I was young. I\\'m almost 19 and still not a senior.\\xe2\\x80\\xa6,Tweet,en,2021-06-10T13:50:08Z,2021-06-10T13:50:08Z,2021-06-10T14:28:25Z,2021-06-10T13:50:08Z,MissAnonFatale - Twitter,1,https://twitter.com/MissAnonFatale/status/1402986442163372032,https://my.silobreaker.com/5_2275888861601071105\\r\\n5_2275888817493770241,,EurekaMag - Signal evaluation of continuous vagal nerve stimulation for recurrent laryngeal nerve protection in thyroid surgery https://t.co/xbXGjtbze1,Tweet,en,2021-06-10T13:09:03Z,2021-06-10T13:09:03Z,2021-06-10T13:48:30Z,2021-06-10T13:09:03Z,EurekaMag - Twitter,1,https://twitter.com/EurekaMag/status/1402976101786292226,https://my.silobreaker.com/5_2275888817493770241\\r\\n5_2275888758387638451,16_2275888758387638358,Milagros Ortiz Bosch recovers from thyroid surgery,News,en,2021-06-10T12:18:00Z,2021-06-10T12:18:00Z,2021-06-10T12:57:23Z,2021-06-10T12:18:00Z,DR1,1,https://dr1.com/forums/threads/milagros-ortiz-bosch-recovers-from-thyroid-surgery.397912/,https://my.silobreaker.com/5_2275888758387638451\\r\\n5_2275888696110612814,16_2275888696110612619,Insights from a Prospective Follow-up of Thyroid Function and Autoimmunity among COVID-19 Survivors.,News,en,2021-06-10T11:24:00Z,2021-06-10T11:24:00Z,2021-06-10T11:59:01Z,2021-06-10T11:24:00Z,NCBI,1,https://pubmed.ncbi.nlm.nih.gov/34107601/,https://my.silobreaker.com/5_2275888696110612814\\r\\n5_2275888682151968787,16_2275888682151968785,Burkitt\\'s Thyroid Lymphoma Revealed in a Pregnant Woman With Acute Dyspnea.,News,en,2021-06-10T11:11:00Z,2021-06-10T11:11:00Z,2021-06-10T11:42:39Z,2021-06-10T11:11:00Z,NCBI,1,https://pubmed.ncbi.nlm.nih.gov/34107797/,https://my.silobreaker.com/5_2275888682151968787\\r\\n5_2275888682151968784,16_2275888682151968782,Clinicopathological Characteristics and Recurrence-Free Survival of Rare Variants of Papillary Thyroid Carcinomas in Korea: A Retrospective Study.,News,en,2021-06-10T11:11:00Z,2021-06-10T11:11:00Z,2021-06-10T11:42:39Z,2021-06-10T11:11:00Z,NCBI,1,https://pubmed.ncbi.nlm.nih.gov/34107674/,https://my.silobreaker.com/5_2275888682151968784\\r\\n5_2275888524311920921,16_2275888524311920786,Radiofrequency Thermoablation On Ex Vivo Animal Tissues: Changes on Isolated Swine Thyroids,News,en,2021-06-10T08:56:00Z,2021-06-10T08:56:00Z,2021-06-10T09:09:16Z,2021-06-10T08:56:00Z,Frontiers in Endocrinology,1,https://www.frontiersin.org/articles/10.3389/fendo.2021.575565,https://my.silobreaker.com/5_2275888524311920921\\r\\n5_2275888406200320084,16_2275888406200320047,Function and Evolution of Nuclear Receptors in Environmental-Dependent Postembryonic Development,News,en,2021-06-10T07:10:00Z,2021-06-10T07:10:00Z,2021-06-10T07:11:54Z,2021-06-10T07:10:00Z,Frontiers in Cell and Developmental Biology,1,https://www.frontiersin.org/articles/10.3389/fcell.2021.653792,https://my.silobreaker.com/5_2275888406200320084\\r\\n5_2275888268761366573,16_2275888268761366551,The Skin in Cowden Syndrome,News,en,2021-06-10T05:10:00Z,2021-06-10T05:10:00Z,2021-06-10T05:12:57Z,2021-06-10T05:10:00Z,Frontiers in Medicine,1,https://www.frontiersin.org/articles/10.3389/fmed.2021.658842,https://my.silobreaker.com/5_2275888268761366573\\r\\n5_2275888208631824581,16_2275888208631824498,The impact of exogenous vitamin D on thyroid autoimmunity in euthyroid men with autoimmune thyroiditis and early-onset androgenic alopecia.,News,en,2021-06-10T04:18:00Z,2021-06-10T04:18:00Z,2021-06-10T04:20:42Z,2021-06-10T04:18:00Z,NCBI,1,https://pubmed.ncbi.nlm.nih.gov/34106452/,https://my.silobreaker.com/5_2275888208631824581\\r\\n5_2275887351987175424,16_2275886870866952192,Morgan Stewart reveals thyroid disorder diagnosis & scary symptoms,News,en,2021-06-09T23:52:12Z,2021-06-09T23:52:12Z,2021-06-10T00:14:32Z,2021-06-09T23:52:12Z,Stuff.co.nz - RSS,3,https://www.stuff.co.nz/entertainment/bravo/news/125399330/morgan-stewart-reveals-thyroid-disorder-diagnosis--scary-symptoms.html,https://my.silobreaker.com/5_2275887351987175424\\r\\n5_2275887268033986604,16_2275887268033986586,Targeted therapy pralsetinib safely and effectively treats lung and thyroid cancers with RET alterations,News,en,2021-06-09T22:38:00Z,2021-06-09T22:38:00Z,2021-06-09T22:39:35Z,2021-06-09T22:38:00Z,Mirage News,2,https://www.miragenews.com/targeted-therapy-pralsetinib-safely-and-574986/,https://my.silobreaker.com/5_2275887268033986604\\r\\n5_2275886738679267335,16_2275886738679267332,Comprehensive Genomic Profiling in Lung and Thyroid CancerVideo,News,en,2021-06-09T14:57:00Z,2021-06-09T14:57:00Z,2021-06-09T15:32:18Z,2021-06-09T14:57:00Z,CURE Magazine,1,https://www.curetoday.com/view/comprehensive-genomic-profiling-in-lung-and-thyroid-cancer,https://my.silobreaker.com/5_2275886738679267335\\r\\n5_2275886692508369122,16_2275886692508369009,More Questions Than Answers? Thyroid Biopsy Differs by Specialty,News,en,2021-06-09T14:14:00Z,2021-06-09T14:14:00Z,2021-06-09T14:57:04Z,2021-06-09T14:14:00Z,Medscape,1,https://www.medscape.com/viewarticle/952728?src=rss,https://my.silobreaker.com/5_2275886692508369122\\r\\n5_2275886458432651367,16_2275886458432651318,Different thyroid assays may greatly affect diagnosis and management of hypothyroidism,News,en,2021-06-09T10:52:00Z,2021-06-09T10:52:00Z,2021-06-09T10:59:04Z,2021-06-09T10:52:00Z,British Medical Journal,2,http://www.bmj.com/content/373/bmj.n1458.short?rss=1,https://my.silobreaker.com/5_2275886458432651367\\r\\n5_2275886242610545008,16_2275886242610544829,Inherited Thyroid Tumors With Oncocytic Change,News,en,2021-06-09T07:43:00Z,2021-06-09T07:43:00Z,2021-06-09T07:45:10Z,2021-06-09T07:43:00Z,Frontiers in Endocrinology,1,https://www.frontiersin.org/articles/10.3389/fendo.2021.691979,https://my.silobreaker.com/5_2275886242610545008\\r\\n5_2275886163153649686,16_2275886163153649673,Task Force publishes second of four reports developing science-based testing strategy for maternal thyroid disruption,News,en,2021-06-09T06:33:00Z,2021-06-09T06:33:00Z,2021-06-09T06:33:49Z,2021-06-09T06:33:00Z,ECETOC,1,https://www.ecetoc.org/mediaroom/t4_aop/,https://my.silobreaker.com/5_2275886163153649686\\r\\n5_2275885715403324602,16_2275885715403317390,Somatic Mutation Profiling of Papillary Thyroid Carcinomas by Whole-exome Sequencing and Its Relationship with Clinical Characteristics,News,en,2021-06-09T00:00:00Z,2021-06-09T00:00:00Z,2021-06-09T23:17:31Z,2021-06-09T00:00:00Z,NCBI,1,https://pubmed.ncbi.nlm.nih.gov/34104084/,https://my.silobreaker.com/5_2275885715403324602\\r\\n5_2275885117329113140,16_2275885117329113124,Thyroid dysfunction in COVID-19 patients.,News,en,2021-06-08T23:19:00Z,2021-06-08T23:19:00Z,2021-06-08T23:19:39Z,2021-06-08T23:19:00Z,NCBI,1,https://pubmed.ncbi.nlm.nih.gov/34101132/,https://my.silobreaker.com/5_2275885117329113140\\r\\n5_2275884874663461005,16_2275884874663460913,Prevalence of thyroid malignancy and hormonal dysfunction following radiation exposure in childhood.,News,en,2021-06-08T19:49:00Z,2021-06-08T19:49:00Z,2021-06-08T19:52:47Z,2021-06-08T19:49:00Z,NCBI,1,https://pubmed.ncbi.nlm.nih.gov/34100517/,https://my.silobreaker.com/5_2275884874663461005\\r\\n5_2275884833861271722,16_2275884833861271630,Multifocality and Progression of Papillary Thyroid Microcarcinoma During Active Surveillance.,News,en,2021-06-08T19:11:00Z,2021-06-08T19:11:00Z,2021-06-08T19:26:25Z,2021-06-08T19:11:00Z,NCBI,1,https://pubmed.ncbi.nlm.nih.gov/34100116/,https://my.silobreaker.com/5_2275884833861271722\\r\\n5_2275884826546405378,16_2275884647030194283,\"\\xe2\\x80\\x98I have a journey ahead of me\\xe2\\x80\\x99: Love Island\\xe2\\x80\\x99s Demi Jones, 22, reveals she has to take hormone tablets for the rest of her life after having her thyroid removed amid cancer battle\",News,en,2021-06-08T19:04:12Z,2021-06-08T19:04:12Z,2021-06-08T19:34:32Z,2021-06-08T19:04:12Z,Grantshala News,1,https://granthshala.com/i-have-a-journey-ahead-of-me-love-islands-demi-jones-22-reveals-she-has-to-take-hormone-tablets-for-the-rest-of-her-life-after-having-her-thyroid-removed-amid-cancer-battle/,https://my.silobreaker.com/5_2275884826546405378\\r\\n5_2275884703938510878,16_2275884703938510869,The Role of Primary Cilia in Thyroid Cancer: From Basic Research to Clinical Applications,News,en,2021-06-08T17:18:00Z,2021-06-08T17:18:00Z,2021-06-08T17:49:46Z,2021-06-08T17:18:00Z,Frontiers in Endocrinology,1,https://www.frontiersin.org/articles/10.3389/fendo.2021.685228,https://my.silobreaker.com/5_2275884703938510878\\r\\n5_2275884438724280637,16_2275884438724280442,\"Thyroid Deficiency and Adrenal Fatigue Specialist in Adelaide  (Adelaide, Australia)\",News,en,2021-06-08T13:27:00Z,2021-06-08T13:27:00Z,2021-06-08T14:03:49Z,2021-06-08T13:27:00Z,PostHereAds,1,https://PostHereAds.com/0/posts/3/29-Health-Fitness/912057-Thyroid-Deficiency-and-Adrenal-Fatigue-Specialist-in-Adelaide-.html,https://my.silobreaker.com/5_2275884438724280637\\r\\n5_2275884430134345967,16_2275883970572845216,Difference and similarities between thyroid and parathyroid,News,en,2021-06-08T13:19:00Z,2021-06-08T13:19:00Z,2021-06-08T13:55:57Z,2021-06-08T13:19:00Z,We-Care.co.za,2,https://we-care.co.za/difference-and-similarities-between-thyroid-and-parathyroid/,https://my.silobreaker.com/5_2275884430134345967\\r\\n5_2275884247598235861,16_2275884247598235765,\"Care and Management of Voice Change for Thyroid Surgery: Korean Society of Laryngology, Phoniatrics and Logopedics Clinical Practice Guideline.\",News,en,2021-06-08T10:41:00Z,2021-06-08T10:41:00Z,2021-06-08T10:44:29Z,2021-06-08T10:41:00Z,NCBI,1,https://pubmed.ncbi.nlm.nih.gov/34098629/,https://my.silobreaker.com/5_2275884247598235861\\r\\n5_2275884098348122368,16_2275882397742399488,Demi Jones says \\xe2\\x80\\x98pain is so much worse\\xe2\\x80\\x99 after having thyroid completely removed,News,en,2021-06-08T08:30:00Z,2021-06-08T08:30:00Z,2021-06-08T08:33:55Z,2021-06-08T08:30:00Z,PopStar.one,1,https://popstar.one/news/demi-jones-says-pain-is-so-much-worse-after/758122,https://my.silobreaker.com/5_2275884098348122368\\r\\n5_2275883981343817728,,EurekaMag - Reliability of DRG Routine Data to Analyse Treatment Outcome and Complications of Thyroid Surgery. A Critical Analy\\xe2\\x80\\xa6 https://t.co/nENlgbJrDO,Tweet,en,2021-06-08T06:49:02Z,2021-06-08T06:49:02Z,2021-06-08T06:49:22Z,2021-06-08T06:49:02Z,EurekaMag - Twitter,1,https://twitter.com/EurekaMag/status/1402155693247926274,https://my.silobreaker.com/5_2275883981343817728\\r\\n5_2275883516380068905,16_2275883516380061590,Silencing of cystatin SN (CST1) abrogates cancer progression and stem cell properties in papillary thyroid carcinoma (PTC),News,en,2021-06-08T00:00:00Z,2021-06-08T00:00:00Z,2021-06-08T23:29:38Z,2021-06-08T00:00:00Z,NCBI,1,https://pubmed.ncbi.nlm.nih.gov/34102026/,https://my.silobreaker.com/5_2275883516380068905\\r\\n5_2275882295535599814,,India Thyroid Function Test Market To Surpass US$ 58.9 Million By 2027,Press Release,en,2021-06-07T14:15:00Z,2021-06-07T14:15:00Z,2021-06-07T14:56:54Z,2021-06-07T14:15:00Z,Prlog,1,https://www.prlog.org/12872593-india-thyroid-function-test-market-to-surpass-us-58-9-million-by-2027.html,https://my.silobreaker.com/5_2275882295535599814\\r\\n5_2275882126958133566,16_2275882126958133424,Predictive Factor of Large-Volume Central Lymph Node Metastasis in Clinical N0 Papillary Thyroid Carcinoma Patients Underwent Total Thyroidectomy.,News,en,2021-06-07T11:50:00Z,2021-06-07T11:50:00Z,2021-06-07T12:13:14Z,2021-06-07T11:50:00Z,NCBI,1,https://pubmed.ncbi.nlm.nih.gov/34094896/,https://my.silobreaker.com/5_2275882126958133566\\r\\n5_2275882123736908080,16_2275880333809287223,Levothyroxine sodium oral solution to control thyroid function in a patient with hypothyroidism and celiac disease.,News,en,2021-06-07T11:47:00Z,2021-06-07T11:47:00Z,2021-06-07T12:09:41Z,2021-06-07T11:47:00Z,NCBI,2,https://pubmed.ncbi.nlm.nih.gov/34094556/,https://my.silobreaker.com/5_2275882123736908080\\r\\n5_2275882123736907803,16_2275882123736907795,A Preliminary Study of Quantitative Ultrasound for Cancer-Risk Assessment of Thyroid Nodules.,News,en,2021-06-07T11:47:00Z,2021-06-07T11:47:00Z,2021-06-07T12:09:09Z,2021-06-07T11:47:00Z,NCBI,1,https://pubmed.ncbi.nlm.nih.gov/34093429/,https://my.silobreaker.com/5_2275882123736907803\\r\\n5_2275881886439964827,16_2275881886439964741,Radiomics Nomogram for Identifying Sub-1 cm Benign and Malignant Thyroid Lesions,News,en,2021-06-07T08:18:00Z,2021-06-07T08:18:00Z,2021-06-07T08:21:55Z,2021-06-07T08:18:00Z,Frontiers in Oncology,1,https://www.frontiersin.org/articles/10.3389/fonc.2021.580886,https://my.silobreaker.com/5_2275881886439964827\\r\\n5_2275881806983069852,16_2275881806983069793,Alteration of Membrane Cholesterol Content Plays a Key Role in Regulation of Cystic Fibrosis Transmembrane Conductance Regulator Channel Activity,News,en,2021-06-07T07:08:00Z,2021-06-07T07:08:00Z,2021-06-07T07:09:51Z,2021-06-07T07:08:00Z,Frontiers in Physiology,1,https://www.frontiersin.org/articles/10.3389/fphys.2021.652513,https://my.silobreaker.com/5_2275881806983069852\\r\\n5_2275881731821142058,16_2275881731821142036,Tired and temperamental? Maybe your thyroid is to blame,News,en,2021-06-07T06:02:00Z,2021-06-07T06:02:00Z,2021-06-07T06:03:51Z,2021-06-07T06:02:00Z,Brakpan Herald,1,https://brakpanherald.co.za/250064/tired-and-temperamental-maybe-your-thyroid-is-to-blame/,https://my.silobreaker.com/5_2275881731821142058\\r\\n5_2275881440837107918,16_2275881440837107806,Study finds \\xe2\\x80\\x98surprising\\xe2\\x80\\x99 widespread variation in payer-negotiated prices for thyroid radiology services,News,en,2021-06-07T01:51:00Z,2021-06-07T01:51:00Z,2021-06-07T02:12:43Z,2021-06-07T01:51:00Z,Radiology Business,1,https://www.radiologybusiness.com/topics/economics/thyroid-cancer-treatment-costs-radiology-imaging-jama?utm_source=side_panel_home&utm_medium=side_panel_cardiovascular_business&utm_campaign=side_panel_traffic,https://my.silobreaker.com/5_2275881440837107918\\r\\n5_2275880700005580800,,EurekaMag - Pro and contra lymphadenectomy in papillary and follicular thyroid gland carcinoma https://t.co/BtB3ch4WpN,Tweet,en,2021-06-06T23:01:03Z,2021-06-06T23:01:03Z,2021-06-06T23:01:22Z,2021-06-06T23:01:03Z,EurekaMag - Twitter,1,https://twitter.com/EurekaMag/status/1401675531523825665,https://my.silobreaker.com/5_2275880700005580800\\r\\n5_2275880256550207490,,EurekaMag - Does intraoperative nerve monitoring reduce the rate of recurrent nerve palsies during thyroid surgery? https://t.co/e99TVHoWVw,Tweet,en,2021-06-06T16:36:03Z,2021-06-06T16:36:03Z,2021-06-06T16:36:43Z,2021-06-06T16:36:03Z,EurekaMag - Twitter,1,https://twitter.com/EurekaMag/status/1401578644439375874,https://my.silobreaker.com/5_2275880256550207490\\r\\n5_2275879823781920990,16_2275879823781920854,Environmental arsenic exposure and its toxicological effect on thyroid function: a systematic review.,News,en,2021-06-06T10:17:00Z,2021-06-06T10:17:00Z,2021-06-06T10:31:28Z,2021-06-06T10:17:00Z,NCBI,1,https://pubmed.ncbi.nlm.nih.gov/34090316/,https://my.silobreaker.com/5_2275879823781920990\\r\\n5_2275879118333547575,16_2275879118333545661,\"Diagnostics, Vol. 11, Pages 1043: The Role of Cytology in the Diagnosis of Subcentimeter Thyroid Lesions\",Report,en,2021-06-06T00:00:00Z,2021-06-06T00:00:00Z,2021-06-06T13:41:17Z,2021-06-06T00:00:00Z,MDPI Publishing,2,https://www.mdpi.com/2075-4418/11/6/1043,https://my.silobreaker.com/5_2275879118333547575\\r\\n5_2275877311226052688,16_2275877311226052628,What you should know about thyroid disease,News,en,2021-06-05T05:45:00Z,2021-06-05T05:45:00Z,2021-06-05T05:46:15Z,2021-06-05T05:45:00Z,Boksburg Advertiser,1,https://boksburgadvertiser.co.za/413925/what-you-should-know-about-thyroid-disease/,https://my.silobreaker.com/5_2275877311226052688\\r\\n5_2275877296243998720,,EurekaMag - Dysfunction of calcium metabolism following resection of the thyroid gland. An analysis of important risk factors https://t.co/hZQv14QPJp,Tweet,en,2021-06-05T05:31:03Z,2021-06-05T05:31:03Z,2021-06-05T05:31:58Z,2021-06-05T05:31:03Z,EurekaMag - Twitter,1,https://twitter.com/EurekaMag/status/1401048904431403010,https://my.silobreaker.com/5_2275877296243998720\\r\\n5_2275877149678239747,16_2275874995164938956,\"NP THYROID (levothyroxine, liothyronine) tablet NP THYROID 60 (levothyroxine liothyronine) tablet [DIRECT RX]\",News,en,2021-06-05T03:22:35Z,2021-06-05T03:22:35Z,2021-06-05T03:24:19Z,2021-06-05T03:22:35Z,Agenparl,2,https://agenparl.eu/np-thyroid-levothyroxine-liothyronine-tablet-np-thyroid-60-levothyroxine-liothyronine-tablet-direct-rx/,https://my.silobreaker.com/5_2275877149678239747\\r\\n5_2275877138890489856,,EurekaMag - Factors Related to Lymph Node Recurrence in Patients with N1b Papillary Thyroid Carcinoma after Unilateral Therapeu\\xe2\\x80\\xa6 https://t.co/JkrQWacNMQ,Tweet,en,2021-06-05T03:12:32Z,2021-06-05T03:12:32Z,2021-06-05T03:13:13Z,2021-06-05T03:12:32Z,EurekaMag - Twitter,1,https://twitter.com/EurekaMag/status/1401014042647359492,https://my.silobreaker.com/5_2275877138890489856\\r\\n5_2275876045284442275,16_2275876045284442180,Thyroid Eye Disease Diagnosis Associated With High Hospital Costs,News,en,2021-06-04T19:18:00Z,2021-06-04T19:18:00Z,2021-06-04T19:33:44Z,2021-06-04T19:18:00Z,Endocrinology Advisor,1,https://www.endocrinologyadvisor.com/home/conference-highlights/aace-2021/hospitalizations-for-thyroid-eye-disease-associated-with-high-costs-for-payers/,https://my.silobreaker.com/5_2275876045284442275\\r\\n5_2275876011998445584,16_2275876011998445572,Cytology of Mucoepidermoid carcinoma of thyroid,News,en,2021-06-04T18:51:00Z,2021-06-04T18:51:00Z,2021-06-04T19:09:54Z,2021-06-04T18:51:00Z,Journal of Cytopathology,1,https://onlinelibrary.wiley.com/doi/full/10.1111/cyt.13018,https://my.silobreaker.com/5_2275876011998445584\\r\\n5_2275876010924703751,16_2275874720287038329,Mixed medullary-papillary thyroid carcinoma with mixed lymph node metastases: A case report.,News,en,2021-06-04T18:50:00Z,2021-06-04T18:50:00Z,2021-06-04T19:09:12Z,2021-06-04T18:50:00Z,NCBI,2,https://pubmed.ncbi.nlm.nih.gov/34084509/,https://my.silobreaker.com/5_2275876010924703751\\r\\n5_2275875941232148480,,EurekaMag - A comparative study of cytological and histological studies of the thyroid gland https://t.co/9kZMPkDaKx,Tweet,en,2021-06-04T17:49:06Z,2021-06-04T17:49:06Z,2021-06-04T18:18:44Z,2021-06-04T17:49:06Z,EurekaMag - Twitter,1,https://twitter.com/EurekaMag/status/1400872251331727365,https://my.silobreaker.com/5_2275875941232148480\\r\\n5_2275875930394067004,16_2275875930394066972,Application of Color Doppler Ultrasound to Evaluate Chemotherapeutic Effect on Primary Thyroid Lymphoma.,News,en,2021-06-04T17:39:00Z,2021-06-04T17:39:00Z,2021-06-04T18:11:11Z,2021-06-04T17:39:00Z,NCBI,1,https://pubmed.ncbi.nlm.nih.gov/34084720/,https://my.silobreaker.com/5_2275875930394067004\\r\\n5_2275875891739361373,16_2275874120065351714,The Role of Metabolic Volumetric Parameters in Predicting Malignancy in Incidental Thyroid Nodules Detected in 18F-FDG PET/CT Scans.,News,en,2021-06-04T17:03:00Z,2021-06-04T17:03:00Z,2021-06-04T17:38:42Z,2021-06-04T17:03:00Z,NCBI,3,https://pubmed.ncbi.nlm.nih.gov/34082507/,https://my.silobreaker.com/5_2275875891739361373\\r\\n5_2275875826492768258,,StockCats - @Randy3031 I had an elderly cat that lost weight and the vet prescribed thyroid pills that increased the appetite and it helped a bit,Tweet,en,2021-06-04T16:06:15Z,2021-06-04T16:06:15Z,2021-06-04T16:48:15Z,2021-06-04T16:06:15Z,stockcats - Twitter,1,https://twitter.com/StockCats/status/1400846369829621766,https://my.silobreaker.com/5_2275875826492768258\\r\\n5_2275875377417027885,16_2275875377417027732,Thyroid Function Tests Market Worth To Reach USD 2.44 Billion By 2028,News,en,2021-06-04T09:36:00Z,2021-06-04T09:36:00Z,2021-06-04T09:41:47Z,2021-06-04T09:36:00Z,FreePRnow.com,1,http://www.freeprnow.com/pr/thyroid-function-tests-market-worth-to-reach-usd-244-billion-by-2028,https://my.silobreaker.com/5_2275875377417027885\\r\\n5_2275875320508711096,16_2275875320508710993,From Endoderm to Progenitors: An Update on the Early Steps of Thyroid Morphogenesis in the Zebrafish,News,en,2021-06-04T08:47:00Z,2021-06-04T08:47:00Z,2021-06-04T08:52:27Z,2021-06-04T08:47:00Z,Frontiers in Endocrinology,1,https://www.frontiersin.org/articles/10.3389/fendo.2021.664557,https://my.silobreaker.com/5_2275875320508711096\\r\\n5_2275875320508711065,16_2275875320508710977,Insulin-Like Growth Factor Pathway and the Thyroid,News,en,2021-06-04T08:47:00Z,2021-06-04T08:47:00Z,2021-06-04T08:52:27Z,2021-06-04T08:47:00Z,Frontiers in Endocrinology,1,https://www.frontiersin.org/articles/10.3389/fendo.2021.653627,https://my.silobreaker.com/5_2275875320508711065\\r\\n5_2275875311650340865,,EurekaMag - Sclerosing mucoepidermoid carcinoma with eosinophilia of the thyroid--a case report https://t.co/8FEYaaEEXz,Tweet,en,2021-06-04T08:38:48Z,2021-06-04T08:38:48Z,2021-06-04T08:41:12Z,2021-06-04T08:38:48Z,EurekaMag - Twitter,1,https://twitter.com/EurekaMag/status/1400733765408739332,https://my.silobreaker.com/5_2275875311650340865\\r\\n5_2275875184193830912,,EurekaMag - Renal cell carcinoma metastases to the thyroid gland -- report of 3 cases and review of the literature https://t.co/NsmdRQThmX,Tweet,en,2021-06-04T06:48:03Z,2021-06-04T06:48:03Z,2021-06-04T06:49:02Z,2021-06-04T06:48:03Z,EurekaMag - Twitter,1,https://twitter.com/EurekaMag/status/1400705891490406403,https://my.silobreaker.com/5_2275875184193830912\\r\\n5_2275875104686604444,16_2275875104686604380,Selenium in Human Health and Gut Microflora: Bioavailability of Selenocompounds and Relationship With Diseases,News,en,2021-06-04T05:38:00Z,2021-06-04T05:38:00Z,2021-06-04T05:39:48Z,2021-06-04T05:38:00Z,Frontiers in Nutrition,1,https://www.frontiersin.org/articles/10.3389/fnut.2021.685317,https://my.silobreaker.com/5_2275875104686604444\\r\\n5_2275875074621833480,16_2275875074621833360,Reversal of Abnormal CD4+ T Cell Metabolism Alleviates Thyroiditis by Deactivating the mTOR/HIF1a/Glycolysis Pathway,News,en,2021-06-04T05:10:00Z,2021-06-04T05:10:00Z,2021-06-04T05:12:30Z,2021-06-04T05:10:00Z,Frontiers in Endocrinology,1,https://www.frontiersin.org/articles/10.3389/fendo.2021.659738,https://my.silobreaker.com/5_2275875074621833480\\r\\n5_2275875071400607754,16_2275875071400607750,Thyroid Eye Disease: Navigating the New Treatment Landscape,News,en,2021-06-04T05:07:00Z,2021-06-04T05:07:00Z,2021-06-04T05:09:34Z,2021-06-04T05:07:00Z,Medscape,1,http://www.medscape.com/viewarticle/951677?src=,https://my.silobreaker.com/5_2275875071400607754\\r\\n5_2275874720287045952,16_2275874720287039375,Comparing quality of life between patients undergoing trans-areola endoscopic thyroid surgery and trans-oral endoscopic thyroid surgery,News,en,2021-06-04T00:00:00Z,2021-06-04T00:00:00Z,2021-06-05T06:27:04Z,2021-06-04T00:00:00Z,NCBI,1,https://pubmed.ncbi.nlm.nih.gov/34082738/,https://my.silobreaker.com/5_2275874720287045952\\r\\n5_2275874720287038686,16_2275874720287035523,\"IJMS, Vol. 22, Pages 6067: MiR-181a-5p Regulates NIS Expression in Papillary Thyroid Carcinoma\",Report,en,2021-06-04T00:00:00Z,2021-06-04T00:00:00Z,2021-06-04T10:51:00Z,2021-06-04T00:00:00Z,MDPI Publishing,2,https://www.mdpi.com/1422-0067/22/11/6067,https://my.silobreaker.com/5_2275874720287038686\\r\\n5_2275874720287038260,16_2275873631512821817,Risks and prediction of postoperative hypoparathyroidism due to thyroid surgery,News,en,2021-06-04T00:00:00Z,2021-06-04T00:00:00Z,2021-06-04T10:25:33Z,2021-06-04T00:00:00Z,Pharmacogenomics Journal,1,https://www.nature.com/articles/s41598-021-91277-1,https://my.silobreaker.com/5_2275874720287038260\\r\\n5_2275873933284605953,,EurekaMag - Therapy of malignant thyroid neoplasms https://t.co/U7J0LXG6sX,Tweet,en,2021-06-03T20:35:03Z,2021-06-03T20:35:03Z,2021-06-03T20:38:04Z,2021-06-03T20:35:03Z,EurekaMag - Twitter,1,https://twitter.com/EurekaMag/status/1400551628411834368,https://my.silobreaker.com/5_2275873933284605953\\r\\n5_2275873393242800129,,EurekaMag - Therapy of functional disorders of the thyroid gland with special reference to preoperative and postoperative phase\\xe2\\x80\\xa6 https://t.co/VsNEUOZnKW,Tweet,en,2021-06-03T12:44:06Z,2021-06-03T12:44:06Z,2021-06-03T13:57:25Z,2021-06-03T12:44:06Z,EurekaMag - Twitter,1,https://twitter.com/EurekaMag/status/1400433106763485186,https://my.silobreaker.com/5_2275873393242800129\\r\\n5_2275873091454238728,,EurekaMag - Intraoperative electrophysiological monitoring of the recurrent laryngeal nerve in thyroid gland surgery--a prospec\\xe2\\x80\\xa6 https://t.co/fYQHRe8u8h,Tweet,en,2021-06-03T08:19:02Z,2021-06-03T08:19:02Z,2021-06-03T08:44:07Z,2021-06-03T08:19:02Z,EurekaMag - Twitter,1,https://twitter.com/EurekaMag/status/1400366402062589958,https://my.silobreaker.com/5_2275873091454238728\\r\\n5_2275872842312581197,16_2275872842312581172,Apatinib strengthens the anti-tumor effect of cisplatin in thyroid carcinoma through downregulating VEGFR2.,News,en,2021-06-03T04:43:00Z,2021-06-03T04:43:00Z,2021-06-03T04:44:20Z,2021-06-03T04:43:00Z,NCBI,1,https://pubmed.ncbi.nlm.nih.gov/34077013/,https://my.silobreaker.com/5_2275872842312581197\\r\\n5_2275872740458102785,,EurekaMag - Sclerosing mucoepidermoid carcinoma with eosinophilia of the thyroid--a case report https://t.co/DEkfuG3loy,Tweet,en,2021-06-03T03:12:09Z,2021-06-03T03:12:09Z,2021-06-03T03:12:37Z,2021-06-03T03:12:09Z,EurekaMag - Twitter,1,https://twitter.com/EurekaMag/status/1400289173102333955,https://my.silobreaker.com/5_2275872740458102785\\r\\n5_2275872734938398753,16_2275872734938398741,Class I Recall Issued for Subpotent Thyroid Medication,News,en,2021-06-03T03:07:00Z,2021-06-03T03:07:00Z,2021-06-03T03:09:12Z,2021-06-03T03:07:00Z,Managed Health Care Connect,1,https://www.managedhealthcareconnect.com/pharmacy-learning-network/class-i-recall-issued-subpotent-thyroid-medication,https://my.silobreaker.com/5_2275872734938398753\\r\\n5_2275871857691328586,16_2275871857691328547,Characterization and Clinical Significance of EIF1AX Mutations and Co-Mutations in Cytologically Indeterminate Thyroid Nodules: A 5-Year Retrospective Analysis.,News,en,2021-06-02T22:22:00Z,2021-06-02T22:22:00Z,2021-06-02T22:38:07Z,2021-06-02T22:22:00Z,NCBI,1,https://pubmed.ncbi.nlm.nih.gov/34075760/,https://my.silobreaker.com/5_2275871857691328586\\r\\n5_2275871497803268105,16_2275872943244312596,Changes in serum thyroid function predict cognitive decline in the very old: longitudinal findings from the Newcastle 85+ study.,News,en,2021-06-02T17:06:53Z,2021-06-02T17:06:53Z,2021-06-05T02:37:52Z,2021-06-02T17:06:53Z,NCBI,1,https://pubmed.ncbi.nlm.nih.gov/34074153/,https://my.silobreaker.com/5_2275871497803268105\\r\\n5_2275871483358085125,16_2275871483358085121,Personalized Medicine in Thyroid CancerVideo,News,en,2021-06-02T16:57:24Z,2021-06-02T16:57:24Z,2021-06-05T02:27:01Z,2021-06-02T16:57:24Z,CURE Magazine,1,https://www.curetoday.com/view/personalized-medicine-in-thyroid-cancer,https://my.silobreaker.com/5_2275871483358085125\\r\\n5_2275871470120861713,16_2275871788971851806,Ultrasound Image Classification of Thyroid Nodules Using Machine Learning Techniques.,News,en,2021-06-02T16:45:03Z,2021-06-02T16:45:03Z,2021-06-05T02:09:35Z,2021-06-02T16:45:03Z,NCBI,1,https://pubmed.ncbi.nlm.nih.gov/34074037/,https://my.silobreaker.com/5_2275871470120861713\\r\\n5_2275870616445779977,16_2275870616445779973,Insulin resistance attenuates the impact of levothyroxine on thyroid autoimmunity and hypothalamic-pituitary-thyroid axis activity in women with autoimmune subclinical hypothyroidism.,News,en,2021-06-02T04:18:00Z,2021-06-02T04:18:00Z,2021-06-02T04:19:07Z,2021-06-02T04:18:00Z,NCBI,1,https://pubmed.ncbi.nlm.nih.gov/34062002/,https://my.silobreaker.com/5_2275870616445779977\\r\\n5_2275870322240534891,16_2275870322240528182,Indeterminate thyroid cytology: detecting malignancy using analysis of nuclear images,News,en,2021-06-02T00:00:00Z,2021-06-02T00:00:00Z,2021-06-03T04:23:59Z,2021-06-02T00:00:00Z,NCBI,1,https://pubmed.ncbi.nlm.nih.gov/34077391/,https://my.silobreaker.com/5_2275870322240534891\\r\\n5_2275870322240534883,16_2275870322240528176,A new ferroptosis-related gene model for prognostic prediction of papillary thyroid carcinoma,News,en,2021-06-02T00:00:00Z,2021-06-02T00:00:00Z,2021-06-03T04:23:59Z,2021-06-02T00:00:00Z,NCBI,1,https://pubmed.ncbi.nlm.nih.gov/34077308/,https://my.silobreaker.com/5_2275870322240534883\\r\\n5_2275870322240532334,16_2275870322240527064,Chronothyroidology: Chronobiological Aspects in Thyroid Function and Diseases,News,en,2021-06-02T00:00:00Z,2021-06-02T00:00:00Z,2021-06-02T18:01:44Z,2021-06-02T00:00:00Z,NCBI,1,https://pubmed.ncbi.nlm.nih.gov/34068480/,https://my.silobreaker.com/5_2275870322240532334\\r\\n5_2275869717723873361,16_2275869717723873319,\"The diagnostic utility of INSM1 and GATA3 in discriminating problematic medullary thyroid carcinoma, thyroid and parathyroid lesions.\",News,en,2021-06-01T23:13:00Z,2021-06-01T23:13:00Z,2021-06-01T23:15:03Z,2021-06-01T23:13:00Z,NCBI,1,https://pubmed.ncbi.nlm.nih.gov/34060284/,https://my.silobreaker.com/5_2275869717723873361\\r\\n5_2275869680142909555,16_2275869680142909492,Heart Risk With Gender-Affirming Tx; Burden of Thyroid Eye Disease; T1D Care Gaps,News,en,2021-06-01T22:42:00Z,2021-06-01T22:42:00Z,2021-06-01T22:43:46Z,2021-06-01T22:42:00Z,MedPage Today,1,https://www.medpagetoday.com/meetingcoverage/aace/92875,https://my.silobreaker.com/5_2275869680142909555\\r\\n5_2275869466082410498,16_2275869159378124820,Kailo Medical and Medo AI partner on thyroid ultrasound diagnosis,News,en,2021-06-01T19:34:41Z,2021-06-01T19:34:41Z,2021-06-01T20:22:02Z,2021-06-01T19:34:41Z,Urall News,2,https://urallnews.com/kailo-medical-and-medo-ai-partner-on-thyroid-ultrasound-diagnosis/,https://my.silobreaker.com/5_2275869466082410498\\r\\n5_2275869352651653395,16_2275865288538849361,MEDISCA Strategic Partnership Stabilizes Industry Supply of Thyroid API,Blog,en,2021-06-01T17:57:00Z,2021-06-01T17:57:00Z,2021-06-01T18:45:25Z,2021-06-01T17:57:00Z,Business Wire Health News,5,http://www.businesswire.com/news/home/20210601005930/en/MEDISCA-Strategic-Partnership-Stabilizes-Industry-Supply-of-Thyroid-API/?feedref=JjAwJuNHiystnCoBq_hl-RLXHJgazfQJNuOVHefdHP-D8R-QU5o2AvY8bhI9uvWSD8DYIYv4TIC1g1u0AKcacnnViVjtb72bOP4-4nHK5ieT3WxPE8m_kWI77F87CseT,https://my.silobreaker.com/5_2275869352651653395\\r\\n5_2275869155888463878,16_2275869155888463872,Multidisciplinary management approach needed for thyroid eye disease,News,en,2021-06-01T15:01:48Z,2021-06-01T15:01:48Z,2021-06-02T00:52:06Z,2021-06-01T15:01:48Z,Healio,1,https://www.healio.com/news/ophthalmology/20210526/multidisciplinary-management-approach-needed-for-thyroid-eye-disease,https://my.silobreaker.com/5_2275869155888463878\\r\\n5_2275869106563448837,16_2275869106563448833,Using Tumor-Infiltrating Immune Cells and a ceRNA Network Model to Construct a Prognostic Analysis Model of Thyroid Carcinoma,News,en,2021-06-01T14:19:52Z,2021-06-01T14:19:52Z,2021-06-01T23:09:31Z,2021-06-01T14:19:52Z,Frontiers in Oncology,1,https://www.frontiersin.org/articles/10.3389/fonc.2021.658165,https://my.silobreaker.com/5_2275869106563448837\\r\\n5_2275868995095625741,16_2275868995095625734,Dynamic Nomogram for Predicting Lateral Cervical Lymph Node Metastasis in Papillary Thyroid Carcinoma.,News,en,2021-06-01T12:44:00Z,2021-06-01T12:44:00Z,2021-06-01T13:13:54Z,2021-06-01T12:44:00Z,NCBI,1,https://pubmed.ncbi.nlm.nih.gov/34058905/,https://my.silobreaker.com/5_2275868995095625741\\r\\n5_2275868859418279938,16_2275869395601326091,Menopause madness! Are you a hostage to hormones? What are the solutions?,News,en,2021-06-01T10:45:41Z,2021-06-01T10:45:41Z,2021-06-02T12:34:13Z,2021-06-01T10:45:41Z,Viva.org.uk,1,https://viva.org.uk/health/health-articles/menopause-madness-are-you-a-hostage-to-hormones-what-are-the-solutions-by-juliet-gellatley/,https://my.silobreaker.com/5_2275868859418279938\\r\\n5_2275868360547762176,,EurekaMag - Assessment of drain insertion in thyroid surgery? https://t.co/kc8I4a1mdg,Tweet,en,2021-06-01T03:29:02Z,2021-06-01T03:29:02Z,2021-06-01T03:29:29Z,2021-06-01T03:29:02Z,EurekaMag - Twitter,1,https://twitter.com/EurekaMag/status/1399568645211049989,https://my.silobreaker.com/5_2275868360547762176\\r\\n5_2275868123217277127,16_2275868123217271812,The role of thyroid in renovascular function: Independent association of serum TSH with renal plasma flow,News,en,2021-06-01T00:00:00Z,2021-06-01T00:00:00Z,2021-06-01T18:44:45Z,2021-06-01T00:00:00Z,The Journal of Clinical Endocrinology & Metabolism,1,https://academic.oup.com/jcem/advance-article/doi/10.1210/clinem/dgab390/6290889,https://my.silobreaker.com/5_2275868123217277127\\r\\n5_2275868123217272614,16_2275868123217269462,\"Cancers, Vol. 13, Pages 2746: Current Status and Challenges of US-Guided Radiofrequency Ablation of Thyroid Nodules in the Long Term: A Systematic Review\",Report,en,2021-06-01T00:00:00Z,2021-06-01T00:00:00Z,2021-06-01T10:57:41Z,2021-06-01T00:00:00Z,MDPI Publishing,1,https://www.mdpi.com/2072-6694/13/11/2746,https://my.silobreaker.com/5_2275868123217272614\\r\\n5_2275868123217271657,16_2275868123217268802,\"Diagnostics, Vol. 11, Pages 1011: Radiomics Score Combined with ACR TI-RADS in Discriminating Benign and Malignant Thyroid Nodules Based on Ultrasound Images: A Retrospective Study\",Report,en,2021-06-01T00:00:00Z,2021-06-01T00:00:00Z,2021-06-01T09:52:13Z,2021-06-01T00:00:00Z,MDPI Publishing,2,https://www.mdpi.com/2075-4418/11/6/1011,https://my.silobreaker.com/5_2275868123217271657\\r\\n5_2275865008292233482,16_2275865008292233387,The landscape of tumors-infiltrate immune cells in papillary thyroid carcinoma and its prognostic value.,News,en,2021-05-31T18:43:00Z,2021-05-31T18:43:00Z,2021-05-31T18:45:45Z,2021-05-31T18:43:00Z,NCBI,1,https://pubmed.ncbi.nlm.nih.gov/34055497/,https://my.silobreaker.com/5_2275865008292233482\\r\\n5_2275864955678883914,16_2275864955678883882,Cardiovascular Events in Patients with Thyroid Storm.,News,en,2021-05-31T17:58:00Z,2021-05-31T17:58:00Z,2021-05-31T18:09:35Z,2021-05-31T17:58:00Z,NCBI,1,https://pubmed.ncbi.nlm.nih.gov/34056498/,https://my.silobreaker.com/5_2275864955678883914\\r\\n5_2275864819313672397,16_2275864819313672269,Will There A New Standard for Care for Some Thyroid Cancers?,News,en,2021-05-31T15:59:00Z,2021-05-31T15:59:00Z,2021-05-31T16:28:17Z,2021-05-31T15:59:00Z,US Medicine,1,https://www.usmedicine.com/2021-asco-reporter/will-there-a-new-standard-for-care-for-some-thyroid-cancers/,https://my.silobreaker.com/5_2275864819313672397\\r\\n5_2275864807502512146,16_2275864807502512138,Even Inactive Thyroid Eye Disease Adversely Impacts Patients,News,en,2021-05-31T15:48:00Z,2021-05-31T15:48:00Z,2021-05-31T16:15:23Z,2021-05-31T15:48:00Z,Medscape,1,https://www.medscape.com/viewarticle/952137?src=rss,https://my.silobreaker.com/5_2275864807502512146\\r\\n5_2275864803207545182,16_2275863153940103269,\"Global Nuclear Medicine Radioisotope Markets 2021-2027: Oncology, Cardiology, Lymphoma, Thyroid, Neurology and Others - Technetium-99m (Tc-99m) to Account for $24.8 Billion - ResearchAndMarkets.com\",Blog,en,2021-05-31T15:44:00Z,2021-05-31T15:44:00Z,2021-05-31T16:33:52Z,2021-05-31T15:44:00Z,Business Wire Health News,2,http://www.businesswire.com/news/home/20210531005232/en/Global-Nuclear-Medicine-Radioisotope-Markets-2021-2027-Oncology-Cardiology-Lymphoma-Thyroid-Neurology-and-Others---Technetium-99m-Tc-99m-to-Account-for-24.8-Billion---ResearchAndMarkets.com/?feedref=JjAwJuNHiystnCoBq_hl-RLXHJgazfQJNuOVHefdHP-D8R-QU5o2AvY8bhI9uvWSD8DYIYv4TIC1g1u0AKcacnnViVjtb72bOP4-4nHK5ieT3WxPE8m_kWI77F87CseT,https://my.silobreaker.com/5_2275864803207545182\\r\\n5_2275864803207545179,,\"Global Nuclear Medicine Radioisotope Markets 2021-2027: Oncology, Cardiology, Lymphoma, Thyroid, Neurology and Others - Technetium-99m (Tc-99m) to Account for $24.8 Billion - ResearchAndMarkets.com\",Press Release,en,2021-05-31T15:44:00Z,2021-05-31T15:44:00Z,2021-05-31T16:14:56Z,2021-05-31T15:44:00Z,Benzinga - Press Releases - RSS,1,https://www.benzinga.com/pressreleases/21/05/b21358299/global-nuclear-medicine-radioisotope-markets-2021-2027-oncology-cardiology-lymphoma-thyroid-neurol,https://my.silobreaker.com/5_2275864803207545179\\r\\n5_2275864589650362368,,EurekaMag - Results of laryngeal nerve monitoring during thyroid operations--Studies and value for clinical practice https://t.co/StYTHInKHZ,Tweet,en,2021-05-31T12:37:07Z,2021-05-31T12:37:07Z,2021-05-31T12:55:34Z,2021-05-31T12:37:07Z,EurekaMag - Twitter,1,https://twitter.com/EurekaMag/status/1399344185749118977,https://my.silobreaker.com/5_2275864589650362368\\r\\n5_2275864566984343596,16_2275864566984343570,Kailo Medical Integrates with Medo AI to Standardize Thyroid Ultrasound Practices,News,en,2021-05-31T12:16:00Z,2021-05-31T12:16:00Z,2021-05-31T12:34:58Z,2021-05-31T12:16:00Z,TickerTech.com,15,http://www.tickertech.com/cgi/?a=news&ticker=a&w=&story=202105202105310800PR_NEWS_USPR_____TO91441,https://my.silobreaker.com/5_2275864566984343596\\r\\n5_2275864527306227712,,EurekaMag - Thyroid tissue in bone https://t.co/f5Bqbg1SLo,Tweet,en,2021-05-31T11:43:03Z,2021-05-31T11:43:03Z,2021-05-31T11:58:57Z,2021-05-31T11:43:03Z,EurekaMag - Twitter,1,https://twitter.com/EurekaMag/status/1399330579297021956,https://my.silobreaker.com/5_2275864527306227712\\r\\n5_2275864397903560704,,EurekaMag - Minimally invasive video-assisted thyroid resection (MIVAT)--a well accepted operative procedure https://t.co/EIwvWrRJMI,Tweet,en,2021-05-31T09:50:34Z,2021-05-31T09:50:34Z,2021-05-31T10:08:17Z,2021-05-31T09:50:34Z,EurekaMag - Twitter,1,https://twitter.com/EurekaMag/status/1399302272727670784,https://my.silobreaker.com/5_2275864397903560704\\r\\n5_2275864189027221775,16_2275864189027221627,Maraka Recognized by Thyroid Association (Movers & Shakers),News,en,2021-05-31T06:48:00Z,2021-05-31T06:48:00Z,2021-05-31T06:50:09Z,2021-05-31T06:48:00Z,Arkansas Business,1,https://www.arkansasbusiness.com/article/136004/maraka-recognized-by-thyroid-association-movers-shakers,https://my.silobreaker.com/5_2275864189027221775\\r\\n5_2275864123528970463,16_2275864123528970383,\"Preoperative ultrasound characteristics in determining the likelihood of cytologically confirmed (Bethesda VI), 1-4 cm papillary thyroid tumours requiring completion thyroidectomy.\",News,en,2021-05-31T05:51:00Z,2021-05-31T05:51:00Z,2021-05-31T05:52:51Z,2021-05-31T05:51:00Z,NCBI,1,https://pubmed.ncbi.nlm.nih.gov/34052082/,https://my.silobreaker.com/5_2275864123528970463\\r\\n5_2275863725170762702,16_2275863725170759121,\"JCM, Vol. 10, Pages 2444: Reference Intervals of Thyroid Function Tests Assessed by Immunoassay and Mass Spectrometry in Healthy Pregnant Women Living in Catalonia\",Report,en,2021-05-31T00:00:00Z,2021-05-31T00:00:00Z,2021-05-31T12:29:51Z,2021-05-31T00:00:00Z,MDPI Publishing,2,https://www.mdpi.com/2077-0383/10/11/2444,https://my.silobreaker.com/5_2275863725170762702\\r\\n5_2275862763098079638,,Johnson City TN Hormones Functional Medicine Thyroid Estrogen Guide Published,Press Release,en,2021-05-30T18:00:00Z,2021-05-30T18:00:00Z,2021-05-30T22:38:21Z,2021-05-30T18:00:00Z,Marketers Media,1,https://marketersmedia.com/johnson-city-tn-hormones-functional-medicine-thyroid-estrogen-guide-published/89021711,https://my.silobreaker.com/5_2275862763098079638\\r\\n5_2275862707263504489,16_2275862707263504425,Patients With Underactive Thyroid Report Pervasive Brain Fog,News,en,2021-05-30T17:12:00Z,2021-05-30T17:12:00Z,2021-05-30T17:13:41Z,2021-05-30T17:12:00Z,MedPage Today,1,https://www.medpagetoday.com/meetingcoverage/aace/92854,https://my.silobreaker.com/5_2275862707263504489\\r\\n5_2275862370108571773,16_2275860899082272788,These methods will provide relieve in the problem of thyroid,News,en,2021-05-30T12:18:00Z,2021-05-30T12:18:00Z,2021-05-30T12:19:16Z,2021-05-30T12:18:00Z,News Track,2,https://english.newstracklive.com/news/these-methods-relieve-thyroid-problem-sc115-nu901-ta325-1162948-1.html,https://my.silobreaker.com/5_2275862370108571773\\r\\n5_2275862151618887680,,EurekaMag - Abscess formation after puncture of a thyroid cyst--a case report https://t.co/FHIyQcz0Jq,Tweet,en,2021-05-30T09:06:33Z,2021-05-30T09:06:33Z,2021-05-30T09:07:24Z,2021-05-30T09:06:33Z,EurekaMag - Twitter,1,https://twitter.com/EurekaMag/status/1398928809940815873,https://my.silobreaker.com/5_2275862151618887680\\r\\n5_2275861961012936706,16_2275861961012936705,Fish toxicity testing for identification of thyroid disrupting chemicals.,News,en,2021-05-30T06:21:00Z,2021-05-30T06:21:00Z,2021-05-30T06:22:07Z,2021-05-30T06:21:00Z,NCBI,1,https://pubmed.ncbi.nlm.nih.gov/34051580/,https://my.silobreaker.com/5_2275861961012936706\\r\\n5_2275861927726940326,16_2275861927726940252,Five-year follow-up and clinical outcome in euthyroid patients with thyroid nodules.,News,en,2021-05-30T05:54:00Z,2021-05-30T05:54:00Z,2021-05-30T05:55:07Z,2021-05-30T05:54:00Z,NCBI,1,https://pubmed.ncbi.nlm.nih.gov/34051706/,https://my.silobreaker.com/5_2275861927726940326\\r\\n5_2275861927726940210,16_2275861927726940195,Capgras syndrome and confabulation unfurling anti NMDAR encephalitis with classical papillary thyroid carcinoma: First reported case.,News,en,2021-05-30T05:54:00Z,2021-05-30T05:54:00Z,2021-05-30T05:55:07Z,2021-05-30T05:54:00Z,NCBI,1,https://pubmed.ncbi.nlm.nih.gov/34051640/,https://my.silobreaker.com/5_2275861927726940210\\r\\n5_2275861526147502161,16_2275861526147500608,\"Children, Vol. 8, Pages 457: Further Evidence That Defects in Main Thyroid Dysgenesis-Related Genes Are an Uncommon Etiology for Primary Congenital Hypothyroidism in Mexican Patients: Report of Rare Variants in FOXE1, NKX2-5 and TSHR\",Report,en,2021-05-30T00:00:00Z,2021-05-30T00:00:00Z,2021-05-30T10:47:06Z,2021-05-30T00:00:00Z,MDPI Publishing,1,https://www.mdpi.com/2227-9067/8/6/457,https://my.silobreaker.com/5_2275861526147502161\\r\\n5_2275860681112682715,16_2275859455973261369,The Surefire Sign Your Thyroid Isn\\'t Working Right,News,en,2021-05-29T19:45:00Z,2021-05-29T19:45:00Z,2021-05-29T19:46:44Z,2021-05-29T19:45:00Z,Yahoo! India,3,https://in.style.yahoo.com/surefire-sign-thyroid-isnt-working-190130476.html,https://my.silobreaker.com/5_2275860681112682715\\r\\n5_2275860032572621036,16_2275860032572620917,Beyond classic concepts in thyroid homeostasis: immune system and microbiota.,News,en,2021-05-29T10:17:00Z,2021-05-29T10:17:00Z,2021-05-29T10:18:35Z,2021-05-29T10:17:00Z,NCBI,1,https://pubmed.ncbi.nlm.nih.gov/34048865/,https://my.silobreaker.com/5_2275860032572621036\\r\\n5_2275859866679508992,,EurekaMag - The value of intraoperative neuromonitoring in thyroid surgery--a prospective observational study with 926 patients https://t.co/6nTjrfpKqd,Tweet,en,2021-05-29T07:54:32Z,2021-05-29T07:54:32Z,2021-05-29T07:54:55Z,2021-05-29T07:54:32Z,EurekaMag - Twitter,1,https://twitter.com/EurekaMag/status/1398548298084978688,https://my.silobreaker.com/5_2275859866679508992\\r\\n5_2275859833963937792,,EurekaMag - Continuous intraoperative neuromonitoring of the recurrent laryngeal nerve in thyroid surgery (CIONM) - Where are w\\xe2\\x80\\xa6 https://t.co/TyuEEUfkTa,Tweet,en,2021-05-29T07:24:02Z,2021-05-29T07:24:02Z,2021-05-29T07:24:28Z,2021-05-29T07:24:02Z,EurekaMag - Twitter,1,https://twitter.com/EurekaMag/status/1398540622651265024,https://my.silobreaker.com/5_2275859833963937792\\r\\n5_2275858736566239351,16_2275858736566239325,Germinated millet flour (Pennisetum glaucum (L.) R. BR.) improves adipogenesis and glucose metabolism and maintains thyroid function in vivo.,News,en,2021-05-28T23:26:00Z,2021-05-28T23:26:00Z,2021-05-28T23:27:21Z,2021-05-28T23:26:00Z,NCBI,1,https://pubmed.ncbi.nlm.nih.gov/34047312/,https://my.silobreaker.com/5_2275858736566239351\\r\\n5_2275858732271272074,16_2275858732271272064,Needle tract seeding of papillary thyroid carcinoma after fine-needle capillary biopsy: A case report.,News,en,2021-05-28T23:22:00Z,2021-05-28T23:22:00Z,2021-05-28T23:23:01Z,2021-05-28T23:22:00Z,NCBI,1,https://pubmed.ncbi.nlm.nih.gov/34046467/,https://my.silobreaker.com/5_2275858732271272074\\r\\n5_2275858732271272027,16_2275858732271272020,Breast cancer in previously thyroidectomized patients: which thyroid disorders are a risk factor?,News,en,2021-05-28T23:22:00Z,2021-05-28T23:22:00Z,2021-05-28T23:23:01Z,2021-05-28T23:22:00Z,NCBI,1,https://pubmed.ncbi.nlm.nih.gov/34046196/,https://my.silobreaker.com/5_2275858732271272027\\r\\n5_2275858491786657794,,EurekaMag - Signal Changes of Continuous Intraoperative Neuromonitoring in Thyroid Resections with Postoperative Vocal Cord Pal\\xe2\\x80\\xa6 https://t.co/laNlXDzDee,Tweet,en,2021-05-28T19:54:02Z,2021-05-28T19:54:02Z,2021-05-28T20:10:17Z,2021-05-28T19:54:02Z,EurekaMag - Twitter,1,https://twitter.com/EurekaMag/status/1398366978335674371,https://my.silobreaker.com/5_2275858491786657794\\r\\n5_2275858255395684354,16_2275858255395684353,Levothyroxine sodium oral solution to control thyroid function in a patient with hypothyroidism and celiac disease,News,en,2021-05-28T16:25:56Z,2021-05-28T16:25:56Z,2021-05-29T12:28:07Z,2021-05-28T16:25:56Z,Clinical Case Reports,1,https://onlinelibrary.wiley.com/doi/10.1002/ccr3.4170?af=R,https://my.silobreaker.com/5_2275858255395684354\\r\\n5_2275858124533399577,16_2275858124533399569,\"Syringic acid, a novel thyroid hormone receptor\\xe2\\x80\\x90\\xce\\xb2 agonist, ameliorates propylthiouracil\\xe2\\x80\\x90induced thyroid toxicity in rats\",News,en,2021-05-28T14:32:00Z,2021-05-28T14:32:00Z,2021-05-28T15:09:14Z,2021-05-28T14:32:00Z,Journal of Biochemical and Molecular Toxicology,1,https://onlinelibrary.wiley.com/doi/full/10.1002/jbt.22814,https://my.silobreaker.com/5_2275858124533399577\\r\\n5_2275857935554838623,16_2275857878646521908,Systematic review and meta\\xe2\\x80\\x90analysis for the value of thyroid disorder screening in men with ejaculatory dysfunction,News,en,2021-05-28T11:48:00Z,2021-05-28T11:48:00Z,2021-05-29T10:20:12Z,2021-05-28T11:48:00Z,International Journal of Clinical Practice,1,https://onlinelibrary.wiley.com/doi/10.1111/ijcp.14419?af=R,https://my.silobreaker.com/5_2275857935554838623\\r\\n5_2275857895859945472,,EurekaMag - Implementation of a Vessel Sealing Device in a Centre for Thyroid Surgery: Risk and Economic Profit https://t.co/tUaxR7Buds,Tweet,en,2021-05-28T11:11:02Z,2021-05-28T11:11:02Z,2021-05-28T11:34:25Z,2021-05-28T11:11:02Z,EurekaMag - Twitter,1,https://twitter.com/EurekaMag/status/1398235362229555205,https://my.silobreaker.com/5_2275857895859945472\\r\\n5_2275857878646521993,16_2275857878646521914,The Value of Pre-Ablative I-131 Scan for Clinical Management in Patients With Differentiated Thyroid Carcinoma,News,en,2021-05-28T10:59:00Z,2021-05-28T10:59:00Z,2021-05-28T12:39:27Z,2021-05-28T10:59:00Z,Frontiers in Endocrinology,1,https://www.frontiersin.org/articles/10.3389/fendo.2021.655676,https://my.silobreaker.com/5_2275857878646521993\\r\\n5_2275857680239165445,16_2275857680239165440,AI innovation will make thyroid ultrasounds faster and easier,News,en,2021-05-28T08:02:14Z,2021-05-28T08:02:14Z,2021-05-29T00:54:28Z,2021-05-28T08:02:14Z,Mirage News,1,https://www.miragenews.com/ai-innovation-will-make-thyroid-ultrasounds-568184/,https://my.silobreaker.com/5_2275857680239165445\\r\\n5_2275857237102559232,,EurekaMag - Randomized controlled trial on vessel sealing in thyroid surgery https://t.co/FQQ7fUsYF5,Tweet,en,2021-05-28T01:37:33Z,2021-05-28T01:37:33Z,2021-05-28T02:34:20Z,2021-05-28T01:37:33Z,EurekaMag - Twitter,1,https://twitter.com/EurekaMag/status/1398091037747208196,https://my.silobreaker.com/5_2275857237102559232\\r\\n5_2275857128100993407,16_2275857128100990910,\"New Thyroid Assessment Tool, TNAPP, Eases Nodule Evaluation\",News,en,2021-05-28T00:00:00Z,2021-05-28T00:00:00Z,2021-05-28T15:34:43Z,2021-05-28T00:00:00Z,Medscape,1,https://www.medscape.com/viewarticle/952058,https://my.silobreaker.com/5_2275857128100993407\\r\\n5_2275857128100989032,16_2275857128100988046,\"Children, Vol. 8, Pages 454: The Effect of Thyrotropin-Releasing Hormone and Antithyroid Drugs on Fetal Thyroid Function\",Report,en,2021-05-28T00:00:00Z,2021-05-28T00:00:00Z,2021-05-28T04:14:28Z,2021-05-28T00:00:00Z,MDPI Publishing,2,https://www.mdpi.com/2227-9067/8/6/454,https://my.silobreaker.com/5_2275857128100989032\\r\\n5_2275857128100988280,16_2275857128100987715,\"JMP, Vol. 2, Pages 135-146: Molecular Tests for Risk-Stratifying Cytologically Indeterminate Thyroid Nodules: An Overview of Commercially Available Testing Platforms in the United States\",Report,en,2021-05-28T00:00:00Z,2021-05-28T00:00:00Z,2021-05-28T03:28:12Z,2021-05-28T00:00:00Z,MDPI Publishing,1,https://www.mdpi.com/2673-5261/2/2/14,https://my.silobreaker.com/5_2275857128100988280\\r\\n5_2275856375407968470,16_2275856375407968356,5 Foods That Will Keep Your Thyroid Healthy and Prevent Weight Gain,News,en,2021-05-27T21:03:00Z,2021-05-27T21:03:00Z,2021-05-27T21:17:02Z,2021-05-27T21:03:00Z,Women Daily Magazine,1,https://www.womendailymagazine.com/5-foods-that-will-keep-your-thyroid-healthy-and-prevent-weight-gain/,https://my.silobreaker.com/5_2275856375407968470\\r\\n5_2275856205756760156,16_2275856205756760117,18F-Fluorodeoxyglucose Positron Emission Tomography/Computed Tomography Finding in a Rare Case of Follicular Carcinoma of Thyroid with Rhabdoid Morphology.,News,en,2021-05-27T18:37:00Z,2021-05-27T18:37:00Z,2021-05-27T19:15:23Z,2021-05-27T18:37:00Z,NCBI,1,https://pubmed.ncbi.nlm.nih.gov/34040299/,https://my.silobreaker.com/5_2275856205756760156\\r\\n5_2275856183208182096,16_2275856183208181956,A rare case of sacral metastasis of unknown follicular thyroid carcinoma radiologically mimicking as chordoma.,News,en,2021-05-27T18:16:00Z,2021-05-27T18:16:00Z,2021-05-27T18:55:30Z,2021-05-27T18:16:00Z,NCBI,1,https://pubmed.ncbi.nlm.nih.gov/34041121/,https://my.silobreaker.com/5_2275856183208182096\\r\\n5_2275856183208182063,16_2275856183208181931,The Value of Sonography in Distinguishing Follicular Thyroid Carcinoma from Adenoma.,News,en,2021-05-27T18:16:00Z,2021-05-27T18:16:00Z,2021-05-27T18:55:30Z,2021-05-27T18:16:00Z,NCBI,1,https://pubmed.ncbi.nlm.nih.gov/34040440/,https://my.silobreaker.com/5_2275856183208182063\\r\\n5_2275856183208182057,16_2275856183208181925,Predictive Value of Thyroglobulin Changes for the Curative Effect of Radioiodine Therapy in Patients With Metastatic Differentiated Thyroid Carcinoma.,News,en,2021-05-27T18:16:00Z,2021-05-27T18:16:00Z,2021-05-27T18:55:30Z,2021-05-27T18:16:00Z,NCBI,1,https://pubmed.ncbi.nlm.nih.gov/34040584/,https://my.silobreaker.com/5_2275856183208182057\\r\\n5_2275856183208182035,16_2275856183208181904,Thyroid metastasis from adenoid cystic carcinoma of the lung: a case report and literature review.,News,en,2021-05-27T18:16:00Z,2021-05-27T18:16:00Z,2021-05-27T18:55:30Z,2021-05-27T18:16:00Z,NCBI,1,https://pubmed.ncbi.nlm.nih.gov/34040752/,https://my.silobreaker.com/5_2275856183208182035\\r\\n5_2275856183208182023,16_2275856183208181893,Metastasis of cN0 Papillary Thyroid Carcinoma of the Isthmus to the Lymph Node Posterior to the Right Recurrent Laryngeal Nerve.,News,en,2021-05-27T18:16:00Z,2021-05-27T18:16:00Z,2021-05-27T18:55:30Z,2021-05-27T18:16:00Z,NCBI,1,https://pubmed.ncbi.nlm.nih.gov/34040587/,https://my.silobreaker.com/5_2275856183208182023\\r\\n5_2275855845818368004,16_2275855845818368002,Analysis of the Prognostic Value and Potential Molecular Mechanisms of TREM-1 Overexpression in Papillary Thyroid Cancer via Bioinformatics Methods,News,en,2021-05-27T13:21:50Z,2021-05-27T13:21:50Z,2021-05-28T04:43:03Z,2021-05-27T13:21:50Z,Frontiers in Endocrinology,1,https://www.frontiersin.org/articles/10.3389/fendo.2021.646793,https://my.silobreaker.com/5_2275855845818368004\\r\\n5_2275855754265100288,,jjx - @lisa_kendall_ Yes! I\\'m finally on thyroid medicine now too.,Tweet,en,2021-05-27T12:00:33Z,2021-05-27T12:00:33Z,2021-05-27T12:39:39Z,2021-05-27T12:00:33Z,jjx - Twitter,1,https://twitter.com/jjx/status/1397885431803518981,https://my.silobreaker.com/5_2275855754265100288\\r\\n5_2275855596945146355,16_2275855596945146103,Parathyroid Changes After RAI in Patients With Differentiated Thyroid Carcinoma,News,en,2021-05-27T09:46:00Z,2021-05-27T09:46:00Z,2021-05-27T10:06:36Z,2021-05-27T09:46:00Z,Frontiers in Endocrinology,1,https://www.frontiersin.org/articles/10.3389/fendo.2021.671787,https://my.silobreaker.com/5_2275855596945146355\\r\\n5_2275855298444918866,16_2275853556835680392,What kind of pregnant vitamin can you take if you have a thyroid problem?,News,en,2021-05-27T05:24:00Z,2021-05-27T05:24:00Z,2021-05-27T05:26:17Z,2021-05-27T05:24:00Z,Tek Deeps,4,https://tekdeeps.com/what-kind-of-pregnant-vitamin-can-you-take-if-you-have-a-thyroid-problem/,https://my.silobreaker.com/5_2275855298444918866\\r\\n5_2275855754265100288,,jjx - @lisa_kendall_ Yes! I\\'m finally on thyroid medicine now too.,Tweet,en,2021-05-27T12:00:33Z,2021-05-27T12:00:33Z,2021-05-27T12:39:39Z,2021-05-27T12:00:33Z,jjx - Twitter,1,https://twitter.com/jjx/status/1397885431803518981,https://my.silobreaker.com/5_2275855754265100288\\r\\n5_2275855596945146355,16_2275855596945146103,Parathyroid Changes After RAI in Patients With Differentiated Thyroid Carcinoma,News,en,2021-05-27T09:46:00Z,2021-05-27T09:46:00Z,2021-05-27T10:06:36Z,2021-05-27T09:46:00Z,Frontiers in Endocrinology,1,https://www.frontiersin.org/articles/10.3389/fendo.2021.671787,https://my.silobreaker.com/5_2275855596945146355\\r\\n5_2275855298444918866,16_2275853556835680392,What kind of pregnant vitamin can you take if you have a thyroid problem?,News,en,2021-05-27T05:24:00Z,2021-05-27T05:24:00Z,2021-05-27T05:26:17Z,2021-05-27T05:24:00Z,Tek Deeps,4,https://tekdeeps.com/what-kind-of-pregnant-vitamin-can-you-take-if-you-have-a-thyroid-problem/,https://my.silobreaker.com/5_2275855298444918866\\r\\n5_2275855172280254464,,EurekaMag - Intraoperative neuromonitoring in thyroid surgery and surgery of the parathyroid gland https://t.co/BSWhe1nwMi,Tweet,en,2021-05-27T03:34:32Z,2021-05-27T03:34:32Z,2021-05-27T03:34:56Z,2021-05-27T03:34:32Z,EurekaMag - Twitter,1,https://twitter.com/EurekaMag/status/1397758091823763456,https://my.silobreaker.com/5_2275855172280254464\\r\\n5_2275854126992588863,16_2275854126992588837,Contrast-Enhanced Ultrasound in the Differential Diagnosis and Risk Stratification of ACR TI-RADS Category 4 and 5 Thyroid Nodules With Non-Hypovascular,News,en,2021-05-26T20:21:00Z,2021-05-26T20:21:00Z,2021-05-26T20:50:22Z,2021-05-26T20:21:00Z,Frontiers in Oncology,1,https://www.frontiersin.org/articles/10.3389/fonc.2021.662273,https://my.silobreaker.com/5_2275854126992588863\\r\\n5_2275853836008554961,16_2275853836008554655,\"Do not neglect thyroid disorders, DOH warns\",News,en,2021-05-26T16:06:00Z,2021-05-26T16:06:00Z,2021-05-26T23:57:21Z,2021-05-26T16:06:00Z,Business Mirror,1,https://businessmirror.com.ph/2021/05/27/do-not-neglect-thyroid-disorders-doh-warns/,https://my.silobreaker.com/5_2275853836008554961\\r\\n5_2275853532139618530,16_2275853532139618411,Long non\\xe2\\x80\\x90coding RNA HOTAIR/microRNA\\xe2\\x80\\x90761 sponge regulates PPME1 and further influences cell biological functions in thyroid carcinoma,News,en,2021-05-26T11:43:00Z,2021-05-26T11:43:00Z,2021-05-26T11:47:11Z,2021-05-26T11:43:00Z,Laryngoscope Investigative Otolaryngology,1,https://onlinelibrary.wiley.com/doi/full/10.1002/lio2.593,https://my.silobreaker.com/5_2275853532139618530\\r\\n5_2275853314170028079,16_2275851451227963444,Prevalence of Thyroid Nodules in China: A Health Examination Cohort-Based Study,News,en,2021-05-26T08:32:00Z,2021-05-26T08:32:00Z,2021-05-26T08:34:23Z,2021-05-26T08:32:00Z,Frontiers in Endocrinology,1,https://www.frontiersin.org/articles/10.3389/fendo.2021.676144,https://my.silobreaker.com/5_2275853314170028079\\r\\n5_2275853314170028066,16_2275853314170028051,Long-Term Results of Ultrasound-Guided Radiofrequency Ablation of Benign Thyroid Nodules: State of the Art and Future Perspectives\\xe2\\x80\\x94A Systematic Review,News,en,2021-05-26T08:32:00Z,2021-05-26T08:32:00Z,2021-05-26T08:34:23Z,2021-05-26T08:32:00Z,Frontiers in Endocrinology,1,https://www.frontiersin.org/articles/10.3389/fendo.2021.622996,https://my.silobreaker.com/5_2275853314170028066\\r\\n5_2275853260482937228,16_2275853260482937023,HBME1 and CK19 expression in non-invasive follicular thyroid neoplasm with papillary-like nuclear features (NIFTP) vs other follicular patterned thyroid lesions,News,en,2021-05-26T07:46:00Z,2021-05-26T07:46:00Z,2021-05-26T07:50:04Z,2021-05-26T07:46:00Z,Paperity,1,https://paperity.org/p/261863592/hbme1-and-ck19-expression-in-non-invasive-follicular-thyroid-neoplasm-with-papillary-like,https://my.silobreaker.com/5_2275853260482937228\\r\\n5_2275853084389277902,16_2275853084389277799,\"Link between thyroid gland, kidney stones\",News,en,2021-05-26T05:10:00Z,2021-05-26T05:10:00Z,2021-05-26T05:12:29Z,2021-05-26T05:10:00Z,Scranton Times-Tribune,1,https://www.thetimes-tribune.com/news/health-science/link-between-thyroid-gland-kidney-stones/article_37e6a70c-1e2e-52fc-b92a-ca7973042ee5.html,https://my.silobreaker.com/5_2275853084389277902\\r\\n5_2275853065061924894,16_2275853065061924889,\"Thyroid and heart, a clinically relevant relationship.\",News,en,2021-05-26T04:56:00Z,2021-05-26T04:56:00Z,2021-05-26T04:56:47Z,2021-05-26T04:56:00Z,NCBI,1,https://pubmed.ncbi.nlm.nih.gov/34033065/,https://my.silobreaker.com/5_2275853065061924894\\r\\n5_2275852730054483838,16_2275852730054480835,\"Applied Sciences, Vol. 11, Pages 4884: Developmental Toxicity and Thyroid Endocrine Disruption of Polyhexamethylene Guanidine Hydrochloride and Humidifier Disinfectant in Zebrafish Larvae\",Report,en,2021-05-26T00:00:00Z,2021-05-26T00:00:00Z,2021-05-26T10:42:37Z,2021-05-26T00:00:00Z,MDPI Publishing,2,https://www.mdpi.com/2076-3417/11/11/4884,https://my.silobreaker.com/5_2275852730054483838\\r\\n5_2275852730054481162,16_2275852730054479066,\"Applied Sciences, Vol. 11, Pages 4873: Geometric and Volumetric Measurements of Orbital Structures in CT Scans in Thyroid Eye Disease Classification\",Report,en,2021-05-26T00:00:00Z,2021-05-26T00:00:00Z,2021-05-26T08:14:48Z,2021-05-26T00:00:00Z,MDPI Publishing,2,https://www.mdpi.com/2076-3417/11/11/4873,https://my.silobreaker.com/5_2275852730054481162\\r\\n5_2275851667050070034,16_2275849947989409849,Predicting nodal metastases in papillary thyroid carcinoma using artificial intelligence.,News,en,2021-05-25T16:34:00Z,2021-05-25T16:34:00Z,2021-05-25T17:13:43Z,2021-05-25T16:34:00Z,NCBI,4,https://pubmed.ncbi.nlm.nih.gov/34030870/,https://my.silobreaker.com/5_2275851667050070034\\r\\n5_2275851652822990856,16_2275851652822990855,\"Effects of acute exposure to microcystins on hypothalamic-pituitary-adrenal (HPA), -gonad (HPG) and -thyroid (HPT) axes of female rats.\",News,en,2021-05-25T16:20:48Z,2021-05-25T16:20:48Z,2021-05-25T23:06:21Z,2021-05-25T16:20:48Z,NCBI,1,https://pubmed.ncbi.nlm.nih.gov/34030373/,https://my.silobreaker.com/5_2275851652822990856\\r\\n5_2275851401835839570,16_2275849415413465130,\"World Celebrates Thyroid Day: Know The Causes, Symptoms And Treatment\",News,en,2021-05-25T12:43:00Z,2021-05-25T12:43:00Z,2021-05-25T13:13:32Z,2021-05-25T12:43:00Z,Kalinga TV,7,https://kalingatv.com/miscellany/world-thyroid-day-celebrated-on-may-25-causes-symptoms-and-treatment/,https://my.silobreaker.com/5_2275851401835839570\\r\\n5_2275851298756624394,16_2275849369242566752,\"Thyroid: What does T1, T2, T3, T4 and TSH markers signify\",News,en,2021-05-25T11:11:00Z,2021-05-25T11:11:00Z,2021-05-25T11:27:08Z,2021-05-25T11:11:00Z,Times of India,1,https://timesofindia.indiatimes.com/life-style/health-fitness/health-news/world-thyroid-day-what-does-t1-t2-t3-t4-and-tsh-markers-signify-in-thyroid-test/articleshow/82937726.cms,https://my.silobreaker.com/5_2275851298756624394\\r\\n5_2275850935831888011,16_2275850935831887926,Teprotumumab use in thyroid eye disease tied to rapid progressive cognitive decline: Case report,News,en,2021-05-25T05:57:00Z,2021-05-25T05:57:00Z,2021-05-25T06:09:05Z,2021-05-25T05:57:00Z,Medical Dialogues,1,https://medicaldialogues.in/ophthalmology/cases/teprotumumab-use-in-thyroid-eye-disease-tied-to-rapid-progressive-cognitive-decline-case-report-77922,https://my.silobreaker.com/5_2275850935831888011\\r\\n5_2275850531031236596,16_2275850531031229129,Local recurrence of iodine refractory thyroid cancers. Surgical therapy options for larynx and trachea infiltration,News,en,2021-05-25T00:00:00Z,2021-05-25T00:00:00Z,2021-05-26T10:23:09Z,2021-05-25T00:00:00Z,NCBI,1,https://pubmed.ncbi.nlm.nih.gov/34034355/,https://my.silobreaker.com/5_2275850531031236596\\r\\n5_2275850531031232522,16_2275850531031227297,Should tall cell thyroid cancers be evaluated differently from well-differentiated thyroid cancers?,News,en,2021-05-25T00:00:00Z,2021-05-25T00:00:00Z,2021-05-25T16:58:51Z,2021-05-25T00:00:00Z,NCBI,1,https://pubmed.ncbi.nlm.nih.gov/34031288/,https://my.silobreaker.com/5_2275850531031232522\\r\\n5_2275850531031231288,16_2275850531031226455,\"JCM, Vol. 10, Pages 2304: Higher EU-TIRADS-Score Correlated with BRAF V600E Positivity in the Early Stage of Papillary Thyroid Carcinoma\",Report,en,2021-05-25T00:00:00Z,2021-05-25T00:00:00Z,2021-05-25T14:54:21Z,2021-05-25T00:00:00Z,MDPI Publishing,2,https://www.mdpi.com/2077-0383/10/11/2304,https://my.silobreaker.com/5_2275850531031231288\\r\\n5_2275849637678022708,16_2275849637678022686,\"Amelioration of sperm fertilizability, thyroid activity, oxidative stress, and inflammatory cytokines in rabbit bucks treated with phytogenic extracts\",News,en,2021-05-24T19:00:00Z,2021-05-24T19:00:00Z,2021-05-24T19:08:44Z,2021-05-24T19:00:00Z,Animal Science Journal,1,https://onlinelibrary.wiley.com/doi/full/10.1111/asj.13560,https://my.silobreaker.com/5_2275849637678022708\\r\\n5_2275849402528563415,16_2275849402528563291,Long\\xe2\\x80\\x90term efficacy and safety of percutaneous ethanol injection (PEI) in cystic thyroid nodules. A systematic review and meta\\xe2\\x80\\x90analysis.,News,en,2021-05-24T15:37:00Z,2021-05-24T15:37:00Z,2021-05-24T16:06:48Z,2021-05-24T15:37:00Z,Journal of Clinical Endocrinology,1,https://onlinelibrary.wiley.com/doi/full/10.1111/cen.14530,https://my.silobreaker.com/5_2275849402528563415\\r\\n5_2275849176472354817,16_2275849176472354816,\"Global Femtech Solutions Industry Report 2021: Industry is Shifting Focus to Unaddressed Need of Fibroids, Thyroid Issues, PCOS, Endometriosis, Pelvic Health, Pre-menopause, and Menopausal Care\",News,en,2021-05-24T12:18:30Z,2021-05-24T12:18:30Z,2021-05-24T12:54:27Z,2021-05-24T12:18:30Z,Benzinga - Analyst Ratings - RSS,1,https://www.benzinga.com/pressreleases/21/05/g21255590/global-femtech-solutions-industry-report-2021-industry-is-shifting-focus-to-unaddressed-need-of-fi,https://my.silobreaker.com/5_2275849176472354817\\r\\n5_2275849158789169367,16_2275847028485390392,World Thyroid Day 2021: Include these 5 foods to deal with thyroid issues..,News,en,2021-05-24T12:02:00Z,2021-05-24T12:02:00Z,2021-05-24T12:10:33Z,2021-05-24T12:02:00Z,Jagran Post,2,https://english.jagran.com/lifestyle/world-thyroid-day-2021-include-these-5-foods-to-deal-with-thyroid-issues-deets-inside-10027067,https://my.silobreaker.com/5_2275849158789169367\\r\\n5_2275849098659627322,16_2275849098659627184,COVID-19: A Potential Trigger for Thyroid Dysfunction.,News,en,2021-05-24T11:10:00Z,2021-05-24T11:10:00Z,2021-05-24T11:18:04Z,2021-05-24T11:10:00Z,NCBI,1,https://pubmed.ncbi.nlm.nih.gov/34023311/,https://my.silobreaker.com/5_2275849098659627322\\r\\n5_2275849048193761652,16_2275849048193761466,Outcomes of Tracheal Resections in Well-Differentiated Thyroid Cancer-A case series and meta-analysis.,News,en,2021-05-24T10:27:00Z,2021-05-24T10:27:00Z,2021-05-24T10:37:09Z,2021-05-24T10:27:00Z,NCBI,1,https://pubmed.ncbi.nlm.nih.gov/34023920/,https://my.silobreaker.com/5_2275849048193761652\\r\\n5_2275848998801637481,,\"Global Thyroid Shields Market 2021 by Manufacturers, Regions, Type and Application, Forecast to 2026\",News,en,2021-05-24T09:45:00Z,2021-05-24T09:45:00Z,2021-05-24T09:47:23Z,2021-05-24T09:45:00Z,Business-Presse.de,1,http://www.business-presse.de/IT-und-Medien/492922_Global-Thyroid-Shields-Market-2021-By-Manufacturers-Regions-Type-And-Application-Forecast-To-2026.html,https://my.silobreaker.com/5_2275848998801637481\\r\\n5_2275848800763379712,16_2275848800763379712,DOH LEADS OBSERVANCE OF INTERNATIONAL THYROID AWARENESS WEEK (ITAW) AND WORLD THYROID DAY (WTD) 2021 | Department of Health website,Blog,en,2021-05-24T06:52:36Z,2021-05-24T06:52:36Z,2021-05-24T06:54:24Z,2021-05-24T06:52:36Z,Philippines Department of Health - Press Releases,1,https://doh.gov.ph/press-release/DOH-LEADS-OBSERVANCE-OF-INTERNATIONAL-THYROID-AWARENESS-WEEK-ITAW-AND-WORLD-THYROID-DAY-WTD-2021,https://my.silobreaker.com/5_2275848800763379712\\r\\n5_2275848338450415713,16_2275848338450415677,Pituitary thyrotoxicosis presenting as abnormal thyroid function testing during pregnancy: a case report,News,en,2021-05-24T00:06:00Z,2021-05-24T00:06:00Z,2021-05-24T00:07:15Z,2021-05-24T00:06:00Z,Paperity,1,https://paperity.org/p/261283414/pituitary-thyrotoxicosis-presenting-as-abnormal-thyroid-function-testing-during-pregnancy,https://my.silobreaker.com/5_2275848338450415713\\r\\n5_2275848332007975973,16_2275848332007971351,\"Medicina, Vol. 57, Pages 527: Ultrasound Image Classification of Thyroid Nodules Using Machine Learning Techniques\",Report,en,2021-05-24T00:00:00Z,2021-05-24T00:00:00Z,2021-05-24T16:09:18Z,2021-05-24T00:00:00Z,MDPI Publishing,2,https://www.mdpi.com/1648-9144/57/6/527,https://my.silobreaker.com/5_2275848332007975973\\r\\n5_2275846265054953508,16_2275846265054953492,Pranayama is beneficial for Thyroid & other diseases | Yog Yatra with Baba Ramdev,News,en,2021-05-23T01:59:00Z,2021-05-23T01:59:00Z,2021-05-23T02:13:20Z,2021-05-23T01:59:00Z,ABP Live,1,https://news.abplive.com/videos/lifestyle/pranayama-is-beneficial-for-thyroid-other-diseases-yog-yatra-with-baba-ramdev-1459687,https://my.silobreaker.com/5_2275846265054953508\\r\\n5_2275845421093879827,16_2275845421093879816,\"The THYCOVIT (Thyroid Surgery during COVID-19 pandemic in Italy) study: results from a nationwide, multicentric, case-controlled study\",News,en,2021-05-22T21:41:00Z,2021-05-22T21:41:00Z,2021-05-22T21:41:43Z,2021-05-22T21:41:00Z,Paperity,1,https://paperity.org/p/261231123/the-thycovit-thyroid-surgery-during-covid-19-pandemic-in-italy-study-results-from-a,https://my.silobreaker.com/5_2275845421093879827\\r\\n5_2275845268622540876,16_2275845268622540825,Natural Remedies For Thyroid,News,en,2021-05-22T19:27:00Z,2021-05-22T19:27:00Z,2021-05-22T19:28:02Z,2021-05-22T19:27:00Z,Femina,1,https://www.femina.in/wellness/health/natural-remedies-for-thyroid-195088.html,https://my.silobreaker.com/5_2275845268622540876\\r\\n5_2275845254663897292,16_2275845254663897222,Thyroid MALT lymphoma: self-harm to gain potential T-cell help.,News,en,2021-05-22T19:14:00Z,2021-05-22T19:14:00Z,2021-05-22T19:15:37Z,2021-05-22T19:14:00Z,NCBI,1,https://pubmed.ncbi.nlm.nih.gov/34021249/,https://my.silobreaker.com/5_2275845254663897292\\r\\n5_2275845203124289719,16_2275845203124289598,Diagnosis of \\xe2\\x80\\x9cfollicular neoplasm\\xe2\\x80\\x9d: A gray zone in thyroid fine\\xe2\\x80\\x90needle aspiration cytology,News,en,2021-05-22T18:30:00Z,2021-05-22T18:30:00Z,2021-05-22T18:31:49Z,2021-05-22T18:30:00Z,Diagnostic Cytopathology,1,https://onlinelibrary.wiley.com/doi/full/10.1002/dc.10043,https://my.silobreaker.com/5_2275845203124289719\\r\\n5_2275844653368475852,16_2275844653368475690,Performance of Afirma genomic sequencing classifier vs gene expression classifier in Bethesda category III thyroid nodules: An institutional experience,News,en,2021-05-22T10:30:00Z,2021-05-22T10:30:00Z,2021-05-22T10:31:06Z,2021-05-22T10:30:00Z,Diagnostic Cytopathology,1,https://onlinelibrary.wiley.com/doi/full/10.1002/dc.24765,https://my.silobreaker.com/5_2275844653368475852\\r\\n5_2275844454726238311,16_2275844454726238263,Papillary thyroid microcarcinoma: is active surveillance always enough?,News,en,2021-05-22T07:37:00Z,2021-05-22T07:37:00Z,2021-05-22T07:38:03Z,2021-05-22T07:37:00Z,Journal of Clinical Endocrinology,1,https://onlinelibrary.wiley.com/doi/full/10.1111/cen.14529,https://my.silobreaker.com/5_2275844454726238311\\r\\n5_2275843365952028700,16_2275841893851988096,\"CD73 expression in normal, hyperplastic, and neoplastic thyroid: a systematic evaluation revealing CD73 overexpression as a feature of papillary carcinomas.\",News,en,2021-05-21T23:47:00Z,2021-05-21T23:47:00Z,2021-05-21T23:48:02Z,2021-05-21T23:47:00Z,NCBI,5,https://pubmed.ncbi.nlm.nih.gov/34019179/,https://my.silobreaker.com/5_2275843365952028700\\r\\n5_2275841102504263682,16_2275841102504263680,\"If Your Hair Feels Like This, Get Your Thyroid Checked, Experts Warn\",News,en,2021-05-20T22:51:00Z,2021-05-20T22:51:00Z,2021-05-20T22:52:16Z,2021-05-20T22:51:00Z,BestLifeOnline.com,1,https://bestlifeonline.com/dry-hair-thyroid-gland-news/,https://my.silobreaker.com/5_2275841102504263682\\r\\n5_2275841096061812828,16_2275841096061812802,Clinical implications of TPO and AOX1 in pediatric papillary thyroid carcinoma.,News,en,2021-05-20T22:45:00Z,2021-05-20T22:45:00Z,2021-05-20T22:46:59Z,2021-05-20T22:45:00Z,NCBI,1,https://pubmed.ncbi.nlm.nih.gov/34012822/,https://my.silobreaker.com/5_2275841096061812828\\r\\n5_2275841032409055235,16_2275841032409055232,Jeff Stelling feared Sky Sports pal Chris Kamara was latest ex-footballer to suffer from dementia over thyroid problems,News,en,2021-05-20T21:49:46Z,2021-05-20T21:49:46Z,2021-05-20T22:22:01Z,2021-05-20T21:49:46Z,The Scottish Sun - RSS,1,https://www.thescottishsun.co.uk/sport/football/7142038/jeff-stelling-sky-sports-chris-kamara-dementia-thyroid/,https://my.silobreaker.com/5_2275841032409055235\\r\\n5_2275840791018471425,16_2275840791018471424,Germinated millet flour (Pennisetum Glaucum (L.) R. BR.) improves adipogenesis and glucose metabolism and maintains thyroid function in vivo,News,en,2021-05-20T18:16:58Z,2021-05-20T18:16:58Z,2021-05-20T19:01:17Z,2021-05-20T18:16:58Z,Agenparl,1,https://agenparl.eu/germinated-millet-flour-pennisetum-glaucum-l-r-br-improves-adipogenesis-and-glucose-metabolism-and-maintains-thyroid-function-in-vivo/,https://my.silobreaker.com/5_2275840791018471425\\r\\n5_2275839535914956643,16_2275839535914950536,Transcription start site-level expression of thyroid transcription factor 1 isoforms in lung adenocarcinoma and its clinicopathological significance,News,en,2021-05-20T00:00:00Z,2021-05-20T00:00:00Z,2021-05-20T22:19:50Z,2021-05-20T00:00:00Z,NCBI,1,https://pubmed.ncbi.nlm.nih.gov/34014042/,https://my.silobreaker.com/5_2275839535914956643\\r\\n5_2275839535914948205,16_2275839535914946061,\"Children, Vol. 8, Pages 422: Thyroid Microcarcinoma in Pediatric Population in Romania\",Report,en,2021-05-20T00:00:00Z,2021-05-20T00:00:00Z,2021-05-20T08:16:34Z,2021-05-20T00:00:00Z,MDPI Publishing,1,https://www.mdpi.com/2227-9067/8/5/422,https://my.silobreaker.com/5_2275839535914948205\\r\\n5_2275839535914947799,16_2275839535914945823,Thyroid Microcarcinoma in Pediatric Population in Romania,News,en,2021-05-20T00:00:00Z,2021-05-20T00:00:00Z,2021-05-20T07:50:06Z,2021-05-20T00:00:00Z,MDPI,1,https://www.mdpi.com/2227-9067/8/5/422,https://my.silobreaker.com/5_2275839535914947799\\r\\n5_2275839535914945933,16_2275839535914944675,\"Antioxidants, Vol. 10, Pages 809: Vitamin C Cytotoxicity and Its Effects in Redox Homeostasis and Energetic Metabolism in Papillary Thyroid Carcinoma Cell Lines\",Report,en,2021-05-20T00:00:00Z,2021-05-20T00:00:00Z,2021-05-20T05:42:08Z,2021-05-20T00:00:00Z,MDPI Publishing,1,https://www.mdpi.com/2076-3921/10/5/809,https://my.silobreaker.com/5_2275839535914945933\\r\\n5_2275838961463066701,16_2275837336891694235,The effect of I-131 therapy on pregnancy outcomes after thyroidectomy in patients with differentiated thyroid carcinoma: a meta-analysis.,News,en,2021-05-19T23:41:00Z,2021-05-19T23:41:00Z,2021-05-19T23:42:17Z,2021-05-19T23:41:00Z,NCBI,2,https://pubmed.ncbi.nlm.nih.gov/34009542/,https://my.silobreaker.com/5_2275838961463066701\\r\\n5_2275838598538330152,16_2275838598538330137,Correlation Between Thyroid Fine Needle Aspiration Cytology and Postoperative Histology: A 10-Year Single-Centre Experience.,News,en,2021-05-19T18:23:00Z,2021-05-19T18:23:00Z,2021-05-19T19:06:19Z,2021-05-19T18:23:00Z,NCBI,1,https://pubmed.ncbi.nlm.nih.gov/34007757/,https://my.silobreaker.com/5_2275838598538330152\\r\\n5_2275838559883624575,16_2275838559883624524,Normal adrenal and thyroid function in patients who survive COVID-19 infection.,News,en,2021-05-19T17:51:00Z,2021-05-19T17:51:00Z,2021-05-19T18:36:01Z,2021-05-19T17:51:00Z,NCBI,1,https://pubmed.ncbi.nlm.nih.gov/34008009/,https://my.silobreaker.com/5_2275838559883624575\\r\\n5_2275838548072464546,16_2275838548072464386,\"Thyroid \"\"claw sign\"\" a useful diagnostic marker in the outsized lesions of isthmus: A large colloid cyst.\",News,en,2021-05-19T17:40:00Z,2021-05-19T17:40:00Z,2021-05-19T18:21:03Z,2021-05-19T17:40:00Z,NCBI,1,https://pubmed.ncbi.nlm.nih.gov/34007385/,https://my.silobreaker.com/5_2275838548072464546\\r\\n5_2275838524450144435,16_2275838524450144341,\"Lidocaine Infusion Improves the Functionality of Intraoperative Nerve Monitoring During Thyroid Surgery: A Prospective, Randomized, Double-Blinded Study.\",News,en,2021-05-19T17:18:00Z,2021-05-19T17:18:00Z,2021-05-19T17:58:29Z,2021-05-19T17:18:00Z,NCBI,1,https://pubmed.ncbi.nlm.nih.gov/34007359/,https://my.silobreaker.com/5_2275838524450144435\\r\\n5_2275838467541827707,16_2275838467541827584,FDA Grants Fast Track Designation to Novel CAR T-Cell Therapy for Thyroid Cancers,News,en,2021-05-19T16:29:00Z,2021-05-19T16:29:00Z,2021-05-19T17:08:27Z,2021-05-19T16:29:00Z,Targeted Oncology,1,https://www.targetedonc.com/view/fda-grants-fast-track-designation-to-novel-car-t-cell-therapy-for-thyroid-cancers,https://my.silobreaker.com/5_2275838467541827707\\r\\n5_2275838340320198662,16_2275837799674413120,Thyroid Function Tests Market Share Growing Rapidly With Recent Trends And Outlook 2028,News,en,2021-05-19T14:38:33Z,2021-05-19T14:38:33Z,2021-05-20T03:59:10Z,2021-05-19T14:38:33Z,FreePRnow.com,2,http://www.freeprnow.com/pr/thyroid-function-tests-market-share-growing-rapidly-with-recent-trends-and-outlook-2028,https://my.silobreaker.com/5_2275838340320198662\\r\\n5_2275838307554295812,16_2275838307554295810,Hip-swinging hula hooper raises money for Thyroid charity,News,en,2021-05-19T14:08:00Z,2021-05-19T14:08:00Z,2021-05-19T14:56:08Z,2021-05-19T14:08:00Z,\"Clacton, Frinton & Walton Gazette\",1,https://www.clactonandfrintongazette.co.uk/news/19314084.hip-swinging-hula-hooper-clacton-raises-money-thyroid-uk/,https://my.silobreaker.com/5_2275838307554295812\\r\\n5_2275837857656471825,16_2275837511911604240,Prevalence of thyroid dysfunction in postpartum women with suboptimal iodine and selenium and adequate iron status,News,en,2021-05-19T07:37:00Z,2021-05-19T07:37:00Z,2021-05-19T07:41:05Z,2021-05-19T07:37:00Z,Journal of Clinical Endocrinology,1,https://onlinelibrary.wiley.com/doi/full/10.1111/cen.14502,https://my.silobreaker.com/5_2275837857656471825\\r\\n5_2275837706258874583,16_2275837706258874468,Spontaneous Thyroid Hemorrhage Caused by Langerhans Cell Histiocytosis: A Case Report and Literature Review,News,en,2021-05-19T05:24:00Z,2021-05-19T05:24:00Z,2021-05-19T05:37:46Z,2021-05-19T05:24:00Z,Frontiers in Endocrinology,1,https://www.frontiersin.org/articles/10.3389/fendo.2021.610573,https://my.silobreaker.com/5_2275837706258874583\\r\\n5_2275837706258874569,16_2275837706258874458,A Preliminary Study of Quantitative Ultrasound for Cancer-Risk Assessment of Thyroid Nodules,News,en,2021-05-19T05:24:00Z,2021-05-19T05:24:00Z,2021-05-19T05:37:12Z,2021-05-19T05:24:00Z,Frontiers in Endocrinology,1,https://www.frontiersin.org/articles/10.3389/fendo.2021.627698,https://my.silobreaker.com/5_2275837706258874569\\r\\n5_2275837701963907274,16_2275837701963907128,Predictive Factor of Large\\xe2\\x80\\x90Volume Central Lymph Node Metastasis in Clinical N0 Papillary Thyroid Carcinoma Patients Underwent Total Thyroidectomy,News,en,2021-05-19T05:20:00Z,2021-05-19T05:20:00Z,2021-05-19T05:34:47Z,2021-05-19T05:20:00Z,Frontiers in Oncology,1,https://www.frontiersin.org/articles/10.3389/fonc.2021.574774,https://my.silobreaker.com/5_2275837701963907274\\r\\n5_2275837669751652471,16_2275837669751652432,Macrofollicular variant follicular thyroid tumors are DICER1 mutated and exhibit distinct histological features,News,en,2021-05-19T04:54:00Z,2021-05-19T04:54:00Z,2021-05-19T05:20:33Z,2021-05-19T04:54:00Z,Histopathology,1,https://onlinelibrary.wiley.com/doi/full/10.1111/his.14416,https://my.silobreaker.com/5_2275837669751652471\\r\\n5_2275837336891700130,16_2275837336891694236,Thyroid Abscess as a Complication of Percutaneous Ethanol Ablation of Cystic Thyroid Nodules,News,en,2021-05-19T00:00:00Z,2021-05-19T00:00:00Z,2021-05-19T23:19:38Z,2021-05-19T00:00:00Z,NCBI,1,https://pubmed.ncbi.nlm.nih.gov/34010446/,https://my.silobreaker.com/5_2275837336891700130\\r\\n5_2275837336891698636,16_2275837336891693625,Afirma Genomic Sequencing Classifier & Xpression Atlas Molecular Findings in Consecutive Bethesda III-VI Thyroid Nodules,News,en,2021-05-19T00:00:00Z,2021-05-19T00:00:00Z,2021-05-19T18:48:47Z,2021-05-19T00:00:00Z,The Journal of Clinical Endocrinology & Metabolism,1,https://academic.oup.com/jcem/advance-article/doi/10.1210/clinem/dgab304/6278308,https://my.silobreaker.com/5_2275837336891698636\\r\\n5_2275836182619226237,16_2275836182619226175,Decidual NR2F2-Expressing CD4+ T Cells Promote TH2 Transcriptional Program During Early Pregnancy,News,en,2021-05-18T15:13:00Z,2021-05-18T15:13:00Z,2021-05-18T16:05:17Z,2021-05-18T15:13:00Z,Frontiers in Immunology,1,https://www.frontiersin.org/articles/10.3389/fimmu.2021.670777,https://my.silobreaker.com/5_2275836182619226237\\r\\n5_2275835854054227983,16_2275835854054227975,Fish toxicity testing for identification of thyroid disrupting chemicals,News,en,2021-05-18T10:27:00Z,2021-05-18T10:27:00Z,2021-05-18T10:45:33Z,2021-05-18T10:27:00Z,Environmental Pollution - ScienceDirect.com,1,https://www.sciencedirect.com/science/article/pii/S0269749121009568,https://my.silobreaker.com/5_2275835854054227983\\r\\n5_2275835583471288459,16_2275835583471288399,Radiofrequency Ablation for Cervical Metastatic Lymph Nodes in Children and Adolescents With Papillary Thyroid Carcinoma: A Preliminary Study,News,en,2021-05-18T06:31:00Z,2021-05-18T06:31:00Z,2021-05-18T06:32:26Z,2021-05-18T06:31:00Z,Frontiers in Endocrinology,1,https://www.frontiersin.org/articles/10.3389/fendo.2021.624054,https://my.silobreaker.com/5_2275835583471288459\\r\\n5_2275835138942173202,16_2275835138942173196,Endovascular treatment of massive hemorrhage arising from inferior thyroid artery after fine needle aspiration of thyroid: a case report,News,en,2021-05-18T00:01:00Z,2021-05-18T00:01:00Z,2021-05-18T00:03:28Z,2021-05-18T00:01:00Z,Paperity,1,https://paperity.org/p/261451764/endovascular-treatment-of-massive-hemorrhage-arising-from-inferior-thyroid-artery-after,https://my.silobreaker.com/5_2275835138942173202\\r\\n5_2275835137868441884,16_2275835137868437335,Prospective Analysis of TERT Promoter Mutations in Papillary Thyroid Carcinoma at a Single Institution,News,en,2021-05-18T00:00:00Z,2021-05-18T00:00:00Z,2021-05-18T13:44:44Z,2021-05-18T00:00:00Z,MDPI,2,https://www.mdpi.com/2077-0383/10/10/2179,https://my.silobreaker.com/5_2275835137868441884\\r\\n5_2275834390544121939,16_2275834319677161566,\"Feeling cold, hair loss, insomnia: Signs you have a thyroid imbalance\",News,en,2021-05-17T21:08:00Z,2021-05-17T21:08:00Z,2021-05-17T21:20:25Z,2021-05-17T21:08:00Z,TechnicalRipon.com,3,https://www.technicalripon.com/tech/feeling-cold-hair-loss-insomnia-signs-you-have-a-thyroid-imbalance/,https://my.silobreaker.com/5_2275834390544121939\\r\\n5_2275834316707594240,,\"CNETNews - Feeling cold, hair loss, insomnia: Signs you have a thyroid imbalance https://t.co/ZY7z9YofrM\",Tweet,en,2021-05-17T20:03:15Z,2021-05-17T20:03:15Z,2021-05-17T20:26:12Z,2021-05-17T20:03:15Z,CNETNews - Twitter,1,https://twitter.com/CNETNews/status/1394383031708884997,https://my.silobreaker.com/5_2275834316707594240\\r\\n5_2275834274580005061,16_2275833710865547277,\"Papillary thyroid carcinoma in a 5-year old child, mimicking lymphoma in presentation.\",News,en,2021-05-17T19:28:00Z,2021-05-17T19:28:00Z,2021-05-17T19:58:50Z,2021-05-17T19:28:00Z,NCBI,2,https://pubmed.ncbi.nlm.nih.gov/33996648/,https://my.silobreaker.com/5_2275834274580005061\\r\\n5_2275834192975626364,16_2275834192975626293,Persistence of Elevated Procalcitonin in a Patient with Covid-19 Uncovering a Diagnosis of Medullary Thyroid Carcinoma.,News,en,2021-05-17T18:16:00Z,2021-05-17T18:16:00Z,2021-05-17T18:50:09Z,2021-05-17T18:16:00Z,NCBI,1,https://pubmed.ncbi.nlm.nih.gov/33997278/,https://my.silobreaker.com/5_2275834192975626364\\r\\n5_2275833978747355140,16_2275833978747355137,\"Thyroid Disorder Market Size, Share, Growth , Trends and Increasing Demand with Leading key players | Forecasts 2020-2026\",News,en,2021-05-17T15:08:31Z,2021-05-17T15:08:31Z,2021-05-17T15:53:35Z,2021-05-17T15:08:31Z,Nyse News Times - RSS,1,https://nysenewstimes.com/thyroid-disorder-market-size-share-growth-trends-and-increasing-demand-with-leading-key-players-forecasts-2020-2026/,https://my.silobreaker.com/5_2275833978747355140\\r\\n5_2275833823608438917,16_2275833271705141365,A Nomogram Based on Clinical and Ultrasound Characteristics to Predict Central Lymph Node Metastasis of Papillary Thyroid Carcinoma.,News,en,2021-05-17T12:56:00Z,2021-05-17T12:56:00Z,2021-05-17T13:33:06Z,2021-05-17T12:56:00Z,NCBI,2,https://pubmed.ncbi.nlm.nih.gov/33995284/,https://my.silobreaker.com/5_2275833823608438917\\r\\n5_2275833817417646092,16_2275833817417646089,The emerging function and clinical significance of circRNAs in Thyroid Cancer and Autoimmune Thyroid Diseases.,News,en,2021-05-17T12:50:15Z,2021-05-17T12:50:15Z,2021-05-17T23:35:10Z,2021-05-17T12:50:15Z,NCBI,1,https://pubmed.ncbi.nlm.nih.gov/33994857/,https://my.silobreaker.com/5_2275833817417646092\\r\\n5_2275833702275612929,16_2275833459609960500,Outcome and postoperative complications in 73 dogs with thyroid carcinoma with gross vascular invasion managed with thyroidectomy.,News,en,2021-05-17T11:07:00Z,2021-05-17T11:07:00Z,2021-05-17T11:49:27Z,2021-05-17T11:07:00Z,NCBI,2,https://pubmed.ncbi.nlm.nih.gov/33993605/,https://my.silobreaker.com/5_2275833702275612929\\r\\n5_2275833634730541059,16_2275834010439516324,AI Tool Simplifies Thyroid Ultrasound Scanning Workflow,News,en,2021-05-17T10:08:06Z,2021-05-17T10:08:06Z,2021-05-18T06:07:34Z,2021-05-17T10:08:06Z,MedImaging.net,1,https://www.medimaging.net/ultrasound/articles/294788285/ai-tool-simplifies-thyroid-ultrasound-scanning-workflow.html,https://my.silobreaker.com/5_2275833634730541059\\r\\n5_2275833398406676494,16_2275833398406676486,Meta-analysis: Lenvatinib boosts survival in refractory thyroid carcinoma with caveat,News,en,2021-05-17T06:44:00Z,2021-05-17T06:44:00Z,2021-05-17T06:45:07Z,2021-05-17T06:44:00Z,MIMS,1,https://specialty.mims.com/topic/meta-analysis--lenvatinib-boosts-survival-in-refractory-thyroid-carcinoma-with-caveat?country=singapore,https://my.silobreaker.com/5_2275833398406676494\\r\\n5_2275833138561155249,16_2275833138561155175,Keep thyroid in balance with Ujjayi Pranayama | Yog Yatra with Baba Ramdev (17 May 2021),News,en,2021-05-17T02:58:00Z,2021-05-17T02:58:00Z,2021-05-17T02:59:31Z,2021-05-17T02:58:00Z,ABP Live,1,https://news.abplive.com/videos/health/keep-thyroid-in-balance-with-ujjayi-pranayama-yog-yatra-with-baba-ramdev-17-may-2021-1458708,https://my.silobreaker.com/5_2275833138561155249\\r\\n5_2275832938845191934,16_2275832938845185221,Lambda-cyhalothrin and its common metabolite differentially modulate thyroid disruption effects in Chinese lizards (Eremias argus),News,en,2021-05-17T00:00:00Z,2021-05-17T00:00:00Z,2021-05-18T12:21:19Z,2021-05-17T00:00:00Z,NCBI,1,https://pubmed.ncbi.nlm.nih.gov/34000667/,https://my.silobreaker.com/5_2275832938845191934\\r\\n5_2275832938845183949,16_2275832938845180954,The intratumor microbiome predicts prognosis across gender and subtypes in papillary thyroid carcinoma,News,en,2021-05-17T00:00:00Z,2021-05-17T00:00:00Z,2021-05-17T12:03:08Z,2021-05-17T00:00:00Z,NCBI,1,https://pubmed.ncbi.nlm.nih.gov/33995898/,https://my.silobreaker.com/5_2275832938845183949\\r\\n5_2275831234816901199,16_2275831234816901155,Healthy Community Healthy You \\xe2\\x80\\x93 Thyroid \\xe2\\x80\\x93 Your Body\\xe2\\x80\\x99s Task Master,News,en,2021-05-16T07:13:00Z,2021-05-16T07:13:00Z,2021-05-16T07:14:14Z,2021-05-16T07:13:00Z,Vista Press,1,http://www.thevistapress.com/healthy-community-healthy-you-thyroid-your-bodys-task-master/,https://my.silobreaker.com/5_2275831234816901199\\r\\n5_2275827904069763211,16_2275827904069763131,Deep Learning Based on ACR TI-RADS Can Improve the Differential Diagnosis of Thyroid Nodules.,News,en,2021-05-14T22:47:00Z,2021-05-14T22:47:00Z,2021-05-14T22:51:07Z,2021-05-14T22:47:00Z,NCBI,1,https://pubmed.ncbi.nlm.nih.gov/33987082/,https://my.silobreaker.com/5_2275827904069763211\\r\\n5_2275827898701054174,16_2275827898701054084,BRCA2 3\\'-UTR Polymorphism rs15869 Alters Susceptibility to Papillary Thyroid Carcinoma via Binding hsa-mir-1178-3p.,News,en,2021-05-14T22:42:00Z,2021-05-14T22:42:00Z,2021-05-14T22:43:56Z,2021-05-14T22:42:00Z,NCBI,1,https://pubmed.ncbi.nlm.nih.gov/33986610/,https://my.silobreaker.com/5_2275827898701054174\\r\\n5_2275827271635828742,16_2275825047916511241,Incorrect Label Potency Leads to Thyroid Drug Recall,News,en,2021-05-14T13:34:00Z,2021-05-14T13:34:00Z,2021-05-14T14:11:57Z,2021-05-14T13:34:00Z,Healthcare Packaging,1,https://www.healthcarepackaging.com/quick-hits/article/21427250/incorrect-label-potency-leads-to-thyroid-drug-recall,https://my.silobreaker.com/5_2275827271635828742\\r\\n5_2275827185736482857,16_2275827185736482830,Leptin receptor is a key gene involved in the immunopathogenesis of thyroid\\xe2\\x80\\x90associated ophthalmopathy,News,en,2021-05-14T12:18:00Z,2021-05-14T12:18:00Z,2021-05-14T12:50:41Z,2021-05-14T12:18:00Z,Journal of Cellular and Molecular Medicine,1,https://onlinelibrary.wiley.com/doi/full/10.1111/jcmm.16605,https://my.silobreaker.com/5_2275827185736482857\\r\\n5_2275827122385715502,16_2275827122385715291,\"2021 Thyroid Function Tests Market Report- F. Hoffmann-La Roche Ltd, Siemens Healthineers AG\",News,en,2021-05-14T11:23:00Z,2021-05-14T11:23:00Z,2021-05-14T11:50:37Z,2021-05-14T11:23:00Z,KSU Sentinel,1,https://ksusentinel.com/2021/05/14/2021-thyroid-function-tests-market-report-f-hoffmann-la-roche-ltd-siemens-healthineers-ag/,https://my.silobreaker.com/5_2275827122385715502\\r\\n5_2275827055813722318,16_2275827055813722207,Determinants of Remission in a Case Series of Medullary Thyroid Carcinoma.,News,en,2021-05-14T10:25:00Z,2021-05-14T10:25:00Z,2021-05-14T10:44:37Z,2021-05-14T10:25:00Z,NCBI,1,https://pubmed.ncbi.nlm.nih.gov/33984892/,https://my.silobreaker.com/5_2275827055813722318\\r\\n5_2275826341775423636,16_2275826341775417294,Evaluation of thyroid disease and thyroid malignancy in acromegalic patients,News,en,2021-05-14T00:00:00Z,2021-05-14T00:00:00Z,2021-05-14T22:42:17Z,2021-05-14T00:00:00Z,NCBI,1,https://pubmed.ncbi.nlm.nih.gov/33988006/,https://my.silobreaker.com/5_2275826341775423636\\r\\n5_2275826341775423588,16_2275826341775417266,Immune Landscape of Thyroid Cancers: New Insights,News,en,2021-05-14T00:00:00Z,2021-05-14T00:00:00Z,2021-05-14T22:37:41Z,2021-05-14T00:00:00Z,NCBI,1,https://pubmed.ncbi.nlm.nih.gov/33986723/,https://my.silobreaker.com/5_2275826341775423588\\r\\n5_2275825353664495655,16_2275825353664495642,Radiation-related genomic profile of papillary thyroid carcinoma after the Chernobyl accident,News,en,2021-05-13T17:39:48Z,2021-05-13T17:39:48Z,2021-05-13T20:09:24Z,2021-05-13T17:39:48Z,Science Magazine,1,http://science.sciencemag.org/cgi/content/short/372/6543/eabg2538?rss=1,https://my.silobreaker.com/5_2275825353664495655\\r\\n5_2275825343195513124,16_2275825343195513008,Reproducibility and Interobserver Agreement of Different Thyroid Imaging and Reporting Data Systems (TIRADS).,News,en,2021-05-13T17:30:00Z,2021-05-13T17:30:00Z,2021-05-13T18:10:58Z,2021-05-13T17:30:00Z,NCBI,1,https://pubmed.ncbi.nlm.nih.gov/33981620/,https://my.silobreaker.com/5_2275825343195513124\\r\\n5_2275825343195513121,16_2275825120930955333,\"Iodine, Seaweed, and the Thyroid.\",News,en,2021-05-13T17:30:00Z,2021-05-13T17:30:00Z,2021-05-13T18:10:58Z,2021-05-13T17:30:00Z,NCBI,2,https://pubmed.ncbi.nlm.nih.gov/33981614/,https://my.silobreaker.com/5_2275825343195513121\\r\\n5_2275825343195513094,16_2275825343195512983,Adherence to Active Surveillance and Clinical Outcomes in Patients with Indeterminate Thyroid Nodules Not Referred for Thyroidectomy.,News,en,2021-05-13T17:30:00Z,2021-05-13T17:30:00Z,2021-05-13T18:10:58Z,2021-05-13T17:30:00Z,NCBI,1,https://pubmed.ncbi.nlm.nih.gov/33981621/,https://my.silobreaker.com/5_2275825343195513094\\r\\n5_2275825264812359833,16_2275825264812359765,Investigating hypothyroidism: Different thyroid assays may result in a striking difference in the diagnosis of hypothyroidism and its management,News,en,2021-05-13T16:21:00Z,2021-05-13T16:21:00Z,2021-05-13T17:02:19Z,2021-05-13T16:21:00Z,British Medical Journal,1,https://www.bmj.com/content/373/bmj.n993/rr-0,https://my.silobreaker.com/5_2275825264812359833\\r\\n5_2275825096603992070,16_2275825096603992069,A data-driven approach for the discovery of biomarkers associated with thyroid eye disease,News,en,2021-05-13T13:56:22Z,2021-05-13T13:56:22Z,2021-05-14T00:38:44Z,2021-05-13T13:56:22Z,Paperity,1,https://paperity.org/p/261383786/a-data-driven-approach-for-the-discovery-of-biomarkers-associated-with-thyroid-eye,https://my.silobreaker.com/5_2275825096603992070\\r\\n5_2275825090866184257,16_2275825090866184225,\"Gut microbes may play role in Graves\\xe2\\x80\\x99 disease diagnosis, thyroid autoimmunity\",News,en,2021-05-13T13:51:00Z,2021-05-13T13:51:00Z,2021-05-13T14:38:10Z,2021-05-13T13:51:00Z,Healio,1,https://www.healio.com/news/endocrinology/20210513/gut-microbes-may-play-role-in-graves-disease-diagnosis-thyroid-autoimmunity,https://my.silobreaker.com/5_2275825090866184257\\r\\n5_2275824454137282828,16_2275824454137282676,Thyroid Scintigraphy in the Era of FNA Cytology,News,en,2021-05-13T04:34:00Z,2021-05-13T04:34:00Z,2021-05-13T04:35:47Z,2021-05-13T04:34:00Z,Medscape,1,http://www.medscape.com/viewarticle/949009,https://my.silobreaker.com/5_2275824454137282828\\r\\n5_2275824259790012613,16_2275824259790012528,Combination of Lenvatinib and Pembrolizumab Is an Effective Treatment Option for Anaplastic and Poorly Differentiated Thyroid Carcinoma.,News,en,2021-05-13T01:45:00Z,2021-05-13T01:45:00Z,2021-05-13T02:13:04Z,2021-05-13T01:45:00Z,NCBI,1,https://pubmed.ncbi.nlm.nih.gov/33509020/,https://my.silobreaker.com/5_2275824259790012613\\r\\n5_2275824158858281122,16_2275823006733303833,A Rare Case of Thyroid Carcinoma Showing Thymus-Like Differentiation in a Young Adult.,News,en,2021-05-13T00:15:00Z,2021-05-13T00:15:00Z,2021-05-13T00:18:04Z,2021-05-13T00:15:00Z,NCBI,3,https://pubmed.ncbi.nlm.nih.gov/33976651/,https://my.silobreaker.com/5_2275824158858281122\\r\\n5_2275824142752169056,16_2275824142752162473,Association of thyroid disorders with gestational diabetes mellitus: a meta-analysis,News,en,2021-05-13T00:00:00Z,2021-05-13T00:00:00Z,2021-05-14T10:33:02Z,2021-05-13T00:00:00Z,NCBI,1,https://pubmed.ncbi.nlm.nih.gov/33983493/,https://my.silobreaker.com/5_2275824142752169056\\r\\n5_2275824142752163470,16_2275824142752159772,\"JCM, Vol. 10, Pages 2105: Positive Impact of Levothyroxine Treatment on Pregnancy Outcome in Euthyroid Women with Thyroid Autoimmunity Affected by Recurrent Miscarriage\",Report,en,2021-05-13T00:00:00Z,2021-05-13T00:00:00Z,2021-05-13T13:11:26Z,2021-05-13T00:00:00Z,MDPI Publishing,2,https://www.mdpi.com/2077-0383/10/10/2105,https://my.silobreaker.com/5_2275824142752163470\\r\\n5_2275823077600264459,16_2275823077600264305,[Assessment of thyroid function in the preterm and/or very low birth weight newborn].,News,en,2021-05-12T16:32:00Z,2021-05-12T16:32:00Z,2021-05-12T17:19:50Z,2021-05-12T16:32:00Z,NCBI,1,https://pubmed.ncbi.nlm.nih.gov/33975810/,https://my.silobreaker.com/5_2275823077600264459\\r\\n5_2275822218606806778,16_2275820019583550079,\"NP THYROID (levothyroxine, liothyronine) tablet [DIRECT RX]\",Blog,en,2021-05-12T04:00:00Z,2021-05-12T04:00:00Z,2021-05-12T22:15:34Z,2021-05-12T04:00:00Z,\"DailyMed Drug Label Updates for the last seven days (since Feb 24, 2011 EST)\",2,https://dailymed.nlm.nih.gov/dailymed/lookup.cfm?setid=c20f4ab2-8dbd-b83f-e053-2995a90a52db&version=1,https://my.silobreaker.com/5_2275822218606806778\\r\\n5_2275822165993455794,16_2275822165993455710,Lambda-cyhalothrin and its common metabolite differentially modulate thyroid disruption effects in Chinese lizards (Eremias argus),News,en,2021-05-12T03:15:00Z,2021-05-12T03:15:00Z,2021-05-12T03:31:09Z,2021-05-12T03:15:00Z,Environmental Pollution - ScienceDirect.com,1,https://www.sciencedirect.com/science/article/pii/S0269749121009040,https://my.silobreaker.com/5_2275822165993455794\\r\\n5_2275822014595858754,16_2275820579003039823,Teprotumumab: Drug to reduce asymmetry in thyroid eye disease,News,en,2021-05-12T01:02:00Z,2021-05-12T01:02:00Z,2021-05-12T01:04:58Z,2021-05-12T01:02:00Z,Medical Dialogues,2,https://medicaldialogues.in/ophthalmology/teprotumumab-drug-to-reduce-asymmetry-in-thyroid-eye-disease-77450,https://my.silobreaker.com/5_2275822014595858754\\r\\n5_2275821943728913657,16_2275821943728907157,Molecular pathogenesis of pediatric thyroid carcinoma,News,en,2021-05-12T00:00:00Z,2021-05-12T00:00:00Z,2021-05-12T23:03:44Z,2021-05-12T00:00:00Z,NCBI,1,https://pubmed.ncbi.nlm.nih.gov/33978172/,https://my.silobreaker.com/5_2275821943728913657\\r\\n5_2275821943728913653,16_2275821943728907154,Comprehensive analysis for detecting radiation-specific molecules expressed during radiation-induced rat thyroid carcinogenesis,News,en,2021-05-12T00:00:00Z,2021-05-12T00:00:00Z,2021-05-12T23:03:44Z,2021-05-12T00:00:00Z,NCBI,1,https://pubmed.ncbi.nlm.nih.gov/33978177/,https://my.silobreaker.com/5_2275821943728913653\\r\\n5_2275821943728908944,16_2275821943728904637,\"Cancers, Vol. 13, Pages 2338: Clinical Significance and Systematic Expression Analysis of the Thyroid Receptor Interacting Protein 13 (TRIP13) as Human Gliomas Biomarker\",Report,en,2021-05-12T00:00:00Z,2021-05-12T00:00:00Z,2021-05-12T13:22:51Z,2021-05-12T00:00:00Z,MDPI Publishing,2,https://www.mdpi.com/2072-6694/13/10/2338,https://my.silobreaker.com/5_2275821943728908944\\r\\n5_2275821943728905898,16_2275821943728902946,Some Dietary Phenolic Compounds Can Activate Thyroid Peroxidase and Inhibit Lipoxygenase-Preliminary Study in the Model Systems,News,en,2021-05-12T00:00:00Z,2021-05-12T00:00:00Z,2021-05-12T10:09:30Z,2021-05-12T00:00:00Z,MDPI,2,https://www.mdpi.com/1422-0067/22/10/5108,https://my.silobreaker.com/5_2275821943728905898\\r\\n5_2275821943728899958,16_2275821943728899198,\"Cancers, Vol. 13, Pages 2306: Evidence of Cooperation between Hippo Pathway and RAS Mutation in Thyroid Carcinomas\",Report,en,2021-05-12T00:00:00Z,2021-05-12T00:00:00Z,2021-05-12T03:48:45Z,2021-05-12T00:00:00Z,MDPI Publishing,2,https://www.mdpi.com/2072-6694/13/10/2306,https://my.silobreaker.com/5_2275821943728899958\\r\\n5_2275821315589931186,16_2275821315589931087,Exposure impacts of Imazapyr formulation on larval development and thyroid histology of Xenopus laevis.,News,en,2021-05-11T22:55:00Z,2021-05-11T22:55:00Z,2021-05-11T22:57:09Z,2021-05-11T22:55:00Z,NCBI,1,https://pubmed.ncbi.nlm.nih.gov/33973123/,https://my.silobreaker.com/5_2275821315589931186\\r\\n5_2275821286598901811,16_2275821286598901803,EGR1/2 Inhibits Papillary Thyroid Carcinoma Cell Growth by Suppressing the Expression of PTEN and BAX.,News,en,2021-05-11T22:28:00Z,2021-05-11T22:28:00Z,2021-05-11T22:35:17Z,2021-05-11T22:28:00Z,NCBI,1,https://pubmed.ncbi.nlm.nih.gov/33973090/,https://my.silobreaker.com/5_2275821286598901811\\r\\n5_2275821149159948497,16_2275820769055342592,Patients With Thyroid Carcinoma Respond to Multikinase Inhibitors After Disease Progression,News,en,2021-05-11T20:28:00Z,2021-05-11T20:28:00Z,2021-05-11T20:54:08Z,2021-05-11T20:28:00Z,Targeted Oncology,1,https://www.targetedonc.com/view/patients-with-thyroid-carcinoma-respond-to-multikinase-inhibitors-after-disease-progression,https://my.silobreaker.com/5_2275821149159948497\\r\\n5_2275820991319900293,16_2275820660607418435,\"Know your body: The small, but mighty, thyroid\",News,en,2021-05-11T18:09:00Z,2021-05-11T18:09:00Z,2021-05-11T18:48:21Z,2021-05-11T18:09:00Z,Today\\'s Farmer,2,https://www.healthing.ca/wellness/thyroid-problems,https://my.silobreaker.com/5_2275820991319900293\\r\\n5_2275820984877449354,16_2275820984877449278,MEDO receives FDA clearance for world\\'s first AI tool to simplify thyroid ultrasound workflow,News,en,2021-05-11T18:03:00Z,2021-05-11T18:03:00Z,2021-05-11T18:42:02Z,2021-05-11T18:03:00Z,Dotmed,1,https://www.dotmed.com/news/story/54780,https://my.silobreaker.com/5_2275820984877449354\\r\\n5_2275820746506764470,16_2275818697807364208,Thyroid Function Changes and Pubertal Progress in Females: A Longitudinal Study in Iodine-Sufficient Areas of East China,News,en,2021-05-11T14:37:00Z,2021-05-11T14:37:00Z,2021-05-11T15:19:00Z,2021-05-11T14:37:00Z,Frontiers in Endocrinology,3,https://www.frontiersin.org/articles/10.3389/fendo.2021.653680,https://my.silobreaker.com/5_2275820746506764470\\r\\n5_2275820663845421063,16_2275818455141711910,\"Risk of liver, thyroid and skin cancer has risen in past decade in Scotland\",News,en,2021-05-11T13:24:01Z,2021-05-11T13:24:01Z,2021-05-11T16:36:55Z,2021-05-11T13:24:01Z,The Scotsman,2,https://www.scotsman.com/health/risk-of-liver-thyroid-and-skin-cancer-has-risen-in-past-decade-in-scotland-3232557,https://my.silobreaker.com/5_2275820663845421063\\r\\n5_2275820464112664824,16_2275820464112664616,Outcome of atypia of undetermined significance/follicular lesion of undetermined significance in thyroid fine\\xe2\\x80\\x90needle aspirations: A six\\xe2\\x80\\x90year institutional experience,News,en,2021-05-11T10:30:00Z,2021-05-11T10:30:00Z,2021-05-11T11:13:37Z,2021-05-11T10:30:00Z,Diagnostic Cytopathology,1,https://onlinelibrary.wiley.com/doi/full/10.1002/dc.24771,https://my.silobreaker.com/5_2275820464112664824\\r\\n5_2275820354590998777,16_2275820354590998657,Thyroid metastasis from lung carcinoid detected by 68 Ga-DOTATOC PET/CT,News,en,2021-05-11T08:56:00Z,2021-05-11T08:56:00Z,2021-05-11T09:15:44Z,2021-05-11T08:56:00Z,Paperity,1,https://paperity.org/p/261165947/thyroid-metastasis-from-lung-carcinoid-detected-by-68-ga-dotatoc-pet-ct,https://my.silobreaker.com/5_2275820354590998777\\r\\n5_2275818362799915153,16_2275818362799915065,Association between oral health and thyroid disorders: A population\\xe2\\x80\\x90based cross\\xe2\\x80\\x90sectional study,News,en,2021-05-10T11:57:00Z,2021-05-10T11:57:00Z,2021-05-10T12:14:40Z,2021-05-10T11:57:00Z,Oral Diseases,1,https://onlinelibrary.wiley.com/doi/full/10.1111/odi.13895,https://my.silobreaker.com/5_2275818362799915153\\r\\n5_2275818270458118363,16_2275818270458118257,Predictive Value of Thyroglobulin Changes for the Curative Effect of Radioiodine Therapy in Patients With Metastatic Differentiated Thyroid Carcinoma,News,en,2021-05-10T10:35:00Z,2021-05-10T10:35:00Z,2021-05-10T10:47:43Z,2021-05-10T10:35:00Z,Frontiers in Endocrinology,1,https://www.frontiersin.org/articles/10.3389/fendo.2021.667544,https://my.silobreaker.com/5_2275818270458118363\\r\\n5_2275818053562270113,16_2275817545682389241,Medo Gets FDA Clearance for AI-Powered Thyroid Ultrasound Tool,News,en,2021-05-10T07:25:00Z,2021-05-10T07:25:00Z,2021-05-10T07:28:18Z,2021-05-10T07:25:00Z,FDA News,2,https://www.fdanews.com/articles/202683-medo-gets-fda-clearance-for-ai-powered-thyroid-ultrasound-tool,https://my.silobreaker.com/5_2275818053562270113\\r\\n5_2275817989137760486,16_2275817989137760384,The clinical significance of remnant thyroid tissue in thyroidectomized differentiated thyroid cancer patients on 131I-SPECT/CT.,News,en,2021-05-10T06:29:00Z,2021-05-10T06:29:00Z,2021-05-10T06:30:22Z,2021-05-10T06:29:00Z,NCBI,1,https://pubmed.ncbi.nlm.nih.gov/33964885/,https://my.silobreaker.com/5_2275817989137760486\\r\\n5_2275817989137760476,16_2275817989137760377,HBME1 and CK19 expression in non-invasive follicular thyroid neoplasm with papillary-like nuclear features (NIFTP) vs other follicular patterned thyroid lesions.,News,en,2021-05-10T06:29:00Z,2021-05-10T06:29:00Z,2021-05-10T06:30:22Z,2021-05-10T06:29:00Z,NCBI,1,https://pubmed.ncbi.nlm.nih.gov/33964951/,https://my.silobreaker.com/5_2275817989137760476\\r\\n5_2275817545682390875,16_2275817545682389483,\"Life, Vol. 11, Pages 426: Chronothyroidology: Chronobiological Aspects in Thyroid Function and Diseases\",Report,en,2021-05-10T00:00:00Z,2021-05-10T00:00:00Z,2021-05-10T06:42:20Z,2021-05-10T00:00:00Z,MDPI Publishing,2,https://www.mdpi.com/2075-1729/11/5/426,https://my.silobreaker.com/5_2275817545682390875\\r\\n5_2275816089688473757,16_2275816089688473676,\"DISTRIBUTION OF STEM CELLS IN DIFFERENT THYROID LESIONS IN PATIENTS OF REPRODUCTIVE, MENOPAUSAL AND POST-MENOPAUSAL AGE.\",News,en,2021-05-09T10:52:00Z,2021-05-09T10:52:00Z,2021-05-09T10:55:42Z,2021-05-09T10:52:00Z,NCBI,1,https://pubmed.ncbi.nlm.nih.gov/33964835/,https://my.silobreaker.com/5_2275816089688473757\\r\\n5_2275815441148411959,16_2275815441148411931,VIDEO: Thyroid eye disease management changed with teprotumumab approval,News,en,2021-05-09T01:24:00Z,2021-05-09T01:24:00Z,2021-05-09T01:52:05Z,2021-05-09T01:24:00Z,Healio,1,https://www.healio.com/news/ophthalmology/20210509/video-thyroid-eye-disease-management-changed-with-teprotumumab-approval,https://my.silobreaker.com/5_2275815441148411959\\r\\n5_2275809943590273406,16_2275809945737756695,MEDO receives FDA approval to Revolutionize Thyroid Ultrasound.,News,en,2021-05-06T17:24:00Z,2021-05-06T17:24:00Z,2021-05-06T18:22:46Z,2021-05-06T17:24:00Z,PR Newswire - RSS,9,https://www.prnewswire.com:443/news-releases/medo-receives-fda-approval-to-revolutionize-thyroid-ultrasound-301285952.html,https://my.silobreaker.com/5_2275809943590273406\\r\\n5_2275808749589374205,16_2275808749589370436,\"Cancers, Vol. 13, Pages 2230: Diagnostic Performances of the ACR-TIRADS System in Thyroid Nodules Triage: A Prospective Single Center Study\",Report,en,2021-05-06T00:00:00Z,2021-05-06T00:00:00Z,2021-05-06T12:16:02Z,2021-05-06T00:00:00Z,MDPI Publishing,1,https://www.mdpi.com/2072-6694/13/9/2230,https://my.silobreaker.com/5_2275808749589374205\\r\\n5_2275803430809239555,16_2275803157005074432,\"Global Thyroid Disorder Market 2025 Production, Sales Volume and Consumption Volume Market Comparison\",News,en,2021-05-03T18:38:32Z,2021-05-03T18:38:32Z,2021-05-03T18:47:51Z,2021-05-03T18:38:32Z,Nyse News Times - RSS,1,https://nysenewstimes.com/global-thyroid-disorder-market-2025-production-sales-volume-and-consumption-volume-market-comparison/,https://my.silobreaker.com/5_2275803430809239555\\r\\n5_2275802407969488899,16_2275802407969488896,Thyroid Tablets From Acella Pharmaceuticals Get Major Recall for Lack of Potency,News,en,2021-05-03T03:45:58Z,2021-05-03T03:45:58Z,2021-05-03T04:22:30Z,2021-05-03T03:45:58Z,Patriot.ist,1,https://www.patriot.ist/2021/05/03/thyroid-tablets-from-acella-pharmaceuticals-get-major-recall-for-lack-of-potency/,https://my.silobreaker.com/5_2275802407969488899\\r\\n5_2275802152519606440,16_2275802152519603282,\"JCM, Vol. 10, Pages 1964: Measurements of Bone Health after Thyroid-Stimulating Suppression Therapy in Postmenopausal Women with Differentiated Thyroid Carcinoma: Bone Mineral Density Versus the Trabecular Bone Score\",Report,en,2021-05-03T00:00:00Z,2021-05-03T00:00:00Z,2021-05-03T13:45:23Z,2021-05-03T00:00:00Z,MDPI Publishing,1,https://www.mdpi.com/2077-0383/10/9/1964,https://my.silobreaker.com/5_2275802152519606440\\r\\n5_2275800898926018562,16_2275800899462889494,A thyroid medicine\\xe2\\x80\\x99s third recall: It\\xe2\\x80\\x99s too weak and 43 people had \\xe2\\x80\\x98serious\\xe2\\x80\\x99 problems,Blog,en,2021-05-02T13:48:32Z,2021-05-02T13:48:32Z,2021-05-02T15:10:46Z,2021-05-02T13:48:32Z,Linux/Open Source News Headlines - Yahoo! News,3,https://news.yahoo.com/thyroid-medicine-third-recall-too-134832755.html,https://my.silobreaker.com/5_2275800898926018562\\r\\n5_2275799310324990033,16_2275799310324989985,Cleo reveals diagnosis of autoimmune disease that affects thyroid: \\xe2\\x80\\x98Scared\\xe2\\x80\\x99,News,en,2021-05-01T22:41:00Z,2021-05-01T22:41:00Z,2021-05-01T22:51:57Z,2021-05-01T22:41:00Z,Prime Time Zone,1,https://primetimezone.com/entertainment/cleo-reveals-diagnosis-of-autoimmune-disease-that-affects-thyroid-scared/,https://my.silobreaker.com/5_2275799310324990033\\r\\n5_2275799013250826243,16_2275797759841796150,\"MIL-OSI USA: Acella Pharmaceuticals, LLC, Issues Voluntary Nationwide Recall of Certain Lots of NP Thyroid\\xc2\\xae (Thyroid Tablets, USP) Due to Sub Potency\",Blog,en,2021-05-01T18:20:21Z,2021-05-01T18:20:21Z,2021-05-01T18:20:35Z,2021-05-01T18:20:21Z,ForeignAffairs.co.nz - RSS,1,https://foreignaffairs.co.nz/2021/05/02/mil-osi-usa-acella-pharmaceuticals-llc-issues-voluntary-nationwide-recall-of-certain-lots-of-np-thyroid-thyroid-tablets-usp-due-to-sub-potency/,https://my.silobreaker.com/5_2275799013250826243\\r\\n5_2275791157403332319,16_2275791157403327531,\"Cancers, Vol. 13, Pages 2178: Genetics of Familial Non-Medullary Thyroid Carcinoma (FNMTC)\",Report,en,2021-04-30T00:00:00Z,2021-04-30T00:00:00Z,2021-04-30T16:22:38Z,2021-04-30T00:00:00Z,MDPI Publishing,1,https://www.mdpi.com/2072-6694/13/9/2178,https://my.silobreaker.com/5_2275791157403332319\\r\\n5_2275790585132482561,16_2275790402562818107,Popular thyroid drug recalled because the pills aren\\xe2\\x80\\x99t potent enough,Blog,en,2021-04-29T23:43:02Z,2021-04-29T23:43:02Z,2021-04-30T00:06:13Z,2021-04-29T23:43:02Z,SlashGear,9,http://feeds.slashgear.com/~r/slashgear/~3/ZHct1FtP-6o/,https://my.silobreaker.com/5_2275790585132482561\\r\\n5_2275787034234718075,16_2275787034234716956,LEVOTHYROXINE AND LIOTHYRONINE THYROID (levothyroxine and liothyronine) tablet [Bryant Ranch Prepack],Blog,en,2021-04-28T04:00:00Z,2021-04-28T04:00:00Z,2021-04-28T22:08:04Z,2021-04-28T04:00:00Z,\"DailyMed Drug Label Updates for the last seven days (since Feb 24, 2011 EST)\",1,https://dailymed.nlm.nih.gov/dailymed/lookup.cfm?setid=f9aa7dd7-e407-41d8-b0bf-c29c8787bd3d&version=8,https://my.silobreaker.com/5_2275787034234718075\\r\\n5_2275783462969409874,,\"Global Thyroid Function Tests (In Vitro Diagnostics) Market Report 2020: Analysis and Forecast Model with COVID-19 Market Impacts, 2015-2030 - ResearchAndMarkets.com\",Blog,en,2021-04-26T16:02:00Z,2021-04-26T16:02:00Z,2021-04-26T16:28:25Z,2021-04-26T16:02:00Z,Business Wire Health News,1,http://www.businesswire.com/news/home/20210426005672/en/Global-Thyroid-Function-Tests-In-Vitro-Diagnostics-Market-Report-2020-Analysis-and-Forecast-Model-with-COVID-19-Market-Impacts-2015-2030---ResearchAndMarkets.com/?feedref=JjAwJuNHiystnCoBq_hl-RLXHJgazfQJNuOVHefdHP-D8R-QU5o2AvY8bhI9uvWSD8DYIYv4TIC1g1u0AKcacnnViVjtb72bOP4-4nHK5ieT3WxPE8m_kWI77F87CseT,https://my.silobreaker.com/5_2275783462969409874\\r\\n5_2275782636188206663,,\"R6 THYROID (adenosine triphosphate, ammonium carbonicum, camphora, crotalus cascavella, fucus vesiculosus, iodium, kali phosphoricum, levothyroxine, triiodothyronine) solution/ drops [Apex Energetics Inc.]\",Blog,en,2021-04-26T04:00:00Z,2021-04-26T04:00:00Z,2021-04-26T23:08:20Z,2021-04-26T04:00:00Z,\"DailyMed Drug Label Updates for the last seven days (since Feb 24, 2011 EST)\",1,https://dailymed.nlm.nih.gov/dailymed/lookup.cfm?setid=b57e5e22-cc23-1a29-e053-2a95a90aebf0&version=5,https://my.silobreaker.com/5_2275782636188206663\\r\\n5_2275782636188206578,16_2275782636188205669,\"VIIVA BIODERMA ACTIVES HGH CREAM (sus scrofa adrenal gland, thyroid, bovine, somatropin) cream [Viiva LLC]\",Blog,en,2021-04-26T04:00:00Z,2021-04-26T04:00:00Z,2021-04-26T23:08:20Z,2021-04-26T04:00:00Z,\"DailyMed Drug Label Updates for the last seven days (since Feb 24, 2011 EST)\",1,https://dailymed.nlm.nih.gov/dailymed/lookup.cfm?setid=5d5dc075-8578-4246-affa-79d286b2e44c&version=1,https://my.silobreaker.com/5_2275782636188206578\\r\\n5_2275776441201197056,16_2275776441201197056,Best Thyroid Supplements (2021) Review Top Thyroid Products,News,en,2021-04-23T09:54:30Z,2021-04-23T09:54:30Z,2021-04-23T10:30:56Z,2021-04-23T09:54:30Z,Benzinga - General - RSS,1,https://www.benzinga.com/pressreleases/21/04/g20764371/best-thyroid-supplements-2021-review-top-thyroid-products,https://my.silobreaker.com/5_2275776441201197056\\r\\n5_2275775764240537994,16_2275775764240535372,\"Cancers, Vol. 13, Pages 2048: Genetic Determinants for Prediction of Outcome of Patients with Papillary Thyroid Carcinoma\",Report,en,2021-04-23T00:00:00Z,2021-04-23T00:00:00Z,2021-04-23T12:19:17Z,2021-04-23T00:00:00Z,MDPI Publishing,1,https://www.mdpi.com/2072-6694/13/9/2048,https://my.silobreaker.com/5_2275775764240537994\\r\\n5_2275775764240535233,16_2275775764240533622,\"JPM, Vol. 11, Pages 333: Intratumoral Heterogeneity in Differentiated Thyroid Tumors: An Intriguing Reappraisal in the Era of Personalized Medicine\",Report,en,2021-04-23T00:00:00Z,2021-04-23T00:00:00Z,2021-04-23T09:21:09Z,2021-04-23T00:00:00Z,MDPI Publishing,1,https://www.mdpi.com/2075-4426/11/5/333,https://my.silobreaker.com/5_2275775764240535233\\r\\n5_2275773565217277969,16_2275773565217277067,\"Endocrines, Vol. 2, Pages 91-98: Inter-Reader Agreement of ATA Sonographic Risk in Thyroid Nodules with Bethesda Category III Indeterminate Cytology\",Report,en,2021-04-22T00:00:00Z,2021-04-22T00:00:00Z,2021-04-22T03:41:56Z,2021-04-22T00:00:00Z,MDPI Publishing,1,https://www.mdpi.com/2673-396X/2/2/9,https://my.silobreaker.com/5_2275773565217277969\\r\\n5_2275772750163345408,,ggreenwald - @mtaibbi Or it might be thyroid issues.  https://t.co/bngK4mzJKT,Tweet,en,2021-04-21T20:08:59Z,2021-04-21T20:08:59Z,2021-04-21T20:34:45Z,2021-04-21T20:08:59Z,ggreenwald - Twitter,1,https://twitter.com/ggreenwald/status/1384962389741875207,https://my.silobreaker.com/5_2275772750163345408\\r\\n5_2275772729846137094,16_2275772729846136931,\"New Thyroid Tracker App, ThyForLife: Launched on Google Play Store\",Blog,en,2021-04-21T19:54:00Z,2021-04-21T19:54:00Z,2021-04-21T20:32:32Z,2021-04-21T19:54:00Z,Business Wire Technology News,2,http://www.businesswire.com/news/home/20210421006000/en/New-Thyroid-Tracker-App-ThyForLife-Launched-on-Google-Play-Store/?feedref=JjAwJuNHiystnCoBq_hl-Q-tiwWZwkcswR1UZtV7eGe24xL9TZOyQUMS3J72mJlQ7fxFuNFTHSunhvli30RlBNXya2izy9YOgHlBiZQk2LOzmn6JePCpHPCiYGaEx4DL1Rq8pNwkf3AarimpDzQGuQ==,https://my.silobreaker.com/5_2275772729846137094\\r\\n5_2275772300366184449,,\"TheWilsonCenter - RT @Wilson_MHI: It\\'s #NationalInfertilityAwarenessWeek. NCDs, such as cancer & thyroid disorders, can impact fertility. However, advances i\\xe2\\x80\\xa6\",Tweet,en,2021-04-21T13:38:01Z,2021-04-21T13:38:01Z,2021-04-21T14:21:23Z,2021-04-21T13:38:01Z,TheWilsonCenter - Twitter,1,https://twitter.com/TheWilsonCenter/status/1384863999804813313,https://my.silobreaker.com/5_2275772300366184449\\r\\n5_2275771366194026283,16_2275771495043039294,\"Cancers, Vol. 13, Pages 1994: Calcium Signaling in the Thyroid: Friend and Foe\",Report,en,2021-04-21T00:00:00Z,2021-04-21T00:00:00Z,2021-04-21T09:40:19Z,2021-04-21T00:00:00Z,MDPI Publishing,1,https://www.mdpi.com/2072-6694/13/9/1994,https://my.silobreaker.com/5_2275771366194026283\\r\\n5_2275771366194024678,16_2275771366194022783,\"Toxics, Vol. 9, Pages 89: Cumulative Protective Effect of Melatonin and Indole-3-Propionic Acid against KIO3\\xe2\\x80\\x94Induced Lipid Peroxidation in Porcine Thyroid\",Report,en,2021-04-21T00:00:00Z,2021-04-21T00:00:00Z,2021-04-21T07:52:21Z,2021-04-21T00:00:00Z,MDPI Publishing,1,https://www.mdpi.com/2305-6304/9/5/89,https://my.silobreaker.com/5_2275771366194024678\\r\\n5_2275769652837613568,,EurekaMag - Bone maturation and capillary microscopy as indicators for the use of thyroid in childhood allergy https://t.co/47QKb00gOA,Tweet,en,2021-04-20T07:04:20Z,2021-04-20T07:04:20Z,2021-04-20T08:58:56Z,2021-04-20T07:04:20Z,EurekaMag - Twitter,1,https://twitter.com/EurekaMag/status/1384402537579782144,https://my.silobreaker.com/5_2275769652837613568\\r\\n5_2275769167170769306,16_2275769167170767250,\"Cells, Vol. 10, Pages 955: MicroRNAs in Medullary Thyroid Carcinoma: A State of the Art Review of the Regulatory Mechanisms and Future Perspectives\",Report,en,2021-04-20T00:00:00Z,2021-04-20T00:00:00Z,2021-04-20T12:51:07Z,2021-04-20T00:00:00Z,MDPI Publishing,1,https://www.mdpi.com/2073-4409/10/4/955,https://my.silobreaker.com/5_2275769167170769306\\r\\n5_2275766968147514208,16_2275766968147512472,\"JCM, Vol. 10, Pages 1774: The Use of a Light-Emitting Diode Device for Neck Rejuvenation and Its Safety on Thyroid Glands\",Report,en,2021-04-19T00:00:00Z,2021-04-19T00:00:00Z,2021-04-19T14:30:52Z,2021-04-19T00:00:00Z,MDPI Publishing,1,https://www.mdpi.com/2077-0383/10/8/1774,https://my.silobreaker.com/5_2275766968147514208\\r\\n5_2275766968147510817,16_2275766968147510231,\"Medicina, Vol. 57, Pages 395: Intelligent Diagnosis of Thyroid Ultrasound Imaging Using an Ensemble of Deep Learning Methods\",Report,en,2021-04-19T00:00:00Z,2021-04-19T00:00:00Z,2021-04-19T07:54:27Z,2021-04-19T00:00:00Z,MDPI Publishing,1,https://www.mdpi.com/1648-9144/57/4/395,https://my.silobreaker.com/5_2275766968147510817\\r\\n5_2275765149547626497,16_2275765156745052176,Thyroid testing machine defunct; patients suffer,News,en,2021-04-18T05:34:19Z,2021-04-18T05:34:19Z,2021-04-18T05:53:19Z,2021-04-18T05:34:19Z,OrissaPOST - RSS,1,https://www.orissapost.com/thyroid-testing-machine-defunct-patients-suffer/,https://my.silobreaker.com/5_2275765149547626497\\r\\n5_2275764886682206208,16_2275762871637901313,Consume these superfoods for a tension-free thyroid; read here,News,en,2021-04-18T01:45:31Z,2021-04-18T01:45:31Z,2021-04-18T01:50:33Z,2021-04-18T01:45:31Z,OrissaPOST - RSS,2,https://www.orissapost.com/consume-these-superfoods-for-a-tension-free-thyroid-read-here/,https://my.silobreaker.com/5_2275764886682206208\\r\\n5_2275764769124258402,16_2275764769124256802,\"IJERPH, Vol. 18, Pages 4300: Influence of Recurrent Laryngeal Nerve Transient Unilateral Palsy on Objective Voice Parameters and on Voice Handicap Index after Total Thyroidectomy (Including Thyroid Carcinoma)\",Report,en,2021-04-18T00:00:00Z,2021-04-18T00:00:00Z,2021-04-18T10:51:15Z,2021-04-18T00:00:00Z,MDPI Publishing,1,https://www.mdpi.com/1660-4601/18/8/4300,https://my.silobreaker.com/5_2275764769124258402\\r\\n5_2275764769124258401,16_2275764769124256675,\"Cancers, Vol. 13, Pages 1948: Comparison of Four Ultrasonography-Based Risk Stratification Systems in Thyroid Nodules with Nondiagnostic/Unsatisfactory Cytology: A Real-World Study\",Report,en,2021-04-18T00:00:00Z,2021-04-18T00:00:00Z,2021-04-18T10:51:15Z,2021-04-18T00:00:00Z,MDPI Publishing,1,https://www.mdpi.com/2072-6694/13/8/1948,https://my.silobreaker.com/5_2275764769124258401\\r\\n5_2275763347523633154,,EurekaMag - The effectiveness of prophylactic ipsilateral central neck dissection in selected patients who underwent total thyr\\xe2\\x80\\xa6 https://t.co/BS5wUaRo95,Tweet,en,2021-04-17T11:20:02Z,2021-04-17T11:20:02Z,2021-04-17T11:20:51Z,2021-04-17T11:20:02Z,EurekaMag - Twitter,1,https://twitter.com/EurekaMag/status/1383379724299214848,https://my.silobreaker.com/5_2275763347523633154\\r\\n5_2275761276812525568,16_2275759716112007170,Horizon Therapeutics\\' Tepezza shows improvement in thyroid eye disease symptoms,News,en,2021-04-16T13:11:34Z,2021-04-16T13:11:34Z,2021-04-16T14:07:13Z,2021-04-16T13:11:34Z,Seeking Alpha - RSS,3,https://seekingalpha.com/news/3682589-horizon-therapeutics-tepezza-shows-improvement-in-thyroid-eye-disease-symptoms?utm_source=feed_news_all&utm_medium=referral,https://my.silobreaker.com/5_2275761276812525568\\r\\n5_2275760371077752769,16_2275760371077748996,\"Cancers, Vol. 13, Pages 1932: NTRK Fusion Genes in Thyroid Carcinomas: Clinicopathological Characteristics and Their Impacts on Prognosis\",Report,en,2021-04-16T00:00:00Z,2021-04-16T00:00:00Z,2021-04-16T14:27:08Z,2021-04-16T00:00:00Z,MDPI Publishing,1,https://www.mdpi.com/2072-6694/13/8/1932,https://my.silobreaker.com/5_2275760371077752769\\r\\n5_2275759716128784403,16_2275759716128784386,[Comment] The knowns and unknowns of teprotumumab for thyroid eye disease,Blog,en,2021-04-15T22:30:02Z,2021-04-15T22:30:02Z,2021-05-19T23:00:19Z,2021-04-15T22:30:02Z,The Lancet - CI - Diabetes & Endocrinology - RSS,2,https://www.thelancet.com/journals/landia/article/PIIS2213-8587(21)00076-0/fulltext?rss=yes,https://my.silobreaker.com/5_2275759716128784403\\r\\n5_2275758780664774656,,\"shanghaidaily - Lung, colorectal and thyroid are the most prevalent forms of cancer for Shanghai residents. Five-year survival rate\\xe2\\x80\\xa6 https://t.co/wSkSjCBak7\",Tweet,en,2021-04-15T08:54:52Z,2021-04-15T08:54:52Z,2021-04-15T09:14:12Z,2021-04-15T08:54:52Z,shanghaidaily - Twitter,1,https://twitter.com/shanghaidaily/status/1382618414926139395,https://my.silobreaker.com/5_2275758780664774656\\r\\n5_2275758172054501602,16_2275758172054495602,Oncogenic Ras/squamous cell carcinoma antigen signaling pathway activation promotes invasiveness and lymph node metastases in papillary thyroid carcinoma.,Blog,en,2021-04-15T00:00:00Z,2021-04-15T00:00:00Z,2021-04-15T19:44:19Z,2021-04-15T00:00:00Z,escholarship - RSS,1,https://escholarship.org/uc/item/5hz5q38x,https://my.silobreaker.com/5_2275758172054501602\\r\\n5_2275757170907676675,16_2275757170907676672,Thyroid Test questions Please help!,Blog,en,2021-04-14T17:27:39Z,2021-04-14T17:27:39Z,2021-04-14T20:14:05Z,2021-04-14T17:27:39Z,HealthBoards,1,https://www.healthboards.com/boards/showthread.php?t=1051904&goto=newpost,https://my.silobreaker.com/5_2275757170907676675\\r\\n5_2275756278510780416,,EurekaMag - Thyroid squamous cell carcinoma: a unique type of cancer in World Health Organization classification https://t.co/57oCuuKWBv,Tweet,en,2021-04-14T04:28:32Z,2021-04-14T04:28:32Z,2021-04-14T04:29:13Z,2021-04-14T04:28:32Z,EurekaMag - Twitter,1,https://twitter.com/EurekaMag/status/1382189002195828736,https://my.silobreaker.com/5_2275756278510780416\\r\\n5_2275756166841630721,,EurekaMag - Thyroid and Cardiovascular Disease: A Focused Review on the Impact of Hyperthyroidism in Heart Failure https://t.co/5bNtW92aRZ,Tweet,en,2021-04-14T02:52:32Z,2021-04-14T02:52:32Z,2021-04-14T02:52:54Z,2021-04-14T02:52:32Z,EurekaMag - Twitter,1,https://twitter.com/EurekaMag/status/1382164844556681216,https://my.silobreaker.com/5_2275756166841630721\\r\\n5_2275755375913336834,16_2275754048885883452,\"THYROID HP (baryta carbonica, calcarea carbonica, calcarea iodata, fucus vesiculosus, iodium, natrum muriaticum, pulsatilla (vulgaris), spongia tosta, thyroidinum (suis)) liquid [Energique, Inc.]\",News,en,2021-04-13T23:19:57Z,2021-04-13T23:19:57Z,2021-04-13T23:22:33Z,2021-04-13T23:19:57Z,Agenparl,2,https://agenparl.eu/thyroid-hp-baryta-carbonica-calcarea-carbonica-calcarea-iodata-fucus-vesiculosus-iodium-natrum-muriaticum-pulsatilla-vulgaris-spongia-tosta-thyroidinum-suis-liquid-energique-inc/,https://my.silobreaker.com/5_2275755375913336834\\r\\n5_2275754848169230336,16_2275754660918722624,Chris Kamara has swollen tongue and slurred speech due to underactive thyroid after undergoing scan for \\xe2\\x80\\x98brain fog\\xe2\\x80\\x99,News,en,2021-04-13T15:40:25Z,2021-04-13T15:40:25Z,2021-04-13T16:26:12Z,2021-04-13T15:40:25Z,The Scottish Sun - RSS,1,https://www.thescottishsun.co.uk/sport/football/6961956/chris-kamara-underactive-thyroid-stephs-packed-lunch/,https://my.silobreaker.com/5_2275754848169230336\\r\\n5_2275750659150053382,,EurekaMag - Non-antibiotic prophylaxis in thyroid surgery. Experience of a single Institution and revision of literature https://t.co/6r3sEPSkFe,Tweet,en,2021-04-11T18:43:04Z,2021-04-11T18:43:04Z,2021-04-11T18:43:22Z,2021-04-11T18:43:04Z,EurekaMag - Twitter,1,https://twitter.com/EurekaMag/status/1381316887649284099,https://my.silobreaker.com/5_2275750659150053382\\r\\n5_2275750608096985088,,EurekaMag - Benign Ectopic Thyroid Tissue in the Neck: A Case Report of a Rare Finding https://t.co/48uFbPhbGe,Tweet,en,2021-04-11T17:59:33Z,2021-04-11T17:59:33Z,2021-04-11T17:59:55Z,2021-04-11T17:59:33Z,EurekaMag - Twitter,1,https://twitter.com/EurekaMag/status/1381305936451489798,https://my.silobreaker.com/5_2275750608096985088\\r\\n5_2275745226821730306,,Scots twin discovers she has thyroid most cancers after shedding her voice \\xe2\\x80\\x93 NewsEverything Scotland,News,en,2021-04-09T03:39:52Z,2021-04-09T03:39:52Z,2021-04-09T03:51:38Z,2021-04-09T03:39:52Z,News Everything India,1,https://newseverything.in/scots-twin-discovers-she-has-thyroid-most-cancers-after-shedding-her-voice-newseverything-scotland/,https://my.silobreaker.com/5_2275745226821730306\\r\\n5_2275738620306391040,,\"EurekaMag - Determining the relationship between dietary iodine intake, urinary iodine excretion and thyroid functions in peopl\\xe2\\x80\\xa6 https://t.co/H1m62BRlNz\",Tweet,en,2021-04-06T03:31:01Z,2021-04-06T03:31:01Z,2021-04-06T03:31:20Z,2021-04-06T03:31:01Z,EurekaMag - Twitter,1,https://twitter.com/EurekaMag/status/1379275424966959105,https://my.silobreaker.com/5_2275738620306391040\\r\\n5_2275737561580175684,16_2275737565875142678,\"Interpace Biosciences Announces New PLA Code and Medicare Reimbursement Increase for Proprietary Thyroid Assay, ThyGeNEXT\\xc2\\xae\",News,en,2021-04-05T20:05:00Z,2021-04-05T20:05:00Z,2021-04-05T20:17:04Z,2021-04-05T20:05:00Z,GlobeNewswire - Public Companies - RSS,1,http://www.globenewswire.com/news-release/2021/04/05/2204525/0/en/Interpace-Biosciences-Announces-New-PLA-Code-and-Medicare-Reimbursement-Increase-for-Proprietary-Thyroid-Assay-ThyGeNEXT.html,https://my.silobreaker.com/5_2275737561580175684\\r\\n5_2275734912726204419,,EurekaMag - MiR-326 inhibits the progression of papillary thyroid carcinoma by targeting MAPK1 and ERBB4 https://t.co/EPs8vXiUvN,Tweet,en,2021-04-04T13:34:04Z,2021-04-04T13:34:04Z,2021-04-04T13:34:30Z,2021-04-04T13:34:04Z,EurekaMag - Twitter,1,https://twitter.com/EurekaMag/status/1378702412328787975,https://my.silobreaker.com/5_2275734912726204419\\r\\n5_2275734088545468417,,EurekaMag - RT @EurekaMag: Prevalence and implications of thyroid related embryological remnants: A prospective study of 1118 total thyroidectomies htt\\xe2\\x80\\xa6,Tweet,en,2021-04-04T01:34:31Z,2021-04-04T01:34:31Z,2021-04-04T01:34:53Z,2021-04-04T01:34:31Z,EurekaMag - Twitter,1,https://twitter.com/EurekaMag/status/1378521331554152449,https://my.silobreaker.com/5_2275734088545468417\\r\\n5_2275731815450804225,,EurekaMag - Implementation of the Bethesda system for reporting the thyroid cytopathology: study on 5 729 cases from a cancer c\\xe2\\x80\\xa6 https://t.co/8uvqu2NzD1,Tweet,en,2021-04-03T00:29:32Z,2021-04-03T00:29:32Z,2021-04-03T00:29:51Z,2021-04-03T00:29:32Z,EurekaMag - Twitter,1,https://twitter.com/EurekaMag/status/1378142589124182016,https://my.silobreaker.com/5_2275731815450804225\\r\\n5_2275731059536560128,,EurekaMag - A comparison of the quantitative evaluation of in situ parathyroid gland perfusion by indocyanine green fluorescenc\\xe2\\x80\\xa6 https://t.co/5oTVOTsxKP,Tweet,en,2021-04-02T21:29:32Z,2021-04-02T21:29:32Z,2021-04-02T21:29:50Z,2021-04-02T21:29:32Z,EurekaMag - Twitter,1,https://twitter.com/EurekaMag/status/1378097289491750914,https://my.silobreaker.com/5_2275731059536560128\\r\\n5_2275727385728911477,16_2275727385728910630,\"Healthcare, Vol. 9, Pages 386: Limited Clinical and Diagnostic Utility of Circulating Tumor DNA Detection in Patients with Early-Stage Well-Differentiated Thyroid Cancer: Comparison with Benign Thyroid Nodules and Healthy Individuals\",Report,en,2021-04-01T00:00:00Z,2021-04-01T00:00:00Z,2021-04-01T03:41:27Z,2021-04-01T00:00:00Z,MDPI Publishing,1,https://www.mdpi.com/2227-9032/9/4/386,https://my.silobreaker.com/5_2275727385728911477\\r\\n5_2275723375303197064,16_2275723375303196855,\"FMI Forecasts Moderate Growth for India Thyroid Function Test Market in 2021, Hospitals will Remain Leading End-use Segment\",News,en,2021-03-31T05:41:00Z,2021-03-31T05:41:00Z,2021-03-31T05:46:03Z,2021-03-31T05:41:00Z,Global Banking & Finance Review - RSS,1,https://www.globalbankingandfinance.com/fmi-forecasts-moderate-growth-for-india-thyroid-function-test-market-in-2021-hospitals-will-remain-leading-end-use-segment/,https://my.silobreaker.com/5_2275723375303197064\\r\\n5_2275722987682399795,16_2275720788659148663,\"JMP, Vol. 2, Pages 77-92: Thyroid and Molecular Testing. Advances in Thyroid Molecular Cytopathology\",Report,en,2021-03-31T00:00:00Z,2021-03-31T00:00:00Z,2021-03-31T03:11:52Z,2021-03-31T00:00:00Z,MDPI Publishing,1,https://www.mdpi.com/2673-5261/2/2/8,https://my.silobreaker.com/5_2275722987682399795\\r\\n5_2275721576785641957,16_2275721578933125238,Horizon Therapeutics plc to Resupply Market With TEPEZZA\\xc2\\xae (teprotumumab-trbw) for the Treatment of Thyroid Eye Disease (TED) Beginning in April,Blog,en,2021-03-30T11:30:00Z,2021-03-30T11:30:00Z,2021-03-30T11:50:46Z,2021-03-30T11:30:00Z,Business Wire Health News,1,http://www.businesswire.com/news/home/20210330005397/en/Horizon-Therapeutics-plc-to-Resupply-Market-With-TEPEZZA%C2%AE-teprotumumab-trbw-for-the-Treatment-of-Thyroid-Eye-Disease-TED-Beginning-in-April/?feedref=JjAwJuNHiystnCoBq_hl-RLXHJgazfQJNuOVHefdHP-D8R-QU5o2AvY8bhI9uvWSD8DYIYv4TIC1g1u0AKcacnnViVjtb72bOP4-4nHK5ieT3WxPE8m_kWI77F87CseT,https://my.silobreaker.com/5_2275721576785641957\\r\\n5_2275713167122235392,16_2275711402008117288,What the symptoms of a thyroid disorder are and why you might not know you have one,News,en,2021-03-26T17:05:57Z,2021-03-26T17:05:57Z,2021-03-26T17:57:42Z,2021-03-26T17:05:57Z,Insider US,1,https://www.insider.com/thyroid-problems-symptoms,https://my.silobreaker.com/5_2275713167122235392\\r\\n5_2275712267444028661,16_2275712267444027971,\"R6 THYROID (adenosine triphosphate, ammonium carbonicum, camphora, crotalus cascavella, fucus vesiculosus, iodium kali phosphoricum, levothyroxine, triiodothyronine) solution/ drops [Apex Energetics Inc.]\",Blog,en,2021-03-26T04:00:00Z,2021-03-26T04:00:00Z,2021-03-26T22:08:07Z,2021-03-26T04:00:00Z,\"DailyMed Drug Label Updates for the last seven days (since Feb 24, 2011 EST)\",1,https://dailymed.nlm.nih.gov/dailymed/lookup.cfm?setid=b57e5e22-cc23-1a29-e053-2a95a90aebf0&version=4,https://my.silobreaker.com/5_2275712267444028661\\r\\n5_2275709793542869268,16_2275709793542867781,\"IJERPH, Vol. 18, Pages 3388: Insulin Resistance in Association with Thyroid Function, Psychoemotional State, and Cardiovascular Risk Factors\",Report,en,2021-03-25T00:00:00Z,2021-03-25T00:00:00Z,2021-03-25T05:41:26Z,2021-03-25T00:00:00Z,MDPI Publishing,1,https://www.mdpi.com/1660-4601/18/7/3388,https://my.silobreaker.com/5_2275709793542869268\\r\\n5_2275708044467765248,,EurekaMag - Thyroid Nodules with Isolated Macrocalcifications: Malignancy Risk of Isolated Macrocalcifications and Postoperativ\\xe2\\x80\\xa6 https://t.co/jyhkgZ6glp,Tweet,en,2021-03-24T06:35:03Z,2021-03-24T06:35:03Z,2021-03-24T06:35:38Z,2021-03-24T06:35:03Z,EurekaMag - Twitter,1,https://twitter.com/EurekaMag/status/1374610695392665607,https://my.silobreaker.com/5_2275708044467765248\\r\\n5_2275705395496365377,16_2275705395496361060,\"Reports, Vol. 4, Pages 8: Ultrasonographic Findings in Common Thyroid and Parathyroid Disorders\\xe2\\x80\\x94Advantages of Real Time Observation by the Endocrinologist with their Own Ultrasound Machine\",Report,en,2021-03-23T00:00:00Z,2021-03-23T00:00:00Z,2021-03-23T13:22:49Z,2021-03-23T00:00:00Z,MDPI Publishing,1,https://www.mdpi.com/2571-841X/4/1/8,https://my.silobreaker.com/5_2275705395496365377\\r\\n5_2275705395496360739,16_2275705395496358278,\"Cancers, Vol. 13, Pages 1464: Thyroid Dysfunction in Lung Cancer Patients Treated with Immune Checkpoint Inhibitors (ICIs): Outcomes in a Multiethnic Urban Cohort\",Report,en,2021-03-23T00:00:00Z,2021-03-23T00:00:00Z,2021-03-23T08:44:00Z,2021-03-23T00:00:00Z,MDPI Publishing,1,https://www.mdpi.com/2072-6694/13/6/1464,https://my.silobreaker.com/5_2275705395496360739\\r\\n5_2275703908028383232,16_2275703908028383232,Researchers Generate Thyroid Organoids Capable of Restoring Function in Mice,Blog,en,2021-03-22T10:22:44Z,2021-03-22T10:22:44Z,2021-03-22T10:43:50Z,2021-03-22T10:22:44Z,Fight Aging!,1,https://www.fightaging.org/archives/2021/03/researchers-generate-thyroid-organoids-capable-of-restoring-function-in-mice/,https://my.silobreaker.com/5_2275703908028383232\\r\\n5_2275690880083951618,16_2275688661230026865,Thyroid feet,News,en,2021-03-16T12:49:30Z,2021-03-16T12:49:30Z,2021-03-16T20:54:02Z,2021-03-16T12:49:30Z,The Nassau Guardian - RSS,1,https://thenassauguardian.com/thyroid-feet/,https://my.silobreaker.com/5_2275690880083951618\\r\\n5_2275690002333578248,16_2275690002333573025,\"IJMS, Vol. 22, Pages 3031: Vandetanib versus Cabozantinib in Medullary Thyroid Carcinoma: A Focus on Anti-Angiogenic Effects in Zebrafish Model\",Report,en,2021-03-16T00:00:00Z,2021-03-16T00:00:00Z,2021-03-16T15:16:38Z,2021-03-16T00:00:00Z,MDPI Publishing,1,https://www.mdpi.com/1422-0067/22/6/3031,https://my.silobreaker.com/5_2275690002333578248\\r\\n5_2275690002333574525,16_2275690002333571014,\"Cancers, Vol. 13, Pages 1338: Diagnostic Algorithm for Metastatic Lymph Nodes of Differentiated Thyroid Carcinoma\",Report,en,2021-03-16T00:00:00Z,2021-03-16T00:00:00Z,2021-03-16T11:16:22Z,2021-03-16T00:00:00Z,MDPI Publishing,1,https://www.mdpi.com/2072-6694/13/6/1338,https://my.silobreaker.com/5_2275690002333574525\\r\\n5_2275687803310320861,16_2275687803310316481,\"Molecules, Vol. 26, Pages 1628: Development of Flow Cytometric Assay for Detecting Papillary Thyroid Carcinoma Related hsa-miR-146b-5p through Toehold-Mediated Strand Displacement Reaction on Magnetic Beads\",Report,en,2021-03-15T00:00:00Z,2021-03-15T00:00:00Z,2021-03-15T13:18:47Z,2021-03-15T00:00:00Z,MDPI Publishing,1,https://www.mdpi.com/1420-3049/26/6/1628,https://my.silobreaker.com/5_2275687803310320861\\r\\n5_2275686028951945216,,EurekaMag - Hypermethylation of the RSK4 promoter associated with BRAF V600E promotes papillary thyroid carcinoma https://t.co/uLXDwNBz0P,Tweet,en,2021-03-14T06:11:32Z,2021-03-14T06:11:32Z,2021-03-14T06:12:05Z,2021-03-14T06:11:32Z,EurekaMag - Twitter,1,https://twitter.com/EurekaMag/status/1370980898234007553,https://my.silobreaker.com/5_2275686028951945216\\r\\n5_2275681376244072449,16_2275679403428020228,Know what thyroid secretion says about your fertility health,News,en,2021-03-12T02:30:21Z,2021-03-12T02:30:21Z,2021-03-12T03:24:03Z,2021-03-12T02:30:21Z,OrissaPOST - RSS,1,https://www.orissapost.com/know-what-thyroid-secretion-says-about-your-fertility-health/,https://my.silobreaker.com/5_2275681376244072449\\r\\n5_2275681206240548939,16_2275681206240546670,\"Cancers, Vol. 13, Pages 1242: Gold-Based Nanoplataform for the Treatment of Anaplastic Thyroid Carcinoma: A Step Forward\",Report,en,2021-03-12T00:00:00Z,2021-03-12T00:00:00Z,2021-03-12T08:13:28Z,2021-03-12T00:00:00Z,MDPI Publishing,1,https://www.mdpi.com/2072-6694/13/6/1242,https://my.silobreaker.com/5_2275681206240548939\\r\\n5_2275680404860043264,16_2275679350814671502,Tiny lab-grown thyroids hint at a new way to treat hypothyroidism,Blog,en,2021-03-11T20:21:42Z,2021-03-11T20:21:42Z,2021-03-11T20:52:42Z,2021-03-11T20:21:42Z,SlashGear,1,http://feeds.slashgear.com/~r/slashgear/~3/6YkfOwK1J9A/,https://my.silobreaker.com/5_2275680404860043264\\r\\n5_2275674609170788217,16_2275672424106164269,\"Diagnostics, Vol. 11, Pages 485: Inflammation-Related Markers and Thyroid Function Measures in Pediatric Patients: Is the Grade of Obesity Relevant?\",Report,en,2021-03-09T00:00:00Z,2021-03-09T00:00:00Z,2021-03-09T13:38:57Z,2021-03-09T00:00:00Z,MDPI Publishing,1,https://www.mdpi.com/2075-4418/11/3/485,https://my.silobreaker.com/5_2275674609170788217\\r\\n5_2275672537385926656,,EurekaMag - Cervical thyroid remnant consistent with papillary carcinoma as an incidental finding in a patient with benign tota\\xe2\\x80\\xa6 https://t.co/GIOkiGV0WY,Tweet,en,2021-03-08T01:54:32Z,2021-03-08T01:54:32Z,2021-03-08T01:55:33Z,2021-03-08T01:54:32Z,EurekaMag - Twitter,1,https://twitter.com/EurekaMag/status/1368741894046445571,https://my.silobreaker.com/5_2275672537385926656\\r\\n5_2275672438601678849,,EurekaMag - A comparison between unifocal papillary thyroid microcarcinoma with noninvasive follicular thyroid neoplasm with pa\\xe2\\x80\\xa6 https://t.co/2KD2SeeRFK,Tweet,en,2021-03-08T00:26:32Z,2021-03-08T00:26:32Z,2021-03-08T00:26:50Z,2021-03-08T00:26:32Z,EurekaMag - Twitter,1,https://twitter.com/EurekaMag/status/1368719749413097472,https://my.silobreaker.com/5_2275672438601678849\\r\\n5_2275670211124268642,16_2275670211124267306,\"Nutrients, Vol. 13, Pages 872: Relationship between Thyroid Status during the First Trimester of Pregnancy and Neonatal Well-Being\",Report,en,2021-03-07T00:00:00Z,2021-03-07T00:00:00Z,2021-03-07T08:11:44Z,2021-03-07T00:00:00Z,MDPI Publishing,1,https://www.mdpi.com/2072-6643/13/3/872,https://my.silobreaker.com/5_2275670211124268642\\r\\n5_2275668012101014737,16_2275668012101012932,\"Nutrients, Vol. 13, Pages 867: Dietary Intake of Endocrine Disrupting Substances Presents in Environment and Their Impact on Thyroid Function\",Report,en,2021-03-06T00:00:00Z,2021-03-06T00:00:00Z,2021-03-06T10:11:58Z,2021-03-06T00:00:00Z,MDPI Publishing,1,https://www.mdpi.com/2072-6643/13/3/867,https://my.silobreaker.com/5_2275668012101014737\\r\\n5_2275665917264265216,,EurekaMag - Prevalence and implications of thyroid related embryological remnants: A prospective study of 1118 total thyroidect\\xe2\\x80\\xa6 https://t.co/VU78gVlXqR,Tweet,en,2021-03-05T01:33:02Z,2021-03-05T01:33:02Z,2021-03-05T01:33:46Z,2021-03-05T01:33:02Z,EurekaMag - Twitter,1,https://twitter.com/EurekaMag/status/1367649319977848836,https://my.silobreaker.com/5_2275665917264265216\\r\\n5_2275662942194106378,16_2275662942194106377,hashimoto thyroid issues and covid vaccine?,Blog,en,2021-03-03T22:14:18Z,2021-03-03T22:14:18Z,2021-03-03T22:40:26Z,2021-03-03T22:14:18Z,HealthBoards,1,https://www.healthboards.com/boards/showthread.php?t=1051629&goto=newpost,https://my.silobreaker.com/5_2275662942194106378\\r\\n5_2275662628627939331,16_2275662628627939328,Nats pitcher Lester faces surgery to remove thyroid - RFI,News,en,2021-03-03T17:42:16Z,2021-03-03T17:42:16Z,2021-03-03T18:55:34Z,2021-03-03T17:42:16Z,RFI France - RSS,1,https://www.rfi.fr/en/sports/20210303-nats-pitcher-lester-faces-surgery-to-remove-thyroid,https://my.silobreaker.com/5_2275662628627939331\\r\\n5_2275662447551447043,16_2275661829059379206,Nationals say lefty Jon Lester to have thyroid gland removed,News,en,2021-03-03T15:01:39Z,2021-03-03T15:01:39Z,2021-03-03T15:50:37Z,2021-03-03T15:01:39Z,Federal News Network - RSS,1,https://federalnewsnetwork.com/sports-news/2021/03/nationals-say-lefty-jon-lester-to-have-thyroid-gland-removed/,https://my.silobreaker.com/5_2275662447551447043\\r\\n5_2275662061457375233,,EurekaMag - Malignant peripheral nerve sheath tumour of thyroid: a diagnostic dilemma https://t.co/9FXlP2yOGA,Tweet,en,2021-03-03T09:26:02Z,2021-03-03T09:26:02Z,2021-03-03T09:39:58Z,2021-03-03T09:26:02Z,EurekaMag - Twitter,1,https://twitter.com/EurekaMag/status/1367043581471432708,https://my.silobreaker.com/5_2275662061457375233\\r\\n5_2275659311872999426,16_2275658484789805129,Want to control thyroid; include these 5 foods in your diet,News,en,2021-03-02T01:25:18Z,2021-03-02T01:25:18Z,2021-03-02T01:50:53Z,2021-03-02T01:25:18Z,OrissaPOST - RSS,1,https://www.orissapost.com/want-to-control-thyroid-include-these-5-foods-in-your-diet/,https://my.silobreaker.com/5_2275659311872999426\\r\\n5_2275659216007996374,16_2275659216007992805,\"Diagnostics, Vol. 11, Pages 418: Papillary Thyroid Carcinoma Tissue miR-146b, -21, -221, -222, -181b Expression in Relation with Clinicopathological Features\",Report,en,2021-03-02T00:00:00Z,2021-03-02T00:00:00Z,2021-03-02T10:48:15Z,2021-03-02T00:00:00Z,MDPI Publishing,1,https://www.mdpi.com/2075-4418/11/3/418,https://my.silobreaker.com/5_2275659216007996374\\r\\n5_2275657894231802288,16_2275647380151861293,\"$15.2 Billion Clinical Chemistry Analyzers Markets, 2025 - Fully-Automated Analyzers, PoC Analyzers, Reagents, Basic Metabolic, Liver, Renal, Lipid, Thyroid Function - ResearchAndMarkets.com\",Blog,en,2021-03-01T12:49:00Z,2021-03-01T12:49:00Z,2021-03-01T13:10:21Z,2021-03-01T12:49:00Z,Business Wire Health News,1,http://www.businesswire.com/news/home/20210301005500/en/15.2-Billion-Clinical-Chemistry-Analyzers-Markets-2025---Fully-Automated-Analyzers-PoC-Analyzers-Reagents-Basic-Metabolic-Liver-Renal-Lipid-Thyroid-Function---ResearchAndMarkets.com/?feedref=JjAwJuNHiystnCoBq_hl-RLXHJgazfQJNuOVHefdHP-D8R-QU5o2AvY8bhI9uvWSD8DYIYv4TIC1g1u0AKcacnnViVjtb72bOP4-4nHK5ieT3WxPE8m_kWI77F87CseT,https://my.silobreaker.com/5_2275657894231802288\\r\\n5_2275644125673947136,,EurekaMag - Hyperactive thyroid nodules treated by radiofrequency ablation: a Dutch single-centre experience https://t.co/GYnnkMAyR8,Tweet,en,2021-02-27T04:26:02Z,2021-02-27T04:26:02Z,2021-02-27T04:26:35Z,2021-02-27T04:26:02Z,EurekaMag - Twitter,1,https://twitter.com/EurekaMag/status/1365518530741854210,https://my.silobreaker.com/5_2275644125673947136\\r\\n5_2275643855594323969,,EurekaMag - Necrotizing Fasciitis due to Candida Infection after Thyroid Surgery https://t.co/WvVDW9mdby,Tweet,en,2021-02-27T00:30:32Z,2021-02-27T00:30:32Z,2021-02-27T00:31:14Z,2021-02-27T00:30:32Z,EurekaMag - Twitter,1,https://twitter.com/EurekaMag/status/1365459265238917120,https://my.silobreaker.com/5_2275643855594323969\\r\\n5_2275643109930958850,,EurekaMag - Thyroid storm with encephalopathy and cardiovascular symptoms refractory to medical management in an adolescent https://t.co/MBkLFa8K6T,Tweet,en,2021-02-26T21:40:03Z,2021-02-26T21:40:03Z,2021-02-26T21:40:45Z,2021-02-26T21:40:03Z,EurekaMag - Twitter,1,https://twitter.com/EurekaMag/status/1365416363322339328,https://my.silobreaker.com/5_2275643109930958850\\r\\n5_2275640910890926084,,EurekaMag - Thyroid disruption and developmental toxicity caused by Cd 2+ in Schizopygopsis younghusbandi larvae https://t.co/k0cq1bGhDY,Tweet,en,2021-02-25T21:40:02Z,2021-02-25T21:40:02Z,2021-02-25T21:41:05Z,2021-02-25T21:40:02Z,EurekaMag - Twitter,1,https://twitter.com/EurekaMag/status/1365053969395970049,https://my.silobreaker.com/5_2275640910890926084\\r\\n5_2275640901193695515,16_2275640901193695351,Interpace Biosciences Announces Contract for Thyroid Testing with Blue Cross Blue Shield of Illinois,News,en,2021-02-25T21:31:00Z,2021-02-25T21:31:00Z,2021-02-25T21:46:26Z,2021-02-25T21:31:00Z,GlobeNewswire - Public Companies - RSS,1,http://www.globenewswire.com/news-release/2021/02/25/2183002/0/en/Interpace-Biosciences-Announces-Contract-for-Thyroid-Testing-with-Blue-Cross-Blue-Shield-of-Illinois.html,https://my.silobreaker.com/5_2275640901193695515\\r\\n5_2275639882112040960,16_2275639882112040960,\"Therapeutic Nuclear Medicines Find Increased Applicability in Thyroid, Brain Cancer Treatment\",News,en,2021-02-25T06:41:58Z,2021-02-25T06:41:58Z,2021-02-25T06:49:09Z,2021-02-25T06:41:58Z,Global Banking & Finance Review - RSS,1,https://www.globalbankingandfinance.com/therapeutic-nuclear-medicines-find-increased-applicability-in-thyroid-brain-cancer-treatment/,https://my.silobreaker.com/5_2275639882112040960\\r\\n5_2275633822013850049,16_2275633822013849807,New Survey Assessment Finds Debilitating Impact of Thyroid Eye Disease (TED) on Quality of Life Continues Well Beyond Acute Disease into Chronic Phase,Blog,en,2021-02-22T14:30:00Z,2021-02-22T14:30:00Z,2021-02-22T14:41:47Z,2021-02-22T14:30:00Z,Business Wire Health News,1,http://www.businesswire.com/news/home/20210222005273/en/New-Survey-Assessment-Finds-Debilitating-Impact-of-Thyroid-Eye-Disease-TED-on-Quality-of-Life-Continues-Well-Beyond-Acute-Disease-into-Chronic-Phase/?feedref=JjAwJuNHiystnCoBq_hl-RLXHJgazfQJNuOVHefdHP-D8R-QU5o2AvY8bhI9uvWSD8DYIYv4TIC1g1u0AKcacnnViVjtb72bOP4-4nHK5ieT3WxPE8m_kWI77F87CseT,https://my.silobreaker.com/5_2275633822013850049\\r\\n5_2275632827728932701,16_2275632827728928024,\"The Free Hormone Hypothesis: When, Why, and How to Measure the Free Hormone Levels to Assess Vitamin D, Thyroid, Sex Hormone, and Cortisol Status.\",Blog,en,2021-02-22T00:00:00Z,2021-02-22T00:00:00Z,2021-02-22T14:55:45Z,2021-02-22T00:00:00Z,escholarship - RSS,1,https://escholarship.org/uc/item/6ww5b7q6,https://my.silobreaker.com/5_2275632827728932701\\r\\n5_2275630052643176449,,EurekaMag - Thyroid dysfunction among adults in Bahrain: A hospital-based study https://t.co/x5MwdLBg8G,Tweet,en,2021-02-20T23:39:32Z,2021-02-20T23:39:32Z,2021-02-20T23:40:11Z,2021-02-20T23:39:32Z,EurekaMag - Twitter,1,https://twitter.com/EurekaMag/status/1363272102221017088,https://my.silobreaker.com/5_2275630052643176449\\r\\n5_2275629720856952834,16_2275629720856952832,Thyroid ailments on the rise but Shopian district has no thyroid analyser in any govt hospital,News,en,2021-02-20T18:50:32Z,2021-02-20T18:50:32Z,2021-02-20T19:20:25Z,2021-02-20T18:50:32Z,Kashmir Reader - RSS,1,https://kashmirreader.com/2021/02/21/thyroid-ailments-on-the-rise-but-shopian-district-has-no-thyroid-analyser-in-any-govt-hospital/,https://my.silobreaker.com/5_2275629720856952834\\r\\n5_2275628429682416652,16_2275628429682413730,\"Cancers, Vol. 13, Pages 892: Genetic Profiles of Aggressive Variants of Papillary Thyroid Carcinomas\",Report,en,2021-02-20T00:00:00Z,2021-02-20T00:00:00Z,2021-02-20T11:42:05Z,2021-02-20T00:00:00Z,MDPI Publishing,1,https://www.mdpi.com/2072-6694/13/4/892,https://my.silobreaker.com/5_2275628429682416652\\r\\n5_2275626574256539458,,\"ARMOUR THYROID (thyroid, porcine) tablet [A-S Medication Solutions]\",Blog,en,2021-02-19T05:00:00Z,2021-02-19T05:00:00Z,2021-02-20T02:24:42Z,2021-02-19T05:00:00Z,\"DailyMed Drug Label Updates for the last seven days (since Feb 24, 2011 EST)\",1,https://dailymed.nlm.nih.gov/dailymed/lookup.cfm?setid=227e445c-b03d-44a3-b911-f00d3b2e118f&version=14,https://my.silobreaker.com/5_2275626574256539458\\r\\n5_2275626230659165680,16_2275626230659160546,\"Applied Sciences, Vol. 11, Pages 1837: Systematic Review of Exposure to Bisphenol A Alternatives and Its Effects on Reproduction and Thyroid Endocrine System in Zebrafish\",Report,en,2021-02-19T00:00:00Z,2021-02-19T00:00:00Z,2021-02-19T14:49:10Z,2021-02-19T00:00:00Z,MDPI Publishing,1,https://www.mdpi.com/2076-3417/11/4/1837,https://my.silobreaker.com/5_2275626230659165680\\r\\n5_2275621832612654545,16_2275621832612649083,\"IJMS, Vol. 22, Pages 1990: Cell and Molecular Biology of Thyroid Disorders 2.0\",Report,en,2021-02-17T00:00:00Z,2021-02-17T00:00:00Z,2021-02-17T18:24:13Z,2021-02-17T00:00:00Z,MDPI Publishing,1,https://www.mdpi.com/1422-0067/22/4/1990,https://my.silobreaker.com/5_2275621832612654545\\r\\n5_2275621832612651729,16_2275619633589391637,\"Diagnostics, Vol. 11, Pages 329: Analyses of the Relation Between BPPV and Thyroid Diseases: A Nested Case-Control Study\",Report,en,2021-02-17T00:00:00Z,2021-02-17T00:00:00Z,2021-02-17T13:02:43Z,2021-02-17T00:00:00Z,MDPI Publishing,1,https://www.mdpi.com/2075-4418/11/2/329,https://my.silobreaker.com/5_2275621832612651729\\r\\n5_2275621832612648934,16_2275621832612646201,\"IJERPH, Vol. 18, Pages 1929: Assessment of the Thyroid Functions among Female Flight Attendants\",Report,en,2021-02-17T00:00:00Z,2021-02-17T00:00:00Z,2021-02-17T09:48:42Z,2021-02-17T00:00:00Z,MDPI Publishing,1,https://www.mdpi.com/1660-4601/18/4/1929,https://my.silobreaker.com/5_2275621832612648934\\r\\n5_2275619633589394694,16_2275619633589391439,\"IJMS, Vol. 22, Pages 1950: Thyroid Carcinoma: Phenotypic Features, Underlying Biology and Potential Relevance for Targeting Therapy\",Report,en,2021-02-16T00:00:00Z,2021-02-16T00:00:00Z,2021-02-16T11:25:42Z,2021-02-16T00:00:00Z,MDPI Publishing,1,https://www.mdpi.com/1422-0067/22/4/1950,https://my.silobreaker.com/5_2275619633589394694\\r\\n5_2275618170247053313,16_2275618102433546368,Could You Have A Thyroid Problem? Here Are The Signs And How To Check.,Blog,en,2021-02-15T10:45:10Z,2021-02-15T10:45:10Z,2021-02-15T13:35:24Z,2021-02-15T10:45:10Z,The Huffington Post Full Blog Feed,1,https://www.huffpost.com/entry/thyroid-problems-warning-signs-how-to-check_l_6022e8e8c5b6f38d06e7a5da,https://my.silobreaker.com/5_2275618170247053313\\r\\n5_2275614482883411968,,EurekaMag - Parental exposure to cadmium chloride causes developmental toxicity and thyroid endocrine disruption in zebrafish o\\xe2\\x80\\xa6 https://t.co/3d78YdJVkQ,Tweet,en,2021-02-13T21:03:02Z,2021-02-13T21:03:02Z,2021-02-13T21:06:18Z,2021-02-13T21:03:02Z,EurekaMag - Twitter,1,https://twitter.com/EurekaMag/status/1360696001846071298,https://my.silobreaker.com/5_2275614482883411968\\r\\n5_2275612036865982660,16_2275611544018485380,\"Global Thyroid Function Test Market Growth, Trends, and Forecasts Report 2020-2025 - ResearchAndMarkets.com\",Blog,en,2021-02-12T17:29:00Z,2021-02-12T17:29:00Z,2021-02-12T18:20:00Z,2021-02-12T17:29:00Z,Business Wire Health News,1,http://www.businesswire.com/news/home/20210212005440/en/Global-Thyroid-Function-Test-Market-Growth-Trends-and-Forecasts-Report-2020-2025---ResearchAndMarkets.com/?feedref=JjAwJuNHiystnCoBq_hl-RLXHJgazfQJNuOVHefdHP-D8R-QU5o2AvY8bhI9uvWSD8DYIYv4TIC1g1u0AKcacnnViVjtb72bOP4-4nHK5ieT3WxPE8m_kWI77F87CseT,https://my.silobreaker.com/5_2275612036865982660\\r\\n5_2275610837496373784,16_2275610837496369937,\"Applied Sciences, Vol. 11, Pages 1670: Imaging the Human Thyroid Using Three-Dimensional Diffuse Optical Tomography: A Preliminary Study\",Report,en,2021-02-12T00:00:00Z,2021-02-12T00:00:00Z,2021-02-12T16:54:08Z,2021-02-12T00:00:00Z,MDPI Publishing,1,https://www.mdpi.com/2076-3417/11/4/1670,https://my.silobreaker.com/5_2275610837496373784\\r\\n5_2275610837496372934,16_2275610837496369578,\"JCM, Vol. 10, Pages 740: Neuromonitoring of the Recurrent Laryngeal Nerve Reduces the Rate of Bilateral Vocal Cord Dysfunction in Planned Bilateral Thyroid Procedures\",Report,en,2021-02-12T00:00:00Z,2021-02-12T00:00:00Z,2021-02-12T15:25:37Z,2021-02-12T00:00:00Z,MDPI Publishing,1,https://www.mdpi.com/2077-0383/10/4/740,https://my.silobreaker.com/5_2275610837496372934\\r\\n5_2275606439449860061,16_2275606439449857030,\"Metabolites, Vol. 11, Pages 94: Comparative Effects of Di-(2-ethylhexyl)phthalate and Di-(2-ethylhexyl)terephthalate Metabolites on Thyroid Receptors: In Vitro and In Silico Studies\",Report,en,2021-02-10T00:00:00Z,2021-02-10T00:00:00Z,2021-02-10T10:43:04Z,2021-02-10T00:00:00Z,MDPI Publishing,1,https://www.mdpi.com/2218-1989/11/2/94,https://my.silobreaker.com/5_2275606439449860061\\r\\n5_2275604240426605998,16_2275604697840615563,\"IJMS, Vol. 22, Pages 1726: A Narrative Review of Genetic Alterations in Primary Thyroid Epithelial Cancer\",Report,en,2021-02-09T00:00:00Z,2021-02-09T00:00:00Z,2021-02-09T09:42:12Z,2021-02-09T00:00:00Z,MDPI Publishing,1,https://www.mdpi.com/1422-0067/22/4/1726,https://my.silobreaker.com/5_2275604240426605998\\r\\n5_2275602041403345421,16_2275602041403344475,\"Symmetry, Vol. 13, Pages 287: Multinomial Logit Model Building via TreeNet and Association Rules Analysis: An Application via a Thyroid Dataset\",Report,en,2021-02-08T00:00:00Z,2021-02-08T00:00:00Z,2021-02-08T04:11:46Z,2021-02-08T00:00:00Z,MDPI Publishing,1,https://www.mdpi.com/2073-8994/13/2/287,https://my.silobreaker.com/5_2275602041403345421\\r\\n5_2275598341825888257,,EurekaMag - Comprehensive circular RNA profiling reveals the regulatory role of circRNA_0007694 in papillary thyroid carcinoma https://t.co/QEjyYVaqjP,Tweet,en,2021-02-06T10:10:32Z,2021-02-06T10:10:32Z,2021-02-06T10:11:12Z,2021-02-06T10:10:32Z,EurekaMag - Twitter,1,https://twitter.com/EurekaMag/status/1357995080859086850,https://my.silobreaker.com/5_2275598341825888257\\r\\n5_2275596590552973313,,EurekaMag - Thyroid storm presenting as septic shock in the intensive care unit: A Case Series https://t.co/nfFYKAyamy,Tweet,en,2021-02-05T16:43:32Z,2021-02-05T16:43:32Z,2021-02-05T16:45:00Z,2021-02-05T16:43:32Z,EurekaMag - Twitter,1,https://twitter.com/EurekaMag/status/1357731597445861376,https://my.silobreaker.com/5_2275596590552973313\\r\\n5_2275596394074996737,16_2275594247732199424,Case Report Sheds Light On COVID-19 Reinfection,News,en,2021-02-05T13:52:33Z,2021-02-05T13:52:33Z,2021-02-05T14:24:04Z,2021-02-05T13:52:33Z,Banega Swasth India - RSS,1,https://swachhindia.ndtv.com/case-report-sheds-light-on-covid-19-reinfection-56341/,https://my.silobreaker.com/5_2275596394074996737\\r\\n5_2275595444333584281,16_2275595444333581164,\"Biology, Vol. 10, Pages 125: A Multifocal Pediatric Papillary Thyroid Carcinoma (PTC) Harboring the AGK-BRAF and RET/PTC3 Fusion in a Mutually Exclusive Pattern Reveals Distinct Levels of Genomic Instability and Nuclear Organization\",Report,en,2021-02-05T00:00:00Z,2021-02-05T00:00:00Z,2021-02-05T10:13:01Z,2021-02-05T00:00:00Z,MDPI Publishing,1,https://www.mdpi.com/2079-7737/10/2/125,https://my.silobreaker.com/5_2275595444333584281\\r\\n'}"
            ]
          },
          "metadata": {
            "tags": []
          },
          "execution_count": 6
        }
      ]
    },
    {
      "cell_type": "code",
      "metadata": {
        "id": "CDnDYM2oAixm"
      },
      "source": [
        "\n",
        "import pandas as pd\n",
        "\n",
        "#Datasets Hashimoto and thyroiditis \n",
        "# df_hsmto = pd.read_csv(\"Hashimoto data.csv\")\n",
        "df_tyrdts = pd.read_csv(\"Tyroiditis data.csv\")"
      ],
      "execution_count": null,
      "outputs": []
    },
    {
      "cell_type": "code",
      "metadata": {
        "colab": {
          "base_uri": "https://localhost:8080/"
        },
        "id": "n0rI73qCJLTf",
        "outputId": "5a0752cd-c322-47bc-8283-780b37023f91"
      },
      "source": [
        "df1_tyrdts = df_tyrdts[\"Description\"]\n",
        "\n",
        "df1_tyrdts.head()"
      ],
      "execution_count": null,
      "outputs": [
        {
          "output_type": "execute_result",
          "data": {
            "text/plain": [
              "0    Long-term efficacy of weekly paclitaxel therap...\n",
              "1    Epidemiological overview of multidimensional c...\n",
              "2    Association between thyroid cysts and hyperten...\n",
              "3    Modulation of ACE-2 mRNA by inflammatory cytok...\n",
              "4    Quantitative Analysis of Galectin-3 Expression...\n",
              "Name: Description, dtype: object"
            ]
          },
          "metadata": {
            "tags": []
          },
          "execution_count": 8
        }
      ]
    },
    {
      "cell_type": "code",
      "metadata": {
        "colab": {
          "base_uri": "https://localhost:8080/"
        },
        "id": "oh62_s_VDwHU",
        "outputId": "be95d6ae-cf54-4612-ce6e-762f963a20cd"
      },
      "source": [
        "df_tyrdts.head"
      ],
      "execution_count": null,
      "outputs": [
        {
          "output_type": "execute_result",
          "data": {
            "text/plain": [
              "<bound method NDFrame.head of                         Id  ...                                    SilobreakerUrl\n",
              "0    5_2275949487077728952  ...  https://my.silobreaker.com/5_2275949487077728952\n",
              "1    5_2275949487077726305  ...  https://my.silobreaker.com/5_2275949487077726305\n",
              "2    5_2275949487077726302  ...  https://my.silobreaker.com/5_2275949487077726302\n",
              "3    5_2275948906183393350  ...  https://my.silobreaker.com/5_2275948906183393350\n",
              "4    5_2275948582987104386  ...  https://my.silobreaker.com/5_2275948582987104386\n",
              "..                     ...  ...                                               ...\n",
              "585  5_2275602041403345421  ...  https://my.silobreaker.com/5_2275602041403345421\n",
              "586  5_2275598341825888257  ...  https://my.silobreaker.com/5_2275598341825888257\n",
              "587  5_2275596590552973313  ...  https://my.silobreaker.com/5_2275596590552973313\n",
              "588  5_2275596394074996737  ...  https://my.silobreaker.com/5_2275596394074996737\n",
              "589  5_2275595444333584281  ...  https://my.silobreaker.com/5_2275595444333584281\n",
              "\n",
              "[590 rows x 13 columns]>"
            ]
          },
          "metadata": {
            "tags": []
          },
          "execution_count": 9
        }
      ]
    },
    {
      "cell_type": "code",
      "metadata": {
        "colab": {
          "base_uri": "https://localhost:8080/",
          "height": 1000,
          "referenced_widgets": [
            "45dc0341ca804172a54feb591895bfdc",
            "d1021af3c8de4a74a9354ea453b91476",
            "7d429a332be64530b23cdd7e7466af12",
            "8288d49e87414e4d9219407c6ae29126",
            "7df8a2d685a64b77981977bdf11b8a73",
            "a10988d0ac644f70983569dacac1751f",
            "00ee77ff40e24e72a8a43f9b0d118862",
            "435e654da37543459f67530679dd58fa",
            "bb69110b1b0144509cb3aed7d6eebc81",
            "ac6c9f64c37d490fb12f59bdf54584e2",
            "30ae1abab1e842939518f0374409b381",
            "4a890d373eb149f6b403aff16bb853fe",
            "8bd264b8c31a4deab95ca8b1823321b6",
            "3be66e3d622740bbbf1a49867046e6ad",
            "93312e471abd40c8845bbdba41e0b4b3",
            "6db544bfc0a74b91bda69862ed6415dd",
            "7288c0d729dc4633bdfb3275153ecc50",
            "4a44250a41494cde99a1588d201160b7",
            "1469d721088b4628a49533650c95f8e4",
            "679a2cc0144b4b249d4ed5f909d9f142",
            "f15bb5a872fb4321a3948700a3ce7a76",
            "4378834f18fd46578aab0d2b067b41f0",
            "4b90c3c8b7104a80a2b769c744581c8f",
            "4dfaa8037d0440e880b1f6168c71f150",
            "f5f65e107de443729f8a10e8206c347b",
            "7fc2a9c9d88a4768ab836f7308464ca1",
            "3d3418e67eb445f7bfb042e0b4b18359",
            "e86efaf698024c88bfaffea56ca5a656",
            "59f76b78eb734224a7113a2c41954c78",
            "338abb3c7b8748e6a145531b7e89ded9",
            "d69b2791f06047138f375790fee8df70",
            "f7e8f1d449e54f05acb3f534ebc81108",
            "b66f3d75ac704201b066cb13a90d9810",
            "c73fa2ed5e974b65999c1413d3d3c992",
            "496b443a25a44c5f86e36f041c4f1a7b",
            "41512a60d3e14aecacda95426ceacb53",
            "920165af5c2f42e7a67484f230e30cd4",
            "c1149c03ce6841b2b4ece05b284e40fc",
            "923f030fbd14450c8e1e4dd942cf5b49",
            "3ae2e34cd9764c3eaad5a784548afe17",
            "a937549c82b84258be7f6a284eb4bc3a",
            "4207fcf2e23b4c77bcf7c5bf641658d0",
            "e8aaa1e42ac145b08605b45742fe7918",
            "6dfe1b812757459493fef97c042cad28",
            "83609f82ec1d434ca07d35882371417b",
            "31065533cbef49cbba13b1603275217a",
            "a2615f5d69804a4a8f8b9fe193880e83",
            "c20c322360784e0aa52dd41ed6896c9d",
            "602e030904064654bf83b9ce49286081",
            "08732fcdab3841c79e68eb45b0037a90",
            "8ef36afbd8d14583bc95f3768bba38b6",
            "fdd82791f71b4e0493521eac452ff36d",
            "536f077ec97d45f695b81d46b8fd0921",
            "8a189796a5974303a912e62c2be8467a",
            "9b7b958b0b7441c4830ac29560cd9d55",
            "e52d4d5e6eaf4404981977aa72fb6ddd",
            "c69110777f7e4bc5ba5afefa04c52b06",
            "89c7e8ebfaf846ada99fdbd5c0081c85",
            "b8af5dd136cb46e0b25457af3ecf3fda",
            "f08e60996c604c559de9a7dfa64cf2db",
            "2a3d74e315ca43a7b3c9454de58d4af0",
            "b70d97397b35404487662cdfb016f793",
            "08088b2857ed49908567841a3d8117e1",
            "75c3520ec34c4955958d12899f4907c1",
            "82cf92dbc22240ca91b2e9b37ae9522d",
            "9783c84f20c34d1e9d583f45bc13c6e4",
            "348f8b4663e849f89d651ce34f5b2e39",
            "6e8257be199445059a6aec5b82c2db0b",
            "236f3ca86f7e454eaad89d7d80eae9d8",
            "5d1d5218794d414492fa37f751c1572c",
            "0fec0d0ff4d645ca9df564c89f909b0d",
            "9a36a70245e9479290bf5feb6e84a077",
            "340bcc1273224d73805bbb1fb90e0ac6",
            "b3a2f3f5781f41f4ac6f1010a4ce1820",
            "0b368eca9683448ba27d337b3aba7674",
            "521ea60dfe59499895d68cfbb3057c59",
            "4b3dc08917ee460d95baccd39f087ca3",
            "8d1b117eb23e48a59490ff2b68e4d509",
            "3a615b559d7a4f548339af872daad373",
            "60a84584a538432da1d34e6fe483c8e1",
            "22e3a138aafb42fb956e3fa5e33d4c18",
            "fc1a28facd734137b0996d9895722297",
            "d82ebf110d624a8fb0149467cff4d29b",
            "1bdef7bbfdf54c6da8a85391fc733ad2",
            "93270530837b4673b1579e330f5fb179",
            "dea757e930564f86a12ca3335c1e2666",
            "f167caed527c43bd8cce0a7a3a699da7",
            "bc7af643cbc843318fcfc74076fbd1a6",
            "6f74419589804d7f9ba4c3e6b1f17c49",
            "6715b1d4524b4fc98803d19f3e429ec3",
            "9910515232a4413abfdaf17366f9b7ff",
            "24e2b657d058431aac346b994eecf9ee",
            "7afea35d66c54e71a72f743f2ab39aac",
            "c9c18af959754ea9b7424b682c54a24e",
            "43d63dbee07644bead589e3a4a08859f",
            "ad7bc29679de4e7e9169f78169b3e2ef",
            "149e0574bcbc4705b4e92c8932d9afd9",
            "7c53926cbafc4736a5418bac5f9f329e",
            "c3a000f5c6504a88bfdcedcf6ad312f9",
            "fe4272eeef0a4b00bd35c2f5ee435023",
            "6b739cac25fb408696479f5eb7f33863",
            "be267c3bf1114e2eb8e854d3f7fb2f3a",
            "b15f280e49d940bcac61dfdb128c1a43",
            "09600fa9b453412591c0eddbb0c72ee5"
          ]
        },
        "id": "VKraHo9WB91V",
        "outputId": "b62be76e-a45b-46c5-c016-279553ee10e7"
      },
      "source": [
        "from bertopic import BERTopic\n",
        "\n",
        "\n",
        "\n",
        "\n",
        "topic_model = BERTopic(language=\"english\", calculate_probabilities=True, verbose=True)\n",
        "topics, probs = topic_model.fit_transform(df1_tyrdts)\n",
        "StopWatch.start(f'parallel {topic_model}')\n",
        "StopWatch.stop(f'parallel {topic_model}')\n",
        "StopWatch.benchmark()"
      ],
      "execution_count": null,
      "outputs": [
        {
          "output_type": "stream",
          "text": [
            "/usr/local/lib/python3.7/dist-packages/distributed/config.py:20: YAMLLoadWarning: calling yaml.load() without Loader=... is deprecated, as the default Loader is unsafe. Please read https://msg.pyyaml.org/load for full details.\n",
            "  defaults = yaml.load(f)\n"
          ],
          "name": "stderr"
        },
        {
          "output_type": "display_data",
          "data": {
            "application/vnd.jupyter.widget-view+json": {
              "model_id": "45dc0341ca804172a54feb591895bfdc",
              "version_minor": 0,
              "version_major": 2
            },
            "text/plain": [
              "HBox(children=(FloatProgress(value=0.0, description='Downloading', max=690.0, style=ProgressStyle(description_…"
            ]
          },
          "metadata": {
            "tags": []
          }
        },
        {
          "output_type": "stream",
          "text": [
            "\n"
          ],
          "name": "stdout"
        },
        {
          "output_type": "display_data",
          "data": {
            "application/vnd.jupyter.widget-view+json": {
              "model_id": "bb69110b1b0144509cb3aed7d6eebc81",
              "version_minor": 0,
              "version_major": 2
            },
            "text/plain": [
              "HBox(children=(FloatProgress(value=0.0, description='Downloading', max=3673.0, style=ProgressStyle(description…"
            ]
          },
          "metadata": {
            "tags": []
          }
        },
        {
          "output_type": "stream",
          "text": [
            "\n"
          ],
          "name": "stdout"
        },
        {
          "output_type": "display_data",
          "data": {
            "application/vnd.jupyter.widget-view+json": {
              "model_id": "7288c0d729dc4633bdfb3275153ecc50",
              "version_minor": 0,
              "version_major": 2
            },
            "text/plain": [
              "HBox(children=(FloatProgress(value=0.0, description='Downloading', max=629.0, style=ProgressStyle(description_…"
            ]
          },
          "metadata": {
            "tags": []
          }
        },
        {
          "output_type": "stream",
          "text": [
            "\n"
          ],
          "name": "stdout"
        },
        {
          "output_type": "display_data",
          "data": {
            "application/vnd.jupyter.widget-view+json": {
              "model_id": "f5f65e107de443729f8a10e8206c347b",
              "version_minor": 0,
              "version_major": 2
            },
            "text/plain": [
              "HBox(children=(FloatProgress(value=0.0, description='Downloading', max=122.0, style=ProgressStyle(description_…"
            ]
          },
          "metadata": {
            "tags": []
          }
        },
        {
          "output_type": "stream",
          "text": [
            "\n"
          ],
          "name": "stdout"
        },
        {
          "output_type": "display_data",
          "data": {
            "application/vnd.jupyter.widget-view+json": {
              "model_id": "b66f3d75ac704201b066cb13a90d9810",
              "version_minor": 0,
              "version_major": 2
            },
            "text/plain": [
              "HBox(children=(FloatProgress(value=0.0, description='Downloading', max=229.0, style=ProgressStyle(description_…"
            ]
          },
          "metadata": {
            "tags": []
          }
        },
        {
          "output_type": "stream",
          "text": [
            "\n"
          ],
          "name": "stdout"
        },
        {
          "output_type": "display_data",
          "data": {
            "application/vnd.jupyter.widget-view+json": {
              "model_id": "a937549c82b84258be7f6a284eb4bc3a",
              "version_minor": 0,
              "version_major": 2
            },
            "text/plain": [
              "HBox(children=(FloatProgress(value=0.0, description='Downloading', max=90895153.0, style=ProgressStyle(descrip…"
            ]
          },
          "metadata": {
            "tags": []
          }
        },
        {
          "output_type": "stream",
          "text": [
            "\n"
          ],
          "name": "stdout"
        },
        {
          "output_type": "display_data",
          "data": {
            "application/vnd.jupyter.widget-view+json": {
              "model_id": "602e030904064654bf83b9ce49286081",
              "version_minor": 0,
              "version_major": 2
            },
            "text/plain": [
              "HBox(children=(FloatProgress(value=0.0, description='Downloading', max=53.0, style=ProgressStyle(description_w…"
            ]
          },
          "metadata": {
            "tags": []
          }
        },
        {
          "output_type": "stream",
          "text": [
            "\n"
          ],
          "name": "stdout"
        },
        {
          "output_type": "display_data",
          "data": {
            "application/vnd.jupyter.widget-view+json": {
              "model_id": "c69110777f7e4bc5ba5afefa04c52b06",
              "version_minor": 0,
              "version_major": 2
            },
            "text/plain": [
              "HBox(children=(FloatProgress(value=0.0, description='Downloading', max=112.0, style=ProgressStyle(description_…"
            ]
          },
          "metadata": {
            "tags": []
          }
        },
        {
          "output_type": "stream",
          "text": [
            "\n"
          ],
          "name": "stdout"
        },
        {
          "output_type": "display_data",
          "data": {
            "application/vnd.jupyter.widget-view+json": {
              "model_id": "82cf92dbc22240ca91b2e9b37ae9522d",
              "version_minor": 0,
              "version_major": 2
            },
            "text/plain": [
              "HBox(children=(FloatProgress(value=0.0, description='Downloading', max=466081.0, style=ProgressStyle(descripti…"
            ]
          },
          "metadata": {
            "tags": []
          }
        },
        {
          "output_type": "stream",
          "text": [
            "\n"
          ],
          "name": "stdout"
        },
        {
          "output_type": "display_data",
          "data": {
            "application/vnd.jupyter.widget-view+json": {
              "model_id": "340bcc1273224d73805bbb1fb90e0ac6",
              "version_minor": 0,
              "version_major": 2
            },
            "text/plain": [
              "HBox(children=(FloatProgress(value=0.0, description='Downloading', max=516.0, style=ProgressStyle(description_…"
            ]
          },
          "metadata": {
            "tags": []
          }
        },
        {
          "output_type": "stream",
          "text": [
            "\n"
          ],
          "name": "stdout"
        },
        {
          "output_type": "display_data",
          "data": {
            "application/vnd.jupyter.widget-view+json": {
              "model_id": "22e3a138aafb42fb956e3fa5e33d4c18",
              "version_minor": 0,
              "version_major": 2
            },
            "text/plain": [
              "HBox(children=(FloatProgress(value=0.0, description='Downloading', max=231508.0, style=ProgressStyle(descripti…"
            ]
          },
          "metadata": {
            "tags": []
          }
        },
        {
          "output_type": "stream",
          "text": [
            "\n"
          ],
          "name": "stdout"
        },
        {
          "output_type": "display_data",
          "data": {
            "application/vnd.jupyter.widget-view+json": {
              "model_id": "6f74419589804d7f9ba4c3e6b1f17c49",
              "version_minor": 0,
              "version_major": 2
            },
            "text/plain": [
              "HBox(children=(FloatProgress(value=0.0, description='Downloading', max=190.0, style=ProgressStyle(description_…"
            ]
          },
          "metadata": {
            "tags": []
          }
        },
        {
          "output_type": "stream",
          "text": [
            "\n"
          ],
          "name": "stdout"
        },
        {
          "output_type": "display_data",
          "data": {
            "application/vnd.jupyter.widget-view+json": {
              "model_id": "149e0574bcbc4705b4e92c8932d9afd9",
              "version_minor": 0,
              "version_major": 2
            },
            "text/plain": [
              "HBox(children=(FloatProgress(value=0.0, description='Batches', max=19.0, style=ProgressStyle(description_width…"
            ]
          },
          "metadata": {
            "tags": []
          }
        },
        {
          "output_type": "stream",
          "text": [
            "2021-07-22 18:48:00,564 - BERTopic - Transformed documents to Embeddings\n"
          ],
          "name": "stderr"
        },
        {
          "output_type": "stream",
          "text": [
            "\n"
          ],
          "name": "stdout"
        },
        {
          "output_type": "stream",
          "text": [
            "/usr/local/lib/python3.7/dist-packages/numba/np/ufunc/parallel.py:363: NumbaWarning: \u001b[1mThe TBB threading layer requires TBB version 2019.5 or later i.e., TBB_INTERFACE_VERSION >= 11005. Found TBB_INTERFACE_VERSION = 9107. The TBB threading layer is disabled.\u001b[0m\n",
            "  warnings.warn(problem)\n",
            "2021-07-22 18:48:12,849 - BERTopic - Reduced dimensionality with UMAP\n",
            "2021-07-22 18:48:12,929 - BERTopic - Clustered UMAP embeddings with HDBSCAN\n"
          ],
          "name": "stderr"
        },
        {
          "output_type": "stream",
          "text": [
            "\n",
            "+---------------------+------------------------------------------------------------------+\n",
            "| Attribute           | Value                                                            |\n",
            "|---------------------+------------------------------------------------------------------|\n",
            "| BUG_REPORT_URL      | \"https://bugs.launchpad.net/ubuntu/\"                             |\n",
            "| DISTRIB_CODENAME    | bionic                                                           |\n",
            "| DISTRIB_DESCRIPTION | \"Ubuntu 18.04.5 LTS\"                                             |\n",
            "| DISTRIB_ID          | Ubuntu                                                           |\n",
            "| DISTRIB_RELEASE     | 18.04                                                            |\n",
            "| HOME_URL            | \"https://www.ubuntu.com/\"                                        |\n",
            "| ID                  | ubuntu                                                           |\n",
            "| ID_LIKE             | debian                                                           |\n",
            "| NAME                | \"Ubuntu\"                                                         |\n",
            "| PRETTY_NAME         | \"Ubuntu 18.04.5 LTS\"                                             |\n",
            "| PRIVACY_POLICY_URL  | \"https://www.ubuntu.com/legal/terms-and-policies/privacy-policy\" |\n",
            "| SUPPORT_URL         | \"https://help.ubuntu.com/\"                                       |\n",
            "| UBUNTU_CODENAME     | bionic                                                           |\n",
            "| VERSION             | \"18.04.5 LTS (Bionic Beaver)\"                                    |\n",
            "| VERSION_CODENAME    | bionic                                                           |\n",
            "| VERSION_ID          | \"18.04\"                                                          |\n",
            "| cpu                 | Intel(R) Xeon(R) CPU @ 2.30GHz                                   |\n",
            "| cpu_cores           | 1                                                                |\n",
            "| cpu_count           | 2                                                                |\n",
            "| cpu_threads         | 2                                                                |\n",
            "| frequency           | None                                                             |\n",
            "| mem.active          | 1.3 GiB                                                          |\n",
            "| mem.available       | 11.5 GiB                                                         |\n",
            "| mem.free            | 8.1 GiB                                                          |\n",
            "| mem.inactive        | 2.9 GiB                                                          |\n",
            "| mem.percent         | 9.3 %                                                            |\n",
            "| mem.total           | 12.7 GiB                                                         |\n",
            "| mem.used            | 1.1 GiB                                                          |\n",
            "| platform.version    | #1 SMP Sat Jun 5 09:50:34 PDT 2021                               |\n",
            "| python              | 3.7.11 (default, Jul  3 2021, 18:01:19)                          |\n",
            "|                     | [GCC 7.5.0]                                                      |\n",
            "| python.pip          | 21.1.3                                                           |\n",
            "| python.version      | 3.7.11                                                           |\n",
            "| sys.platform        | linux                                                            |\n",
            "| uname.machine       | x86_64                                                           |\n",
            "| uname.node          | 6ca915f24181                                                     |\n",
            "| uname.processor     | x86_64                                                           |\n",
            "| uname.release       | 5.4.104+                                                         |\n",
            "| uname.system        | Linux                                                            |\n",
            "| uname.version       | #1 SMP Sat Jun 5 09:50:34 PDT 2021                               |\n",
            "| user                | collab                                                           |\n",
            "+---------------------+------------------------------------------------------------------+\n",
            "\n",
            "+----------------------------------------------------------------------------------------------------------------------------------------------------------------------------------------------------------------------------------------------------------------------------------------------------------------------------------------------------------------------------------+----------+--------+-------+---------------------+-------+-------+--------------+--------+-------+------------------------------------+\n",
            "| Name                                                                                                                                                                                                                                                                                                                                                                             | Status   |   Time |   Sum | Start               | tag   | msg   | Node         | User   | OS    | Version                            |\n",
            "|----------------------------------------------------------------------------------------------------------------------------------------------------------------------------------------------------------------------------------------------------------------------------------------------------------------------------------------------------------------------------------+----------+--------+-------+---------------------+-------+-------+--------------+--------+-------+------------------------------------|\n",
            "| parallel BERTopic(calculate_probabilities=True, embedding_model=<bertopic.backend._sentencetransformers.SentenceTransformerBackend object at 0x7fe1d0cfee50>, hdbscan_model=HDBSCAN(...), language=english, low_memory=False, min_topic_size=10, n_gram_range=(1, 1), nr_topics=None, top_n_words=10, umap_model=UMAP(...), vectorizer_model=CountVectorizer(...), verbose=True) | ok       |  0.002 | 0.002 | 2021-07-22 18:48:16 |       |       | 6ca915f24181 | collab | Linux | #1 SMP Sat Jun 5 09:50:34 PDT 2021 |\n",
            "+----------------------------------------------------------------------------------------------------------------------------------------------------------------------------------------------------------------------------------------------------------------------------------------------------------------------------------------------------------------------------------+----------+--------+-------+---------------------+-------+-------+--------------+--------+-------+------------------------------------+\n",
            "\n",
            "# csv,timer,status,time,sum,start,tag,msg,uname.node,user,uname.system,platform.version\n",
            "# csv,parallel BERTopic(calculate_probabilities=True, embedding_model=<bertopic.backend._sentencetransformers.SentenceTransformerBackend object at 0x7fe1d0cfee50>, hdbscan_model=HDBSCAN(...), language=english, low_memory=False, min_topic_size=10, n_gram_range=(1, 1), nr_topics=None, top_n_words=10, umap_model=UMAP(...), vectorizer_model=CountVectorizer(...), verbose=True),ok,0.002,0.002,2021-07-22 18:48:16,,None,6ca915f24181,collab,Linux,#1 SMP Sat Jun 5 09:50:34 PDT 2021\n",
            "\n"
          ],
          "name": "stdout"
        }
      ]
    },
    {
      "cell_type": "code",
      "metadata": {
        "id": "HncrzW9LKL4G"
      },
      "source": [
        "freq = topic_model.get_topic_info(); freq.head(5)\n",
        "StopWatch.start(f'parallel {freq}')"
      ],
      "execution_count": null,
      "outputs": []
    },
    {
      "cell_type": "code",
      "metadata": {
        "id": "pPlJsHTlU-nM"
      },
      "source": [
        "StopWatch.stop(f'parallel {freq}')"
      ],
      "execution_count": null,
      "outputs": []
    },
    {
      "cell_type": "code",
      "metadata": {
        "colab": {
          "base_uri": "https://localhost:8080/"
        },
        "id": "rGLXEKTAVHIw",
        "outputId": "7b4f58ca-3431-4b49-e652-96f56b975697"
      },
      "source": [
        " StopWatch.benchmark()"
      ],
      "execution_count": null,
      "outputs": [
        {
          "output_type": "stream",
          "text": [
            "\n",
            "+---------------------+------------------------------------------------------------------+\n",
            "| Attribute           | Value                                                            |\n",
            "|---------------------+------------------------------------------------------------------|\n",
            "| BUG_REPORT_URL      | \"https://bugs.launchpad.net/ubuntu/\"                             |\n",
            "| DISTRIB_CODENAME    | bionic                                                           |\n",
            "| DISTRIB_DESCRIPTION | \"Ubuntu 18.04.5 LTS\"                                             |\n",
            "| DISTRIB_ID          | Ubuntu                                                           |\n",
            "| DISTRIB_RELEASE     | 18.04                                                            |\n",
            "| HOME_URL            | \"https://www.ubuntu.com/\"                                        |\n",
            "| ID                  | ubuntu                                                           |\n",
            "| ID_LIKE             | debian                                                           |\n",
            "| NAME                | \"Ubuntu\"                                                         |\n",
            "| PRETTY_NAME         | \"Ubuntu 18.04.5 LTS\"                                             |\n",
            "| PRIVACY_POLICY_URL  | \"https://www.ubuntu.com/legal/terms-and-policies/privacy-policy\" |\n",
            "| SUPPORT_URL         | \"https://help.ubuntu.com/\"                                       |\n",
            "| UBUNTU_CODENAME     | bionic                                                           |\n",
            "| VERSION             | \"18.04.5 LTS (Bionic Beaver)\"                                    |\n",
            "| VERSION_CODENAME    | bionic                                                           |\n",
            "| VERSION_ID          | \"18.04\"                                                          |\n",
            "| cpu                 | Intel(R) Xeon(R) CPU @ 2.30GHz                                   |\n",
            "| cpu_cores           | 1                                                                |\n",
            "| cpu_count           | 2                                                                |\n",
            "| cpu_threads         | 2                                                                |\n",
            "| frequency           | None                                                             |\n",
            "| mem.active          | 1.3 GiB                                                          |\n",
            "| mem.available       | 11.5 GiB                                                         |\n",
            "| mem.free            | 9.1 GiB                                                          |\n",
            "| mem.inactive        | 2.0 GiB                                                          |\n",
            "| mem.percent         | 9.3 %                                                            |\n",
            "| mem.total           | 12.7 GiB                                                         |\n",
            "| mem.used            | 1.1 GiB                                                          |\n",
            "| platform.version    | #1 SMP Sat Jun 5 09:50:34 PDT 2021                               |\n",
            "| python              | 3.7.11 (default, Jul  3 2021, 18:01:19)                          |\n",
            "|                     | [GCC 7.5.0]                                                      |\n",
            "| python.pip          | 21.1.3                                                           |\n",
            "| python.version      | 3.7.11                                                           |\n",
            "| sys.platform        | linux                                                            |\n",
            "| uname.machine       | x86_64                                                           |\n",
            "| uname.node          | 6ca915f24181                                                     |\n",
            "| uname.processor     | x86_64                                                           |\n",
            "| uname.release       | 5.4.104+                                                         |\n",
            "| uname.system        | Linux                                                            |\n",
            "| uname.version       | #1 SMP Sat Jun 5 09:50:34 PDT 2021                               |\n",
            "| user                | collab                                                           |\n",
            "+---------------------+------------------------------------------------------------------+\n",
            "\n",
            "+----------------------------------------------------------------------------------------------------------------------------------------------------------------------------------------------------------------------------------------------------------------------------------------------------------------------------------------------------------------------------------+----------+--------+-------+---------------------+-------+-------+--------------+--------+-------+------------------------------------+\n",
            "| Name                                                                                                                                                                                                                                                                                                                                                                             | Status   |   Time |   Sum | Start               | tag   | msg   | Node         | User   | OS    | Version                            |\n",
            "|----------------------------------------------------------------------------------------------------------------------------------------------------------------------------------------------------------------------------------------------------------------------------------------------------------------------------------------------------------------------------------+----------+--------+-------+---------------------+-------+-------+--------------+--------+-------+------------------------------------|\n",
            "| parallel BERTopic(calculate_probabilities=True, embedding_model=<bertopic.backend._sentencetransformers.SentenceTransformerBackend object at 0x7fe1d0cfee50>, hdbscan_model=HDBSCAN(...), language=english, low_memory=False, min_topic_size=10, n_gram_range=(1, 1), nr_topics=None, top_n_words=10, umap_model=UMAP(...), vectorizer_model=CountVectorizer(...), verbose=True) | ok       |  0.002 | 0.002 | 2021-07-22 18:48:16 |       |       | 6ca915f24181 | collab | Linux | #1 SMP Sat Jun 5 09:50:34 PDT 2021 |\n",
            "| parallel     Topic  Count                                               Name                                                                                                                                                                                                                                                                                                     | ok       |  1.614 | 1.614 | 2021-07-22 19:01:10 |       |       | 6ca915f24181 | collab | Linux | #1 SMP Sat Jun 5 09:50:34 PDT 2021 |\n",
            "| 0      -1    170          -1_cancer_patients_parathyroid_follicular                                                                                                                                                                                                                                                                                                              |          |        |       |                     |       |       |              |        |       |                                    |\n",
            "| 1       0     67                    0_eurekamag_surgery_nerve_gland                                                                                                                                                                                                                                                                                                              |          |        |       |                     |       |       |              |        |       |                                    |\n",
            "| 2       1     55          1_morgan_hypothyroidism_disorder_symptoms                                                                                                                                                                                                                                                                                                              |          |        |       |                     |       |       |              |        |       |                                    |\n",
            "| 3       2     50       2_nodules_ultrasound_ablation_radiofrequency                                                                                                                                                                                                                                                                                                              |          |        |       |                     |       |       |              |        |       |                                    |\n",
            "| 4       3     44                 3_carcinoma_therapy_cancers_cancer                                                                                                                                                                                                                                                                                                              |          |        |       |                     |       |       |              |        |       |                                    |\n",
            "| 5       4     35        4_foods_levothyroxine_liothyronine_selenium                                                                                                                                                                                                                                                                                                              |          |        |       |                     |       |       |              |        |       |                                    |\n",
            "| 6       5     27            5_carcinoma_cancers_carcinomas_mutation                                                                                                                                                                                                                                                                                                              |          |        |       |                     |       |       |              |        |       |                                    |\n",
            "| 7       6     26   6_tests_forecasts_researchandmarketscom_forecast                                                                                                                                                                                                                                                                                                              |          |        |       |                     |       |       |              |        |       |                                    |\n",
            "| 8       7     25             7_eye_trials_teprotumumab_therapeutics                                                                                                                                                                                                                                                                                                              |          |        |       |                     |       |       |              |        |       |                                    |\n",
            "| 9       8     24             8_lymph_papillary_metastasis_carcinoma                                                                                                                                                                                                                                                                                                              |          |        |       |                     |       |       |              |        |       |                                    |\n",
            "| 10      9     19                9_carcinoma_rna_targeting_papillary                                                                                                                                                                                                                                                                                                              |          |        |       |                     |       |       |              |        |       |                                    |\n",
            "| 11     10     14              10_hormone_pregnant_pregnancy_vitamin                                                                                                                                                                                                                                                                                                              |          |        |       |                     |       |       |              |        |       |                                    |\n",
            "| 12     11     13           11_zebrafish_toxicity_exposure_endocrine                                                                                                                                                                                                                                                                                                              |          |        |       |                     |       |       |              |        |       |                                    |\n",
            "| 13     12     11             12_covid19_pandemic_patients_survivors                                                                                                                                                                                                                                                                                                              |          |        |       |                     |       |       |              |        |       |                                    |\n",
            "| 14     13     10  13_receptor_metabolites_inhibitorsrelated_chec...                                                                                                                                                                                                                                                                                                              |          |        |       |                     |       |       |              |        |       |                                    |\n",
            "+----------------------------------------------------------------------------------------------------------------------------------------------------------------------------------------------------------------------------------------------------------------------------------------------------------------------------------------------------------------------------------+----------+--------+-------+---------------------+-------+-------+--------------+--------+-------+------------------------------------+\n",
            "\n",
            "# csv,timer,status,time,sum,start,tag,msg,uname.node,user,uname.system,platform.version\n",
            "# csv,parallel BERTopic(calculate_probabilities=True, embedding_model=<bertopic.backend._sentencetransformers.SentenceTransformerBackend object at 0x7fe1d0cfee50>, hdbscan_model=HDBSCAN(...), language=english, low_memory=False, min_topic_size=10, n_gram_range=(1, 1), nr_topics=None, top_n_words=10, umap_model=UMAP(...), vectorizer_model=CountVectorizer(...), verbose=True),ok,0.002,0.002,2021-07-22 18:48:16,,None,6ca915f24181,collab,Linux,#1 SMP Sat Jun 5 09:50:34 PDT 2021\n",
            "# csv,parallel     Topic  Count                                               Name\n",
            "0      -1    170          -1_cancer_patients_parathyroid_follicular\n",
            "1       0     67                    0_eurekamag_surgery_nerve_gland\n",
            "2       1     55          1_morgan_hypothyroidism_disorder_symptoms\n",
            "3       2     50       2_nodules_ultrasound_ablation_radiofrequency\n",
            "4       3     44                 3_carcinoma_therapy_cancers_cancer\n",
            "5       4     35        4_foods_levothyroxine_liothyronine_selenium\n",
            "6       5     27            5_carcinoma_cancers_carcinomas_mutation\n",
            "7       6     26   6_tests_forecasts_researchandmarketscom_forecast\n",
            "8       7     25             7_eye_trials_teprotumumab_therapeutics\n",
            "9       8     24             8_lymph_papillary_metastasis_carcinoma\n",
            "10      9     19                9_carcinoma_rna_targeting_papillary\n",
            "11     10     14              10_hormone_pregnant_pregnancy_vitamin\n",
            "12     11     13           11_zebrafish_toxicity_exposure_endocrine\n",
            "13     12     11             12_covid19_pandemic_patients_survivors\n",
            "14     13     10  13_receptor_metabolites_inhibitorsrelated_chec...,ok,1.614,1.614,2021-07-22 19:01:10,,None,6ca915f24181,collab,Linux,#1 SMP Sat Jun 5 09:50:34 PDT 2021\n",
            "\n"
          ],
          "name": "stdout"
        }
      ]
    },
    {
      "cell_type": "code",
      "metadata": {
        "colab": {
          "base_uri": "https://localhost:8080/"
        },
        "id": "KNHZAuf4Kkwa",
        "outputId": "94edb9e6-250b-460d-9116-1860e3afc777"
      },
      "source": [
        "topic_model.get_topic(0)  # Select the most frequent topic"
      ],
      "execution_count": null,
      "outputs": [
        {
          "output_type": "execute_result",
          "data": {
            "text/plain": [
              "[('eurekamag', 0.13096853192184257),\n",
              " ('surgery', 0.055417641919142835),\n",
              " ('nerve', 0.05174722048338938),\n",
              " ('gland', 0.045612533413551475),\n",
              " ('intraoperative', 0.044168514136330876),\n",
              " ('laryngeal', 0.03702037686730739),\n",
              " ('recurrent', 0.03212255573551337),\n",
              " ('neuromonitoring', 0.031362273167958345),\n",
              " ('surgerya', 0.016056091067886216),\n",
              " ('voice', 0.015168183436862201)]"
            ]
          },
          "metadata": {
            "tags": []
          },
          "execution_count": 15
        }
      ]
    },
    {
      "cell_type": "code",
      "metadata": {
        "colab": {
          "base_uri": "https://localhost:8080/",
          "height": 667
        },
        "id": "x_dOHQrUKtKs",
        "outputId": "7209588e-baf4-4189-c2a8-4f9f591cc848"
      },
      "source": [
        "topic_model.visualize_topics()"
      ],
      "execution_count": null,
      "outputs": [
        {
          "output_type": "display_data",
          "data": {
            "text/html": [
              "<html>\n",
              "<head><meta charset=\"utf-8\" /></head>\n",
              "<body>\n",
              "    <div>            <script src=\"https://cdnjs.cloudflare.com/ajax/libs/mathjax/2.7.5/MathJax.js?config=TeX-AMS-MML_SVG\"></script><script type=\"text/javascript\">if (window.MathJax) {MathJax.Hub.Config({SVG: {font: \"STIX-Web\"}});}</script>                <script type=\"text/javascript\">window.PlotlyConfig = {MathJaxConfig: 'local'};</script>\n",
              "        <script src=\"https://cdn.plot.ly/plotly-latest.min.js\"></script>                <div id=\"3c47df3b-3d57-496f-a4dc-3b88b31d621b\" class=\"plotly-graph-div\" style=\"height:650px; width:650px;\"></div>            <script type=\"text/javascript\">                                    window.PLOTLYENV=window.PLOTLYENV || {};                                    if (document.getElementById(\"3c47df3b-3d57-496f-a4dc-3b88b31d621b\")) {                    Plotly.newPlot(                        \"3c47df3b-3d57-496f-a4dc-3b88b31d621b\",                        [{\"customdata\": [[12.489246368408203, -8.034838676452637, 0, \"eurekamag | surgery | nerve | gland | intraoperative\", 67], [-5.419159889221191, 25.10546112060547, 1, \"morgan | hypothyroidism | disorder | symptoms | stewart\", 55], [12.970281600952148, -8.514595031738281, 2, \"nodules | ultrasound | ablation | radiofrequency | cytology\", 50], [10.576072692871094, 4.692715644836426, 3, \"carcinoma | therapy | cancers | cancer | ret\", 44], [-5.90379524230957, 25.64115333557129, 4, \"foods | levothyroxine | liothyronine | selenium | dietary\", 35], [10.307323455810547, 5.104041576385498, 5, \"carcinoma | cancers | carcinomas | mutation | genes\", 27], [13.915323257446289, 12.436673164367676, 6, \"tests | forecasts | researchandmarketscom | forecast | 2021\", 26], [14.203059196472168, 12.72469711303711, 7, \"eye | trials | teprotumumab | therapeutics | sawka\", 25], [12.690695762634277, -8.236041069030762, 8, \"lymph | papillary | metastasis | carcinoma | microcarcinoma\", 24], [10.006131172180176, 5.569875717163086, 9, \"carcinoma | rna | targeting | papillary | regulates\", 19], [-5.888307094573975, 25.111547470092773, 10, \"hormone | pregnant | pregnancy | vitamin | status\", 14], [9.402750015258789, 6.416585445404053, 11, \"zebrafish | toxicity | exposure | endocrine | cadmium\", 13], [-6.1355133056640625, 24.893003463745117, 12, \"covid19 | pandemic | patients | survivors | reinfection\", 11], [9.647106170654297, 6.089216232299805, 13, \"receptor | metabolites | inhibitorsrelated | checkpoint | kinase\", 10]], \"hovertemplate\": \"<b>Topic %{customdata[2]}</b><br>Words: %{customdata[3]}<br>Size: %{customdata[4]}\", \"legendgroup\": \"\", \"marker\": {\"color\": \"#B0BEC5\", \"line\": {\"color\": \"DarkSlateGrey\", \"width\": 2}, \"size\": [67, 55, 50, 44, 35, 27, 26, 25, 24, 19, 14, 13, 11, 10], \"sizemode\": \"area\", \"sizeref\": 0.041875, \"symbol\": \"circle\"}, \"mode\": \"markers\", \"name\": \"\", \"orientation\": \"v\", \"showlegend\": false, \"type\": \"scatter\", \"x\": [12.489246368408203, -5.419159889221191, 12.970281600952148, 10.576072692871094, -5.90379524230957, 10.307323455810547, 13.915323257446289, 14.203059196472168, 12.690695762634277, 10.006131172180176, -5.888307094573975, 9.402750015258789, -6.1355133056640625, 9.647106170654297], \"xaxis\": \"x\", \"y\": [-8.034838676452637, 25.10546112060547, -8.514595031738281, 4.692715644836426, 25.64115333557129, 5.104041576385498, 12.436673164367676, 12.72469711303711, -8.236041069030762, 5.569875717163086, 25.111547470092773, 6.416585445404053, 24.893003463745117, 6.089216232299805], \"yaxis\": \"y\"}],                        {\"annotations\": [{\"showarrow\": false, \"text\": \"D1\", \"x\": -7.055840301513672, \"y\": 9.84777102470398, \"yshift\": 10}, {\"showarrow\": false, \"text\": \"D2\", \"x\": 4.638838887214661, \"xshift\": 10, \"y\": 29.48732633590698}], \"height\": 650, \"hoverlabel\": {\"bgcolor\": \"white\", \"font\": {\"family\": \"Rockwell\", \"size\": 16}}, \"legend\": {\"itemsizing\": \"constant\", \"tracegroupgap\": 0}, \"margin\": {\"t\": 60}, \"shapes\": [{\"line\": {\"color\": \"#CFD8DC\", \"width\": 2}, \"type\": \"line\", \"x0\": 4.638838887214661, \"x1\": 4.638838887214661, \"y0\": -9.791784286499023, \"y1\": 29.48732633590698}, {\"line\": {\"color\": \"#9E9E9E\", \"width\": 2}, \"type\": \"line\", \"x0\": -7.055840301513672, \"x1\": 16.333518075942994, \"y0\": 9.84777102470398, \"y1\": 9.84777102470398}], \"sliders\": [{\"active\": 0, \"pad\": {\"t\": 50}, \"steps\": [{\"args\": [{\"marker.color\": [[\"red\", \"#B0BEC5\", \"#B0BEC5\", \"#B0BEC5\", \"#B0BEC5\", \"#B0BEC5\", \"#B0BEC5\", \"#B0BEC5\", \"#B0BEC5\", \"#B0BEC5\", \"#B0BEC5\", \"#B0BEC5\", \"#B0BEC5\", \"#B0BEC5\"]]}], \"label\": \"Topic 0\", \"method\": \"update\"}, {\"args\": [{\"marker.color\": [[\"#B0BEC5\", \"red\", \"#B0BEC5\", \"#B0BEC5\", \"#B0BEC5\", \"#B0BEC5\", \"#B0BEC5\", \"#B0BEC5\", \"#B0BEC5\", \"#B0BEC5\", \"#B0BEC5\", \"#B0BEC5\", \"#B0BEC5\", \"#B0BEC5\"]]}], \"label\": \"Topic 1\", \"method\": \"update\"}, {\"args\": [{\"marker.color\": [[\"#B0BEC5\", \"#B0BEC5\", \"red\", \"#B0BEC5\", \"#B0BEC5\", \"#B0BEC5\", \"#B0BEC5\", \"#B0BEC5\", \"#B0BEC5\", \"#B0BEC5\", \"#B0BEC5\", \"#B0BEC5\", \"#B0BEC5\", \"#B0BEC5\"]]}], \"label\": \"Topic 2\", \"method\": \"update\"}, {\"args\": [{\"marker.color\": [[\"#B0BEC5\", \"#B0BEC5\", \"#B0BEC5\", \"red\", \"#B0BEC5\", \"#B0BEC5\", \"#B0BEC5\", \"#B0BEC5\", \"#B0BEC5\", \"#B0BEC5\", \"#B0BEC5\", \"#B0BEC5\", \"#B0BEC5\", \"#B0BEC5\"]]}], \"label\": \"Topic 3\", \"method\": \"update\"}, {\"args\": [{\"marker.color\": [[\"#B0BEC5\", \"#B0BEC5\", \"#B0BEC5\", \"#B0BEC5\", \"red\", \"#B0BEC5\", \"#B0BEC5\", \"#B0BEC5\", \"#B0BEC5\", \"#B0BEC5\", \"#B0BEC5\", \"#B0BEC5\", \"#B0BEC5\", \"#B0BEC5\"]]}], \"label\": \"Topic 4\", \"method\": \"update\"}, {\"args\": [{\"marker.color\": [[\"#B0BEC5\", \"#B0BEC5\", \"#B0BEC5\", \"#B0BEC5\", \"#B0BEC5\", \"red\", \"#B0BEC5\", \"#B0BEC5\", \"#B0BEC5\", \"#B0BEC5\", \"#B0BEC5\", \"#B0BEC5\", \"#B0BEC5\", \"#B0BEC5\"]]}], \"label\": \"Topic 5\", \"method\": \"update\"}, {\"args\": [{\"marker.color\": [[\"#B0BEC5\", \"#B0BEC5\", \"#B0BEC5\", \"#B0BEC5\", \"#B0BEC5\", \"#B0BEC5\", \"red\", \"#B0BEC5\", \"#B0BEC5\", \"#B0BEC5\", \"#B0BEC5\", \"#B0BEC5\", \"#B0BEC5\", \"#B0BEC5\"]]}], \"label\": \"Topic 6\", \"method\": \"update\"}, {\"args\": [{\"marker.color\": [[\"#B0BEC5\", \"#B0BEC5\", \"#B0BEC5\", \"#B0BEC5\", \"#B0BEC5\", \"#B0BEC5\", \"#B0BEC5\", \"red\", \"#B0BEC5\", \"#B0BEC5\", \"#B0BEC5\", \"#B0BEC5\", \"#B0BEC5\", \"#B0BEC5\"]]}], \"label\": \"Topic 7\", \"method\": \"update\"}, {\"args\": [{\"marker.color\": [[\"#B0BEC5\", \"#B0BEC5\", \"#B0BEC5\", \"#B0BEC5\", \"#B0BEC5\", \"#B0BEC5\", \"#B0BEC5\", \"#B0BEC5\", \"red\", \"#B0BEC5\", \"#B0BEC5\", \"#B0BEC5\", \"#B0BEC5\", \"#B0BEC5\"]]}], \"label\": \"Topic 8\", \"method\": \"update\"}, {\"args\": [{\"marker.color\": [[\"#B0BEC5\", \"#B0BEC5\", \"#B0BEC5\", \"#B0BEC5\", \"#B0BEC5\", \"#B0BEC5\", \"#B0BEC5\", \"#B0BEC5\", \"#B0BEC5\", \"red\", \"#B0BEC5\", \"#B0BEC5\", \"#B0BEC5\", \"#B0BEC5\"]]}], \"label\": \"Topic 9\", \"method\": \"update\"}, {\"args\": [{\"marker.color\": [[\"#B0BEC5\", \"#B0BEC5\", \"#B0BEC5\", \"#B0BEC5\", \"#B0BEC5\", \"#B0BEC5\", \"#B0BEC5\", \"#B0BEC5\", \"#B0BEC5\", \"#B0BEC5\", \"red\", \"#B0BEC5\", \"#B0BEC5\", \"#B0BEC5\"]]}], \"label\": \"Topic 10\", \"method\": \"update\"}, {\"args\": [{\"marker.color\": [[\"#B0BEC5\", \"#B0BEC5\", \"#B0BEC5\", \"#B0BEC5\", \"#B0BEC5\", \"#B0BEC5\", \"#B0BEC5\", \"#B0BEC5\", \"#B0BEC5\", \"#B0BEC5\", \"#B0BEC5\", \"red\", \"#B0BEC5\", \"#B0BEC5\"]]}], \"label\": \"Topic 11\", \"method\": \"update\"}, {\"args\": [{\"marker.color\": [[\"#B0BEC5\", \"#B0BEC5\", \"#B0BEC5\", \"#B0BEC5\", \"#B0BEC5\", \"#B0BEC5\", \"#B0BEC5\", \"#B0BEC5\", \"#B0BEC5\", \"#B0BEC5\", \"#B0BEC5\", \"#B0BEC5\", \"red\", \"#B0BEC5\"]]}], \"label\": \"Topic 12\", \"method\": \"update\"}, {\"args\": [{\"marker.color\": [[\"#B0BEC5\", \"#B0BEC5\", \"#B0BEC5\", \"#B0BEC5\", \"#B0BEC5\", \"#B0BEC5\", \"#B0BEC5\", \"#B0BEC5\", \"#B0BEC5\", \"#B0BEC5\", \"#B0BEC5\", \"#B0BEC5\", \"#B0BEC5\", \"red\"]]}], \"label\": \"Topic 13\", \"method\": \"update\"}]}], \"template\": {\"data\": {\"bar\": [{\"error_x\": {\"color\": \"rgb(36,36,36)\"}, \"error_y\": {\"color\": \"rgb(36,36,36)\"}, \"marker\": {\"line\": {\"color\": \"white\", \"width\": 0.5}}, \"type\": \"bar\"}], \"barpolar\": [{\"marker\": {\"line\": {\"color\": \"white\", \"width\": 0.5}}, \"type\": \"barpolar\"}], \"carpet\": [{\"aaxis\": {\"endlinecolor\": \"rgb(36,36,36)\", \"gridcolor\": \"white\", \"linecolor\": \"white\", \"minorgridcolor\": \"white\", \"startlinecolor\": \"rgb(36,36,36)\"}, \"baxis\": {\"endlinecolor\": \"rgb(36,36,36)\", \"gridcolor\": \"white\", \"linecolor\": \"white\", \"minorgridcolor\": \"white\", \"startlinecolor\": \"rgb(36,36,36)\"}, \"type\": \"carpet\"}], \"choropleth\": [{\"colorbar\": {\"outlinewidth\": 1, \"tickcolor\": \"rgb(36,36,36)\", \"ticks\": \"outside\"}, \"type\": \"choropleth\"}], \"contour\": [{\"colorbar\": {\"outlinewidth\": 1, \"tickcolor\": \"rgb(36,36,36)\", \"ticks\": \"outside\"}, \"colorscale\": [[0.0, \"#440154\"], [0.1111111111111111, \"#482878\"], [0.2222222222222222, \"#3e4989\"], [0.3333333333333333, \"#31688e\"], [0.4444444444444444, \"#26828e\"], [0.5555555555555556, \"#1f9e89\"], [0.6666666666666666, \"#35b779\"], [0.7777777777777778, \"#6ece58\"], [0.8888888888888888, \"#b5de2b\"], [1.0, \"#fde725\"]], \"type\": \"contour\"}], \"contourcarpet\": [{\"colorbar\": {\"outlinewidth\": 1, \"tickcolor\": \"rgb(36,36,36)\", \"ticks\": \"outside\"}, \"type\": \"contourcarpet\"}], \"heatmap\": [{\"colorbar\": {\"outlinewidth\": 1, \"tickcolor\": \"rgb(36,36,36)\", \"ticks\": \"outside\"}, \"colorscale\": [[0.0, \"#440154\"], [0.1111111111111111, \"#482878\"], [0.2222222222222222, \"#3e4989\"], [0.3333333333333333, \"#31688e\"], [0.4444444444444444, \"#26828e\"], [0.5555555555555556, \"#1f9e89\"], [0.6666666666666666, \"#35b779\"], [0.7777777777777778, \"#6ece58\"], [0.8888888888888888, \"#b5de2b\"], [1.0, \"#fde725\"]], \"type\": \"heatmap\"}], \"heatmapgl\": [{\"colorbar\": {\"outlinewidth\": 1, \"tickcolor\": \"rgb(36,36,36)\", \"ticks\": \"outside\"}, \"colorscale\": [[0.0, \"#440154\"], [0.1111111111111111, \"#482878\"], [0.2222222222222222, \"#3e4989\"], [0.3333333333333333, \"#31688e\"], [0.4444444444444444, \"#26828e\"], [0.5555555555555556, \"#1f9e89\"], [0.6666666666666666, \"#35b779\"], [0.7777777777777778, \"#6ece58\"], [0.8888888888888888, \"#b5de2b\"], [1.0, \"#fde725\"]], \"type\": \"heatmapgl\"}], \"histogram\": [{\"marker\": {\"line\": {\"color\": \"white\", \"width\": 0.6}}, \"type\": \"histogram\"}], \"histogram2d\": [{\"colorbar\": {\"outlinewidth\": 1, \"tickcolor\": \"rgb(36,36,36)\", \"ticks\": \"outside\"}, \"colorscale\": [[0.0, \"#440154\"], [0.1111111111111111, \"#482878\"], [0.2222222222222222, \"#3e4989\"], [0.3333333333333333, \"#31688e\"], [0.4444444444444444, \"#26828e\"], [0.5555555555555556, \"#1f9e89\"], [0.6666666666666666, \"#35b779\"], [0.7777777777777778, \"#6ece58\"], [0.8888888888888888, \"#b5de2b\"], [1.0, \"#fde725\"]], \"type\": \"histogram2d\"}], \"histogram2dcontour\": [{\"colorbar\": {\"outlinewidth\": 1, \"tickcolor\": \"rgb(36,36,36)\", \"ticks\": \"outside\"}, \"colorscale\": [[0.0, \"#440154\"], [0.1111111111111111, \"#482878\"], [0.2222222222222222, \"#3e4989\"], [0.3333333333333333, \"#31688e\"], [0.4444444444444444, \"#26828e\"], [0.5555555555555556, \"#1f9e89\"], [0.6666666666666666, \"#35b779\"], [0.7777777777777778, \"#6ece58\"], [0.8888888888888888, \"#b5de2b\"], [1.0, \"#fde725\"]], \"type\": \"histogram2dcontour\"}], \"mesh3d\": [{\"colorbar\": {\"outlinewidth\": 1, \"tickcolor\": \"rgb(36,36,36)\", \"ticks\": \"outside\"}, \"type\": \"mesh3d\"}], \"parcoords\": [{\"line\": {\"colorbar\": {\"outlinewidth\": 1, \"tickcolor\": \"rgb(36,36,36)\", \"ticks\": \"outside\"}}, \"type\": \"parcoords\"}], \"pie\": [{\"automargin\": true, \"type\": \"pie\"}], \"scatter\": [{\"marker\": {\"colorbar\": {\"outlinewidth\": 1, \"tickcolor\": \"rgb(36,36,36)\", \"ticks\": \"outside\"}}, \"type\": \"scatter\"}], \"scatter3d\": [{\"line\": {\"colorbar\": {\"outlinewidth\": 1, \"tickcolor\": \"rgb(36,36,36)\", \"ticks\": \"outside\"}}, \"marker\": {\"colorbar\": {\"outlinewidth\": 1, \"tickcolor\": \"rgb(36,36,36)\", \"ticks\": \"outside\"}}, \"type\": \"scatter3d\"}], \"scattercarpet\": [{\"marker\": {\"colorbar\": {\"outlinewidth\": 1, \"tickcolor\": \"rgb(36,36,36)\", \"ticks\": \"outside\"}}, \"type\": \"scattercarpet\"}], \"scattergeo\": [{\"marker\": {\"colorbar\": {\"outlinewidth\": 1, \"tickcolor\": \"rgb(36,36,36)\", \"ticks\": \"outside\"}}, \"type\": \"scattergeo\"}], \"scattergl\": [{\"marker\": {\"colorbar\": {\"outlinewidth\": 1, \"tickcolor\": \"rgb(36,36,36)\", \"ticks\": \"outside\"}}, \"type\": \"scattergl\"}], \"scattermapbox\": [{\"marker\": {\"colorbar\": {\"outlinewidth\": 1, \"tickcolor\": \"rgb(36,36,36)\", \"ticks\": \"outside\"}}, \"type\": \"scattermapbox\"}], \"scatterpolar\": [{\"marker\": {\"colorbar\": {\"outlinewidth\": 1, \"tickcolor\": \"rgb(36,36,36)\", \"ticks\": \"outside\"}}, \"type\": \"scatterpolar\"}], \"scatterpolargl\": [{\"marker\": {\"colorbar\": {\"outlinewidth\": 1, \"tickcolor\": \"rgb(36,36,36)\", \"ticks\": \"outside\"}}, \"type\": \"scatterpolargl\"}], \"scatterternary\": [{\"marker\": {\"colorbar\": {\"outlinewidth\": 1, \"tickcolor\": \"rgb(36,36,36)\", \"ticks\": \"outside\"}}, \"type\": \"scatterternary\"}], \"surface\": [{\"colorbar\": {\"outlinewidth\": 1, \"tickcolor\": \"rgb(36,36,36)\", \"ticks\": \"outside\"}, \"colorscale\": [[0.0, \"#440154\"], [0.1111111111111111, \"#482878\"], [0.2222222222222222, \"#3e4989\"], [0.3333333333333333, \"#31688e\"], [0.4444444444444444, \"#26828e\"], [0.5555555555555556, \"#1f9e89\"], [0.6666666666666666, \"#35b779\"], [0.7777777777777778, \"#6ece58\"], [0.8888888888888888, \"#b5de2b\"], [1.0, \"#fde725\"]], \"type\": \"surface\"}], \"table\": [{\"cells\": {\"fill\": {\"color\": \"rgb(237,237,237)\"}, \"line\": {\"color\": \"white\"}}, \"header\": {\"fill\": {\"color\": \"rgb(217,217,217)\"}, \"line\": {\"color\": \"white\"}}, \"type\": \"table\"}]}, \"layout\": {\"annotationdefaults\": {\"arrowhead\": 0, \"arrowwidth\": 1}, \"autotypenumbers\": \"strict\", \"coloraxis\": {\"colorbar\": {\"outlinewidth\": 1, \"tickcolor\": \"rgb(36,36,36)\", \"ticks\": \"outside\"}}, \"colorscale\": {\"diverging\": [[0.0, \"rgb(103,0,31)\"], [0.1, \"rgb(178,24,43)\"], [0.2, \"rgb(214,96,77)\"], [0.3, \"rgb(244,165,130)\"], [0.4, \"rgb(253,219,199)\"], [0.5, \"rgb(247,247,247)\"], [0.6, \"rgb(209,229,240)\"], [0.7, \"rgb(146,197,222)\"], [0.8, \"rgb(67,147,195)\"], [0.9, \"rgb(33,102,172)\"], [1.0, \"rgb(5,48,97)\"]], \"sequential\": [[0.0, \"#440154\"], [0.1111111111111111, \"#482878\"], [0.2222222222222222, \"#3e4989\"], [0.3333333333333333, \"#31688e\"], [0.4444444444444444, \"#26828e\"], [0.5555555555555556, \"#1f9e89\"], [0.6666666666666666, \"#35b779\"], [0.7777777777777778, \"#6ece58\"], [0.8888888888888888, \"#b5de2b\"], [1.0, \"#fde725\"]], \"sequentialminus\": [[0.0, \"#440154\"], [0.1111111111111111, \"#482878\"], [0.2222222222222222, \"#3e4989\"], [0.3333333333333333, \"#31688e\"], [0.4444444444444444, \"#26828e\"], [0.5555555555555556, \"#1f9e89\"], [0.6666666666666666, \"#35b779\"], [0.7777777777777778, \"#6ece58\"], [0.8888888888888888, \"#b5de2b\"], [1.0, \"#fde725\"]]}, \"colorway\": [\"#1F77B4\", \"#FF7F0E\", \"#2CA02C\", \"#D62728\", \"#9467BD\", \"#8C564B\", \"#E377C2\", \"#7F7F7F\", \"#BCBD22\", \"#17BECF\"], \"font\": {\"color\": \"rgb(36,36,36)\"}, \"geo\": {\"bgcolor\": \"white\", \"lakecolor\": \"white\", \"landcolor\": \"white\", \"showlakes\": true, \"showland\": true, \"subunitcolor\": \"white\"}, \"hoverlabel\": {\"align\": \"left\"}, \"hovermode\": \"closest\", \"mapbox\": {\"style\": \"light\"}, \"paper_bgcolor\": \"white\", \"plot_bgcolor\": \"white\", \"polar\": {\"angularaxis\": {\"gridcolor\": \"rgb(232,232,232)\", \"linecolor\": \"rgb(36,36,36)\", \"showgrid\": false, \"showline\": true, \"ticks\": \"outside\"}, \"bgcolor\": \"white\", \"radialaxis\": {\"gridcolor\": \"rgb(232,232,232)\", \"linecolor\": \"rgb(36,36,36)\", \"showgrid\": false, \"showline\": true, \"ticks\": \"outside\"}}, \"scene\": {\"xaxis\": {\"backgroundcolor\": \"white\", \"gridcolor\": \"rgb(232,232,232)\", \"gridwidth\": 2, \"linecolor\": \"rgb(36,36,36)\", \"showbackground\": true, \"showgrid\": false, \"showline\": true, \"ticks\": \"outside\", \"zeroline\": false, \"zerolinecolor\": \"rgb(36,36,36)\"}, \"yaxis\": {\"backgroundcolor\": \"white\", \"gridcolor\": \"rgb(232,232,232)\", \"gridwidth\": 2, \"linecolor\": \"rgb(36,36,36)\", \"showbackground\": true, \"showgrid\": false, \"showline\": true, \"ticks\": \"outside\", \"zeroline\": false, \"zerolinecolor\": \"rgb(36,36,36)\"}, \"zaxis\": {\"backgroundcolor\": \"white\", \"gridcolor\": \"rgb(232,232,232)\", \"gridwidth\": 2, \"linecolor\": \"rgb(36,36,36)\", \"showbackground\": true, \"showgrid\": false, \"showline\": true, \"ticks\": \"outside\", \"zeroline\": false, \"zerolinecolor\": \"rgb(36,36,36)\"}}, \"shapedefaults\": {\"fillcolor\": \"black\", \"line\": {\"width\": 0}, \"opacity\": 0.3}, \"ternary\": {\"aaxis\": {\"gridcolor\": \"rgb(232,232,232)\", \"linecolor\": \"rgb(36,36,36)\", \"showgrid\": false, \"showline\": true, \"ticks\": \"outside\"}, \"baxis\": {\"gridcolor\": \"rgb(232,232,232)\", \"linecolor\": \"rgb(36,36,36)\", \"showgrid\": false, \"showline\": true, \"ticks\": \"outside\"}, \"bgcolor\": \"white\", \"caxis\": {\"gridcolor\": \"rgb(232,232,232)\", \"linecolor\": \"rgb(36,36,36)\", \"showgrid\": false, \"showline\": true, \"ticks\": \"outside\"}}, \"title\": {\"x\": 0.05}, \"xaxis\": {\"automargin\": true, \"gridcolor\": \"rgb(232,232,232)\", \"linecolor\": \"rgb(36,36,36)\", \"showgrid\": false, \"showline\": true, \"ticks\": \"outside\", \"title\": {\"standoff\": 15}, \"zeroline\": false, \"zerolinecolor\": \"rgb(36,36,36)\"}, \"yaxis\": {\"automargin\": true, \"gridcolor\": \"rgb(232,232,232)\", \"linecolor\": \"rgb(36,36,36)\", \"showgrid\": false, \"showline\": true, \"ticks\": \"outside\", \"title\": {\"standoff\": 15}, \"zeroline\": false, \"zerolinecolor\": \"rgb(36,36,36)\"}}}, \"title\": {\"font\": {\"color\": \"Black\", \"size\": 22}, \"text\": \"<b>Intertopic Distance Map\", \"x\": 0.5, \"xanchor\": \"center\", \"y\": 0.95, \"yanchor\": \"top\"}, \"width\": 650, \"xaxis\": {\"anchor\": \"y\", \"domain\": [0.0, 1.0], \"range\": [-7.055840301513672, 16.333518075942994], \"title\": {\"text\": \"\"}, \"visible\": false}, \"yaxis\": {\"anchor\": \"x\", \"domain\": [0.0, 1.0], \"range\": [-9.791784286499023, 29.48732633590698], \"title\": {\"text\": \"\"}, \"visible\": false}},                        {\"responsive\": true}                    ).then(function(){\n",
              "                            \n",
              "var gd = document.getElementById('3c47df3b-3d57-496f-a4dc-3b88b31d621b');\n",
              "var x = new MutationObserver(function (mutations, observer) {{\n",
              "        var display = window.getComputedStyle(gd).display;\n",
              "        if (!display || display === 'none') {{\n",
              "            console.log([gd, 'removed!']);\n",
              "            Plotly.purge(gd);\n",
              "            observer.disconnect();\n",
              "        }}\n",
              "}});\n",
              "\n",
              "// Listen for the removal of the full notebook cells\n",
              "var notebookContainer = gd.closest('#notebook-container');\n",
              "if (notebookContainer) {{\n",
              "    x.observe(notebookContainer, {childList: true});\n",
              "}}\n",
              "\n",
              "// Listen for the clearing of the current output cell\n",
              "var outputEl = gd.closest('.output');\n",
              "if (outputEl) {{\n",
              "    x.observe(outputEl, {childList: true});\n",
              "}}\n",
              "\n",
              "                        })                };                            </script>        </div>\n",
              "</body>\n",
              "</html>"
            ]
          },
          "metadata": {
            "tags": []
          }
        }
      ]
    },
    {
      "cell_type": "code",
      "metadata": {
        "colab": {
          "base_uri": "https://localhost:8080/",
          "height": 617
        },
        "id": "C1Xw-PVCQU7Q",
        "outputId": "a9aa9922-17af-4d30-9706-9d0e7b121542"
      },
      "source": [
        "topic_model.visualize_distribution(probs[200], min_probability=0.015)"
      ],
      "execution_count": null,
      "outputs": [
        {
          "output_type": "display_data",
          "data": {
            "text/html": [
              "<html>\n",
              "<head><meta charset=\"utf-8\" /></head>\n",
              "<body>\n",
              "    <div>            <script src=\"https://cdnjs.cloudflare.com/ajax/libs/mathjax/2.7.5/MathJax.js?config=TeX-AMS-MML_SVG\"></script><script type=\"text/javascript\">if (window.MathJax) {MathJax.Hub.Config({SVG: {font: \"STIX-Web\"}});}</script>                <script type=\"text/javascript\">window.PlotlyConfig = {MathJaxConfig: 'local'};</script>\n",
              "        <script src=\"https://cdn.plot.ly/plotly-latest.min.js\"></script>                <div id=\"2f4d85fb-e3c1-4e70-9ec3-5e236127ef3f\" class=\"plotly-graph-div\" style=\"height:600px; width:800px;\"></div>            <script type=\"text/javascript\">                                    window.PLOTLYENV=window.PLOTLYENV || {};                                    if (document.getElementById(\"2f4d85fb-e3c1-4e70-9ec3-5e236127ef3f\")) {                    Plotly.newPlot(                        \"2f4d85fb-e3c1-4e70-9ec3-5e236127ef3f\",                        [{\"marker\": {\"color\": \"#C8D2D7\", \"line\": {\"color\": \"#6E8484\", \"width\": 1}}, \"orientation\": \"h\", \"type\": \"bar\", \"x\": [0.01731646942396368, 0.016516909359818144, 0.04253061744977022, 0.01657974402943203, 0.015699075705182825, 0.023307436593020345, 0.019107378052003954, 0.0279560639478393, 0.016275838669875184], \"y\": [\"<b>Topic 2</b>: nodules_ultrasound_ablat...\", \"<b>Topic 4</b>: foods_levothyroxine_liot...\", \"<b>Topic 5</b>: carcinoma_cancers_carcin...\", \"<b>Topic 6</b>: tests_forecasts_research...\", \"<b>Topic 7</b>: eye_trials_teprotumumab_...\", \"<b>Topic 8</b>: lymph_papillary_metastas...\", \"<b>Topic 9</b>: carcinoma_rna_targeting_...\", \"<b>Topic 10</b>: hormone_pregnant_pregna...\", \"<b>Topic 13</b>: receptor_metabolites_in...\"]}],                        {\"height\": 600, \"hoverlabel\": {\"bgcolor\": \"white\", \"font\": {\"family\": \"Rockwell\", \"size\": 16}}, \"template\": {\"data\": {\"bar\": [{\"error_x\": {\"color\": \"rgb(36,36,36)\"}, \"error_y\": {\"color\": \"rgb(36,36,36)\"}, \"marker\": {\"line\": {\"color\": \"white\", \"width\": 0.5}}, \"type\": \"bar\"}], \"barpolar\": [{\"marker\": {\"line\": {\"color\": \"white\", \"width\": 0.5}}, \"type\": \"barpolar\"}], \"carpet\": [{\"aaxis\": {\"endlinecolor\": \"rgb(36,36,36)\", \"gridcolor\": \"white\", \"linecolor\": \"white\", \"minorgridcolor\": \"white\", \"startlinecolor\": \"rgb(36,36,36)\"}, \"baxis\": {\"endlinecolor\": \"rgb(36,36,36)\", \"gridcolor\": \"white\", \"linecolor\": \"white\", \"minorgridcolor\": \"white\", \"startlinecolor\": \"rgb(36,36,36)\"}, \"type\": \"carpet\"}], \"choropleth\": [{\"colorbar\": {\"outlinewidth\": 1, \"tickcolor\": \"rgb(36,36,36)\", \"ticks\": \"outside\"}, \"type\": \"choropleth\"}], \"contour\": [{\"colorbar\": {\"outlinewidth\": 1, \"tickcolor\": \"rgb(36,36,36)\", \"ticks\": \"outside\"}, \"colorscale\": [[0.0, \"#440154\"], [0.1111111111111111, \"#482878\"], [0.2222222222222222, \"#3e4989\"], [0.3333333333333333, \"#31688e\"], [0.4444444444444444, \"#26828e\"], [0.5555555555555556, \"#1f9e89\"], [0.6666666666666666, \"#35b779\"], [0.7777777777777778, \"#6ece58\"], [0.8888888888888888, \"#b5de2b\"], [1.0, \"#fde725\"]], \"type\": \"contour\"}], \"contourcarpet\": [{\"colorbar\": {\"outlinewidth\": 1, \"tickcolor\": \"rgb(36,36,36)\", \"ticks\": \"outside\"}, \"type\": \"contourcarpet\"}], \"heatmap\": [{\"colorbar\": {\"outlinewidth\": 1, \"tickcolor\": \"rgb(36,36,36)\", \"ticks\": \"outside\"}, \"colorscale\": [[0.0, \"#440154\"], [0.1111111111111111, \"#482878\"], [0.2222222222222222, \"#3e4989\"], [0.3333333333333333, \"#31688e\"], [0.4444444444444444, \"#26828e\"], [0.5555555555555556, \"#1f9e89\"], [0.6666666666666666, \"#35b779\"], [0.7777777777777778, \"#6ece58\"], [0.8888888888888888, \"#b5de2b\"], [1.0, \"#fde725\"]], \"type\": \"heatmap\"}], \"heatmapgl\": [{\"colorbar\": {\"outlinewidth\": 1, \"tickcolor\": \"rgb(36,36,36)\", \"ticks\": \"outside\"}, \"colorscale\": [[0.0, \"#440154\"], [0.1111111111111111, \"#482878\"], [0.2222222222222222, \"#3e4989\"], [0.3333333333333333, \"#31688e\"], [0.4444444444444444, \"#26828e\"], [0.5555555555555556, \"#1f9e89\"], [0.6666666666666666, \"#35b779\"], [0.7777777777777778, \"#6ece58\"], [0.8888888888888888, \"#b5de2b\"], [1.0, \"#fde725\"]], \"type\": \"heatmapgl\"}], \"histogram\": [{\"marker\": {\"line\": {\"color\": \"white\", \"width\": 0.6}}, \"type\": \"histogram\"}], \"histogram2d\": [{\"colorbar\": {\"outlinewidth\": 1, \"tickcolor\": \"rgb(36,36,36)\", \"ticks\": \"outside\"}, \"colorscale\": [[0.0, \"#440154\"], [0.1111111111111111, \"#482878\"], [0.2222222222222222, \"#3e4989\"], [0.3333333333333333, \"#31688e\"], [0.4444444444444444, \"#26828e\"], [0.5555555555555556, \"#1f9e89\"], [0.6666666666666666, \"#35b779\"], [0.7777777777777778, \"#6ece58\"], [0.8888888888888888, \"#b5de2b\"], [1.0, \"#fde725\"]], \"type\": \"histogram2d\"}], \"histogram2dcontour\": [{\"colorbar\": {\"outlinewidth\": 1, \"tickcolor\": \"rgb(36,36,36)\", \"ticks\": \"outside\"}, \"colorscale\": [[0.0, \"#440154\"], [0.1111111111111111, \"#482878\"], [0.2222222222222222, \"#3e4989\"], [0.3333333333333333, \"#31688e\"], [0.4444444444444444, \"#26828e\"], [0.5555555555555556, \"#1f9e89\"], [0.6666666666666666, \"#35b779\"], [0.7777777777777778, \"#6ece58\"], [0.8888888888888888, \"#b5de2b\"], [1.0, \"#fde725\"]], \"type\": \"histogram2dcontour\"}], \"mesh3d\": [{\"colorbar\": {\"outlinewidth\": 1, \"tickcolor\": \"rgb(36,36,36)\", \"ticks\": \"outside\"}, \"type\": \"mesh3d\"}], \"parcoords\": [{\"line\": {\"colorbar\": {\"outlinewidth\": 1, \"tickcolor\": \"rgb(36,36,36)\", \"ticks\": \"outside\"}}, \"type\": \"parcoords\"}], \"pie\": [{\"automargin\": true, \"type\": \"pie\"}], \"scatter\": [{\"marker\": {\"colorbar\": {\"outlinewidth\": 1, \"tickcolor\": \"rgb(36,36,36)\", \"ticks\": \"outside\"}}, \"type\": \"scatter\"}], \"scatter3d\": [{\"line\": {\"colorbar\": {\"outlinewidth\": 1, \"tickcolor\": \"rgb(36,36,36)\", \"ticks\": \"outside\"}}, \"marker\": {\"colorbar\": {\"outlinewidth\": 1, \"tickcolor\": \"rgb(36,36,36)\", \"ticks\": \"outside\"}}, \"type\": \"scatter3d\"}], \"scattercarpet\": [{\"marker\": {\"colorbar\": {\"outlinewidth\": 1, \"tickcolor\": \"rgb(36,36,36)\", \"ticks\": \"outside\"}}, \"type\": \"scattercarpet\"}], \"scattergeo\": [{\"marker\": {\"colorbar\": {\"outlinewidth\": 1, \"tickcolor\": \"rgb(36,36,36)\", \"ticks\": \"outside\"}}, \"type\": \"scattergeo\"}], \"scattergl\": [{\"marker\": {\"colorbar\": {\"outlinewidth\": 1, \"tickcolor\": \"rgb(36,36,36)\", \"ticks\": \"outside\"}}, \"type\": \"scattergl\"}], \"scattermapbox\": [{\"marker\": {\"colorbar\": {\"outlinewidth\": 1, \"tickcolor\": \"rgb(36,36,36)\", \"ticks\": \"outside\"}}, \"type\": \"scattermapbox\"}], \"scatterpolar\": [{\"marker\": {\"colorbar\": {\"outlinewidth\": 1, \"tickcolor\": \"rgb(36,36,36)\", \"ticks\": \"outside\"}}, \"type\": \"scatterpolar\"}], \"scatterpolargl\": [{\"marker\": {\"colorbar\": {\"outlinewidth\": 1, \"tickcolor\": \"rgb(36,36,36)\", \"ticks\": \"outside\"}}, \"type\": \"scatterpolargl\"}], \"scatterternary\": [{\"marker\": {\"colorbar\": {\"outlinewidth\": 1, \"tickcolor\": \"rgb(36,36,36)\", \"ticks\": \"outside\"}}, \"type\": \"scatterternary\"}], \"surface\": [{\"colorbar\": {\"outlinewidth\": 1, \"tickcolor\": \"rgb(36,36,36)\", \"ticks\": \"outside\"}, \"colorscale\": [[0.0, \"#440154\"], [0.1111111111111111, \"#482878\"], [0.2222222222222222, \"#3e4989\"], [0.3333333333333333, \"#31688e\"], [0.4444444444444444, \"#26828e\"], [0.5555555555555556, \"#1f9e89\"], [0.6666666666666666, \"#35b779\"], [0.7777777777777778, \"#6ece58\"], [0.8888888888888888, \"#b5de2b\"], [1.0, \"#fde725\"]], \"type\": \"surface\"}], \"table\": [{\"cells\": {\"fill\": {\"color\": \"rgb(237,237,237)\"}, \"line\": {\"color\": \"white\"}}, \"header\": {\"fill\": {\"color\": \"rgb(217,217,217)\"}, \"line\": {\"color\": \"white\"}}, \"type\": \"table\"}]}, \"layout\": {\"annotationdefaults\": {\"arrowhead\": 0, \"arrowwidth\": 1}, \"autotypenumbers\": \"strict\", \"coloraxis\": {\"colorbar\": {\"outlinewidth\": 1, \"tickcolor\": \"rgb(36,36,36)\", \"ticks\": \"outside\"}}, \"colorscale\": {\"diverging\": [[0.0, \"rgb(103,0,31)\"], [0.1, \"rgb(178,24,43)\"], [0.2, \"rgb(214,96,77)\"], [0.3, \"rgb(244,165,130)\"], [0.4, \"rgb(253,219,199)\"], [0.5, \"rgb(247,247,247)\"], [0.6, \"rgb(209,229,240)\"], [0.7, \"rgb(146,197,222)\"], [0.8, \"rgb(67,147,195)\"], [0.9, \"rgb(33,102,172)\"], [1.0, \"rgb(5,48,97)\"]], \"sequential\": [[0.0, \"#440154\"], [0.1111111111111111, \"#482878\"], [0.2222222222222222, \"#3e4989\"], [0.3333333333333333, \"#31688e\"], [0.4444444444444444, \"#26828e\"], [0.5555555555555556, \"#1f9e89\"], [0.6666666666666666, \"#35b779\"], [0.7777777777777778, \"#6ece58\"], [0.8888888888888888, \"#b5de2b\"], [1.0, \"#fde725\"]], \"sequentialminus\": [[0.0, \"#440154\"], [0.1111111111111111, \"#482878\"], [0.2222222222222222, \"#3e4989\"], [0.3333333333333333, \"#31688e\"], [0.4444444444444444, \"#26828e\"], [0.5555555555555556, \"#1f9e89\"], [0.6666666666666666, \"#35b779\"], [0.7777777777777778, \"#6ece58\"], [0.8888888888888888, \"#b5de2b\"], [1.0, \"#fde725\"]]}, \"colorway\": [\"#1F77B4\", \"#FF7F0E\", \"#2CA02C\", \"#D62728\", \"#9467BD\", \"#8C564B\", \"#E377C2\", \"#7F7F7F\", \"#BCBD22\", \"#17BECF\"], \"font\": {\"color\": \"rgb(36,36,36)\"}, \"geo\": {\"bgcolor\": \"white\", \"lakecolor\": \"white\", \"landcolor\": \"white\", \"showlakes\": true, \"showland\": true, \"subunitcolor\": \"white\"}, \"hoverlabel\": {\"align\": \"left\"}, \"hovermode\": \"closest\", \"mapbox\": {\"style\": \"light\"}, \"paper_bgcolor\": \"white\", \"plot_bgcolor\": \"white\", \"polar\": {\"angularaxis\": {\"gridcolor\": \"rgb(232,232,232)\", \"linecolor\": \"rgb(36,36,36)\", \"showgrid\": false, \"showline\": true, \"ticks\": \"outside\"}, \"bgcolor\": \"white\", \"radialaxis\": {\"gridcolor\": \"rgb(232,232,232)\", \"linecolor\": \"rgb(36,36,36)\", \"showgrid\": false, \"showline\": true, \"ticks\": \"outside\"}}, \"scene\": {\"xaxis\": {\"backgroundcolor\": \"white\", \"gridcolor\": \"rgb(232,232,232)\", \"gridwidth\": 2, \"linecolor\": \"rgb(36,36,36)\", \"showbackground\": true, \"showgrid\": false, \"showline\": true, \"ticks\": \"outside\", \"zeroline\": false, \"zerolinecolor\": \"rgb(36,36,36)\"}, \"yaxis\": {\"backgroundcolor\": \"white\", \"gridcolor\": \"rgb(232,232,232)\", \"gridwidth\": 2, \"linecolor\": \"rgb(36,36,36)\", \"showbackground\": true, \"showgrid\": false, \"showline\": true, \"ticks\": \"outside\", \"zeroline\": false, \"zerolinecolor\": \"rgb(36,36,36)\"}, \"zaxis\": {\"backgroundcolor\": \"white\", \"gridcolor\": \"rgb(232,232,232)\", \"gridwidth\": 2, \"linecolor\": \"rgb(36,36,36)\", \"showbackground\": true, \"showgrid\": false, \"showline\": true, \"ticks\": \"outside\", \"zeroline\": false, \"zerolinecolor\": \"rgb(36,36,36)\"}}, \"shapedefaults\": {\"fillcolor\": \"black\", \"line\": {\"width\": 0}, \"opacity\": 0.3}, \"ternary\": {\"aaxis\": {\"gridcolor\": \"rgb(232,232,232)\", \"linecolor\": \"rgb(36,36,36)\", \"showgrid\": false, \"showline\": true, \"ticks\": \"outside\"}, \"baxis\": {\"gridcolor\": \"rgb(232,232,232)\", \"linecolor\": \"rgb(36,36,36)\", \"showgrid\": false, \"showline\": true, \"ticks\": \"outside\"}, \"bgcolor\": \"white\", \"caxis\": {\"gridcolor\": \"rgb(232,232,232)\", \"linecolor\": \"rgb(36,36,36)\", \"showgrid\": false, \"showline\": true, \"ticks\": \"outside\"}}, \"title\": {\"x\": 0.05}, \"xaxis\": {\"automargin\": true, \"gridcolor\": \"rgb(232,232,232)\", \"linecolor\": \"rgb(36,36,36)\", \"showgrid\": false, \"showline\": true, \"ticks\": \"outside\", \"title\": {\"standoff\": 15}, \"zeroline\": false, \"zerolinecolor\": \"rgb(36,36,36)\"}, \"yaxis\": {\"automargin\": true, \"gridcolor\": \"rgb(232,232,232)\", \"linecolor\": \"rgb(36,36,36)\", \"showgrid\": false, \"showline\": true, \"ticks\": \"outside\", \"title\": {\"standoff\": 15}, \"zeroline\": false, \"zerolinecolor\": \"rgb(36,36,36)\"}}}, \"title\": {\"font\": {\"color\": \"Black\", \"size\": 22}, \"text\": \"<b>Topic Probability Distribution\", \"x\": 0.5, \"xanchor\": \"center\", \"y\": 0.95, \"yanchor\": \"top\"}, \"width\": 800, \"xaxis\": {\"title\": {\"text\": \"Probability\"}}},                        {\"responsive\": true}                    ).then(function(){\n",
              "                            \n",
              "var gd = document.getElementById('2f4d85fb-e3c1-4e70-9ec3-5e236127ef3f');\n",
              "var x = new MutationObserver(function (mutations, observer) {{\n",
              "        var display = window.getComputedStyle(gd).display;\n",
              "        if (!display || display === 'none') {{\n",
              "            console.log([gd, 'removed!']);\n",
              "            Plotly.purge(gd);\n",
              "            observer.disconnect();\n",
              "        }}\n",
              "}});\n",
              "\n",
              "// Listen for the removal of the full notebook cells\n",
              "var notebookContainer = gd.closest('#notebook-container');\n",
              "if (notebookContainer) {{\n",
              "    x.observe(notebookContainer, {childList: true});\n",
              "}}\n",
              "\n",
              "// Listen for the clearing of the current output cell\n",
              "var outputEl = gd.closest('.output');\n",
              "if (outputEl) {{\n",
              "    x.observe(outputEl, {childList: true});\n",
              "}}\n",
              "\n",
              "                        })                };                            </script>        </div>\n",
              "</body>\n",
              "</html>"
            ]
          },
          "metadata": {
            "tags": []
          }
        }
      ]
    },
    {
      "cell_type": "code",
      "metadata": {
        "colab": {
          "base_uri": "https://localhost:8080/",
          "height": 617
        },
        "id": "eIAVQJABQ9s9",
        "outputId": "ddbcf82e-f714-43eb-b1ae-234b5ab74c93"
      },
      "source": [
        "topic_model.visualize_hierarchy(top_n_topics=50)\n"
      ],
      "execution_count": null,
      "outputs": [
        {
          "output_type": "display_data",
          "data": {
            "text/html": [
              "<html>\n",
              "<head><meta charset=\"utf-8\" /></head>\n",
              "<body>\n",
              "    <div>            <script src=\"https://cdnjs.cloudflare.com/ajax/libs/mathjax/2.7.5/MathJax.js?config=TeX-AMS-MML_SVG\"></script><script type=\"text/javascript\">if (window.MathJax) {MathJax.Hub.Config({SVG: {font: \"STIX-Web\"}});}</script>                <script type=\"text/javascript\">window.PlotlyConfig = {MathJaxConfig: 'local'};</script>\n",
              "        <script src=\"https://cdn.plot.ly/plotly-latest.min.js\"></script>                <div id=\"ea1f235e-d90e-4a9b-8d28-2290eac29fba\" class=\"plotly-graph-div\" style=\"height:600px; width:1000px;\"></div>            <script type=\"text/javascript\">                                    window.PLOTLYENV=window.PLOTLYENV || {};                                    if (document.getElementById(\"ea1f235e-d90e-4a9b-8d28-2290eac29fba\")) {                    Plotly.newPlot(                        \"ea1f235e-d90e-4a9b-8d28-2290eac29fba\",                        [{\"hoverinfo\": \"text\", \"marker\": {\"color\": \"rgb(61,153,112)\"}, \"mode\": \"lines\", \"type\": \"scatter\", \"x\": [0.0, 0.5162036443171738, 0.5162036443171738, 0.0], \"xaxis\": \"x\", \"y\": [-25.0, -25.0, -35.0, -35.0], \"yaxis\": \"y\"}, {\"hoverinfo\": \"text\", \"marker\": {\"color\": \"rgb(61,153,112)\"}, \"mode\": \"lines\", \"type\": \"scatter\", \"x\": [0.0, 0.5582310127140113, 0.5582310127140113, 0.5162036443171738], \"xaxis\": \"x\", \"y\": [-15.0, -15.0, -30.0, -30.0], \"yaxis\": \"y\"}, {\"hoverinfo\": \"text\", \"marker\": {\"color\": \"rgb(61,153,112)\"}, \"mode\": \"lines\", \"type\": \"scatter\", \"x\": [0.0, 0.7139530818872781, 0.7139530818872781, 0.5582310127140113], \"xaxis\": \"x\", \"y\": [-5.0, -5.0, -22.5, -22.5], \"yaxis\": \"y\"}, {\"hoverinfo\": \"text\", \"marker\": {\"color\": \"rgb(255,65,54)\"}, \"mode\": \"lines\", \"type\": \"scatter\", \"x\": [0.0, 0.630146666523092, 0.630146666523092, 0.0], \"xaxis\": \"x\", \"y\": [-45.0, -45.0, -55.0, -55.0], \"yaxis\": \"y\"}, {\"hoverinfo\": \"text\", \"marker\": {\"color\": \"rgb(255,65,54)\"}, \"mode\": \"lines\", \"type\": \"scatter\", \"x\": [0.0, 0.700989684989948, 0.700989684989948, 0.0], \"xaxis\": \"x\", \"y\": [-75.0, -75.0, -85.0, -85.0], \"yaxis\": \"y\"}, {\"hoverinfo\": \"text\", \"marker\": {\"color\": \"rgb(255,65,54)\"}, \"mode\": \"lines\", \"type\": \"scatter\", \"x\": [0.0, 0.8581646947016714, 0.8581646947016714, 0.700989684989948], \"xaxis\": \"x\", \"y\": [-65.0, -65.0, -80.0, -80.0], \"yaxis\": \"y\"}, {\"hoverinfo\": \"text\", \"marker\": {\"color\": \"rgb(255,65,54)\"}, \"mode\": \"lines\", \"type\": \"scatter\", \"x\": [0.630146666523092, 0.9776792136859201, 0.9776792136859201, 0.8581646947016714], \"xaxis\": \"x\", \"y\": [-50.0, -50.0, -72.5, -72.5], \"yaxis\": \"y\"}, {\"hoverinfo\": \"text\", \"marker\": {\"color\": \"rgb(0,116,217)\"}, \"mode\": \"lines\", \"type\": \"scatter\", \"x\": [0.7139530818872781, 1.5443603425049597, 1.5443603425049597, 0.9776792136859201], \"xaxis\": \"x\", \"y\": [-13.75, -13.75, -61.25, -61.25], \"yaxis\": \"y\"}, {\"hoverinfo\": \"text\", \"marker\": {\"color\": \"rgb(35,205,205)\"}, \"mode\": \"lines\", \"type\": \"scatter\", \"x\": [0.0, 0.7608293518593398, 0.7608293518593398, 0.0], \"xaxis\": \"x\", \"y\": [-125.0, -125.0, -135.0, -135.0], \"yaxis\": \"y\"}, {\"hoverinfo\": \"text\", \"marker\": {\"color\": \"rgb(35,205,205)\"}, \"mode\": \"lines\", \"type\": \"scatter\", \"x\": [0.0, 0.9307751578440098, 0.9307751578440098, 0.7608293518593398], \"xaxis\": \"x\", \"y\": [-115.0, -115.0, -130.0, -130.0], \"yaxis\": \"y\"}, {\"hoverinfo\": \"text\", \"marker\": {\"color\": \"rgb(0,116,217)\"}, \"mode\": \"lines\", \"type\": \"scatter\", \"x\": [0.0, 1.1244009889471835, 1.1244009889471835, 0.9307751578440098], \"xaxis\": \"x\", \"y\": [-105.0, -105.0, -122.5, -122.5], \"yaxis\": \"y\"}, {\"hoverinfo\": \"text\", \"marker\": {\"color\": \"rgb(0,116,217)\"}, \"mode\": \"lines\", \"type\": \"scatter\", \"x\": [0.0, 1.656284545100295, 1.656284545100295, 1.1244009889471835], \"xaxis\": \"x\", \"y\": [-95.0, -95.0, -113.75, -113.75], \"yaxis\": \"y\"}, {\"hoverinfo\": \"text\", \"marker\": {\"color\": \"rgb(0,116,217)\"}, \"mode\": \"lines\", \"type\": \"scatter\", \"x\": [1.5443603425049597, 1.9773106633846202, 1.9773106633846202, 1.656284545100295], \"xaxis\": \"x\", \"y\": [-37.5, -37.5, -104.375, -104.375], \"yaxis\": \"y\"}],                        {\"autosize\": false, \"height\": 600, \"hoverlabel\": {\"bgcolor\": \"white\", \"font\": {\"family\": \"Rockwell\", \"size\": 16}}, \"hovermode\": \"closest\", \"plot_bgcolor\": \"#ECEFF1\", \"showlegend\": false, \"template\": {\"data\": {\"bar\": [{\"error_x\": {\"color\": \"#2a3f5f\"}, \"error_y\": {\"color\": \"#2a3f5f\"}, \"marker\": {\"line\": {\"color\": \"white\", \"width\": 0.5}}, \"type\": \"bar\"}], \"barpolar\": [{\"marker\": {\"line\": {\"color\": \"white\", \"width\": 0.5}}, \"type\": \"barpolar\"}], \"carpet\": [{\"aaxis\": {\"endlinecolor\": \"#2a3f5f\", \"gridcolor\": \"#C8D4E3\", \"linecolor\": \"#C8D4E3\", \"minorgridcolor\": \"#C8D4E3\", \"startlinecolor\": \"#2a3f5f\"}, \"baxis\": {\"endlinecolor\": \"#2a3f5f\", \"gridcolor\": \"#C8D4E3\", \"linecolor\": \"#C8D4E3\", \"minorgridcolor\": \"#C8D4E3\", \"startlinecolor\": \"#2a3f5f\"}, \"type\": \"carpet\"}], \"choropleth\": [{\"colorbar\": {\"outlinewidth\": 0, \"ticks\": \"\"}, \"type\": \"choropleth\"}], \"contour\": [{\"colorbar\": {\"outlinewidth\": 0, \"ticks\": \"\"}, \"colorscale\": [[0.0, \"#0d0887\"], [0.1111111111111111, \"#46039f\"], [0.2222222222222222, \"#7201a8\"], [0.3333333333333333, \"#9c179e\"], [0.4444444444444444, \"#bd3786\"], [0.5555555555555556, \"#d8576b\"], [0.6666666666666666, \"#ed7953\"], [0.7777777777777778, \"#fb9f3a\"], [0.8888888888888888, \"#fdca26\"], [1.0, \"#f0f921\"]], \"type\": \"contour\"}], \"contourcarpet\": [{\"colorbar\": {\"outlinewidth\": 0, \"ticks\": \"\"}, \"type\": \"contourcarpet\"}], \"heatmap\": [{\"colorbar\": {\"outlinewidth\": 0, \"ticks\": \"\"}, \"colorscale\": [[0.0, \"#0d0887\"], [0.1111111111111111, \"#46039f\"], [0.2222222222222222, \"#7201a8\"], [0.3333333333333333, \"#9c179e\"], [0.4444444444444444, \"#bd3786\"], [0.5555555555555556, \"#d8576b\"], [0.6666666666666666, \"#ed7953\"], [0.7777777777777778, \"#fb9f3a\"], [0.8888888888888888, \"#fdca26\"], [1.0, \"#f0f921\"]], \"type\": \"heatmap\"}], \"heatmapgl\": [{\"colorbar\": {\"outlinewidth\": 0, \"ticks\": \"\"}, \"colorscale\": [[0.0, \"#0d0887\"], [0.1111111111111111, \"#46039f\"], [0.2222222222222222, \"#7201a8\"], [0.3333333333333333, \"#9c179e\"], [0.4444444444444444, \"#bd3786\"], [0.5555555555555556, \"#d8576b\"], [0.6666666666666666, \"#ed7953\"], [0.7777777777777778, \"#fb9f3a\"], [0.8888888888888888, \"#fdca26\"], [1.0, \"#f0f921\"]], \"type\": \"heatmapgl\"}], \"histogram\": [{\"marker\": {\"colorbar\": {\"outlinewidth\": 0, \"ticks\": \"\"}}, \"type\": \"histogram\"}], \"histogram2d\": [{\"colorbar\": {\"outlinewidth\": 0, \"ticks\": \"\"}, \"colorscale\": [[0.0, \"#0d0887\"], [0.1111111111111111, \"#46039f\"], [0.2222222222222222, \"#7201a8\"], [0.3333333333333333, \"#9c179e\"], [0.4444444444444444, \"#bd3786\"], [0.5555555555555556, \"#d8576b\"], [0.6666666666666666, \"#ed7953\"], [0.7777777777777778, \"#fb9f3a\"], [0.8888888888888888, \"#fdca26\"], [1.0, \"#f0f921\"]], \"type\": \"histogram2d\"}], \"histogram2dcontour\": [{\"colorbar\": {\"outlinewidth\": 0, \"ticks\": \"\"}, \"colorscale\": [[0.0, \"#0d0887\"], [0.1111111111111111, \"#46039f\"], [0.2222222222222222, \"#7201a8\"], [0.3333333333333333, \"#9c179e\"], [0.4444444444444444, \"#bd3786\"], [0.5555555555555556, \"#d8576b\"], [0.6666666666666666, \"#ed7953\"], [0.7777777777777778, \"#fb9f3a\"], [0.8888888888888888, \"#fdca26\"], [1.0, \"#f0f921\"]], \"type\": \"histogram2dcontour\"}], \"mesh3d\": [{\"colorbar\": {\"outlinewidth\": 0, \"ticks\": \"\"}, \"type\": \"mesh3d\"}], \"parcoords\": [{\"line\": {\"colorbar\": {\"outlinewidth\": 0, \"ticks\": \"\"}}, \"type\": \"parcoords\"}], \"pie\": [{\"automargin\": true, \"type\": \"pie\"}], \"scatter\": [{\"marker\": {\"colorbar\": {\"outlinewidth\": 0, \"ticks\": \"\"}}, \"type\": \"scatter\"}], \"scatter3d\": [{\"line\": {\"colorbar\": {\"outlinewidth\": 0, \"ticks\": \"\"}}, \"marker\": {\"colorbar\": {\"outlinewidth\": 0, \"ticks\": \"\"}}, \"type\": \"scatter3d\"}], \"scattercarpet\": [{\"marker\": {\"colorbar\": {\"outlinewidth\": 0, \"ticks\": \"\"}}, \"type\": \"scattercarpet\"}], \"scattergeo\": [{\"marker\": {\"colorbar\": {\"outlinewidth\": 0, \"ticks\": \"\"}}, \"type\": \"scattergeo\"}], \"scattergl\": [{\"marker\": {\"colorbar\": {\"outlinewidth\": 0, \"ticks\": \"\"}}, \"type\": \"scattergl\"}], \"scattermapbox\": [{\"marker\": {\"colorbar\": {\"outlinewidth\": 0, \"ticks\": \"\"}}, \"type\": \"scattermapbox\"}], \"scatterpolar\": [{\"marker\": {\"colorbar\": {\"outlinewidth\": 0, \"ticks\": \"\"}}, \"type\": \"scatterpolar\"}], \"scatterpolargl\": [{\"marker\": {\"colorbar\": {\"outlinewidth\": 0, \"ticks\": \"\"}}, \"type\": \"scatterpolargl\"}], \"scatterternary\": [{\"marker\": {\"colorbar\": {\"outlinewidth\": 0, \"ticks\": \"\"}}, \"type\": \"scatterternary\"}], \"surface\": [{\"colorbar\": {\"outlinewidth\": 0, \"ticks\": \"\"}, \"colorscale\": [[0.0, \"#0d0887\"], [0.1111111111111111, \"#46039f\"], [0.2222222222222222, \"#7201a8\"], [0.3333333333333333, \"#9c179e\"], [0.4444444444444444, \"#bd3786\"], [0.5555555555555556, \"#d8576b\"], [0.6666666666666666, \"#ed7953\"], [0.7777777777777778, \"#fb9f3a\"], [0.8888888888888888, \"#fdca26\"], [1.0, \"#f0f921\"]], \"type\": \"surface\"}], \"table\": [{\"cells\": {\"fill\": {\"color\": \"#EBF0F8\"}, \"line\": {\"color\": \"white\"}}, \"header\": {\"fill\": {\"color\": \"#C8D4E3\"}, \"line\": {\"color\": \"white\"}}, \"type\": \"table\"}]}, \"layout\": {\"annotationdefaults\": {\"arrowcolor\": \"#2a3f5f\", \"arrowhead\": 0, \"arrowwidth\": 1}, \"autotypenumbers\": \"strict\", \"coloraxis\": {\"colorbar\": {\"outlinewidth\": 0, \"ticks\": \"\"}}, \"colorscale\": {\"diverging\": [[0, \"#8e0152\"], [0.1, \"#c51b7d\"], [0.2, \"#de77ae\"], [0.3, \"#f1b6da\"], [0.4, \"#fde0ef\"], [0.5, \"#f7f7f7\"], [0.6, \"#e6f5d0\"], [0.7, \"#b8e186\"], [0.8, \"#7fbc41\"], [0.9, \"#4d9221\"], [1, \"#276419\"]], \"sequential\": [[0.0, \"#0d0887\"], [0.1111111111111111, \"#46039f\"], [0.2222222222222222, \"#7201a8\"], [0.3333333333333333, \"#9c179e\"], [0.4444444444444444, \"#bd3786\"], [0.5555555555555556, \"#d8576b\"], [0.6666666666666666, \"#ed7953\"], [0.7777777777777778, \"#fb9f3a\"], [0.8888888888888888, \"#fdca26\"], [1.0, \"#f0f921\"]], \"sequentialminus\": [[0.0, \"#0d0887\"], [0.1111111111111111, \"#46039f\"], [0.2222222222222222, \"#7201a8\"], [0.3333333333333333, \"#9c179e\"], [0.4444444444444444, \"#bd3786\"], [0.5555555555555556, \"#d8576b\"], [0.6666666666666666, \"#ed7953\"], [0.7777777777777778, \"#fb9f3a\"], [0.8888888888888888, \"#fdca26\"], [1.0, \"#f0f921\"]]}, \"colorway\": [\"#636efa\", \"#EF553B\", \"#00cc96\", \"#ab63fa\", \"#FFA15A\", \"#19d3f3\", \"#FF6692\", \"#B6E880\", \"#FF97FF\", \"#FECB52\"], \"font\": {\"color\": \"#2a3f5f\"}, \"geo\": {\"bgcolor\": \"white\", \"lakecolor\": \"white\", \"landcolor\": \"white\", \"showlakes\": true, \"showland\": true, \"subunitcolor\": \"#C8D4E3\"}, \"hoverlabel\": {\"align\": \"left\"}, \"hovermode\": \"closest\", \"mapbox\": {\"style\": \"light\"}, \"paper_bgcolor\": \"white\", \"plot_bgcolor\": \"white\", \"polar\": {\"angularaxis\": {\"gridcolor\": \"#EBF0F8\", \"linecolor\": \"#EBF0F8\", \"ticks\": \"\"}, \"bgcolor\": \"white\", \"radialaxis\": {\"gridcolor\": \"#EBF0F8\", \"linecolor\": \"#EBF0F8\", \"ticks\": \"\"}}, \"scene\": {\"xaxis\": {\"backgroundcolor\": \"white\", \"gridcolor\": \"#DFE8F3\", \"gridwidth\": 2, \"linecolor\": \"#EBF0F8\", \"showbackground\": true, \"ticks\": \"\", \"zerolinecolor\": \"#EBF0F8\"}, \"yaxis\": {\"backgroundcolor\": \"white\", \"gridcolor\": \"#DFE8F3\", \"gridwidth\": 2, \"linecolor\": \"#EBF0F8\", \"showbackground\": true, \"ticks\": \"\", \"zerolinecolor\": \"#EBF0F8\"}, \"zaxis\": {\"backgroundcolor\": \"white\", \"gridcolor\": \"#DFE8F3\", \"gridwidth\": 2, \"linecolor\": \"#EBF0F8\", \"showbackground\": true, \"ticks\": \"\", \"zerolinecolor\": \"#EBF0F8\"}}, \"shapedefaults\": {\"line\": {\"color\": \"#2a3f5f\"}}, \"ternary\": {\"aaxis\": {\"gridcolor\": \"#DFE8F3\", \"linecolor\": \"#A2B1C6\", \"ticks\": \"\"}, \"baxis\": {\"gridcolor\": \"#DFE8F3\", \"linecolor\": \"#A2B1C6\", \"ticks\": \"\"}, \"bgcolor\": \"white\", \"caxis\": {\"gridcolor\": \"#DFE8F3\", \"linecolor\": \"#A2B1C6\", \"ticks\": \"\"}}, \"title\": {\"x\": 0.05}, \"xaxis\": {\"automargin\": true, \"gridcolor\": \"#EBF0F8\", \"linecolor\": \"#EBF0F8\", \"ticks\": \"\", \"title\": {\"standoff\": 15}, \"zerolinecolor\": \"#EBF0F8\", \"zerolinewidth\": 2}, \"yaxis\": {\"automargin\": true, \"gridcolor\": \"#EBF0F8\", \"linecolor\": \"#EBF0F8\", \"ticks\": \"\", \"title\": {\"standoff\": 15}, \"zerolinecolor\": \"#EBF0F8\", \"zerolinewidth\": 2}}}, \"title\": {\"font\": {\"color\": \"Black\", \"size\": 22}, \"text\": \"<b>Hierarchical Clustering\", \"x\": 0.5, \"xanchor\": \"center\", \"y\": 0.95, \"yanchor\": \"top\"}, \"width\": 1000, \"xaxis\": {\"mirror\": \"allticks\", \"rangemode\": \"tozero\", \"showgrid\": false, \"showline\": true, \"showticklabels\": true, \"ticks\": \"outside\", \"type\": \"linear\", \"zeroline\": false}, \"yaxis\": {\"mirror\": \"allticks\", \"rangemode\": \"tozero\", \"showgrid\": false, \"showline\": true, \"showticklabels\": true, \"tickmode\": \"array\", \"ticks\": \"outside\", \"ticktext\": [\"8_lymph_papillary_metastasis\", \"3_carcinoma_therapy_cancers\", \"5_carcinoma_cancers_carcino...\", \"9_carcinoma_rna_targeting\", \"0_eurekamag_surgery_nerve\", \"2_nodules_ultrasound_ablation\", \"10_hormone_pregnant_pregnancy\", \"1_morgan_hypothyroidism_dis...\", \"7_eye_trials_teprotumumab\", \"6_tests_forecasts_researcha...\", \"12_covid19_pandemic_patients\", \"4_foods_levothyroxine_lioth...\", \"11_zebrafish_toxicity_expos...\", \"13_receptor_metabolites_inh...\"], \"tickvals\": [-5.0, -15.0, -25.0, -35.0, -45.0, -55.0, -65.0, -75.0, -85.0, -95.0, -105.0, -115.0, -125.0, -135.0], \"type\": \"linear\", \"zeroline\": false}},                        {\"responsive\": true}                    ).then(function(){\n",
              "                            \n",
              "var gd = document.getElementById('ea1f235e-d90e-4a9b-8d28-2290eac29fba');\n",
              "var x = new MutationObserver(function (mutations, observer) {{\n",
              "        var display = window.getComputedStyle(gd).display;\n",
              "        if (!display || display === 'none') {{\n",
              "            console.log([gd, 'removed!']);\n",
              "            Plotly.purge(gd);\n",
              "            observer.disconnect();\n",
              "        }}\n",
              "}});\n",
              "\n",
              "// Listen for the removal of the full notebook cells\n",
              "var notebookContainer = gd.closest('#notebook-container');\n",
              "if (notebookContainer) {{\n",
              "    x.observe(notebookContainer, {childList: true});\n",
              "}}\n",
              "\n",
              "// Listen for the clearing of the current output cell\n",
              "var outputEl = gd.closest('.output');\n",
              "if (outputEl) {{\n",
              "    x.observe(outputEl, {childList: true});\n",
              "}}\n",
              "\n",
              "                        })                };                            </script>        </div>\n",
              "</body>\n",
              "</html>"
            ]
          },
          "metadata": {
            "tags": []
          }
        }
      ]
    },
    {
      "cell_type": "code",
      "metadata": {
        "colab": {
          "base_uri": "https://localhost:8080/",
          "height": 617
        },
        "id": "b4XodlZ7RObL",
        "outputId": "d87e3d03-992e-43d9-93be-c191320d7072"
      },
      "source": [
        "topic_model.visualize_barchart(top_n_topics=5)\n"
      ],
      "execution_count": null,
      "outputs": [
        {
          "output_type": "display_data",
          "data": {
            "text/html": [
              "<html>\n",
              "<head><meta charset=\"utf-8\" /></head>\n",
              "<body>\n",
              "    <div>            <script src=\"https://cdnjs.cloudflare.com/ajax/libs/mathjax/2.7.5/MathJax.js?config=TeX-AMS-MML_SVG\"></script><script type=\"text/javascript\">if (window.MathJax) {MathJax.Hub.Config({SVG: {font: \"STIX-Web\"}});}</script>                <script type=\"text/javascript\">window.PlotlyConfig = {MathJaxConfig: 'local'};</script>\n",
              "        <script src=\"https://cdn.plot.ly/plotly-latest.min.js\"></script>                <div id=\"f5daf6cb-a07b-44c2-aa03-2a4ed6bd8ec8\" class=\"plotly-graph-div\" style=\"height:600px; width:800px;\"></div>            <script type=\"text/javascript\">                                    window.PLOTLYENV=window.PLOTLYENV || {};                                    if (document.getElementById(\"f5daf6cb-a07b-44c2-aa03-2a4ed6bd8ec8\")) {                    Plotly.newPlot(                        \"f5daf6cb-a07b-44c2-aa03-2a4ed6bd8ec8\",                        [{\"orientation\": \"h\", \"type\": \"bar\", \"x\": [0.044168514136330876, 0.045612533413551475, 0.05174722048338938, 0.055417641919142835, 0.13096853192184257], \"xaxis\": \"x\", \"y\": [\"intraoperative  \", \"gland  \", \"nerve  \", \"surgery  \", \"eurekamag  \"], \"yaxis\": \"y\"}, {\"orientation\": \"h\", \"type\": \"bar\", \"x\": [0.03292791580263553, 0.033485768020680054, 0.036472995356850335, 0.03922503037050124, 0.0392910207891888], \"xaxis\": \"x2\", \"y\": [\"stewart  \", \"symptoms  \", \"disorder  \", \"hypothyroidism  \", \"morgan  \"], \"yaxis\": \"y2\"}, {\"orientation\": \"h\", \"type\": \"bar\", \"x\": [0.033692702542156165, 0.035573125727388265, 0.04492360338954156, 0.08355472384826763, 0.09058763955551344], \"xaxis\": \"x3\", \"y\": [\"cytology  \", \"radiofrequency  \", \"ablation  \", \"ultrasound  \", \"nodules  \"], \"yaxis\": \"y3\"}, {\"orientation\": \"h\", \"type\": \"bar\", \"x\": [0.02558445986554984, 0.029928091048935363, 0.05639603783956914, 0.058897304812475966, 0.06412243222412903], \"xaxis\": \"x4\", \"y\": [\"ret  \", \"cancer  \", \"cancers  \", \"therapy  \", \"carcinoma  \"], \"yaxis\": \"y4\"}, {\"orientation\": \"h\", \"type\": \"bar\", \"x\": [0.03313140292276418, 0.03313140292276418, 0.052711773957630825, 0.060025065200284736, 0.06850366184102363], \"xaxis\": \"x5\", \"y\": [\"dietary  \", \"selenium  \", \"liothyronine  \", \"levothyroxine  \", \"foods  \"], \"yaxis\": \"y5\"}],                        {\"annotations\": [{\"font\": {\"size\": 16}, \"showarrow\": false, \"text\": \"Topic 0\", \"x\": 0.11666666666666665, \"xanchor\": \"center\", \"xref\": \"paper\", \"y\": 1.0, \"yanchor\": \"bottom\", \"yref\": \"paper\"}, {\"font\": {\"size\": 16}, \"showarrow\": false, \"text\": \"Topic 1\", \"x\": 0.49999999999999994, \"xanchor\": \"center\", \"xref\": \"paper\", \"y\": 1.0, \"yanchor\": \"bottom\", \"yref\": \"paper\"}, {\"font\": {\"size\": 16}, \"showarrow\": false, \"text\": \"Topic 2\", \"x\": 0.8833333333333333, \"xanchor\": \"center\", \"xref\": \"paper\", \"y\": 1.0, \"yanchor\": \"bottom\", \"yref\": \"paper\"}, {\"font\": {\"size\": 16}, \"showarrow\": false, \"text\": \"Topic 3\", \"x\": 0.11666666666666665, \"xanchor\": \"center\", \"xref\": \"paper\", \"y\": 0.425, \"yanchor\": \"bottom\", \"yref\": \"paper\"}, {\"font\": {\"size\": 16}, \"showarrow\": false, \"text\": \"Topic 4\", \"x\": 0.49999999999999994, \"xanchor\": \"center\", \"xref\": \"paper\", \"y\": 0.425, \"yanchor\": \"bottom\", \"yref\": \"paper\"}], \"height\": 600, \"hoverlabel\": {\"bgcolor\": \"white\", \"font\": {\"family\": \"Rockwell\", \"size\": 16}}, \"showlegend\": false, \"template\": {\"data\": {\"bar\": [{\"error_x\": {\"color\": \"#2a3f5f\"}, \"error_y\": {\"color\": \"#2a3f5f\"}, \"marker\": {\"line\": {\"color\": \"white\", \"width\": 0.5}}, \"type\": \"bar\"}], \"barpolar\": [{\"marker\": {\"line\": {\"color\": \"white\", \"width\": 0.5}}, \"type\": \"barpolar\"}], \"carpet\": [{\"aaxis\": {\"endlinecolor\": \"#2a3f5f\", \"gridcolor\": \"#C8D4E3\", \"linecolor\": \"#C8D4E3\", \"minorgridcolor\": \"#C8D4E3\", \"startlinecolor\": \"#2a3f5f\"}, \"baxis\": {\"endlinecolor\": \"#2a3f5f\", \"gridcolor\": \"#C8D4E3\", \"linecolor\": \"#C8D4E3\", \"minorgridcolor\": \"#C8D4E3\", \"startlinecolor\": \"#2a3f5f\"}, \"type\": \"carpet\"}], \"choropleth\": [{\"colorbar\": {\"outlinewidth\": 0, \"ticks\": \"\"}, \"type\": \"choropleth\"}], \"contour\": [{\"colorbar\": {\"outlinewidth\": 0, \"ticks\": \"\"}, \"colorscale\": [[0.0, \"#0d0887\"], [0.1111111111111111, \"#46039f\"], [0.2222222222222222, \"#7201a8\"], [0.3333333333333333, \"#9c179e\"], [0.4444444444444444, \"#bd3786\"], [0.5555555555555556, \"#d8576b\"], [0.6666666666666666, \"#ed7953\"], [0.7777777777777778, \"#fb9f3a\"], [0.8888888888888888, \"#fdca26\"], [1.0, \"#f0f921\"]], \"type\": \"contour\"}], \"contourcarpet\": [{\"colorbar\": {\"outlinewidth\": 0, \"ticks\": \"\"}, \"type\": \"contourcarpet\"}], \"heatmap\": [{\"colorbar\": {\"outlinewidth\": 0, \"ticks\": \"\"}, \"colorscale\": [[0.0, \"#0d0887\"], [0.1111111111111111, \"#46039f\"], [0.2222222222222222, \"#7201a8\"], [0.3333333333333333, \"#9c179e\"], [0.4444444444444444, \"#bd3786\"], [0.5555555555555556, \"#d8576b\"], [0.6666666666666666, \"#ed7953\"], [0.7777777777777778, \"#fb9f3a\"], [0.8888888888888888, \"#fdca26\"], [1.0, \"#f0f921\"]], \"type\": \"heatmap\"}], \"heatmapgl\": [{\"colorbar\": {\"outlinewidth\": 0, \"ticks\": \"\"}, \"colorscale\": [[0.0, \"#0d0887\"], [0.1111111111111111, \"#46039f\"], [0.2222222222222222, \"#7201a8\"], [0.3333333333333333, \"#9c179e\"], [0.4444444444444444, \"#bd3786\"], [0.5555555555555556, \"#d8576b\"], [0.6666666666666666, \"#ed7953\"], [0.7777777777777778, \"#fb9f3a\"], [0.8888888888888888, \"#fdca26\"], [1.0, \"#f0f921\"]], \"type\": \"heatmapgl\"}], \"histogram\": [{\"marker\": {\"colorbar\": {\"outlinewidth\": 0, \"ticks\": \"\"}}, \"type\": \"histogram\"}], \"histogram2d\": [{\"colorbar\": {\"outlinewidth\": 0, \"ticks\": \"\"}, \"colorscale\": [[0.0, \"#0d0887\"], [0.1111111111111111, \"#46039f\"], [0.2222222222222222, \"#7201a8\"], [0.3333333333333333, \"#9c179e\"], [0.4444444444444444, \"#bd3786\"], [0.5555555555555556, \"#d8576b\"], [0.6666666666666666, \"#ed7953\"], [0.7777777777777778, \"#fb9f3a\"], [0.8888888888888888, \"#fdca26\"], [1.0, \"#f0f921\"]], \"type\": \"histogram2d\"}], \"histogram2dcontour\": [{\"colorbar\": {\"outlinewidth\": 0, \"ticks\": \"\"}, \"colorscale\": [[0.0, \"#0d0887\"], [0.1111111111111111, \"#46039f\"], [0.2222222222222222, \"#7201a8\"], [0.3333333333333333, \"#9c179e\"], [0.4444444444444444, \"#bd3786\"], [0.5555555555555556, \"#d8576b\"], [0.6666666666666666, \"#ed7953\"], [0.7777777777777778, \"#fb9f3a\"], [0.8888888888888888, \"#fdca26\"], [1.0, \"#f0f921\"]], \"type\": \"histogram2dcontour\"}], \"mesh3d\": [{\"colorbar\": {\"outlinewidth\": 0, \"ticks\": \"\"}, \"type\": \"mesh3d\"}], \"parcoords\": [{\"line\": {\"colorbar\": {\"outlinewidth\": 0, \"ticks\": \"\"}}, \"type\": \"parcoords\"}], \"pie\": [{\"automargin\": true, \"type\": \"pie\"}], \"scatter\": [{\"marker\": {\"colorbar\": {\"outlinewidth\": 0, \"ticks\": \"\"}}, \"type\": \"scatter\"}], \"scatter3d\": [{\"line\": {\"colorbar\": {\"outlinewidth\": 0, \"ticks\": \"\"}}, \"marker\": {\"colorbar\": {\"outlinewidth\": 0, \"ticks\": \"\"}}, \"type\": \"scatter3d\"}], \"scattercarpet\": [{\"marker\": {\"colorbar\": {\"outlinewidth\": 0, \"ticks\": \"\"}}, \"type\": \"scattercarpet\"}], \"scattergeo\": [{\"marker\": {\"colorbar\": {\"outlinewidth\": 0, \"ticks\": \"\"}}, \"type\": \"scattergeo\"}], \"scattergl\": [{\"marker\": {\"colorbar\": {\"outlinewidth\": 0, \"ticks\": \"\"}}, \"type\": \"scattergl\"}], \"scattermapbox\": [{\"marker\": {\"colorbar\": {\"outlinewidth\": 0, \"ticks\": \"\"}}, \"type\": \"scattermapbox\"}], \"scatterpolar\": [{\"marker\": {\"colorbar\": {\"outlinewidth\": 0, \"ticks\": \"\"}}, \"type\": \"scatterpolar\"}], \"scatterpolargl\": [{\"marker\": {\"colorbar\": {\"outlinewidth\": 0, \"ticks\": \"\"}}, \"type\": \"scatterpolargl\"}], \"scatterternary\": [{\"marker\": {\"colorbar\": {\"outlinewidth\": 0, \"ticks\": \"\"}}, \"type\": \"scatterternary\"}], \"surface\": [{\"colorbar\": {\"outlinewidth\": 0, \"ticks\": \"\"}, \"colorscale\": [[0.0, \"#0d0887\"], [0.1111111111111111, \"#46039f\"], [0.2222222222222222, \"#7201a8\"], [0.3333333333333333, \"#9c179e\"], [0.4444444444444444, \"#bd3786\"], [0.5555555555555556, \"#d8576b\"], [0.6666666666666666, \"#ed7953\"], [0.7777777777777778, \"#fb9f3a\"], [0.8888888888888888, \"#fdca26\"], [1.0, \"#f0f921\"]], \"type\": \"surface\"}], \"table\": [{\"cells\": {\"fill\": {\"color\": \"#EBF0F8\"}, \"line\": {\"color\": \"white\"}}, \"header\": {\"fill\": {\"color\": \"#C8D4E3\"}, \"line\": {\"color\": \"white\"}}, \"type\": \"table\"}]}, \"layout\": {\"annotationdefaults\": {\"arrowcolor\": \"#2a3f5f\", \"arrowhead\": 0, \"arrowwidth\": 1}, \"autotypenumbers\": \"strict\", \"coloraxis\": {\"colorbar\": {\"outlinewidth\": 0, \"ticks\": \"\"}}, \"colorscale\": {\"diverging\": [[0, \"#8e0152\"], [0.1, \"#c51b7d\"], [0.2, \"#de77ae\"], [0.3, \"#f1b6da\"], [0.4, \"#fde0ef\"], [0.5, \"#f7f7f7\"], [0.6, \"#e6f5d0\"], [0.7, \"#b8e186\"], [0.8, \"#7fbc41\"], [0.9, \"#4d9221\"], [1, \"#276419\"]], \"sequential\": [[0.0, \"#0d0887\"], [0.1111111111111111, \"#46039f\"], [0.2222222222222222, \"#7201a8\"], [0.3333333333333333, \"#9c179e\"], [0.4444444444444444, \"#bd3786\"], [0.5555555555555556, \"#d8576b\"], [0.6666666666666666, \"#ed7953\"], [0.7777777777777778, \"#fb9f3a\"], [0.8888888888888888, \"#fdca26\"], [1.0, \"#f0f921\"]], \"sequentialminus\": [[0.0, \"#0d0887\"], [0.1111111111111111, \"#46039f\"], [0.2222222222222222, \"#7201a8\"], [0.3333333333333333, \"#9c179e\"], [0.4444444444444444, \"#bd3786\"], [0.5555555555555556, \"#d8576b\"], [0.6666666666666666, \"#ed7953\"], [0.7777777777777778, \"#fb9f3a\"], [0.8888888888888888, \"#fdca26\"], [1.0, \"#f0f921\"]]}, \"colorway\": [\"#636efa\", \"#EF553B\", \"#00cc96\", \"#ab63fa\", \"#FFA15A\", \"#19d3f3\", \"#FF6692\", \"#B6E880\", \"#FF97FF\", \"#FECB52\"], \"font\": {\"color\": \"#2a3f5f\"}, \"geo\": {\"bgcolor\": \"white\", \"lakecolor\": \"white\", \"landcolor\": \"white\", \"showlakes\": true, \"showland\": true, \"subunitcolor\": \"#C8D4E3\"}, \"hoverlabel\": {\"align\": \"left\"}, \"hovermode\": \"closest\", \"mapbox\": {\"style\": \"light\"}, \"paper_bgcolor\": \"white\", \"plot_bgcolor\": \"white\", \"polar\": {\"angularaxis\": {\"gridcolor\": \"#EBF0F8\", \"linecolor\": \"#EBF0F8\", \"ticks\": \"\"}, \"bgcolor\": \"white\", \"radialaxis\": {\"gridcolor\": \"#EBF0F8\", \"linecolor\": \"#EBF0F8\", \"ticks\": \"\"}}, \"scene\": {\"xaxis\": {\"backgroundcolor\": \"white\", \"gridcolor\": \"#DFE8F3\", \"gridwidth\": 2, \"linecolor\": \"#EBF0F8\", \"showbackground\": true, \"ticks\": \"\", \"zerolinecolor\": \"#EBF0F8\"}, \"yaxis\": {\"backgroundcolor\": \"white\", \"gridcolor\": \"#DFE8F3\", \"gridwidth\": 2, \"linecolor\": \"#EBF0F8\", \"showbackground\": true, \"ticks\": \"\", \"zerolinecolor\": \"#EBF0F8\"}, \"zaxis\": {\"backgroundcolor\": \"white\", \"gridcolor\": \"#DFE8F3\", \"gridwidth\": 2, \"linecolor\": \"#EBF0F8\", \"showbackground\": true, \"ticks\": \"\", \"zerolinecolor\": \"#EBF0F8\"}}, \"shapedefaults\": {\"line\": {\"color\": \"#2a3f5f\"}}, \"ternary\": {\"aaxis\": {\"gridcolor\": \"#DFE8F3\", \"linecolor\": \"#A2B1C6\", \"ticks\": \"\"}, \"baxis\": {\"gridcolor\": \"#DFE8F3\", \"linecolor\": \"#A2B1C6\", \"ticks\": \"\"}, \"bgcolor\": \"white\", \"caxis\": {\"gridcolor\": \"#DFE8F3\", \"linecolor\": \"#A2B1C6\", \"ticks\": \"\"}}, \"title\": {\"x\": 0.05}, \"xaxis\": {\"automargin\": true, \"gridcolor\": \"#EBF0F8\", \"linecolor\": \"#EBF0F8\", \"ticks\": \"\", \"title\": {\"standoff\": 15}, \"zerolinecolor\": \"#EBF0F8\", \"zerolinewidth\": 2}, \"yaxis\": {\"automargin\": true, \"gridcolor\": \"#EBF0F8\", \"linecolor\": \"#EBF0F8\", \"ticks\": \"\", \"title\": {\"standoff\": 15}, \"zerolinecolor\": \"#EBF0F8\", \"zerolinewidth\": 2}}}, \"title\": {\"font\": {\"color\": \"Black\", \"size\": 22}, \"text\": \"<b>Topic Word Scores\", \"x\": 0.15, \"xanchor\": \"center\", \"y\": 0.95, \"yanchor\": \"top\"}, \"width\": 800, \"xaxis\": {\"anchor\": \"y\", \"domain\": [0.0, 0.2333333333333333], \"matches\": \"x4\", \"showgrid\": true, \"showticklabels\": false}, \"xaxis2\": {\"anchor\": \"y2\", \"domain\": [0.3833333333333333, 0.6166666666666666], \"matches\": \"x5\", \"showgrid\": true, \"showticklabels\": false}, \"xaxis3\": {\"anchor\": \"y3\", \"domain\": [0.7666666666666666, 0.9999999999999999], \"matches\": \"x6\", \"showgrid\": true, \"showticklabels\": false}, \"xaxis4\": {\"anchor\": \"y4\", \"domain\": [0.0, 0.2333333333333333], \"showgrid\": true}, \"xaxis5\": {\"anchor\": \"y5\", \"domain\": [0.3833333333333333, 0.6166666666666666], \"showgrid\": true}, \"xaxis6\": {\"anchor\": \"y6\", \"domain\": [0.7666666666666666, 0.9999999999999999], \"showgrid\": true}, \"yaxis\": {\"anchor\": \"x\", \"domain\": [0.575, 1.0], \"showgrid\": true}, \"yaxis2\": {\"anchor\": \"x2\", \"domain\": [0.575, 1.0], \"showgrid\": true}, \"yaxis3\": {\"anchor\": \"x3\", \"domain\": [0.575, 1.0], \"showgrid\": true}, \"yaxis4\": {\"anchor\": \"x4\", \"domain\": [0.0, 0.425], \"showgrid\": true}, \"yaxis5\": {\"anchor\": \"x5\", \"domain\": [0.0, 0.425], \"showgrid\": true}, \"yaxis6\": {\"anchor\": \"x6\", \"domain\": [0.0, 0.425], \"showgrid\": true}},                        {\"responsive\": true}                    ).then(function(){\n",
              "                            \n",
              "var gd = document.getElementById('f5daf6cb-a07b-44c2-aa03-2a4ed6bd8ec8');\n",
              "var x = new MutationObserver(function (mutations, observer) {{\n",
              "        var display = window.getComputedStyle(gd).display;\n",
              "        if (!display || display === 'none') {{\n",
              "            console.log([gd, 'removed!']);\n",
              "            Plotly.purge(gd);\n",
              "            observer.disconnect();\n",
              "        }}\n",
              "}});\n",
              "\n",
              "// Listen for the removal of the full notebook cells\n",
              "var notebookContainer = gd.closest('#notebook-container');\n",
              "if (notebookContainer) {{\n",
              "    x.observe(notebookContainer, {childList: true});\n",
              "}}\n",
              "\n",
              "// Listen for the clearing of the current output cell\n",
              "var outputEl = gd.closest('.output');\n",
              "if (outputEl) {{\n",
              "    x.observe(outputEl, {childList: true});\n",
              "}}\n",
              "\n",
              "                        })                };                            </script>        </div>\n",
              "</body>\n",
              "</html>"
            ]
          },
          "metadata": {
            "tags": []
          }
        }
      ]
    },
    {
      "cell_type": "code",
      "metadata": {
        "colab": {
          "base_uri": "https://localhost:8080/",
          "height": 1000
        },
        "id": "-3Pb3nEoRV5F",
        "outputId": "e30fc48d-9bee-4295-d05c-02655d494d88"
      },
      "source": [
        "topic_model.visualize_heatmap(n_clusters=10, width=1000, height=1000)"
      ],
      "execution_count": null,
      "outputs": [
        {
          "output_type": "display_data",
          "data": {
            "text/html": [
              "<html>\n",
              "<head><meta charset=\"utf-8\" /></head>\n",
              "<body>\n",
              "    <div>            <script src=\"https://cdnjs.cloudflare.com/ajax/libs/mathjax/2.7.5/MathJax.js?config=TeX-AMS-MML_SVG\"></script><script type=\"text/javascript\">if (window.MathJax) {MathJax.Hub.Config({SVG: {font: \"STIX-Web\"}});}</script>                <script type=\"text/javascript\">window.PlotlyConfig = {MathJaxConfig: 'local'};</script>\n",
              "        <script src=\"https://cdn.plot.ly/plotly-latest.min.js\"></script>                <div id=\"eb940bdb-3e5b-4b59-b1c1-345fbc206507\" class=\"plotly-graph-div\" style=\"height:1000px; width:1000px;\"></div>            <script type=\"text/javascript\">                                    window.PLOTLYENV=window.PLOTLYENV || {};                                    if (document.getElementById(\"eb940bdb-3e5b-4b59-b1c1-345fbc206507\")) {                    Plotly.newPlot(                        \"eb940bdb-3e5b-4b59-b1c1-345fbc206507\",                        [{\"coloraxis\": \"coloraxis\", \"hovertemplate\": \"x: %{x}<br>y: %{y}<br>Similarity Score: %{z}<extra></extra>\", \"name\": \"0\", \"type\": \"heatmap\", \"x\": [\"-1_cancer_patients_parathyr...\", \"3_carcinoma_therapy_cancers\", \"8_lymph_papillary_metastasis\", \"0_eurekamag_surgery_nerve\", \"2_nodules_ultrasound_ablation\", \"1_morgan_hypothyroidism_dis...\", \"7_eye_trials_teprotumumab\", \"4_foods_levothyroxine_lioth...\", \"5_carcinoma_cancers_carcino...\", \"9_carcinoma_rna_targeting\", \"6_tests_forecasts_researcha...\", \"10_hormone_pregnant_pregnancy\", \"11_zebrafish_toxicity_expos...\", \"12_covid19_pandemic_patients\", \"13_receptor_metabolites_inh...\"], \"xaxis\": \"x\", \"y\": [\"-1_cancer_patients_parathyr...\", \"3_carcinoma_therapy_cancers\", \"8_lymph_papillary_metastasis\", \"0_eurekamag_surgery_nerve\", \"2_nodules_ultrasound_ablation\", \"1_morgan_hypothyroidism_dis...\", \"7_eye_trials_teprotumumab\", \"4_foods_levothyroxine_lioth...\", \"5_carcinoma_cancers_carcino...\", \"9_carcinoma_rna_targeting\", \"6_tests_forecasts_researcha...\", \"10_hormone_pregnant_pregnancy\", \"11_zebrafish_toxicity_expos...\", \"12_covid19_pandemic_patients\", \"13_receptor_metabolites_inh...\"], \"yaxis\": \"y\", \"z\": [[1.0, 0.8035411086745712, 0.8031776236697031, 0.6307218417922413, 0.5674290871651404, 0.6030295990223464, 0.5308087444919785, 0.3476153780610268, 0.6606890969890769, 0.63220790957695, 0.07529509165736781, 0.5722513974925413, 0.44686309952255465, 0.32322196173854967, 0.5137066971442015], [0.8035411086745712, 0.9999999999999996, 0.671976503577579, 0.5228763210935559, 0.44645333786631825, 0.5179762508690511, 0.5584589283030734, 0.286077289951436, 0.7254968808081138, 0.6389249025594516, 0.07523576672145425, 0.4414866332347277, 0.39474107378736645, 0.35908484270801916, 0.537790489662997], [0.8031776236697031, 0.671976503577579, 1.0000000000000004, 0.5391874602052324, 0.4861614620234519, 0.4818638367201109, 0.3824012778585889, 0.14883607372715915, 0.6114739943410075, 0.5925004613936036, 0.06203588796258862, 0.30194905657476095, 0.3067692044819022, 0.22458086052362186, 0.37810383232051115], [0.6307218417922413, 0.5228763210935559, 0.5391874602052324, 1.0000000000000007, 0.598197956022013, 0.4993767981883144, 0.6122823400509156, 0.23863291408221307, 0.3696973379137777, 0.5022609013465495, 0.15503463955437946, 0.3487011757115094, 0.3225105738579943, 0.35808924831822697, 0.3354675199638863], [0.5674290871651404, 0.44645333786631825, 0.4861614620234519, 0.598197956022013, 0.9999999999999991, 0.4711261375494681, 0.44286514118086034, 0.22211649555322643, 0.37192898303821065, 0.43348669420905106, 0.2785301669755251, 0.43942920316436274, 0.303059647193632, 0.27589633109279543, 0.31501900032706587], [0.6030295990223464, 0.5179762508690511, 0.4818638367201109, 0.4993767981883144, 0.4711261375494681, 1.0, 0.5401810302877087, 0.30223519700399815, 0.4616465522746632, 0.37556129096905994, 0.16804789796295988, 0.5172821822071595, 0.40434680686508595, 0.3780196782652419, 0.35287835274245255], [0.5308087444919785, 0.5584589283030734, 0.3824012778585889, 0.6122823400509156, 0.44286514118086034, 0.5401810302877087, 1.0000000000000002, 0.34746048234243276, 0.3563600603793391, 0.45987654602248096, 0.22548559081973935, 0.42579151533712994, 0.4293770033493789, 0.43030599939961856, 0.44327713989186623], [0.3476153780610268, 0.286077289951436, 0.14883607372715915, 0.23863291408221307, 0.22211649555322643, 0.30223519700399815, 0.34746048234243276, 1.0000000000000002, 0.15552316221772683, 0.2836848280755131, 0.07483351042773422, 0.40851713347902363, 0.555785988227043, 0.273745553453726, 0.4512264736652649], [0.6606890969890769, 0.7254968808081138, 0.6114739943410075, 0.3696973379137777, 0.37192898303821065, 0.4616465522746632, 0.3563600603793391, 0.15552316221772683, 1.0000000000000004, 0.7168805688050964, 0.1722990450429542, 0.3923508376561097, 0.40974667251362884, 0.3412871534904644, 0.4733103026166392], [0.63220790957695, 0.6389249025594516, 0.5925004613936036, 0.5022609013465495, 0.43348669420905106, 0.37556129096905994, 0.45987654602248096, 0.2836848280755131, 0.7168805688050964, 1.0, 0.15545285475999399, 0.3596841338483206, 0.47460823083124604, 0.4348816805183758, 0.6408400394695695], [0.07529509165736781, 0.07523576672145425, 0.06203588796258862, 0.15503463955437946, 0.2785301669755251, 0.16804789796295988, 0.22548559081973935, 0.07483351042773422, 0.1722990450429542, 0.15545285475999399, 1.0, 0.25270853795346804, 0.21095460225708534, 0.33998965984759344, 0.10230266644771296], [0.5722513974925413, 0.4414866332347277, 0.30194905657476095, 0.3487011757115094, 0.43942920316436274, 0.5172821822071595, 0.42579151533712994, 0.40851713347902363, 0.3923508376561097, 0.3596841338483206, 0.25270853795346804, 1.0000000000000002, 0.40092016638750116, 0.3378900392746985, 0.44975805211614006], [0.44686309952255465, 0.39474107378736645, 0.3067692044819022, 0.3225105738579943, 0.303059647193632, 0.40434680686508595, 0.4293770033493789, 0.555785988227043, 0.40974667251362884, 0.47460823083124604, 0.21095460225708534, 0.40092016638750116, 1.0, 0.32666879012858696, 0.5072473984514444], [0.32322196173854967, 0.35908484270801916, 0.22458086052362186, 0.35808924831822697, 0.27589633109279543, 0.3780196782652419, 0.43030599939961856, 0.273745553453726, 0.3412871534904644, 0.4348816805183758, 0.33998965984759344, 0.3378900392746985, 0.32666879012858696, 1.0000000000000002, 0.4147013848324472], [0.5137066971442015, 0.537790489662997, 0.37810383232051115, 0.3354675199638863, 0.31501900032706587, 0.35287835274245255, 0.44327713989186623, 0.4512264736652649, 0.4733103026166392, 0.6408400394695695, 0.10230266644771296, 0.44975805211614006, 0.5072473984514444, 0.4147013848324472, 1.0000000000000004]]}],                        {\"coloraxis\": {\"colorbar\": {\"title\": {\"text\": \"Similarity Score\"}}, \"colorscale\": [[0.0, \"rgb(247,252,240)\"], [0.125, \"rgb(224,243,219)\"], [0.25, \"rgb(204,235,197)\"], [0.375, \"rgb(168,221,181)\"], [0.5, \"rgb(123,204,196)\"], [0.625, \"rgb(78,179,211)\"], [0.75, \"rgb(43,140,190)\"], [0.875, \"rgb(8,104,172)\"], [1.0, \"rgb(8,64,129)\"]]}, \"height\": 1000, \"hoverlabel\": {\"bgcolor\": \"white\", \"font\": {\"family\": \"Rockwell\", \"size\": 16}}, \"legend\": {\"title\": {\"text\": \"Trend\"}}, \"margin\": {\"t\": 60}, \"showlegend\": true, \"template\": {\"data\": {\"bar\": [{\"error_x\": {\"color\": \"#2a3f5f\"}, \"error_y\": {\"color\": \"#2a3f5f\"}, \"marker\": {\"line\": {\"color\": \"#E5ECF6\", \"width\": 0.5}}, \"type\": \"bar\"}], \"barpolar\": [{\"marker\": {\"line\": {\"color\": \"#E5ECF6\", \"width\": 0.5}}, \"type\": \"barpolar\"}], \"carpet\": [{\"aaxis\": {\"endlinecolor\": \"#2a3f5f\", \"gridcolor\": \"white\", \"linecolor\": \"white\", \"minorgridcolor\": \"white\", \"startlinecolor\": \"#2a3f5f\"}, \"baxis\": {\"endlinecolor\": \"#2a3f5f\", \"gridcolor\": \"white\", \"linecolor\": \"white\", \"minorgridcolor\": \"white\", \"startlinecolor\": \"#2a3f5f\"}, \"type\": \"carpet\"}], \"choropleth\": [{\"colorbar\": {\"outlinewidth\": 0, \"ticks\": \"\"}, \"type\": \"choropleth\"}], \"contour\": [{\"colorbar\": {\"outlinewidth\": 0, \"ticks\": \"\"}, \"colorscale\": [[0.0, \"#0d0887\"], [0.1111111111111111, \"#46039f\"], [0.2222222222222222, \"#7201a8\"], [0.3333333333333333, \"#9c179e\"], [0.4444444444444444, \"#bd3786\"], [0.5555555555555556, \"#d8576b\"], [0.6666666666666666, \"#ed7953\"], [0.7777777777777778, \"#fb9f3a\"], [0.8888888888888888, \"#fdca26\"], [1.0, \"#f0f921\"]], \"type\": \"contour\"}], \"contourcarpet\": [{\"colorbar\": {\"outlinewidth\": 0, \"ticks\": \"\"}, \"type\": \"contourcarpet\"}], \"heatmap\": [{\"colorbar\": {\"outlinewidth\": 0, \"ticks\": \"\"}, \"colorscale\": [[0.0, \"#0d0887\"], [0.1111111111111111, \"#46039f\"], [0.2222222222222222, \"#7201a8\"], [0.3333333333333333, \"#9c179e\"], [0.4444444444444444, \"#bd3786\"], [0.5555555555555556, \"#d8576b\"], [0.6666666666666666, \"#ed7953\"], [0.7777777777777778, \"#fb9f3a\"], [0.8888888888888888, \"#fdca26\"], [1.0, \"#f0f921\"]], \"type\": \"heatmap\"}], \"heatmapgl\": [{\"colorbar\": {\"outlinewidth\": 0, \"ticks\": \"\"}, \"colorscale\": [[0.0, \"#0d0887\"], [0.1111111111111111, \"#46039f\"], [0.2222222222222222, \"#7201a8\"], [0.3333333333333333, \"#9c179e\"], [0.4444444444444444, \"#bd3786\"], [0.5555555555555556, \"#d8576b\"], [0.6666666666666666, \"#ed7953\"], [0.7777777777777778, \"#fb9f3a\"], [0.8888888888888888, \"#fdca26\"], [1.0, \"#f0f921\"]], \"type\": \"heatmapgl\"}], \"histogram\": [{\"marker\": {\"colorbar\": {\"outlinewidth\": 0, \"ticks\": \"\"}}, \"type\": \"histogram\"}], \"histogram2d\": [{\"colorbar\": {\"outlinewidth\": 0, \"ticks\": \"\"}, \"colorscale\": [[0.0, \"#0d0887\"], [0.1111111111111111, \"#46039f\"], [0.2222222222222222, \"#7201a8\"], [0.3333333333333333, \"#9c179e\"], [0.4444444444444444, \"#bd3786\"], [0.5555555555555556, \"#d8576b\"], [0.6666666666666666, \"#ed7953\"], [0.7777777777777778, \"#fb9f3a\"], [0.8888888888888888, \"#fdca26\"], [1.0, \"#f0f921\"]], \"type\": \"histogram2d\"}], \"histogram2dcontour\": [{\"colorbar\": {\"outlinewidth\": 0, \"ticks\": \"\"}, \"colorscale\": [[0.0, \"#0d0887\"], [0.1111111111111111, \"#46039f\"], [0.2222222222222222, \"#7201a8\"], [0.3333333333333333, \"#9c179e\"], [0.4444444444444444, \"#bd3786\"], [0.5555555555555556, \"#d8576b\"], [0.6666666666666666, \"#ed7953\"], [0.7777777777777778, \"#fb9f3a\"], [0.8888888888888888, \"#fdca26\"], [1.0, \"#f0f921\"]], \"type\": \"histogram2dcontour\"}], \"mesh3d\": [{\"colorbar\": {\"outlinewidth\": 0, \"ticks\": \"\"}, \"type\": \"mesh3d\"}], \"parcoords\": [{\"line\": {\"colorbar\": {\"outlinewidth\": 0, \"ticks\": \"\"}}, \"type\": \"parcoords\"}], \"pie\": [{\"automargin\": true, \"type\": \"pie\"}], \"scatter\": [{\"marker\": {\"colorbar\": {\"outlinewidth\": 0, \"ticks\": \"\"}}, \"type\": \"scatter\"}], \"scatter3d\": [{\"line\": {\"colorbar\": {\"outlinewidth\": 0, \"ticks\": \"\"}}, \"marker\": {\"colorbar\": {\"outlinewidth\": 0, \"ticks\": \"\"}}, \"type\": \"scatter3d\"}], \"scattercarpet\": [{\"marker\": {\"colorbar\": {\"outlinewidth\": 0, \"ticks\": \"\"}}, \"type\": \"scattercarpet\"}], \"scattergeo\": [{\"marker\": {\"colorbar\": {\"outlinewidth\": 0, \"ticks\": \"\"}}, \"type\": \"scattergeo\"}], \"scattergl\": [{\"marker\": {\"colorbar\": {\"outlinewidth\": 0, \"ticks\": \"\"}}, \"type\": \"scattergl\"}], \"scattermapbox\": [{\"marker\": {\"colorbar\": {\"outlinewidth\": 0, \"ticks\": \"\"}}, \"type\": \"scattermapbox\"}], \"scatterpolar\": [{\"marker\": {\"colorbar\": {\"outlinewidth\": 0, \"ticks\": \"\"}}, \"type\": \"scatterpolar\"}], \"scatterpolargl\": [{\"marker\": {\"colorbar\": {\"outlinewidth\": 0, \"ticks\": \"\"}}, \"type\": \"scatterpolargl\"}], \"scatterternary\": [{\"marker\": {\"colorbar\": {\"outlinewidth\": 0, \"ticks\": \"\"}}, \"type\": \"scatterternary\"}], \"surface\": [{\"colorbar\": {\"outlinewidth\": 0, \"ticks\": \"\"}, \"colorscale\": [[0.0, \"#0d0887\"], [0.1111111111111111, \"#46039f\"], [0.2222222222222222, \"#7201a8\"], [0.3333333333333333, \"#9c179e\"], [0.4444444444444444, \"#bd3786\"], [0.5555555555555556, \"#d8576b\"], [0.6666666666666666, \"#ed7953\"], [0.7777777777777778, \"#fb9f3a\"], [0.8888888888888888, \"#fdca26\"], [1.0, \"#f0f921\"]], \"type\": \"surface\"}], \"table\": [{\"cells\": {\"fill\": {\"color\": \"#EBF0F8\"}, \"line\": {\"color\": \"white\"}}, \"header\": {\"fill\": {\"color\": \"#C8D4E3\"}, \"line\": {\"color\": \"white\"}}, \"type\": \"table\"}]}, \"layout\": {\"annotationdefaults\": {\"arrowcolor\": \"#2a3f5f\", \"arrowhead\": 0, \"arrowwidth\": 1}, \"autotypenumbers\": \"strict\", \"coloraxis\": {\"colorbar\": {\"outlinewidth\": 0, \"ticks\": \"\"}}, \"colorscale\": {\"diverging\": [[0, \"#8e0152\"], [0.1, \"#c51b7d\"], [0.2, \"#de77ae\"], [0.3, \"#f1b6da\"], [0.4, \"#fde0ef\"], [0.5, \"#f7f7f7\"], [0.6, \"#e6f5d0\"], [0.7, \"#b8e186\"], [0.8, \"#7fbc41\"], [0.9, \"#4d9221\"], [1, \"#276419\"]], \"sequential\": [[0.0, \"#0d0887\"], [0.1111111111111111, \"#46039f\"], [0.2222222222222222, \"#7201a8\"], [0.3333333333333333, \"#9c179e\"], [0.4444444444444444, \"#bd3786\"], [0.5555555555555556, \"#d8576b\"], [0.6666666666666666, \"#ed7953\"], [0.7777777777777778, \"#fb9f3a\"], [0.8888888888888888, \"#fdca26\"], [1.0, \"#f0f921\"]], \"sequentialminus\": [[0.0, \"#0d0887\"], [0.1111111111111111, \"#46039f\"], [0.2222222222222222, \"#7201a8\"], [0.3333333333333333, \"#9c179e\"], [0.4444444444444444, \"#bd3786\"], [0.5555555555555556, \"#d8576b\"], [0.6666666666666666, \"#ed7953\"], [0.7777777777777778, \"#fb9f3a\"], [0.8888888888888888, \"#fdca26\"], [1.0, \"#f0f921\"]]}, \"colorway\": [\"#636efa\", \"#EF553B\", \"#00cc96\", \"#ab63fa\", \"#FFA15A\", \"#19d3f3\", \"#FF6692\", \"#B6E880\", \"#FF97FF\", \"#FECB52\"], \"font\": {\"color\": \"#2a3f5f\"}, \"geo\": {\"bgcolor\": \"white\", \"lakecolor\": \"white\", \"landcolor\": \"#E5ECF6\", \"showlakes\": true, \"showland\": true, \"subunitcolor\": \"white\"}, \"hoverlabel\": {\"align\": \"left\"}, \"hovermode\": \"closest\", \"mapbox\": {\"style\": \"light\"}, \"paper_bgcolor\": \"white\", \"plot_bgcolor\": \"#E5ECF6\", \"polar\": {\"angularaxis\": {\"gridcolor\": \"white\", \"linecolor\": \"white\", \"ticks\": \"\"}, \"bgcolor\": \"#E5ECF6\", \"radialaxis\": {\"gridcolor\": \"white\", \"linecolor\": \"white\", \"ticks\": \"\"}}, \"scene\": {\"xaxis\": {\"backgroundcolor\": \"#E5ECF6\", \"gridcolor\": \"white\", \"gridwidth\": 2, \"linecolor\": \"white\", \"showbackground\": true, \"ticks\": \"\", \"zerolinecolor\": \"white\"}, \"yaxis\": {\"backgroundcolor\": \"#E5ECF6\", \"gridcolor\": \"white\", \"gridwidth\": 2, \"linecolor\": \"white\", \"showbackground\": true, \"ticks\": \"\", \"zerolinecolor\": \"white\"}, \"zaxis\": {\"backgroundcolor\": \"#E5ECF6\", \"gridcolor\": \"white\", \"gridwidth\": 2, \"linecolor\": \"white\", \"showbackground\": true, \"ticks\": \"\", \"zerolinecolor\": \"white\"}}, \"shapedefaults\": {\"line\": {\"color\": \"#2a3f5f\"}}, \"ternary\": {\"aaxis\": {\"gridcolor\": \"white\", \"linecolor\": \"white\", \"ticks\": \"\"}, \"baxis\": {\"gridcolor\": \"white\", \"linecolor\": \"white\", \"ticks\": \"\"}, \"bgcolor\": \"#E5ECF6\", \"caxis\": {\"gridcolor\": \"white\", \"linecolor\": \"white\", \"ticks\": \"\"}}, \"title\": {\"x\": 0.05}, \"xaxis\": {\"automargin\": true, \"gridcolor\": \"white\", \"linecolor\": \"white\", \"ticks\": \"\", \"title\": {\"standoff\": 15}, \"zerolinecolor\": \"white\", \"zerolinewidth\": 2}, \"yaxis\": {\"automargin\": true, \"gridcolor\": \"white\", \"linecolor\": \"white\", \"ticks\": \"\", \"title\": {\"standoff\": 15}, \"zerolinecolor\": \"white\", \"zerolinewidth\": 2}}}, \"title\": {\"font\": {\"color\": \"Black\", \"size\": 22}, \"text\": \"<b>Similarity Matrix\", \"x\": 0.55, \"xanchor\": \"center\", \"y\": 0.95, \"yanchor\": \"top\"}, \"width\": 1000, \"xaxis\": {\"anchor\": \"y\", \"constrain\": \"domain\", \"domain\": [0.0, 1.0], \"scaleanchor\": \"y\"}, \"yaxis\": {\"anchor\": \"x\", \"autorange\": \"reversed\", \"constrain\": \"domain\", \"domain\": [0.0, 1.0]}},                        {\"responsive\": true}                    ).then(function(){\n",
              "                            \n",
              "var gd = document.getElementById('eb940bdb-3e5b-4b59-b1c1-345fbc206507');\n",
              "var x = new MutationObserver(function (mutations, observer) {{\n",
              "        var display = window.getComputedStyle(gd).display;\n",
              "        if (!display || display === 'none') {{\n",
              "            console.log([gd, 'removed!']);\n",
              "            Plotly.purge(gd);\n",
              "            observer.disconnect();\n",
              "        }}\n",
              "}});\n",
              "\n",
              "// Listen for the removal of the full notebook cells\n",
              "var notebookContainer = gd.closest('#notebook-container');\n",
              "if (notebookContainer) {{\n",
              "    x.observe(notebookContainer, {childList: true});\n",
              "}}\n",
              "\n",
              "// Listen for the clearing of the current output cell\n",
              "var outputEl = gd.closest('.output');\n",
              "if (outputEl) {{\n",
              "    x.observe(outputEl, {childList: true});\n",
              "}}\n",
              "\n",
              "                        })                };                            </script>        </div>\n",
              "</body>\n",
              "</html>"
            ]
          },
          "metadata": {
            "tags": []
          }
        }
      ]
    },
    {
      "cell_type": "code",
      "metadata": {
        "colab": {
          "base_uri": "https://localhost:8080/",
          "height": 517
        },
        "id": "oFUa-OBRR9Xz",
        "outputId": "bfa488fb-558e-44bd-f856-5f5b8e71132c"
      },
      "source": [
        "topic_model.visualize_term_rank()"
      ],
      "execution_count": null,
      "outputs": [
        {
          "output_type": "display_data",
          "data": {
            "text/html": [
              "<html>\n",
              "<head><meta charset=\"utf-8\" /></head>\n",
              "<body>\n",
              "    <div>            <script src=\"https://cdnjs.cloudflare.com/ajax/libs/mathjax/2.7.5/MathJax.js?config=TeX-AMS-MML_SVG\"></script><script type=\"text/javascript\">if (window.MathJax) {MathJax.Hub.Config({SVG: {font: \"STIX-Web\"}});}</script>                <script type=\"text/javascript\">window.PlotlyConfig = {MathJaxConfig: 'local'};</script>\n",
              "        <script src=\"https://cdn.plot.ly/plotly-latest.min.js\"></script>                <div id=\"d64f0f55-368b-47e3-9b63-f11afe8bb4f0\" class=\"plotly-graph-div\" style=\"height:500px; width:800px;\"></div>            <script type=\"text/javascript\">                                    window.PLOTLYENV=window.PLOTLYENV || {};                                    if (document.getElementById(\"d64f0f55-368b-47e3-9b63-f11afe8bb4f0\")) {                    Plotly.newPlot(                        \"d64f0f55-368b-47e3-9b63-f11afe8bb4f0\",                        [{\"hovertext\": \"<b>Topic -1</b>:cancer_patients_parathyroid_follic\", \"line\": {\"color\": \"black\", \"width\": 1.5}, \"mode\": \"lines+lines\", \"name\": \"\", \"opacity\": 0.1, \"type\": \"scatter\", \"x\": [1, 2, 3, 4, 5, 6, 7, 8, 9, 10], \"y\": [0.020733827983930236, 0.01637425155268234, 0.01591071736457286, 0.01502639298306415, 0.014659677009332397, 0.012584927500376429, 0.012074318108447689, 0.011986613692166926, 0.011128302331195734, 0.009990093445973474]}, {\"hovertext\": \"<b>Topic 0</b>:eurekamag_surgery_nerve_gland_intra\", \"line\": {\"color\": \"black\", \"width\": 1.5}, \"mode\": \"lines+lines\", \"name\": \"\", \"opacity\": 0.1, \"type\": \"scatter\", \"x\": [1, 2, 3, 4, 5, 6, 7, 8, 9, 10], \"y\": [0.13096853192184257, 0.055417641919142835, 0.05174722048338938, 0.045612533413551475, 0.044168514136330876, 0.03702037686730739, 0.03212255573551337, 0.031362273167958345, 0.016056091067886216, 0.015168183436862201]}, {\"hovertext\": \"<b>Topic 1</b>:morgan_hypothyroidism_disorder_symp\", \"line\": {\"color\": \"black\", \"width\": 1.5}, \"mode\": \"lines+lines\", \"name\": \"\", \"opacity\": 0.1, \"type\": \"scatter\", \"x\": [1, 2, 3, 4, 5, 6, 7, 8, 9, 10], \"y\": [0.0392910207891888, 0.03922503037050124, 0.036472995356850335, 0.033485768020680054, 0.03292791580263553, 0.02811010733246904, 0.026788614416544045, 0.026141575407010724, 0.02469593685197665, 0.023574612473513282]}, {\"hovertext\": \"<b>Topic 2</b>:nodules_ultrasound_ablation_radiofr\", \"line\": {\"color\": \"black\", \"width\": 1.5}, \"mode\": \"lines+lines\", \"name\": \"\", \"opacity\": 0.1, \"type\": \"scatter\", \"x\": [1, 2, 3, 4, 5, 6, 7, 8, 9, 10], \"y\": [0.09058763955551344, 0.08355472384826763, 0.04492360338954156, 0.035573125727388265, 0.033692702542156165, 0.027609502435636816, 0.026355886978815413, 0.02371541715159218, 0.023569851232421373, 0.021919270390428933]}, {\"hovertext\": \"<b>Topic 3</b>:carcinoma_therapy_cancers_cancer_re\", \"line\": {\"color\": \"black\", \"width\": 1.5}, \"mode\": \"lines+lines\", \"name\": \"\", \"opacity\": 0.1, \"type\": \"scatter\", \"x\": [1, 2, 3, 4, 5, 6, 7, 8, 9, 10], \"y\": [0.06412243222412903, 0.058897304812475966, 0.05639603783956914, 0.029928091048935363, 0.02558445986554984, 0.024169630001032887, 0.024169630001032887, 0.023558921924990386, 0.022175539305418965, 0.022175539305418965]}, {\"hovertext\": \"<b>Topic 4</b>:foods_levothyroxine_liothyronine_se\", \"line\": {\"color\": \"black\", \"width\": 1.5}, \"mode\": \"lines+lines\", \"name\": \"\", \"opacity\": 0.1, \"type\": \"scatter\", \"x\": [1, 2, 3, 4, 5, 6, 7, 8, 9, 10], \"y\": [0.06850366184102363, 0.060025065200284736, 0.052711773957630825, 0.03313140292276418, 0.03313140292276418, 0.025202870175745164, 0.025202870175745164, 0.025202870175745164, 0.025202870175745164, 0.025202870175745164]}, {\"hovertext\": \"<b>Topic 5</b>:carcinoma_cancers_carcinomas_mutati\", \"line\": {\"color\": \"black\", \"width\": 1.5}, \"mode\": \"lines+lines\", \"name\": \"\", \"opacity\": 0.1, \"type\": \"scatter\", \"x\": [1, 2, 3, 4, 5, 6, 7, 8, 9, 10], \"y\": [0.07522054549368984, 0.04823939935395837, 0.045863932029750525, 0.045109114252203306, 0.04187380428469164, 0.033831835689152476, 0.030442386439784194, 0.026959801029342784, 0.026959801029342784, 0.026959801029342784]}, {\"hovertext\": \"<b>Topic 6</b>:tests_forecasts_researchandmarketsc\", \"line\": {\"color\": \"black\", \"width\": 1.5}, \"mode\": \"lines+lines\", \"name\": \"\", \"opacity\": 0.1, \"type\": \"scatter\", \"x\": [1, 2, 3, 4, 5, 6, 7, 8, 9, 10], \"y\": [0.06511070827223765, 0.06030010131399927, 0.05795663657371709, 0.04824008105119942, 0.04801846320310678, 0.04219600223472519, 0.04011959002052803, 0.04011959002052803, 0.028831046859142923, 0.028831046859142923]}, {\"hovertext\": \"<b>Topic 7</b>:eye_trials_teprotumumab_therapeutic\", \"line\": {\"color\": \"black\", \"width\": 1.5}, \"mode\": \"lines+lines\", \"name\": \"\", \"opacity\": 0.1, \"type\": \"scatter\", \"x\": [1, 2, 3, 4, 5, 6, 7, 8, 9, 10], \"y\": [0.19440378250386992, 0.0700201176452111, 0.0700201176452111, 0.056016094116168876, 0.04658662841189672, 0.04658662841189672, 0.04327743900001625, 0.033478439487183875, 0.033478439487183875, 0.033478439487183875]}, {\"hovertext\": \"<b>Topic 8</b>:lymph_papillary_metastasis_carcinom\", \"line\": {\"color\": \"black\", \"width\": 1.5}, \"mode\": \"lines+lines\", \"name\": \"\", \"opacity\": 0.1, \"type\": \"scatter\", \"x\": [1, 2, 3, 4, 5, 6, 7, 8, 9, 10], \"y\": [0.13678131163504328, 0.10750408307566059, 0.09182596872694436, 0.0753009952749665, 0.05345188103835827, 0.0465762101134538, 0.042761504830686616, 0.03942105427975952, 0.029987372267932078, 0.027819109657727988]}, {\"hovertext\": \"<b>Topic 9</b>:carcinoma_rna_targeting_papillary_r\", \"line\": {\"color\": \"black\", \"width\": 1.5}, \"mode\": \"lines+lines\", \"name\": \"\", \"opacity\": 0.1, \"type\": \"scatter\", \"x\": [1, 2, 3, 4, 5, 6, 7, 8, 9, 10], \"y\": [0.09264004023959695, 0.07716032701034775, 0.07162624417118306, 0.06612915636562017, 0.0646643609676757, 0.04416245809864215, 0.036892359303311174, 0.036892359303311174, 0.03613547827349985, 0.034224825697336404]}, {\"hovertext\": \"<b>Topic 10</b>:hormone_pregnant_pregnancy_vitamin\", \"line\": {\"color\": \"black\", \"width\": 1.5}, \"mode\": \"lines+lines\", \"name\": \"\", \"opacity\": 0.1, \"type\": \"scatter\", \"x\": [1, 2, 3, 4, 5, 6, 7, 8, 9, 10], \"y\": [0.07373527079447, 0.06438198384554611, 0.061458705880731136, 0.05907021387032999, 0.05705077264988555, 0.04897500973015981, 0.040972470587154086, 0.03938014258021999, 0.03803384843325703, 0.03262739246464373]}, {\"hovertext\": \"<b>Topic 11</b>:zebrafish_toxicity_exposure_endocr\", \"line\": {\"color\": \"black\", \"width\": 1.5}, \"mode\": \"lines+lines\", \"name\": \"\", \"opacity\": 0.1, \"type\": \"scatter\", \"x\": [1, 2, 3, 4, 5, 6, 7, 8, 9, 10], \"y\": [0.1212103850923438, 0.11347699604794106, 0.09365323969049313, 0.07023992976786984, 0.060297189398960206, 0.060297189398960206, 0.060297189398960206, 0.060297189398960206, 0.060297189398960206, 0.055937349526829404]}, {\"hovertext\": \"<b>Topic 12</b>:covid19_pandemic_patients_survivor\", \"line\": {\"color\": \"black\", \"width\": 1.5}, \"mode\": \"lines+lines\", \"name\": \"\", \"opacity\": 0.1, \"type\": \"scatter\", \"x\": [1, 2, 3, 4, 5, 6, 7, 8, 9, 10], \"y\": [0.3453885417579534, 0.0992502409575805, 0.06804733211627989, 0.055759166324453484, 0.055759166324453484, 0.055759166324453484, 0.055759166324453484, 0.055759166324453484, 0.055759166324453484, 0.055759166324453484]}, {\"hovertext\": \"<b>Topic 13</b>:receptor_metabolites_inhibitorsrel\", \"line\": {\"color\": \"black\", \"width\": 1.5}, \"mode\": \"lines+lines\", \"name\": \"\", \"opacity\": 0.1, \"type\": \"scatter\", \"x\": [1, 2, 3, 4, 5, 6, 7, 8, 9, 10], \"y\": [0.08442688505966815, 0.07476851485471066, 0.07476851485471066, 0.06936231341326846, 0.06936231341326846, 0.05330934268892265, 0.04200523863108829, 0.04200523863108829, 0.04200523863108829, 0.04200523863108829]}],                        {\"height\": 500, \"hoverlabel\": {\"bgcolor\": \"white\", \"font\": {\"family\": \"Rockwell\", \"size\": 16}}, \"showlegend\": false, \"template\": {\"data\": {\"bar\": [{\"error_x\": {\"color\": \"#2a3f5f\"}, \"error_y\": {\"color\": \"#2a3f5f\"}, \"marker\": {\"line\": {\"color\": \"white\", \"width\": 0.5}}, \"type\": \"bar\"}], \"barpolar\": [{\"marker\": {\"line\": {\"color\": \"white\", \"width\": 0.5}}, \"type\": \"barpolar\"}], \"carpet\": [{\"aaxis\": {\"endlinecolor\": \"#2a3f5f\", \"gridcolor\": \"#C8D4E3\", \"linecolor\": \"#C8D4E3\", \"minorgridcolor\": \"#C8D4E3\", \"startlinecolor\": \"#2a3f5f\"}, \"baxis\": {\"endlinecolor\": \"#2a3f5f\", \"gridcolor\": \"#C8D4E3\", \"linecolor\": \"#C8D4E3\", \"minorgridcolor\": \"#C8D4E3\", \"startlinecolor\": \"#2a3f5f\"}, \"type\": \"carpet\"}], \"choropleth\": [{\"colorbar\": {\"outlinewidth\": 0, \"ticks\": \"\"}, \"type\": \"choropleth\"}], \"contour\": [{\"colorbar\": {\"outlinewidth\": 0, \"ticks\": \"\"}, \"colorscale\": [[0.0, \"#0d0887\"], [0.1111111111111111, \"#46039f\"], [0.2222222222222222, \"#7201a8\"], [0.3333333333333333, \"#9c179e\"], [0.4444444444444444, \"#bd3786\"], [0.5555555555555556, \"#d8576b\"], [0.6666666666666666, \"#ed7953\"], [0.7777777777777778, \"#fb9f3a\"], [0.8888888888888888, \"#fdca26\"], [1.0, \"#f0f921\"]], \"type\": \"contour\"}], \"contourcarpet\": [{\"colorbar\": {\"outlinewidth\": 0, \"ticks\": \"\"}, \"type\": \"contourcarpet\"}], \"heatmap\": [{\"colorbar\": {\"outlinewidth\": 0, \"ticks\": \"\"}, \"colorscale\": [[0.0, \"#0d0887\"], [0.1111111111111111, \"#46039f\"], [0.2222222222222222, \"#7201a8\"], [0.3333333333333333, \"#9c179e\"], [0.4444444444444444, \"#bd3786\"], [0.5555555555555556, \"#d8576b\"], [0.6666666666666666, \"#ed7953\"], [0.7777777777777778, \"#fb9f3a\"], [0.8888888888888888, \"#fdca26\"], [1.0, \"#f0f921\"]], \"type\": \"heatmap\"}], \"heatmapgl\": [{\"colorbar\": {\"outlinewidth\": 0, \"ticks\": \"\"}, \"colorscale\": [[0.0, \"#0d0887\"], [0.1111111111111111, \"#46039f\"], [0.2222222222222222, \"#7201a8\"], [0.3333333333333333, \"#9c179e\"], [0.4444444444444444, \"#bd3786\"], [0.5555555555555556, \"#d8576b\"], [0.6666666666666666, \"#ed7953\"], [0.7777777777777778, \"#fb9f3a\"], [0.8888888888888888, \"#fdca26\"], [1.0, \"#f0f921\"]], \"type\": \"heatmapgl\"}], \"histogram\": [{\"marker\": {\"colorbar\": {\"outlinewidth\": 0, \"ticks\": \"\"}}, \"type\": \"histogram\"}], \"histogram2d\": [{\"colorbar\": {\"outlinewidth\": 0, \"ticks\": \"\"}, \"colorscale\": [[0.0, \"#0d0887\"], [0.1111111111111111, \"#46039f\"], [0.2222222222222222, \"#7201a8\"], [0.3333333333333333, \"#9c179e\"], [0.4444444444444444, \"#bd3786\"], [0.5555555555555556, \"#d8576b\"], [0.6666666666666666, \"#ed7953\"], [0.7777777777777778, \"#fb9f3a\"], [0.8888888888888888, \"#fdca26\"], [1.0, \"#f0f921\"]], \"type\": \"histogram2d\"}], \"histogram2dcontour\": [{\"colorbar\": {\"outlinewidth\": 0, \"ticks\": \"\"}, \"colorscale\": [[0.0, \"#0d0887\"], [0.1111111111111111, \"#46039f\"], [0.2222222222222222, \"#7201a8\"], [0.3333333333333333, \"#9c179e\"], [0.4444444444444444, \"#bd3786\"], [0.5555555555555556, \"#d8576b\"], [0.6666666666666666, \"#ed7953\"], [0.7777777777777778, \"#fb9f3a\"], [0.8888888888888888, \"#fdca26\"], [1.0, \"#f0f921\"]], \"type\": \"histogram2dcontour\"}], \"mesh3d\": [{\"colorbar\": {\"outlinewidth\": 0, \"ticks\": \"\"}, \"type\": \"mesh3d\"}], \"parcoords\": [{\"line\": {\"colorbar\": {\"outlinewidth\": 0, \"ticks\": \"\"}}, \"type\": \"parcoords\"}], \"pie\": [{\"automargin\": true, \"type\": \"pie\"}], \"scatter\": [{\"marker\": {\"colorbar\": {\"outlinewidth\": 0, \"ticks\": \"\"}}, \"type\": \"scatter\"}], \"scatter3d\": [{\"line\": {\"colorbar\": {\"outlinewidth\": 0, \"ticks\": \"\"}}, \"marker\": {\"colorbar\": {\"outlinewidth\": 0, \"ticks\": \"\"}}, \"type\": \"scatter3d\"}], \"scattercarpet\": [{\"marker\": {\"colorbar\": {\"outlinewidth\": 0, \"ticks\": \"\"}}, \"type\": \"scattercarpet\"}], \"scattergeo\": [{\"marker\": {\"colorbar\": {\"outlinewidth\": 0, \"ticks\": \"\"}}, \"type\": \"scattergeo\"}], \"scattergl\": [{\"marker\": {\"colorbar\": {\"outlinewidth\": 0, \"ticks\": \"\"}}, \"type\": \"scattergl\"}], \"scattermapbox\": [{\"marker\": {\"colorbar\": {\"outlinewidth\": 0, \"ticks\": \"\"}}, \"type\": \"scattermapbox\"}], \"scatterpolar\": [{\"marker\": {\"colorbar\": {\"outlinewidth\": 0, \"ticks\": \"\"}}, \"type\": \"scatterpolar\"}], \"scatterpolargl\": [{\"marker\": {\"colorbar\": {\"outlinewidth\": 0, \"ticks\": \"\"}}, \"type\": \"scatterpolargl\"}], \"scatterternary\": [{\"marker\": {\"colorbar\": {\"outlinewidth\": 0, \"ticks\": \"\"}}, \"type\": \"scatterternary\"}], \"surface\": [{\"colorbar\": {\"outlinewidth\": 0, \"ticks\": \"\"}, \"colorscale\": [[0.0, \"#0d0887\"], [0.1111111111111111, \"#46039f\"], [0.2222222222222222, \"#7201a8\"], [0.3333333333333333, \"#9c179e\"], [0.4444444444444444, \"#bd3786\"], [0.5555555555555556, \"#d8576b\"], [0.6666666666666666, \"#ed7953\"], [0.7777777777777778, \"#fb9f3a\"], [0.8888888888888888, \"#fdca26\"], [1.0, \"#f0f921\"]], \"type\": \"surface\"}], \"table\": [{\"cells\": {\"fill\": {\"color\": \"#EBF0F8\"}, \"line\": {\"color\": \"white\"}}, \"header\": {\"fill\": {\"color\": \"#C8D4E3\"}, \"line\": {\"color\": \"white\"}}, \"type\": \"table\"}]}, \"layout\": {\"annotationdefaults\": {\"arrowcolor\": \"#2a3f5f\", \"arrowhead\": 0, \"arrowwidth\": 1}, \"autotypenumbers\": \"strict\", \"coloraxis\": {\"colorbar\": {\"outlinewidth\": 0, \"ticks\": \"\"}}, \"colorscale\": {\"diverging\": [[0, \"#8e0152\"], [0.1, \"#c51b7d\"], [0.2, \"#de77ae\"], [0.3, \"#f1b6da\"], [0.4, \"#fde0ef\"], [0.5, \"#f7f7f7\"], [0.6, \"#e6f5d0\"], [0.7, \"#b8e186\"], [0.8, \"#7fbc41\"], [0.9, \"#4d9221\"], [1, \"#276419\"]], \"sequential\": [[0.0, \"#0d0887\"], [0.1111111111111111, \"#46039f\"], [0.2222222222222222, \"#7201a8\"], [0.3333333333333333, \"#9c179e\"], [0.4444444444444444, \"#bd3786\"], [0.5555555555555556, \"#d8576b\"], [0.6666666666666666, \"#ed7953\"], [0.7777777777777778, \"#fb9f3a\"], [0.8888888888888888, \"#fdca26\"], [1.0, \"#f0f921\"]], \"sequentialminus\": [[0.0, \"#0d0887\"], [0.1111111111111111, \"#46039f\"], [0.2222222222222222, \"#7201a8\"], [0.3333333333333333, \"#9c179e\"], [0.4444444444444444, \"#bd3786\"], [0.5555555555555556, \"#d8576b\"], [0.6666666666666666, \"#ed7953\"], [0.7777777777777778, \"#fb9f3a\"], [0.8888888888888888, \"#fdca26\"], [1.0, \"#f0f921\"]]}, \"colorway\": [\"#636efa\", \"#EF553B\", \"#00cc96\", \"#ab63fa\", \"#FFA15A\", \"#19d3f3\", \"#FF6692\", \"#B6E880\", \"#FF97FF\", \"#FECB52\"], \"font\": {\"color\": \"#2a3f5f\"}, \"geo\": {\"bgcolor\": \"white\", \"lakecolor\": \"white\", \"landcolor\": \"white\", \"showlakes\": true, \"showland\": true, \"subunitcolor\": \"#C8D4E3\"}, \"hoverlabel\": {\"align\": \"left\"}, \"hovermode\": \"closest\", \"mapbox\": {\"style\": \"light\"}, \"paper_bgcolor\": \"white\", \"plot_bgcolor\": \"white\", \"polar\": {\"angularaxis\": {\"gridcolor\": \"#EBF0F8\", \"linecolor\": \"#EBF0F8\", \"ticks\": \"\"}, \"bgcolor\": \"white\", \"radialaxis\": {\"gridcolor\": \"#EBF0F8\", \"linecolor\": \"#EBF0F8\", \"ticks\": \"\"}}, \"scene\": {\"xaxis\": {\"backgroundcolor\": \"white\", \"gridcolor\": \"#DFE8F3\", \"gridwidth\": 2, \"linecolor\": \"#EBF0F8\", \"showbackground\": true, \"ticks\": \"\", \"zerolinecolor\": \"#EBF0F8\"}, \"yaxis\": {\"backgroundcolor\": \"white\", \"gridcolor\": \"#DFE8F3\", \"gridwidth\": 2, \"linecolor\": \"#EBF0F8\", \"showbackground\": true, \"ticks\": \"\", \"zerolinecolor\": \"#EBF0F8\"}, \"zaxis\": {\"backgroundcolor\": \"white\", \"gridcolor\": \"#DFE8F3\", \"gridwidth\": 2, \"linecolor\": \"#EBF0F8\", \"showbackground\": true, \"ticks\": \"\", \"zerolinecolor\": \"#EBF0F8\"}}, \"shapedefaults\": {\"line\": {\"color\": \"#2a3f5f\"}}, \"ternary\": {\"aaxis\": {\"gridcolor\": \"#DFE8F3\", \"linecolor\": \"#A2B1C6\", \"ticks\": \"\"}, \"baxis\": {\"gridcolor\": \"#DFE8F3\", \"linecolor\": \"#A2B1C6\", \"ticks\": \"\"}, \"bgcolor\": \"white\", \"caxis\": {\"gridcolor\": \"#DFE8F3\", \"linecolor\": \"#A2B1C6\", \"ticks\": \"\"}}, \"title\": {\"x\": 0.05}, \"xaxis\": {\"automargin\": true, \"gridcolor\": \"#EBF0F8\", \"linecolor\": \"#EBF0F8\", \"ticks\": \"\", \"title\": {\"standoff\": 15}, \"zerolinecolor\": \"#EBF0F8\", \"zerolinewidth\": 2}, \"yaxis\": {\"automargin\": true, \"gridcolor\": \"#EBF0F8\", \"linecolor\": \"#EBF0F8\", \"ticks\": \"\", \"title\": {\"standoff\": 15}, \"zerolinecolor\": \"#EBF0F8\", \"zerolinewidth\": 2}}}, \"title\": {\"font\": {\"color\": \"Black\", \"size\": 22}, \"text\": \"<b>Term score decline per Topic</b>\", \"x\": 0.5, \"xanchor\": \"center\", \"y\": 0.9, \"yanchor\": \"top\"}, \"width\": 800, \"xaxis\": {\"dtick\": 2, \"range\": [0, 10], \"tick0\": 1, \"title\": {\"text\": \"Term Rank\"}}, \"yaxis\": {\"title\": {\"text\": \"c-TF-IDF score\"}}},                        {\"responsive\": true}                    ).then(function(){\n",
              "                            \n",
              "var gd = document.getElementById('d64f0f55-368b-47e3-9b63-f11afe8bb4f0');\n",
              "var x = new MutationObserver(function (mutations, observer) {{\n",
              "        var display = window.getComputedStyle(gd).display;\n",
              "        if (!display || display === 'none') {{\n",
              "            console.log([gd, 'removed!']);\n",
              "            Plotly.purge(gd);\n",
              "            observer.disconnect();\n",
              "        }}\n",
              "}});\n",
              "\n",
              "// Listen for the removal of the full notebook cells\n",
              "var notebookContainer = gd.closest('#notebook-container');\n",
              "if (notebookContainer) {{\n",
              "    x.observe(notebookContainer, {childList: true});\n",
              "}}\n",
              "\n",
              "// Listen for the clearing of the current output cell\n",
              "var outputEl = gd.closest('.output');\n",
              "if (outputEl) {{\n",
              "    x.observe(outputEl, {childList: true});\n",
              "}}\n",
              "\n",
              "                        })                };                            </script>        </div>\n",
              "</body>\n",
              "</html>"
            ]
          },
          "metadata": {
            "tags": []
          }
        }
      ]
    },
    {
      "cell_type": "code",
      "metadata": {
        "id": "Ej6KO5GeFYVd"
      },
      "source": [
        "topic_model.update_topics(df1_tyrdts, topics, n_gram_range=(1, 2))"
      ],
      "execution_count": null,
      "outputs": []
    },
    {
      "cell_type": "code",
      "metadata": {
        "colab": {
          "base_uri": "https://localhost:8080/"
        },
        "id": "1QSrOcF2FrpE",
        "outputId": "f2708f93-9297-495e-8275-0cd64d88e479"
      },
      "source": [
        "new_topics, new_probs = topic_model.reduce_topics(df1_tyrdts, topics, probs, nr_topics=60)"
      ],
      "execution_count": null,
      "outputs": [
        {
          "output_type": "stream",
          "text": [
            "2021-07-22 19:02:27,100 - BERTopic - Reduced number of topics from 15 to 15\n"
          ],
          "name": "stderr"
        }
      ]
    },
    {
      "cell_type": "code",
      "metadata": {
        "colab": {
          "base_uri": "https://localhost:8080/"
        },
        "id": "RZs4IvlVGQl6",
        "outputId": "0d0b215d-55e2-4f0a-c69a-ba7104336fc4"
      },
      "source": [
        "similar_topics, similarity = topic_model.find_topics(\"foods\", top_n=5); similar_topics\n"
      ],
      "execution_count": null,
      "outputs": [
        {
          "output_type": "execute_result",
          "data": {
            "text/plain": [
              "[4, 10, 11, -1, 13]"
            ]
          },
          "metadata": {
            "tags": []
          },
          "execution_count": 25
        }
      ]
    },
    {
      "cell_type": "code",
      "metadata": {
        "colab": {
          "base_uri": "https://localhost:8080/"
        },
        "id": "4AWeSKMIJbAV",
        "outputId": "4f032ab6-31ab-49b3-d70e-d183d6904afb"
      },
      "source": [
        "topic_model.get_topic(11)"
      ],
      "execution_count": null,
      "outputs": [
        {
          "output_type": "execute_result",
          "data": {
            "text/plain": [
              "[('zebrafish', 0.0700977850903626),\n",
              " ('toxicity', 0.06622066821095855),\n",
              " ('thyroid endocrine', 0.047663634778421976),\n",
              " ('in zebrafish', 0.04533736465077954),\n",
              " ('and thyroid', 0.04365041664438297),\n",
              " ('the zebrafish', 0.0339615522499893),\n",
              " ('endocrine disruption', 0.0339615522499893),\n",
              " ('toxicity and', 0.0339615522499893),\n",
              " ('thyroid disrupting', 0.0339615522499893),\n",
              " ('modulate thyroid', 0.0339615522499893)]"
            ]
          },
          "metadata": {
            "tags": []
          },
          "execution_count": 26
        }
      ]
    },
    {
      "cell_type": "code",
      "metadata": {
        "id": "oucZDPiMJnoy"
      },
      "source": [
        "# Save model\n",
        "topic_model.save(\"my_model\")"
      ],
      "execution_count": null,
      "outputs": []
    },
    {
      "cell_type": "code",
      "metadata": {
        "id": "SFmxP81rKY3O"
      },
      "source": [
        "# Load model\n",
        "my_model = BERTopic.load(\"my_model\")\t"
      ],
      "execution_count": null,
      "outputs": []
    },
    {
      "cell_type": "code",
      "metadata": {
        "colab": {
          "base_uri": "https://localhost:8080/",
          "height": 70
        },
        "id": "mHWM6od3LYe1",
        "outputId": "483d1bec-908e-4bd4-b7d9-82b70463d51d"
      },
      "source": [
        "str(my_model)"
      ],
      "execution_count": null,
      "outputs": [
        {
          "output_type": "execute_result",
          "data": {
            "application/vnd.google.colaboratory.intrinsic+json": {
              "type": "string"
            },
            "text/plain": [
              "'BERTopic(calculate_probabilities=True, embedding_model=<bertopic.backend._sentencetransformers.SentenceTransformerBackend object at 0x7fe121634910>, hdbscan_model=HDBSCAN(...), language=english, low_memory=False, min_topic_size=10, n_gram_range=(1, 1), nr_topics=60, top_n_words=10, umap_model=UMAP(...), vectorizer_model=CountVectorizer(...), verbose=True)'"
            ]
          },
          "metadata": {
            "tags": []
          },
          "execution_count": 29
        }
      ]
    }
  ]
}